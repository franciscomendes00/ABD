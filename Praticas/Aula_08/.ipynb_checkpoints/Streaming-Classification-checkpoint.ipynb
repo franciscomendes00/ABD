{
 "cells": [
  {
   "cell_type": "markdown",
   "metadata": {},
   "source": [
    "**2021/22**"
   ]
  },
  {
   "cell_type": "markdown",
   "metadata": {
    "heading_collapsed": true
   },
   "source": [
    "# Stream Processing\n",
    "This lecture is about processing a stream of data. \n",
    "\n",
    "We will rely on the structure streaming library of Apache Spark. "
   ]
  },
  {
   "cell_type": "markdown",
   "metadata": {},
   "source": [
    "## Structured streaming\n",
    "A key aspect of structured streaming is to acquire/send data from a streaming data producer/consumer. That is, from a streaming source/sink.\n",
    "\n",
    "Apache Spark provides methods to read/write from/to a stream, \n",
    "accordingly to some formats we may select from. Of course, some kind of configuration is required.\n",
    "\n",
    "Firstly, there are the usual file-based formats like json, parquet, csv, text, parquet an so.\n",
    "Also, we can use socket connections to get/send text data from/to TCP servers, and more importantly, we can rely on functionalities of advanced message systems like Apache Kafka, which will play a sort of buffering role. \n",
    "\n",
    "Secondly, we have to set an output mode, which defines how the results will be delivered. For instance, to see all data every time, only updates, or just the new records.\n",
    "\n",
    "Further details can be found in https://spark.apache.org/docs/latest/structured-streaming-programming-guide.html\n"
   ]
  },
  {
   "cell_type": "markdown",
   "metadata": {
    "heading_collapsed": true
   },
   "source": [
    "# Problem formulation\n",
    "\n",
    "This exercise builds upon the stock market prediction notebook we have worked upon in a previous lecture about classification. Recall that the main goal at the time was to create a ML binary classification model for the JaneStreetMarket dataset (https://www.kaggle.com/c/jane-street-market-prediction)\n",
    "\n",
    "This time around we will use the ML model that has been created but now we will deal with a stream of trades that are expected to be processed, as if it was provided in real-time. Hence, we will simulate the real-time scenario.\n",
    "\n",
    "The functional requirements for the Spark program we are going to create are as follows:\n",
    "1. To load a ML model previously built.\n",
    "2. To process trades on a daily basis, as it goes and according to the rules set for the score. That is, the daily score is computed as the sum of the product weight x resp (see data schema) of the trades the system opt to trade in that day. "
   ]
  },
  {
   "cell_type": "code",
   "execution_count": null,
   "metadata": {},
   "outputs": [],
   "source": [
    "# If we need to install some packages, e.g. matplotlib\n",
    "\n",
    "# ! pip3 install matplotlib\n",
    "# ! pip3 install seaborn"
   ]
  },
  {
   "cell_type": "code",
   "execution_count": 1,
   "metadata": {
    "ExecuteTime": {
     "end_time": "2021-03-07T19:11:08.158170Z",
     "start_time": "2021-03-07T19:11:07.859222Z"
    },
    "hidden": true
   },
   "outputs": [],
   "source": [
    "# Some imports \n",
    "\n",
    "import os \n",
    "import time\n",
    "\n",
    "import numpy as np \n",
    "import pandas as pd  \n",
    "import matplotlib.pyplot as plt\n",
    "import seaborn as sns\n",
    "import warnings\n",
    "warnings.filterwarnings(\"ignore\")\n"
   ]
  },
  {
   "cell_type": "markdown",
   "metadata": {
    "hidden": true
   },
   "source": [
    "# Useful visualization functions\n",
    "\n",
    "Some functions that we can use to plot data but as Python dataframes.\n",
    "\n",
    "**Disclaimer**: these functions are broadly distributed among users. Further adjustments are needed and/or advisable. Feel free to use your own plotting functions."
   ]
  },
  {
   "cell_type": "code",
   "execution_count": 5,
   "metadata": {},
   "outputs": [],
   "source": [
    "def plot(df, xcol, ycol):\n",
    "    sns.lineplot(data=df, x=xcol, y=ycol)\n",
    "    "
   ]
  },
  {
   "cell_type": "code",
   "execution_count": 6,
   "metadata": {},
   "outputs": [],
   "source": [
    "def plotScatter(df, xcol, ycol, huecol):\n",
    "    sns.set_theme(style=\"white\")\n",
    "    sns.scatterplot(data=df, x=xcol, y=ycol, hue=huecol)\n",
    "    "
   ]
  },
  {
   "cell_type": "markdown",
   "metadata": {},
   "source": [
    "# Spark setup"
   ]
  },
  {
   "cell_type": "code",
   "execution_count": 7,
   "metadata": {
    "ExecuteTime": {
     "end_time": "2021-03-07T19:11:08.961000Z",
     "start_time": "2021-03-07T19:11:08.954809Z"
    },
    "hidden": true
   },
   "outputs": [],
   "source": [
    "# Some Spark related imports we will use hereafter\n",
    "\n",
    "import sys\n",
    "\n",
    "from pyspark.sql import SparkSession\n",
    "from pyspark.sql.functions import *\n",
    "from pyspark.sql.types import *\n",
    "\n",
    "from pyspark.ml import PipelineModel\n"
   ]
  },
  {
   "cell_type": "code",
   "execution_count": 3,
   "metadata": {
    "ExecuteTime": {
     "end_time": "2021-03-07T19:11:12.480883Z",
     "start_time": "2021-03-07T19:11:12.479044Z"
    },
    "hidden": true
   },
   "outputs": [],
   "source": [
    "# Build a SparkSession instance if one does not exist. Notice that we can only have one per JVM\n",
    "\n",
    "spark = SparkSession\\\n",
    "    .builder\\\n",
    "    .appName(\"Streaming\")\\\n",
    "    .getOrCreate()\n"
   ]
  },
  {
   "cell_type": "markdown",
   "metadata": {
    "hidden": true
   },
   "source": [
    "# Collect data "
   ]
  },
  {
   "cell_type": "code",
   "execution_count": 8,
   "metadata": {
    "ExecuteTime": {
     "end_time": "2021-03-07T19:11:08.953150Z",
     "start_time": "2021-03-07T19:11:08.185863Z"
    },
    "hidden": true
   },
   "outputs": [
    {
     "name": "stdout",
     "output_type": "stream",
     "text": [
      "/home/big/praticas/Aula_08\n",
      "total 1027200\n",
      "drwxrwxr-x  6 big big      4096 Apr 28 07:12 .\n",
      "drwxrwxr-x 10 big big      4096 Apr 28 07:06 ..\n",
      "-rw-rw-r--  1 big big      6148 Apr 28 04:32 .DS_Store\n",
      "drwxrwxr-x  2 big big      4096 Apr 28 07:08 .ipynb_checkpoints\n",
      "-rw-rw-r--  1 big big      8913 Apr 28 04:32 model-LinearSVM.zip\n",
      "-rw-rw-r--  1 big big     39832 Apr 28 07:12 Streaming-Classification.ipynb\n",
      "-rw-rw-r--  1 big big      1292 Apr 28 04:32 structured_network_wordcount.py\n",
      "drwxrwxr-x  4 big big      4096 Apr 28 04:32 .svn\n",
      "drwxr-xr-x  2 big big    110592 Apr 26 12:18 test-janestreetmarket-by-date\n",
      "-rwxrw-rw-  1 big big 581920358 Apr 28 04:11 test-janestreetmarket-by-date.zip\n",
      "drwxr-xr-x  2 big big     16384 Apr 26 11:51 test-part-janestreetmarket\n",
      "-rwxrw-rw-  1 big big 469711711 Apr 28 04:11 test-part-janestreetmarket.zip\n"
     ]
    }
   ],
   "source": [
    "! pwd & ls -la\n"
   ]
  },
  {
   "cell_type": "markdown",
   "metadata": {},
   "source": [
    "## Daily version of the dataset\n",
    "\n",
    "We have to set up the data that is going to be classified on a daily basis. \n",
    "\n",
    "Notice that from the initial data set we are no longer interested on the training \n",
    "part of the data but only in the correspondent test data, created as result of the \n",
    "random data split process. \n",
    "\n",
    "We assume that the test data has been stored in a file as we are going to streaming and \n",
    "classify it.\n",
    "\n",
    "**Important**: The code below should be moved into a new notebook as this task is supposed to be \n",
    "carried out once."
   ]
  },
  {
   "cell_type": "code",
   "execution_count": 9,
   "metadata": {
    "ExecuteTime": {
     "end_time": "2021-03-07T19:11:12.476668Z",
     "start_time": "2021-03-07T19:11:08.962435Z"
    },
    "hidden": true
   },
   "outputs": [
    {
     "name": "stderr",
     "output_type": "stream",
     "text": [
      "                                                                                \r"
     ]
    }
   ],
   "source": [
    "# Read the data (test part of initial data set split)\n",
    "\n",
    "df = spark.read.parquet(\"test-part-janestreetmarket\")\n"
   ]
  },
  {
   "cell_type": "code",
   "execution_count": 10,
   "metadata": {},
   "outputs": [
    {
     "name": "stdout",
     "output_type": "stream",
     "text": [
      "root\n",
      " |-- date: integer (nullable = true)\n",
      " |-- weight: double (nullable = true)\n",
      " |-- resp_1: double (nullable = true)\n",
      " |-- resp_2: double (nullable = true)\n",
      " |-- resp_3: double (nullable = true)\n",
      " |-- resp_4: double (nullable = true)\n",
      " |-- resp: double (nullable = true)\n",
      " |-- feature_0: integer (nullable = true)\n",
      " |-- feature_1: double (nullable = true)\n",
      " |-- feature_2: double (nullable = true)\n",
      " |-- feature_3: double (nullable = true)\n",
      " |-- feature_4: double (nullable = true)\n",
      " |-- feature_5: double (nullable = true)\n",
      " |-- feature_6: double (nullable = true)\n",
      " |-- feature_7: double (nullable = true)\n",
      " |-- feature_8: double (nullable = true)\n",
      " |-- feature_9: double (nullable = true)\n",
      " |-- feature_10: double (nullable = true)\n",
      " |-- feature_11: double (nullable = true)\n",
      " |-- feature_12: double (nullable = true)\n",
      " |-- feature_13: double (nullable = true)\n",
      " |-- feature_14: double (nullable = true)\n",
      " |-- feature_15: double (nullable = true)\n",
      " |-- feature_16: double (nullable = true)\n",
      " |-- feature_17: double (nullable = true)\n",
      " |-- feature_18: double (nullable = true)\n",
      " |-- feature_19: double (nullable = true)\n",
      " |-- feature_20: double (nullable = true)\n",
      " |-- feature_21: double (nullable = true)\n",
      " |-- feature_22: double (nullable = true)\n",
      " |-- feature_23: double (nullable = true)\n",
      " |-- feature_24: double (nullable = true)\n",
      " |-- feature_25: double (nullable = true)\n",
      " |-- feature_26: double (nullable = true)\n",
      " |-- feature_27: double (nullable = true)\n",
      " |-- feature_28: double (nullable = true)\n",
      " |-- feature_29: double (nullable = true)\n",
      " |-- feature_30: double (nullable = true)\n",
      " |-- feature_31: double (nullable = true)\n",
      " |-- feature_32: double (nullable = true)\n",
      " |-- feature_33: double (nullable = true)\n",
      " |-- feature_34: double (nullable = true)\n",
      " |-- feature_35: double (nullable = true)\n",
      " |-- feature_36: double (nullable = true)\n",
      " |-- feature_37: double (nullable = true)\n",
      " |-- feature_38: double (nullable = true)\n",
      " |-- feature_39: double (nullable = true)\n",
      " |-- feature_40: double (nullable = true)\n",
      " |-- feature_41: double (nullable = true)\n",
      " |-- feature_42: double (nullable = true)\n",
      " |-- feature_43: double (nullable = true)\n",
      " |-- feature_44: double (nullable = true)\n",
      " |-- feature_45: double (nullable = true)\n",
      " |-- feature_46: double (nullable = true)\n",
      " |-- feature_47: double (nullable = true)\n",
      " |-- feature_48: double (nullable = true)\n",
      " |-- feature_49: double (nullable = true)\n",
      " |-- feature_50: double (nullable = true)\n",
      " |-- feature_51: double (nullable = true)\n",
      " |-- feature_52: double (nullable = true)\n",
      " |-- feature_53: double (nullable = true)\n",
      " |-- feature_54: double (nullable = true)\n",
      " |-- feature_55: double (nullable = true)\n",
      " |-- feature_56: double (nullable = true)\n",
      " |-- feature_57: double (nullable = true)\n",
      " |-- feature_58: double (nullable = true)\n",
      " |-- feature_59: double (nullable = true)\n",
      " |-- feature_60: double (nullable = true)\n",
      " |-- feature_61: double (nullable = true)\n",
      " |-- feature_62: double (nullable = true)\n",
      " |-- feature_63: double (nullable = true)\n",
      " |-- feature_64: double (nullable = true)\n",
      " |-- feature_65: double (nullable = true)\n",
      " |-- feature_66: double (nullable = true)\n",
      " |-- feature_67: double (nullable = true)\n",
      " |-- feature_68: double (nullable = true)\n",
      " |-- feature_69: double (nullable = true)\n",
      " |-- feature_70: double (nullable = true)\n",
      " |-- feature_71: double (nullable = true)\n",
      " |-- feature_72: double (nullable = true)\n",
      " |-- feature_73: double (nullable = true)\n",
      " |-- feature_74: double (nullable = true)\n",
      " |-- feature_75: double (nullable = true)\n",
      " |-- feature_76: double (nullable = true)\n",
      " |-- feature_77: double (nullable = true)\n",
      " |-- feature_78: double (nullable = true)\n",
      " |-- feature_79: double (nullable = true)\n",
      " |-- feature_80: double (nullable = true)\n",
      " |-- feature_81: double (nullable = true)\n",
      " |-- feature_82: double (nullable = true)\n",
      " |-- feature_83: double (nullable = true)\n",
      " |-- feature_84: double (nullable = true)\n",
      " |-- feature_85: double (nullable = true)\n",
      " |-- feature_86: double (nullable = true)\n",
      " |-- feature_87: double (nullable = true)\n",
      " |-- feature_88: double (nullable = true)\n",
      " |-- feature_89: double (nullable = true)\n",
      " |-- feature_90: double (nullable = true)\n",
      " |-- feature_91: double (nullable = true)\n",
      " |-- feature_92: double (nullable = true)\n",
      " |-- feature_93: double (nullable = true)\n",
      " |-- feature_94: double (nullable = true)\n",
      " |-- feature_95: double (nullable = true)\n",
      " |-- feature_96: double (nullable = true)\n",
      " |-- feature_97: double (nullable = true)\n",
      " |-- feature_98: double (nullable = true)\n",
      " |-- feature_99: double (nullable = true)\n",
      " |-- feature_100: double (nullable = true)\n",
      " |-- feature_101: double (nullable = true)\n",
      " |-- feature_102: double (nullable = true)\n",
      " |-- feature_103: double (nullable = true)\n",
      " |-- feature_104: double (nullable = true)\n",
      " |-- feature_105: double (nullable = true)\n",
      " |-- feature_106: double (nullable = true)\n",
      " |-- feature_107: double (nullable = true)\n",
      " |-- feature_108: double (nullable = true)\n",
      " |-- feature_109: double (nullable = true)\n",
      " |-- feature_110: double (nullable = true)\n",
      " |-- feature_111: double (nullable = true)\n",
      " |-- feature_112: double (nullable = true)\n",
      " |-- feature_113: double (nullable = true)\n",
      " |-- feature_114: double (nullable = true)\n",
      " |-- feature_115: double (nullable = true)\n",
      " |-- feature_116: double (nullable = true)\n",
      " |-- feature_117: double (nullable = true)\n",
      " |-- feature_118: double (nullable = true)\n",
      " |-- feature_119: double (nullable = true)\n",
      " |-- feature_120: double (nullable = true)\n",
      " |-- feature_121: double (nullable = true)\n",
      " |-- feature_122: double (nullable = true)\n",
      " |-- feature_123: double (nullable = true)\n",
      " |-- feature_124: double (nullable = true)\n",
      " |-- feature_125: double (nullable = true)\n",
      " |-- feature_126: double (nullable = true)\n",
      " |-- feature_127: double (nullable = true)\n",
      " |-- feature_128: double (nullable = true)\n",
      " |-- feature_129: double (nullable = true)\n",
      " |-- ts_id: integer (nullable = true)\n",
      " |-- label: integer (nullable = true)\n",
      "\n"
     ]
    },
    {
     "name": "stderr",
     "output_type": "stream",
     "text": [
      "                                                                                \r"
     ]
    },
    {
     "data": {
      "text/plain": [
       "479209"
      ]
     },
     "execution_count": 10,
     "metadata": {},
     "output_type": "execute_result"
    }
   ],
   "source": [
    "df.printSchema()\n",
    "df.count()\n"
   ]
  },
  {
   "cell_type": "code",
   "execution_count": 11,
   "metadata": {},
   "outputs": [
    {
     "name": "stderr",
     "output_type": "stream",
     "text": [
      "                                                                                \r"
     ]
    },
    {
     "name": "stdout",
     "output_type": "stream",
     "text": [
      "+----+-----+\n",
      "|date|count|\n",
      "+----+-----+\n",
      "|  78|  728|\n",
      "| 155|  625|\n",
      "|  81| 1050|\n",
      "| 385|  849|\n",
      "| 412|  895|\n",
      "|  76|  533|\n",
      "| 384|  979|\n",
      "| 159|  805|\n",
      "| 350|  979|\n",
      "| 223| 1397|\n",
      "| 417|  710|\n",
      "| 388|  986|\n",
      "| 222|  897|\n",
      "| 230|  749|\n",
      "| 157|  680|\n",
      "| 225|  628|\n",
      "| 232|  776|\n",
      "| 233|  927|\n",
      "| 224|  662|\n",
      "| 416|  987|\n",
      "+----+-----+\n",
      "only showing top 20 rows\n",
      "\n"
     ]
    }
   ],
   "source": [
    "# checking number of trades in each day\n",
    "\n",
    "df.groupBy(\"date\").count().show()\n"
   ]
  },
  {
   "cell_type": "code",
   "execution_count": 13,
   "metadata": {
    "collapsed": true,
    "jupyter": {
     "outputs_hidden": true
    },
    "tags": []
   },
   "outputs": [
    {
     "name": "stderr",
     "output_type": "stream",
     "text": [
      "                                                                                \r"
     ]
    },
    {
     "name": "stdout",
     "output_type": "stream",
     "text": [
      "Row(date=0)\n"
     ]
    },
    {
     "name": "stderr",
     "output_type": "stream",
     "text": [
      "22/04/28 08:41:38 WARN package: Truncated the string representation of a plan since it was too large. This behavior can be adjusted by setting 'spark.sql.debug.maxToStringFields'.\n",
      "                                                                                \r"
     ]
    },
    {
     "name": "stdout",
     "output_type": "stream",
     "text": [
      "Row(date=1)\n"
     ]
    },
    {
     "name": "stderr",
     "output_type": "stream",
     "text": [
      "                                                                                \r"
     ]
    },
    {
     "name": "stdout",
     "output_type": "stream",
     "text": [
      "Row(date=2)\n"
     ]
    },
    {
     "name": "stderr",
     "output_type": "stream",
     "text": [
      "                                                                                \r"
     ]
    },
    {
     "name": "stdout",
     "output_type": "stream",
     "text": [
      "Row(date=3)\n"
     ]
    },
    {
     "name": "stderr",
     "output_type": "stream",
     "text": [
      "                                                                                \r"
     ]
    },
    {
     "name": "stdout",
     "output_type": "stream",
     "text": [
      "Row(date=4)\n"
     ]
    },
    {
     "name": "stderr",
     "output_type": "stream",
     "text": [
      "                                                                                \r"
     ]
    },
    {
     "name": "stdout",
     "output_type": "stream",
     "text": [
      "Row(date=5)\n"
     ]
    },
    {
     "name": "stderr",
     "output_type": "stream",
     "text": [
      "                                                                                \r"
     ]
    },
    {
     "name": "stdout",
     "output_type": "stream",
     "text": [
      "Row(date=6)\n"
     ]
    },
    {
     "name": "stderr",
     "output_type": "stream",
     "text": [
      "                                                                                \r"
     ]
    },
    {
     "name": "stdout",
     "output_type": "stream",
     "text": [
      "Row(date=7)\n"
     ]
    },
    {
     "name": "stderr",
     "output_type": "stream",
     "text": [
      "                                                                                \r"
     ]
    },
    {
     "name": "stdout",
     "output_type": "stream",
     "text": [
      "Row(date=8)\n"
     ]
    },
    {
     "name": "stderr",
     "output_type": "stream",
     "text": [
      "                                                                                \r"
     ]
    },
    {
     "name": "stdout",
     "output_type": "stream",
     "text": [
      "Row(date=9)\n"
     ]
    },
    {
     "name": "stderr",
     "output_type": "stream",
     "text": [
      "                                                                                \r"
     ]
    },
    {
     "name": "stdout",
     "output_type": "stream",
     "text": [
      "Row(date=10)\n"
     ]
    },
    {
     "name": "stderr",
     "output_type": "stream",
     "text": [
      "                                                                                \r"
     ]
    },
    {
     "name": "stdout",
     "output_type": "stream",
     "text": [
      "Row(date=11)\n"
     ]
    },
    {
     "name": "stderr",
     "output_type": "stream",
     "text": [
      "                                                                                \r"
     ]
    },
    {
     "name": "stdout",
     "output_type": "stream",
     "text": [
      "Row(date=12)\n"
     ]
    },
    {
     "name": "stderr",
     "output_type": "stream",
     "text": [
      "                                                                                \r"
     ]
    },
    {
     "name": "stdout",
     "output_type": "stream",
     "text": [
      "Row(date=13)\n"
     ]
    },
    {
     "name": "stderr",
     "output_type": "stream",
     "text": [
      "                                                                                \r"
     ]
    },
    {
     "name": "stdout",
     "output_type": "stream",
     "text": [
      "Row(date=14)\n"
     ]
    },
    {
     "name": "stderr",
     "output_type": "stream",
     "text": [
      "                                                                                \r"
     ]
    },
    {
     "name": "stdout",
     "output_type": "stream",
     "text": [
      "Row(date=15)\n"
     ]
    },
    {
     "name": "stderr",
     "output_type": "stream",
     "text": [
      "                                                                                \r"
     ]
    },
    {
     "name": "stdout",
     "output_type": "stream",
     "text": [
      "Row(date=16)\n"
     ]
    },
    {
     "name": "stderr",
     "output_type": "stream",
     "text": [
      "                                                                                \r"
     ]
    },
    {
     "name": "stdout",
     "output_type": "stream",
     "text": [
      "Row(date=17)\n"
     ]
    },
    {
     "name": "stderr",
     "output_type": "stream",
     "text": [
      "                                                                                \r"
     ]
    },
    {
     "name": "stdout",
     "output_type": "stream",
     "text": [
      "Row(date=18)\n"
     ]
    },
    {
     "name": "stderr",
     "output_type": "stream",
     "text": [
      "                                                                                \r"
     ]
    },
    {
     "name": "stdout",
     "output_type": "stream",
     "text": [
      "Row(date=19)\n"
     ]
    },
    {
     "name": "stderr",
     "output_type": "stream",
     "text": [
      "                                                                                \r"
     ]
    },
    {
     "name": "stdout",
     "output_type": "stream",
     "text": [
      "Row(date=20)\n"
     ]
    },
    {
     "name": "stderr",
     "output_type": "stream",
     "text": [
      "                                                                                \r"
     ]
    },
    {
     "name": "stdout",
     "output_type": "stream",
     "text": [
      "Row(date=21)\n"
     ]
    },
    {
     "name": "stderr",
     "output_type": "stream",
     "text": [
      "                                                                                \r"
     ]
    },
    {
     "name": "stdout",
     "output_type": "stream",
     "text": [
      "Row(date=22)\n"
     ]
    },
    {
     "name": "stderr",
     "output_type": "stream",
     "text": [
      "                                                                                \r"
     ]
    },
    {
     "name": "stdout",
     "output_type": "stream",
     "text": [
      "Row(date=23)\n"
     ]
    },
    {
     "name": "stderr",
     "output_type": "stream",
     "text": [
      "                                                                                \r"
     ]
    },
    {
     "name": "stdout",
     "output_type": "stream",
     "text": [
      "Row(date=24)\n"
     ]
    },
    {
     "name": "stderr",
     "output_type": "stream",
     "text": [
      "                                                                                \r"
     ]
    },
    {
     "name": "stdout",
     "output_type": "stream",
     "text": [
      "Row(date=25)\n"
     ]
    },
    {
     "name": "stderr",
     "output_type": "stream",
     "text": [
      "                                                                                \r"
     ]
    },
    {
     "name": "stdout",
     "output_type": "stream",
     "text": [
      "Row(date=26)\n"
     ]
    },
    {
     "name": "stderr",
     "output_type": "stream",
     "text": [
      "                                                                                \r"
     ]
    },
    {
     "name": "stdout",
     "output_type": "stream",
     "text": [
      "Row(date=27)\n"
     ]
    },
    {
     "name": "stderr",
     "output_type": "stream",
     "text": [
      "                                                                                \r"
     ]
    },
    {
     "name": "stdout",
     "output_type": "stream",
     "text": [
      "Row(date=28)\n"
     ]
    },
    {
     "name": "stderr",
     "output_type": "stream",
     "text": [
      "                                                                                \r"
     ]
    },
    {
     "name": "stdout",
     "output_type": "stream",
     "text": [
      "Row(date=29)\n"
     ]
    },
    {
     "name": "stderr",
     "output_type": "stream",
     "text": [
      "                                                                                \r"
     ]
    },
    {
     "name": "stdout",
     "output_type": "stream",
     "text": [
      "Row(date=30)\n"
     ]
    },
    {
     "name": "stderr",
     "output_type": "stream",
     "text": [
      "                                                                                \r"
     ]
    },
    {
     "name": "stdout",
     "output_type": "stream",
     "text": [
      "Row(date=31)\n"
     ]
    },
    {
     "name": "stderr",
     "output_type": "stream",
     "text": [
      "                                                                                \r"
     ]
    },
    {
     "name": "stdout",
     "output_type": "stream",
     "text": [
      "Row(date=32)\n"
     ]
    },
    {
     "name": "stderr",
     "output_type": "stream",
     "text": [
      "                                                                                \r"
     ]
    },
    {
     "name": "stdout",
     "output_type": "stream",
     "text": [
      "Row(date=33)\n"
     ]
    },
    {
     "name": "stderr",
     "output_type": "stream",
     "text": [
      "                                                                                \r"
     ]
    },
    {
     "name": "stdout",
     "output_type": "stream",
     "text": [
      "Row(date=34)\n"
     ]
    },
    {
     "name": "stderr",
     "output_type": "stream",
     "text": [
      "                                                                                \r"
     ]
    },
    {
     "name": "stdout",
     "output_type": "stream",
     "text": [
      "Row(date=35)\n"
     ]
    },
    {
     "name": "stderr",
     "output_type": "stream",
     "text": [
      "                                                                                \r"
     ]
    },
    {
     "name": "stdout",
     "output_type": "stream",
     "text": [
      "Row(date=36)\n"
     ]
    },
    {
     "name": "stderr",
     "output_type": "stream",
     "text": [
      "                                                                                \r"
     ]
    },
    {
     "name": "stdout",
     "output_type": "stream",
     "text": [
      "Row(date=37)\n"
     ]
    },
    {
     "name": "stderr",
     "output_type": "stream",
     "text": [
      "                                                                                \r"
     ]
    },
    {
     "name": "stdout",
     "output_type": "stream",
     "text": [
      "Row(date=38)\n"
     ]
    },
    {
     "name": "stderr",
     "output_type": "stream",
     "text": [
      "                                                                                \r"
     ]
    },
    {
     "name": "stdout",
     "output_type": "stream",
     "text": [
      "Row(date=39)\n"
     ]
    },
    {
     "name": "stderr",
     "output_type": "stream",
     "text": [
      "                                                                                \r"
     ]
    },
    {
     "name": "stdout",
     "output_type": "stream",
     "text": [
      "Row(date=40)\n"
     ]
    },
    {
     "name": "stderr",
     "output_type": "stream",
     "text": [
      "                                                                                \r"
     ]
    },
    {
     "name": "stdout",
     "output_type": "stream",
     "text": [
      "Row(date=41)\n"
     ]
    },
    {
     "name": "stderr",
     "output_type": "stream",
     "text": [
      "                                                                                \r"
     ]
    },
    {
     "name": "stdout",
     "output_type": "stream",
     "text": [
      "Row(date=42)\n"
     ]
    },
    {
     "name": "stderr",
     "output_type": "stream",
     "text": [
      "                                                                                \r"
     ]
    },
    {
     "name": "stdout",
     "output_type": "stream",
     "text": [
      "Row(date=43)\n"
     ]
    },
    {
     "name": "stderr",
     "output_type": "stream",
     "text": [
      "                                                                                \r"
     ]
    },
    {
     "name": "stdout",
     "output_type": "stream",
     "text": [
      "Row(date=44)\n"
     ]
    },
    {
     "name": "stderr",
     "output_type": "stream",
     "text": [
      "                                                                                \r"
     ]
    },
    {
     "name": "stdout",
     "output_type": "stream",
     "text": [
      "Row(date=45)\n"
     ]
    },
    {
     "name": "stderr",
     "output_type": "stream",
     "text": [
      "ERROR:root:KeyboardInterrupt while sending command.                 (0 + 1) / 1]\n",
      "Traceback (most recent call last):\n",
      "  File \"/opt/spark/python/lib/py4j-0.10.9.3-src.zip/py4j/java_gateway.py\", line 1038, in send_command\n",
      "    response = connection.send_command(command)\n",
      "  File \"/opt/spark/python/lib/py4j-0.10.9.3-src.zip/py4j/clientserver.py\", line 475, in send_command\n",
      "    answer = smart_decode(self.stream.readline()[:-1])\n",
      "  File \"/usr/lib/python3.8/socket.py\", line 669, in readinto\n",
      "    return self._sock.recv_into(b)\n",
      "KeyboardInterrupt\n",
      "                                                                                \r"
     ]
    },
    {
     "ename": "KeyboardInterrupt",
     "evalue": "",
     "output_type": "error",
     "traceback": [
      "\u001b[0;31m---------------------------------------------------------------------------\u001b[0m",
      "\u001b[0;31mKeyboardInterrupt\u001b[0m                         Traceback (most recent call last)",
      "Input \u001b[0;32mIn [13]\u001b[0m, in \u001b[0;36m<module>\u001b[0;34m\u001b[0m\n\u001b[1;32m     10\u001b[0m df_by_day \u001b[38;5;241m=\u001b[39m df\u001b[38;5;241m.\u001b[39mfilter(\u001b[38;5;124mf\u001b[39m\u001b[38;5;124m\"\u001b[39m\u001b[38;5;124mdate = \u001b[39m\u001b[38;5;132;01m{\u001b[39;00mday[\u001b[38;5;241m0\u001b[39m]\u001b[38;5;132;01m}\u001b[39;00m\u001b[38;5;124m\"\u001b[39m)   \u001b[38;5;66;03m# expression as formatted Python\u001b[39;00m\n\u001b[1;32m     11\u001b[0m \u001b[38;5;66;03m#the directory\u001b[39;00m\n\u001b[0;32m---> 12\u001b[0m ( \u001b[43mdf_by_day\u001b[49m\u001b[38;5;241;43m.\u001b[39;49m\u001b[43mcoalesce\u001b[49m\u001b[43m(\u001b[49m\u001b[38;5;241;43m1\u001b[39;49m\u001b[43m)\u001b[49m\n\u001b[1;32m     13\u001b[0m \u001b[43m     \u001b[49m\u001b[38;5;241;43m.\u001b[39;49m\u001b[43mwrite\u001b[49m\u001b[38;5;241;43m.\u001b[39;49m\u001b[43mmode\u001b[49m\u001b[43m(\u001b[49m\u001b[38;5;124;43m\"\u001b[39;49m\u001b[38;5;124;43mappend\u001b[39;49m\u001b[38;5;124;43m\"\u001b[39;49m\u001b[43m)\u001b[49m\n\u001b[1;32m     14\u001b[0m \u001b[43m     \u001b[49m\u001b[38;5;241;43m.\u001b[39;49m\u001b[43moption\u001b[49m\u001b[43m(\u001b[49m\u001b[38;5;124;43m\"\u001b[39;49m\u001b[38;5;124;43mheader\u001b[39;49m\u001b[38;5;124;43m\"\u001b[39;49m\u001b[43m,\u001b[49m\u001b[43m \u001b[49m\u001b[38;5;28;43;01mTrue\u001b[39;49;00m\u001b[43m)\u001b[49m\n\u001b[1;32m     15\u001b[0m \u001b[43m     \u001b[49m\u001b[38;5;241;43m.\u001b[39;49m\u001b[43mcsv\u001b[49m\u001b[43m(\u001b[49m\u001b[38;5;124;43m\"\u001b[39;49m\u001b[38;5;124;43mtest-janestreetmarket-by-date\u001b[39;49m\u001b[38;5;124;43m\"\u001b[39;49m\u001b[43m)\u001b[49m\n\u001b[1;32m     16\u001b[0m )\n",
      "File \u001b[0;32m/opt/spark/python/pyspark/sql/readwriter.py:955\u001b[0m, in \u001b[0;36mDataFrameWriter.csv\u001b[0;34m(self, path, mode, compression, sep, quote, escape, header, nullValue, escapeQuotes, quoteAll, dateFormat, timestampFormat, ignoreLeadingWhiteSpace, ignoreTrailingWhiteSpace, charToEscapeQuoteEscaping, encoding, emptyValue, lineSep)\u001b[0m\n\u001b[1;32m    947\u001b[0m \u001b[38;5;28mself\u001b[39m\u001b[38;5;241m.\u001b[39mmode(mode)\n\u001b[1;32m    948\u001b[0m \u001b[38;5;28mself\u001b[39m\u001b[38;5;241m.\u001b[39m_set_opts(compression\u001b[38;5;241m=\u001b[39mcompression, sep\u001b[38;5;241m=\u001b[39msep, quote\u001b[38;5;241m=\u001b[39mquote, escape\u001b[38;5;241m=\u001b[39mescape, header\u001b[38;5;241m=\u001b[39mheader,\n\u001b[1;32m    949\u001b[0m                nullValue\u001b[38;5;241m=\u001b[39mnullValue, escapeQuotes\u001b[38;5;241m=\u001b[39mescapeQuotes, quoteAll\u001b[38;5;241m=\u001b[39mquoteAll,\n\u001b[1;32m    950\u001b[0m                dateFormat\u001b[38;5;241m=\u001b[39mdateFormat, timestampFormat\u001b[38;5;241m=\u001b[39mtimestampFormat,\n\u001b[0;32m   (...)\u001b[0m\n\u001b[1;32m    953\u001b[0m                charToEscapeQuoteEscaping\u001b[38;5;241m=\u001b[39mcharToEscapeQuoteEscaping,\n\u001b[1;32m    954\u001b[0m                encoding\u001b[38;5;241m=\u001b[39mencoding, emptyValue\u001b[38;5;241m=\u001b[39memptyValue, lineSep\u001b[38;5;241m=\u001b[39mlineSep)\n\u001b[0;32m--> 955\u001b[0m \u001b[38;5;28;43mself\u001b[39;49m\u001b[38;5;241;43m.\u001b[39;49m\u001b[43m_jwrite\u001b[49m\u001b[38;5;241;43m.\u001b[39;49m\u001b[43mcsv\u001b[49m\u001b[43m(\u001b[49m\u001b[43mpath\u001b[49m\u001b[43m)\u001b[49m\n",
      "File \u001b[0;32m/opt/spark/python/lib/py4j-0.10.9.3-src.zip/py4j/java_gateway.py:1320\u001b[0m, in \u001b[0;36mJavaMember.__call__\u001b[0;34m(self, *args)\u001b[0m\n\u001b[1;32m   1313\u001b[0m args_command, temp_args \u001b[38;5;241m=\u001b[39m \u001b[38;5;28mself\u001b[39m\u001b[38;5;241m.\u001b[39m_build_args(\u001b[38;5;241m*\u001b[39margs)\n\u001b[1;32m   1315\u001b[0m command \u001b[38;5;241m=\u001b[39m proto\u001b[38;5;241m.\u001b[39mCALL_COMMAND_NAME \u001b[38;5;241m+\u001b[39m\\\n\u001b[1;32m   1316\u001b[0m     \u001b[38;5;28mself\u001b[39m\u001b[38;5;241m.\u001b[39mcommand_header \u001b[38;5;241m+\u001b[39m\\\n\u001b[1;32m   1317\u001b[0m     args_command \u001b[38;5;241m+\u001b[39m\\\n\u001b[1;32m   1318\u001b[0m     proto\u001b[38;5;241m.\u001b[39mEND_COMMAND_PART\n\u001b[0;32m-> 1320\u001b[0m answer \u001b[38;5;241m=\u001b[39m \u001b[38;5;28;43mself\u001b[39;49m\u001b[38;5;241;43m.\u001b[39;49m\u001b[43mgateway_client\u001b[49m\u001b[38;5;241;43m.\u001b[39;49m\u001b[43msend_command\u001b[49m\u001b[43m(\u001b[49m\u001b[43mcommand\u001b[49m\u001b[43m)\u001b[49m\n\u001b[1;32m   1321\u001b[0m return_value \u001b[38;5;241m=\u001b[39m get_return_value(\n\u001b[1;32m   1322\u001b[0m     answer, \u001b[38;5;28mself\u001b[39m\u001b[38;5;241m.\u001b[39mgateway_client, \u001b[38;5;28mself\u001b[39m\u001b[38;5;241m.\u001b[39mtarget_id, \u001b[38;5;28mself\u001b[39m\u001b[38;5;241m.\u001b[39mname)\n\u001b[1;32m   1324\u001b[0m \u001b[38;5;28;01mfor\u001b[39;00m temp_arg \u001b[38;5;129;01min\u001b[39;00m temp_args:\n",
      "File \u001b[0;32m/opt/spark/python/lib/py4j-0.10.9.3-src.zip/py4j/java_gateway.py:1038\u001b[0m, in \u001b[0;36mGatewayClient.send_command\u001b[0;34m(self, command, retry, binary)\u001b[0m\n\u001b[1;32m   1036\u001b[0m connection \u001b[38;5;241m=\u001b[39m \u001b[38;5;28mself\u001b[39m\u001b[38;5;241m.\u001b[39m_get_connection()\n\u001b[1;32m   1037\u001b[0m \u001b[38;5;28;01mtry\u001b[39;00m:\n\u001b[0;32m-> 1038\u001b[0m     response \u001b[38;5;241m=\u001b[39m \u001b[43mconnection\u001b[49m\u001b[38;5;241;43m.\u001b[39;49m\u001b[43msend_command\u001b[49m\u001b[43m(\u001b[49m\u001b[43mcommand\u001b[49m\u001b[43m)\u001b[49m\n\u001b[1;32m   1039\u001b[0m     \u001b[38;5;28;01mif\u001b[39;00m binary:\n\u001b[1;32m   1040\u001b[0m         \u001b[38;5;28;01mreturn\u001b[39;00m response, \u001b[38;5;28mself\u001b[39m\u001b[38;5;241m.\u001b[39m_create_connection_guard(connection)\n",
      "File \u001b[0;32m/opt/spark/python/lib/py4j-0.10.9.3-src.zip/py4j/clientserver.py:475\u001b[0m, in \u001b[0;36mClientServerConnection.send_command\u001b[0;34m(self, command)\u001b[0m\n\u001b[1;32m    473\u001b[0m \u001b[38;5;28;01mtry\u001b[39;00m:\n\u001b[1;32m    474\u001b[0m     \u001b[38;5;28;01mwhile\u001b[39;00m \u001b[38;5;28;01mTrue\u001b[39;00m:\n\u001b[0;32m--> 475\u001b[0m         answer \u001b[38;5;241m=\u001b[39m smart_decode(\u001b[38;5;28;43mself\u001b[39;49m\u001b[38;5;241;43m.\u001b[39;49m\u001b[43mstream\u001b[49m\u001b[38;5;241;43m.\u001b[39;49m\u001b[43mreadline\u001b[49m\u001b[43m(\u001b[49m\u001b[43m)\u001b[49m[:\u001b[38;5;241m-\u001b[39m\u001b[38;5;241m1\u001b[39m])\n\u001b[1;32m    476\u001b[0m         logger\u001b[38;5;241m.\u001b[39mdebug(\u001b[38;5;124m\"\u001b[39m\u001b[38;5;124mAnswer received: \u001b[39m\u001b[38;5;132;01m{0}\u001b[39;00m\u001b[38;5;124m\"\u001b[39m\u001b[38;5;241m.\u001b[39mformat(answer))\n\u001b[1;32m    477\u001b[0m         \u001b[38;5;66;03m# Happens when a the other end is dead. There might be an empty\u001b[39;00m\n\u001b[1;32m    478\u001b[0m         \u001b[38;5;66;03m# answer before the socket raises an error.\u001b[39;00m\n",
      "File \u001b[0;32m/usr/lib/python3.8/socket.py:669\u001b[0m, in \u001b[0;36mSocketIO.readinto\u001b[0;34m(self, b)\u001b[0m\n\u001b[1;32m    667\u001b[0m \u001b[38;5;28;01mwhile\u001b[39;00m \u001b[38;5;28;01mTrue\u001b[39;00m:\n\u001b[1;32m    668\u001b[0m     \u001b[38;5;28;01mtry\u001b[39;00m:\n\u001b[0;32m--> 669\u001b[0m         \u001b[38;5;28;01mreturn\u001b[39;00m \u001b[38;5;28;43mself\u001b[39;49m\u001b[38;5;241;43m.\u001b[39;49m\u001b[43m_sock\u001b[49m\u001b[38;5;241;43m.\u001b[39;49m\u001b[43mrecv_into\u001b[49m\u001b[43m(\u001b[49m\u001b[43mb\u001b[49m\u001b[43m)\u001b[49m\n\u001b[1;32m    670\u001b[0m     \u001b[38;5;28;01mexcept\u001b[39;00m timeout:\n\u001b[1;32m    671\u001b[0m         \u001b[38;5;28mself\u001b[39m\u001b[38;5;241m.\u001b[39m_timeout_occurred \u001b[38;5;241m=\u001b[39m \u001b[38;5;28;01mTrue\u001b[39;00m\n",
      "\u001b[0;31mKeyboardInterrupt\u001b[0m: "
     ]
    }
   ],
   "source": [
    "# For simulation purpose - just to be run once\n",
    "# it splits data into multiple files, one for each date found in the initial data set\n",
    "# (coalesce(1) is for the purpose of creating just one file)\n",
    "\n",
    "# Notice: this task may take a while. That is why the outcome is already provided\n",
    "\n",
    "days = df.select(\"date\").distinct().sort(\"date\").collect() # get rows with days\n",
    "for day in days:\n",
    "    print(day) # Row holds just one value, the day itself\n",
    "    df_by_day = df.filter(f\"date = {day[0]}\")   # expression as formatted Python\n",
    "    the directory\n",
    "    ( df_by_day.coalesce(1)\n",
    "         .write.mode(\"append\")\n",
    "         .option(\"header\", True)\n",
    "         .csv(\"test-janestreetmarket-by-date\")\n",
    "    )\n",
    "    "
   ]
  },
  {
   "cell_type": "code",
   "execution_count": 14,
   "metadata": {},
   "outputs": [
    {
     "name": "stdout",
     "output_type": "stream",
     "text": [
      "total 1413908\n",
      "drwxr-xr-x 2 big big  114688 Apr 28 08:42 .\n",
      "drwxrwxr-x 6 big big    4096 Apr 28 08:42 ..\n",
      "-rw-r--r-- 1 big big 2102940 Apr 26 12:17 part-00000-006eaf10-4669-4690-b51a-9b14fb31da3f-c000.csv\n",
      "-rw-r--r-- 1 big big   16440 Apr 26 12:17 .part-00000-006eaf10-4669-4690-b51a-9b14fb31da3f-c000.csv.crc\n",
      "-rw-r--r-- 1 big big 2377332 Apr 26 12:17 part-00000-00ce3553-bc70-417a-a312-6ca65c0feff5-c000.csv\n",
      "-rw-r--r-- 1 big big   18584 Apr 26 12:17 .part-00000-00ce3553-bc70-417a-a312-6ca65c0feff5-c000.csv.crc\n",
      "-rw-r--r-- 1 big big 1897876 Apr 26 12:17 part-00000-0128ad71-75b6-499d-bb05-a74370ad9c95-c000.csv\n",
      "-rw-r--r-- 1 big big   14836 Apr 26 12:17 .part-00000-0128ad71-75b6-499d-bb05-a74370ad9c95-c000.csv.crc\n",
      "-rw-r--r-- 1 big big 6356379 Apr 26 12:16 part-00000-01951587-7740-4cd5-a296-f05e5f8a0468-c000.csv\n",
      "-rw-r--r-- 1 big big   49668 Apr 26 12:16 .part-00000-01951587-7740-4cd5-a296-f05e5f8a0468-c000.csv.crc\n",
      "-rw-r--r-- 1 big big 1580798 Apr 26 12:17 part-00000-01d7d587-a1ab-4d83-b8f3-daba8ee1d97d-c000.csv\n",
      "-rw-r--r-- 1 big big   12360 Apr 26 12:17 .part-00000-01d7d587-a1ab-4d83-b8f3-daba8ee1d97d-c000.csv.crc\n",
      "-rw-r--r-- 1 big big 2712874 Apr 26 12:17 part-00000-0216f712-58a9-43da-85c2-ead76be9808f-c000.csv\n",
      "-rw-r--r-- 1 big big   21204 Apr 26 12:17 .part-00000-0216f712-58a9-43da-85c2-ead76be9808f-c000.csv.crc\n",
      "-rw-r--r-- 1 big big 2771108 Apr 26 12:16 part-00000-024fe31c-b686-42c6-a60e-897fb4eefed4-c000.csv\n",
      "-rw-r--r-- 1 big big   21660 Apr 26 12:16 .part-00000-024fe31c-b686-42c6-a60e-897fb4eefed4-c000.csv.crc\n",
      "-rw-r--r-- 1 big big 1951648 Apr 26 12:16 part-00000-038b4a6b-e978-4a29-a2bc-30a4b41f916d-c000.csv\n",
      "-rw-r--r-- 1 big big   15256 Apr 26 12:16 .part-00000-038b4a6b-e978-4a29-a2bc-30a4b41f916d-c000.csv.crc\n",
      "-rw-r--r-- 1 big big 2616461 Apr 26 12:18 part-00000-0412e459-ba36-4163-968b-c04a61e8f792-c000.csv\n",
      "-rw-r--r-- 1 big big   20452 Apr 26 12:18 .part-00000-0412e459-ba36-4163-968b-c04a61e8f792-c000.csv.crc\n",
      "-rw-r--r-- 1 big big 2110008 Apr 26 12:18 part-00000-04a1d0bc-134d-41af-bf56-44f1d66a837d-c000.csv\n",
      "-rw-r--r-- 1 big big   16496 Apr 26 12:18 .part-00000-04a1d0bc-134d-41af-bf56-44f1d66a837d-c000.csv.crc\n",
      "-rw-r--r-- 1 big big 1714785 Apr 26 12:17 part-00000-05872d2d-e441-4bb6-ac30-900a987f7b17-c000.csv\n",
      "-rw-r--r-- 1 big big   13408 Apr 26 12:17 .part-00000-05872d2d-e441-4bb6-ac30-900a987f7b17-c000.csv.crc\n",
      "-rw-r--r-- 1 big big 2842069 Apr 26 12:18 part-00000-05ce2d67-bd26-42d3-a821-77b8001df90a-c000.csv\n",
      "-rw-r--r-- 1 big big   22212 Apr 26 12:18 .part-00000-05ce2d67-bd26-42d3-a821-77b8001df90a-c000.csv.crc\n",
      "-rw-r--r-- 1 big big 3298934 Apr 26 12:16 part-00000-06c81e99-3ff9-41ce-97e9-bb0093136972-c000.csv\n",
      "-rw-r--r-- 1 big big   25784 Apr 26 12:16 .part-00000-06c81e99-3ff9-41ce-97e9-bb0093136972-c000.csv.crc\n",
      "-rw-r--r-- 1 big big 3581578 Apr 26 12:18 part-00000-06e7c9d3-1486-4fd4-98f3-e7124190a8c0-c000.csv\n",
      "-rw-r--r-- 1 big big   27992 Apr 26 12:18 .part-00000-06e7c9d3-1486-4fd4-98f3-e7124190a8c0-c000.csv.crc\n",
      "-rw-r--r-- 1 big big 4031160 Apr 26 12:18 part-00000-086a81e6-1ea2-4711-b07a-36b354eafc47-c000.csv\n",
      "-rw-r--r-- 1 big big   31504 Apr 26 12:18 .part-00000-086a81e6-1ea2-4711-b07a-36b354eafc47-c000.csv.crc\n",
      "-rw-r--r-- 1 big big 1623357 Apr 26 12:17 part-00000-0904ce2a-a833-43d7-999b-afc3bee6c6ea-c000.csv\n",
      "-rw-r--r-- 1 big big   12692 Apr 26 12:17 .part-00000-0904ce2a-a833-43d7-999b-afc3bee6c6ea-c000.csv.crc\n",
      "-rw-r--r-- 1 big big 1448636 Apr 26 12:16 part-00000-09540390-a20c-4d8c-bde0-0e7eb8478ac5-c000.csv\n",
      "-rw-r--r-- 1 big big   11328 Apr 26 12:16 .part-00000-09540390-a20c-4d8c-bde0-0e7eb8478ac5-c000.csv.crc\n",
      "-rw-r--r-- 1 big big 6376152 Apr 26 12:17 part-00000-096f50e9-4e01-4775-966f-93a176ae160f-c000.csv\n",
      "-rw-r--r-- 1 big big   49824 Apr 26 12:17 .part-00000-096f50e9-4e01-4775-966f-93a176ae160f-c000.csv.crc\n",
      "-rw-r--r-- 1 big big 1641364 Apr 28 08:42 part-00000-099ae641-0b25-4a43-add6-40bbb696364d-c000.csv\n",
      "-rw-r--r-- 1 big big   12832 Apr 28 08:42 .part-00000-099ae641-0b25-4a43-add6-40bbb696364d-c000.csv.crc\n",
      "-rw-r--r-- 1 big big 1844560 Apr 26 12:18 part-00000-09a34e82-d4fc-4c4a-96fc-ac56a131c586-c000.csv\n",
      "-rw-r--r-- 1 big big   14420 Apr 26 12:18 .part-00000-09a34e82-d4fc-4c4a-96fc-ac56a131c586-c000.csv.crc\n",
      "-rw-r--r-- 1 big big 1975375 Apr 26 12:18 part-00000-09d5dcd5-adc7-4a14-9047-c1998be10fec-c000.csv\n",
      "-rw-r--r-- 1 big big   15444 Apr 26 12:18 .part-00000-09d5dcd5-adc7-4a14-9047-c1998be10fec-c000.csv.crc\n",
      "-rw-r--r-- 1 big big 3423223 Apr 28 08:42 part-00000-09ec5ea4-60bf-4506-8fee-0cb6688972cf-c000.csv\n",
      "-rw-r--r-- 1 big big   26752 Apr 28 08:42 .part-00000-09ec5ea4-60bf-4506-8fee-0cb6688972cf-c000.csv.crc\n",
      "-rw-r--r-- 1 big big 1509805 Apr 26 12:16 part-00000-0a0454cb-b12d-4590-8652-449969af10ae-c000.csv\n",
      "-rw-r--r-- 1 big big   11804 Apr 26 12:16 .part-00000-0a0454cb-b12d-4590-8652-449969af10ae-c000.csv.crc\n",
      "-rw-r--r-- 1 big big 1291810 Apr 26 12:17 part-00000-0c2c1b19-5f16-4bda-8561-6adc8fce1347-c000.csv\n",
      "-rw-r--r-- 1 big big   10104 Apr 26 12:17 .part-00000-0c2c1b19-5f16-4bda-8561-6adc8fce1347-c000.csv.crc\n",
      "-rw-r--r-- 1 big big 1656575 Apr 26 12:17 part-00000-0c9d6939-5338-47cd-995c-088932e160d7-c000.csv\n",
      "-rw-r--r-- 1 big big   12952 Apr 26 12:17 .part-00000-0c9d6939-5338-47cd-995c-088932e160d7-c000.csv.crc\n",
      "-rw-r--r-- 1 big big 2011234 Apr 26 12:16 part-00000-0ce04379-2880-40d1-bffe-4aad30885fcc-c000.csv\n",
      "-rw-r--r-- 1 big big   15724 Apr 26 12:16 .part-00000-0ce04379-2880-40d1-bffe-4aad30885fcc-c000.csv.crc\n",
      "-rw-r--r-- 1 big big 4330866 Apr 26 12:17 part-00000-0d7ee14b-3ea0-4ac0-8b62-e07d3929a10b-c000.csv\n",
      "-rw-r--r-- 1 big big   33844 Apr 26 12:17 .part-00000-0d7ee14b-3ea0-4ac0-8b62-e07d3929a10b-c000.csv.crc\n",
      "-rw-r--r-- 1 big big 2959452 Apr 26 12:17 part-00000-0dd52870-6f33-47c6-b487-062db37aa76a-c000.csv\n",
      "-rw-r--r-- 1 big big   23132 Apr 26 12:17 .part-00000-0dd52870-6f33-47c6-b487-062db37aa76a-c000.csv.crc\n",
      "-rw-r--r-- 1 big big 1921239 Apr 26 12:17 part-00000-0f714a9f-9649-41c1-a33f-834efffd0c57-c000.csv\n",
      "-rw-r--r-- 1 big big   15020 Apr 26 12:17 .part-00000-0f714a9f-9649-41c1-a33f-834efffd0c57-c000.csv.crc\n",
      "-rw-r--r-- 1 big big 2274478 Apr 26 12:18 part-00000-0ff0940f-3567-4525-9768-53a38ec9c918-c000.csv\n",
      "-rw-r--r-- 1 big big   17780 Apr 26 12:18 .part-00000-0ff0940f-3567-4525-9768-53a38ec9c918-c000.csv.crc\n",
      "-rw-r--r-- 1 big big 2594184 Apr 26 12:18 part-00000-11b6fe69-b2c8-43da-b85d-9d1fce71be46-c000.csv\n",
      "-rw-r--r-- 1 big big   20276 Apr 26 12:18 .part-00000-11b6fe69-b2c8-43da-b85d-9d1fce71be46-c000.csv.crc\n",
      "-rw-r--r-- 1 big big 2362281 Apr 26 12:17 part-00000-11d83a83-c460-4367-a6dc-5f60ec27843c-c000.csv\n",
      "-rw-r--r-- 1 big big   18464 Apr 26 12:17 .part-00000-11d83a83-c460-4367-a6dc-5f60ec27843c-c000.csv.crc\n",
      "-rw-r--r-- 1 big big 1980037 Apr 26 12:17 part-00000-11e96618-7f5f-4ea0-8d1b-32adae9bc34e-c000.csv\n",
      "-rw-r--r-- 1 big big   15480 Apr 26 12:17 .part-00000-11e96618-7f5f-4ea0-8d1b-32adae9bc34e-c000.csv.crc\n",
      "-rw-r--r-- 1 big big 2740871 Apr 26 12:18 part-00000-128a5f8e-6e10-448a-b546-a16cef0be219-c000.csv\n",
      "-rw-r--r-- 1 big big   21424 Apr 26 12:18 .part-00000-128a5f8e-6e10-448a-b546-a16cef0be219-c000.csv.crc\n",
      "-rw-r--r-- 1 big big 2408498 Apr 26 12:18 part-00000-12cec72d-f389-4fe1-b11e-609d733f22be-c000.csv\n",
      "-rw-r--r-- 1 big big   18828 Apr 26 12:18 .part-00000-12cec72d-f389-4fe1-b11e-609d733f22be-c000.csv.crc\n",
      "-rw-r--r-- 1 big big 2560934 Apr 26 12:17 part-00000-1321ef24-e9ee-4e7f-ae29-9b0174d174be-c000.csv\n",
      "-rw-r--r-- 1 big big   20016 Apr 26 12:17 .part-00000-1321ef24-e9ee-4e7f-ae29-9b0174d174be-c000.csv.crc\n",
      "-rw-r--r-- 1 big big 3530929 Apr 26 12:18 part-00000-135fb53a-81a9-4399-bef7-6c2f13d36656-c000.csv\n",
      "-rw-r--r-- 1 big big   27596 Apr 26 12:18 .part-00000-135fb53a-81a9-4399-bef7-6c2f13d36656-c000.csv.crc\n",
      "-rw-r--r-- 1 big big 3009057 Apr 26 12:17 part-00000-141c0931-4a84-4f6d-99c5-3a49d14af363-c000.csv\n",
      "-rw-r--r-- 1 big big   23520 Apr 26 12:17 .part-00000-141c0931-4a84-4f6d-99c5-3a49d14af363-c000.csv.crc\n",
      "-rw-r--r-- 1 big big 1731320 Apr 26 12:16 part-00000-14c78097-42ad-49a6-a710-d03d8e2a4373-c000.csv\n",
      "-rw-r--r-- 1 big big   13536 Apr 26 12:16 .part-00000-14c78097-42ad-49a6-a710-d03d8e2a4373-c000.csv.crc\n",
      "-rw-r--r-- 1 big big 2151868 Apr 26 12:17 part-00000-154bbf6d-4b5f-47ee-b818-d189e0df7694-c000.csv\n",
      "-rw-r--r-- 1 big big   16820 Apr 26 12:17 .part-00000-154bbf6d-4b5f-47ee-b818-d189e0df7694-c000.csv.crc\n",
      "-rw-r--r-- 1 big big 2458440 Apr 26 12:16 part-00000-15ae4f2e-6f68-495c-9d67-27e870c30162-c000.csv\n",
      "-rw-r--r-- 1 big big   19216 Apr 26 12:16 .part-00000-15ae4f2e-6f68-495c-9d67-27e870c30162-c000.csv.crc\n",
      "-rw-r--r-- 1 big big 2003616 Apr 26 12:17 part-00000-15d9bb10-615e-475a-a5b4-77452450884e-c000.csv\n",
      "-rw-r--r-- 1 big big   15664 Apr 26 12:17 .part-00000-15d9bb10-615e-475a-a5b4-77452450884e-c000.csv.crc\n",
      "-rw-r--r-- 1 big big 1849802 Apr 26 12:18 part-00000-160f439e-4215-4dd5-a499-6007ffb297d0-c000.csv\n",
      "-rw-r--r-- 1 big big   14460 Apr 26 12:18 .part-00000-160f439e-4215-4dd5-a499-6007ffb297d0-c000.csv.crc\n",
      "-rw-r--r-- 1 big big 1388105 Apr 26 12:17 part-00000-16124c12-cfe1-4968-b13c-ef7400049bfe-c000.csv\n",
      "-rw-r--r-- 1 big big   10856 Apr 26 12:17 .part-00000-16124c12-cfe1-4968-b13c-ef7400049bfe-c000.csv.crc\n",
      "-rw-r--r-- 1 big big 2360601 Apr 26 12:18 part-00000-16ad2331-67d3-4f6d-abe3-4717b9efc1ad-c000.csv\n",
      "-rw-r--r-- 1 big big   18452 Apr 26 12:18 .part-00000-16ad2331-67d3-4f6d-abe3-4717b9efc1ad-c000.csv.crc\n",
      "-rw-r--r-- 1 big big 4157916 Apr 28 08:42 part-00000-1701614e-4f84-4ac4-9c45-6502cf144f91-c000.csv\n",
      "-rw-r--r-- 1 big big   32492 Apr 28 08:42 .part-00000-1701614e-4f84-4ac4-9c45-6502cf144f91-c000.csv.crc\n",
      "-rw-r--r-- 1 big big 2379294 Apr 26 12:18 part-00000-17658b0a-0047-4aff-9a8a-270e061bbff8-c000.csv\n",
      "-rw-r--r-- 1 big big   18600 Apr 26 12:18 .part-00000-17658b0a-0047-4aff-9a8a-270e061bbff8-c000.csv.crc\n",
      "-rw-r--r-- 1 big big 2179331 Apr 26 12:18 part-00000-17e98044-f008-4572-b576-235a35138783-c000.csv\n",
      "-rw-r--r-- 1 big big   17036 Apr 26 12:18 .part-00000-17e98044-f008-4572-b576-235a35138783-c000.csv.crc\n",
      "-rw-r--r-- 1 big big 1804962 Apr 26 12:16 part-00000-17eb9bfe-99f8-46bc-866a-99aa45b713ce-c000.csv\n",
      "-rw-r--r-- 1 big big   14112 Apr 26 12:16 .part-00000-17eb9bfe-99f8-46bc-866a-99aa45b713ce-c000.csv.crc\n",
      "-rw-r--r-- 1 big big 2891947 Apr 26 12:17 part-00000-18375edb-d622-4f70-be2d-bec2935656c7-c000.csv\n",
      "-rw-r--r-- 1 big big   22604 Apr 26 12:17 .part-00000-18375edb-d622-4f70-be2d-bec2935656c7-c000.csv.crc\n",
      "-rw-r--r-- 1 big big 3792160 Apr 26 12:17 part-00000-189911fb-d104-416b-b82f-515d48c36de5-c000.csv\n",
      "-rw-r--r-- 1 big big   29636 Apr 26 12:17 .part-00000-189911fb-d104-416b-b82f-515d48c36de5-c000.csv.crc\n",
      "-rw-r--r-- 1 big big 3689754 Apr 28 08:41 part-00000-18b1d9ef-c617-45bb-bd20-9ed48aa90d67-c000.csv\n",
      "-rw-r--r-- 1 big big   28836 Apr 28 08:41 .part-00000-18b1d9ef-c617-45bb-bd20-9ed48aa90d67-c000.csv.crc\n",
      "-rw-r--r-- 1 big big 1978804 Apr 26 12:17 part-00000-1abd9147-6100-475b-9a5c-eda23e791d9a-c000.csv\n",
      "-rw-r--r-- 1 big big   15468 Apr 26 12:17 .part-00000-1abd9147-6100-475b-9a5c-eda23e791d9a-c000.csv.crc\n",
      "-rw-r--r-- 1 big big 3648654 Apr 28 08:42 part-00000-1ad88bc7-a62f-418f-831f-06897386dd09-c000.csv\n",
      "-rw-r--r-- 1 big big   28516 Apr 28 08:42 .part-00000-1ad88bc7-a62f-418f-831f-06897386dd09-c000.csv.crc\n",
      "-rw-r--r-- 1 big big 2291251 Apr 26 12:18 part-00000-1db69173-d4a5-42dc-a684-13251d52ce7f-c000.csv\n",
      "-rw-r--r-- 1 big big   17912 Apr 26 12:18 .part-00000-1db69173-d4a5-42dc-a684-13251d52ce7f-c000.csv.crc\n",
      "-rw-r--r-- 1 big big 2613925 Apr 26 12:18 part-00000-1ec117f0-90b6-4140-bdf9-2c611863f9f3-c000.csv\n",
      "-rw-r--r-- 1 big big   20432 Apr 26 12:18 .part-00000-1ec117f0-90b6-4140-bdf9-2c611863f9f3-c000.csv.crc\n",
      "-rw-r--r-- 1 big big 2101406 Apr 26 12:18 part-00000-1eca58fb-2beb-4cae-9a3c-4246c323eb8e-c000.csv\n",
      "-rw-r--r-- 1 big big   16428 Apr 26 12:18 .part-00000-1eca58fb-2beb-4cae-9a3c-4246c323eb8e-c000.csv.crc\n",
      "-rw-r--r-- 1 big big 1491497 Apr 26 12:16 part-00000-1f0eac03-ff04-4829-ab4c-69e53b087277-c000.csv\n",
      "-rw-r--r-- 1 big big   11664 Apr 26 12:16 .part-00000-1f0eac03-ff04-4829-ab4c-69e53b087277-c000.csv.crc\n",
      "-rw-r--r-- 1 big big 5759577 Apr 26 12:17 part-00000-1f7a4300-7d37-465f-baf6-2fc8faf7b96b-c000.csv\n",
      "-rw-r--r-- 1 big big   45008 Apr 26 12:17 .part-00000-1f7a4300-7d37-465f-baf6-2fc8faf7b96b-c000.csv.crc\n",
      "-rw-r--r-- 1 big big  120471 Apr 26 12:16 part-00000-1f97ff00-09f0-435c-8765-9d280aa37c23-c000.csv\n",
      "-rw-r--r-- 1 big big     952 Apr 26 12:16 .part-00000-1f97ff00-09f0-435c-8765-9d280aa37c23-c000.csv.crc\n",
      "-rw-r--r-- 1 big big 2231093 Apr 26 12:16 part-00000-1fa14ef0-0590-49e7-9151-a6a91d267161-c000.csv\n",
      "-rw-r--r-- 1 big big   17440 Apr 26 12:16 .part-00000-1fa14ef0-0590-49e7-9151-a6a91d267161-c000.csv.crc\n",
      "-rw-r--r-- 1 big big 2214468 Apr 26 12:18 part-00000-1fd289c4-50b0-495a-9de7-c0362b37dad5-c000.csv\n",
      "-rw-r--r-- 1 big big   17312 Apr 26 12:18 .part-00000-1fd289c4-50b0-495a-9de7-c0362b37dad5-c000.csv.crc\n",
      "-rw-r--r-- 1 big big 1148203 Apr 28 08:42 part-00000-21f4b57f-5b86-4c58-a5ef-6887bcee7743-c000.csv\n",
      "-rw-r--r-- 1 big big    8980 Apr 28 08:42 .part-00000-21f4b57f-5b86-4c58-a5ef-6887bcee7743-c000.csv.crc\n",
      "-rw-r--r-- 1 big big 2643270 Apr 26 12:17 part-00000-224725cb-47ec-49b4-b36e-8c62379fac9a-c000.csv\n",
      "-rw-r--r-- 1 big big   20660 Apr 26 12:17 .part-00000-224725cb-47ec-49b4-b36e-8c62379fac9a-c000.csv.crc\n",
      "-rw-r--r-- 1 big big 4192359 Apr 26 12:18 part-00000-228c026e-adf6-41d2-ae13-330eff8dcaa9-c000.csv\n",
      "-rw-r--r-- 1 big big   32764 Apr 26 12:18 .part-00000-228c026e-adf6-41d2-ae13-330eff8dcaa9-c000.csv.crc\n",
      "-rw-r--r-- 1 big big 1668932 Apr 26 12:16 part-00000-23c6c457-7410-4328-b4ae-2a695ee0b1be-c000.csv\n",
      "-rw-r--r-- 1 big big   13048 Apr 26 12:16 .part-00000-23c6c457-7410-4328-b4ae-2a695ee0b1be-c000.csv.crc\n",
      "-rw-r--r-- 1 big big 1727273 Apr 26 12:16 part-00000-23d4d39b-44ab-49ed-9fc2-3ab4c9a76a11-c000.csv\n",
      "-rw-r--r-- 1 big big   13504 Apr 26 12:16 .part-00000-23d4d39b-44ab-49ed-9fc2-3ab4c9a76a11-c000.csv.crc\n",
      "-rw-r--r-- 1 big big 1331598 Apr 26 12:16 part-00000-242e4ce9-c627-4807-98d1-dbcf1867541f-c000.csv\n",
      "-rw-r--r-- 1 big big   10412 Apr 26 12:16 .part-00000-242e4ce9-c627-4807-98d1-dbcf1867541f-c000.csv.crc\n",
      "-rw-r--r-- 1 big big 4342998 Apr 26 12:18 part-00000-24532fb5-bd8a-487f-9aa7-c488c10eb6fe-c000.csv\n",
      "-rw-r--r-- 1 big big   33940 Apr 26 12:18 .part-00000-24532fb5-bd8a-487f-9aa7-c488c10eb6fe-c000.csv.crc\n",
      "-rw-r--r-- 1 big big 1513050 Apr 26 12:17 part-00000-2475e410-3017-475e-bddd-13ccfdf96418-c000.csv\n",
      "-rw-r--r-- 1 big big   11832 Apr 26 12:17 .part-00000-2475e410-3017-475e-bddd-13ccfdf96418-c000.csv.crc\n",
      "-rw-r--r-- 1 big big 2784905 Apr 26 12:17 part-00000-247b3013-060e-43b3-9550-13aad39be7d1-c000.csv\n",
      "-rw-r--r-- 1 big big   21768 Apr 26 12:17 .part-00000-247b3013-060e-43b3-9550-13aad39be7d1-c000.csv.crc\n",
      "-rw-r--r-- 1 big big 2467020 Apr 26 12:17 part-00000-24afcdd8-879c-40b2-bcca-aeacf7e38e39-c000.csv\n",
      "-rw-r--r-- 1 big big   19284 Apr 26 12:17 .part-00000-24afcdd8-879c-40b2-bcca-aeacf7e38e39-c000.csv.crc\n",
      "-rw-r--r-- 1 big big 4930050 Apr 28 08:41 part-00000-24ef4969-0304-48e6-a9a7-59623eb5ad6c-c000.csv\n",
      "-rw-r--r-- 1 big big   38528 Apr 28 08:41 .part-00000-24ef4969-0304-48e6-a9a7-59623eb5ad6c-c000.csv.crc\n",
      "-rw-r--r-- 1 big big 1702786 Apr 26 12:17 part-00000-2533f6e7-f842-41f2-82dd-d3c267e8911f-c000.csv\n",
      "-rw-r--r-- 1 big big   13312 Apr 26 12:17 .part-00000-2533f6e7-f842-41f2-82dd-d3c267e8911f-c000.csv.crc\n",
      "-rw-r--r-- 1 big big 1681072 Apr 26 12:16 part-00000-25ec1758-0e29-4b9b-93ff-0a0d46f088a3-c000.csv\n",
      "-rw-r--r-- 1 big big   13144 Apr 26 12:16 .part-00000-25ec1758-0e29-4b9b-93ff-0a0d46f088a3-c000.csv.crc\n",
      "-rw-r--r-- 1 big big 2233073 Apr 26 12:18 part-00000-265bde8f-9984-4a01-978d-ccd5d496e1ba-c000.csv\n",
      "-rw-r--r-- 1 big big   17456 Apr 26 12:18 .part-00000-265bde8f-9984-4a01-978d-ccd5d496e1ba-c000.csv.crc\n",
      "-rw-r--r-- 1 big big 3336297 Apr 26 12:18 part-00000-26ef122f-da35-4440-8d8e-0b039501c1be-c000.csv\n",
      "-rw-r--r-- 1 big big   26076 Apr 26 12:18 .part-00000-26ef122f-da35-4440-8d8e-0b039501c1be-c000.csv.crc\n",
      "-rw-r--r-- 1 big big 1932231 Apr 26 12:16 part-00000-277826bb-9f4a-4d9c-8441-e9488318c96f-c000.csv\n",
      "-rw-r--r-- 1 big big   15104 Apr 26 12:16 .part-00000-277826bb-9f4a-4d9c-8441-e9488318c96f-c000.csv.crc\n",
      "-rw-r--r-- 1 big big 1803966 Apr 26 12:16 part-00000-27927764-8b3e-4dc2-b309-82cd9e3c0c46-c000.csv\n",
      "-rw-r--r-- 1 big big   14104 Apr 26 12:16 .part-00000-27927764-8b3e-4dc2-b309-82cd9e3c0c46-c000.csv.crc\n",
      "-rw-r--r-- 1 big big 2389487 Apr 26 12:18 part-00000-2853457f-c2cd-4c05-9bcf-0289b15a5ef6-c000.csv\n",
      "-rw-r--r-- 1 big big   18676 Apr 26 12:18 .part-00000-2853457f-c2cd-4c05-9bcf-0289b15a5ef6-c000.csv.crc\n",
      "-rw-r--r-- 1 big big 2078190 Apr 26 12:18 part-00000-2892bdd2-e6da-4132-8d0f-e594ed1212a3-c000.csv\n",
      "-rw-r--r-- 1 big big   16244 Apr 26 12:18 .part-00000-2892bdd2-e6da-4132-8d0f-e594ed1212a3-c000.csv.crc\n",
      "-rw-r--r-- 1 big big 1680103 Apr 26 12:17 part-00000-28b7f9c9-28fc-4d7a-8682-468090d53d59-c000.csv\n",
      "-rw-r--r-- 1 big big   13136 Apr 26 12:17 .part-00000-28b7f9c9-28fc-4d7a-8682-468090d53d59-c000.csv.crc\n",
      "-rw-r--r-- 1 big big 2413598 Apr 26 12:18 part-00000-28f1177b-90d9-4698-8498-6dafe7eb8cce-c000.csv\n",
      "-rw-r--r-- 1 big big   18868 Apr 26 12:18 .part-00000-28f1177b-90d9-4698-8498-6dafe7eb8cce-c000.csv.crc\n",
      "-rw-r--r-- 1 big big 7039307 Apr 26 12:16 part-00000-28f30b78-fac2-4953-b049-8ccc9e256936-c000.csv\n",
      "-rw-r--r-- 1 big big   55004 Apr 26 12:16 .part-00000-28f30b78-fac2-4953-b049-8ccc9e256936-c000.csv.crc\n",
      "-rw-r--r-- 1 big big 3227069 Apr 26 12:18 part-00000-294ab516-87f0-4aa5-a717-fb22454ff954-c000.csv\n",
      "-rw-r--r-- 1 big big   25220 Apr 26 12:18 .part-00000-294ab516-87f0-4aa5-a717-fb22454ff954-c000.csv.crc\n",
      "-rw-r--r-- 1 big big 2356214 Apr 26 12:18 part-00000-29961e9d-3360-40e4-9499-72f248be7114-c000.csv\n",
      "-rw-r--r-- 1 big big   18416 Apr 26 12:18 .part-00000-29961e9d-3360-40e4-9499-72f248be7114-c000.csv.crc\n",
      "-rw-r--r-- 1 big big 1964487 Apr 28 08:41 part-00000-29b27057-1c86-48fd-acb0-7d66bf023a6b-c000.csv\n",
      "-rw-r--r-- 1 big big   15356 Apr 28 08:41 .part-00000-29b27057-1c86-48fd-acb0-7d66bf023a6b-c000.csv.crc\n",
      "-rw-r--r-- 1 big big 3054790 Apr 26 12:18 part-00000-2a17ccae-e24d-439d-be6a-600fb343d8ce-c000.csv\n",
      "-rw-r--r-- 1 big big   23876 Apr 26 12:18 .part-00000-2a17ccae-e24d-439d-be6a-600fb343d8ce-c000.csv.crc\n",
      "-rw-r--r-- 1 big big 3120175 Apr 26 12:18 part-00000-2a32c933-d64f-4246-9a80-0488df9c2e5f-c000.csv\n",
      "-rw-r--r-- 1 big big   24388 Apr 26 12:18 .part-00000-2a32c933-d64f-4246-9a80-0488df9c2e5f-c000.csv.crc\n",
      "-rw-r--r-- 1 big big 2220817 Apr 26 12:17 part-00000-2acbba33-695c-4910-bb78-d3ab3a0f37da-c000.csv\n",
      "-rw-r--r-- 1 big big   17360 Apr 26 12:17 .part-00000-2acbba33-695c-4910-bb78-d3ab3a0f37da-c000.csv.crc\n",
      "-rw-r--r-- 1 big big 7169223 Apr 26 12:16 part-00000-2ada1a90-0a59-4802-a4db-bd6b49f7d2f5-c000.csv\n",
      "-rw-r--r-- 1 big big   56020 Apr 26 12:16 .part-00000-2ada1a90-0a59-4802-a4db-bd6b49f7d2f5-c000.csv.crc\n",
      "-rw-r--r-- 1 big big 2112712 Apr 26 12:17 part-00000-2afaf7cc-f106-40ed-9ab4-d98bc0cb737e-c000.csv\n",
      "-rw-r--r-- 1 big big   16516 Apr 26 12:17 .part-00000-2afaf7cc-f106-40ed-9ab4-d98bc0cb737e-c000.csv.crc\n",
      "-rw-r--r-- 1 big big 1654371 Apr 26 12:17 part-00000-2bbd4ee1-877b-4ed4-8b92-554249930b30-c000.csv\n",
      "-rw-r--r-- 1 big big   12936 Apr 26 12:17 .part-00000-2bbd4ee1-877b-4ed4-8b92-554249930b30-c000.csv.crc\n",
      "-rw-r--r-- 1 big big 2523165 Apr 26 12:18 part-00000-2be0911f-d6d5-44a1-bde9-44141ade26d0-c000.csv\n",
      "-rw-r--r-- 1 big big   19724 Apr 26 12:18 .part-00000-2be0911f-d6d5-44a1-bde9-44141ade26d0-c000.csv.crc\n",
      "-rw-r--r-- 1 big big 3455470 Apr 26 12:18 part-00000-2c01da3b-25ac-47cd-837a-d94d3cce6a5e-c000.csv\n",
      "-rw-r--r-- 1 big big   27004 Apr 26 12:18 .part-00000-2c01da3b-25ac-47cd-837a-d94d3cce6a5e-c000.csv.crc\n",
      "-rw-r--r-- 1 big big 2703275 Apr 26 12:18 part-00000-2cb57d77-664e-4411-be40-e1f742523193-c000.csv\n",
      "-rw-r--r-- 1 big big   21128 Apr 26 12:18 .part-00000-2cb57d77-664e-4411-be40-e1f742523193-c000.csv.crc\n",
      "-rw-r--r-- 1 big big 2818216 Apr 26 12:17 part-00000-2cf400b3-3d91-4123-8f8e-cc2dce774042-c000.csv\n",
      "-rw-r--r-- 1 big big   22028 Apr 26 12:17 .part-00000-2cf400b3-3d91-4123-8f8e-cc2dce774042-c000.csv.crc\n",
      "-rw-r--r-- 1 big big 2285839 Apr 26 12:17 part-00000-2d0d45f3-7915-4282-8bb5-d9edf0839b34-c000.csv\n",
      "-rw-r--r-- 1 big big   17868 Apr 26 12:17 .part-00000-2d0d45f3-7915-4282-8bb5-d9edf0839b34-c000.csv.crc\n",
      "-rw-r--r-- 1 big big 2643116 Apr 26 12:17 part-00000-2e578e1f-21c3-40c3-8a62-8feda400bf84-c000.csv\n",
      "-rw-r--r-- 1 big big   20660 Apr 26 12:17 .part-00000-2e578e1f-21c3-40c3-8a62-8feda400bf84-c000.csv.crc\n",
      "-rw-r--r-- 1 big big 5383186 Apr 28 08:42 part-00000-2f97a01f-f735-4d0a-a538-1e385e5dbf4f-c000.csv\n",
      "-rw-r--r-- 1 big big   42068 Apr 28 08:42 .part-00000-2f97a01f-f735-4d0a-a538-1e385e5dbf4f-c000.csv.crc\n",
      "-rw-r--r-- 1 big big 3384467 Apr 26 12:18 part-00000-2f98553a-5508-4f55-bdc0-a8a7b647ed35-c000.csv\n",
      "-rw-r--r-- 1 big big   26452 Apr 26 12:18 .part-00000-2f98553a-5508-4f55-bdc0-a8a7b647ed35-c000.csv.crc\n",
      "-rw-r--r-- 1 big big 2586058 Apr 26 12:18 part-00000-2fde841d-c502-4c82-a6ba-e7a56ec05b69-c000.csv\n",
      "-rw-r--r-- 1 big big   20212 Apr 26 12:18 .part-00000-2fde841d-c502-4c82-a6ba-e7a56ec05b69-c000.csv.crc\n",
      "-rw-r--r-- 1 big big 2660681 Apr 26 12:18 part-00000-300a77cd-505c-4533-b096-caa99bd71234-c000.csv\n",
      "-rw-r--r-- 1 big big   20796 Apr 26 12:18 .part-00000-300a77cd-505c-4533-b096-caa99bd71234-c000.csv.crc\n",
      "-rw-r--r-- 1 big big 1413848 Apr 26 12:16 part-00000-303c3819-e9c6-4f72-9152-6a0d96918cad-c000.csv\n",
      "-rw-r--r-- 1 big big   11056 Apr 26 12:16 .part-00000-303c3819-e9c6-4f72-9152-6a0d96918cad-c000.csv.crc\n",
      "-rw-r--r-- 1 big big 2339350 Apr 26 12:17 part-00000-304dbdc6-8023-49c4-be7d-ab0301292fb8-c000.csv\n",
      "-rw-r--r-- 1 big big   18288 Apr 26 12:17 .part-00000-304dbdc6-8023-49c4-be7d-ab0301292fb8-c000.csv.crc\n",
      "-rw-r--r-- 1 big big 1588836 Apr 26 12:16 part-00000-3213eca1-eb87-4942-a1e3-adb6acdc7617-c000.csv\n",
      "-rw-r--r-- 1 big big   12424 Apr 26 12:16 .part-00000-3213eca1-eb87-4942-a1e3-adb6acdc7617-c000.csv.crc\n",
      "-rw-r--r-- 1 big big 2300053 Apr 26 12:18 part-00000-32ee8561-a30e-4cbe-93a3-dcbb2adee052-c000.csv\n",
      "-rw-r--r-- 1 big big   17980 Apr 26 12:18 .part-00000-32ee8561-a30e-4cbe-93a3-dcbb2adee052-c000.csv.crc\n",
      "-rw-r--r-- 1 big big 2370022 Apr 26 12:18 part-00000-33237699-0caa-4023-93fe-03d64c4643d0-c000.csv\n",
      "-rw-r--r-- 1 big big   18524 Apr 26 12:18 .part-00000-33237699-0caa-4023-93fe-03d64c4643d0-c000.csv.crc\n",
      "-rw-r--r-- 1 big big 1760831 Apr 26 12:16 part-00000-33c87d2c-9a3a-4326-9130-6546611088ef-c000.csv\n",
      "-rw-r--r-- 1 big big   13768 Apr 26 12:16 .part-00000-33c87d2c-9a3a-4326-9130-6546611088ef-c000.csv.crc\n",
      "-rw-r--r-- 1 big big 3069920 Apr 26 12:18 part-00000-34827119-a0b8-4e2f-adf2-3a7d185d9cc0-c000.csv\n",
      "-rw-r--r-- 1 big big   23992 Apr 26 12:18 .part-00000-34827119-a0b8-4e2f-adf2-3a7d185d9cc0-c000.csv.crc\n",
      "-rw-r--r-- 1 big big 2128690 Apr 26 12:16 part-00000-34ba3abd-7663-4a4c-960e-100f50457281-c000.csv\n",
      "-rw-r--r-- 1 big big   16640 Apr 26 12:16 .part-00000-34ba3abd-7663-4a4c-960e-100f50457281-c000.csv.crc\n",
      "-rw-r--r-- 1 big big 2671127 Apr 28 08:42 part-00000-35f3af85-06b7-4c20-9ce9-038473d17cbc-c000.csv\n",
      "-rw-r--r-- 1 big big   20880 Apr 28 08:42 .part-00000-35f3af85-06b7-4c20-9ce9-038473d17cbc-c000.csv.crc\n",
      "-rw-r--r-- 1 big big 1980979 Apr 26 12:16 part-00000-36b93c65-bbd7-43aa-9765-fc3afbc7c798-c000.csv\n",
      "-rw-r--r-- 1 big big   15488 Apr 26 12:16 .part-00000-36b93c65-bbd7-43aa-9765-fc3afbc7c798-c000.csv.crc\n",
      "-rw-r--r-- 1 big big 2578862 Apr 26 12:18 part-00000-36c9c5e0-4762-429d-a146-90882a6c34dc-c000.csv\n",
      "-rw-r--r-- 1 big big   20156 Apr 26 12:18 .part-00000-36c9c5e0-4762-429d-a146-90882a6c34dc-c000.csv.crc\n",
      "-rw-r--r-- 1 big big 1680775 Apr 26 12:17 part-00000-370eafce-034d-415e-a489-0a9b670204b2-c000.csv\n",
      "-rw-r--r-- 1 big big   13140 Apr 26 12:17 .part-00000-370eafce-034d-415e-a489-0a9b670204b2-c000.csv.crc\n",
      "-rw-r--r-- 1 big big 3912719 Apr 26 12:17 part-00000-37a5f22d-b72b-4429-aec2-69d152e84499-c000.csv\n",
      "-rw-r--r-- 1 big big   30580 Apr 26 12:17 .part-00000-37a5f22d-b72b-4429-aec2-69d152e84499-c000.csv.crc\n",
      "-rw-r--r-- 1 big big 2022730 Apr 26 12:17 part-00000-37e2210b-60e5-4063-8637-85dd09282cdf-c000.csv\n",
      "-rw-r--r-- 1 big big   15812 Apr 26 12:17 .part-00000-37e2210b-60e5-4063-8637-85dd09282cdf-c000.csv.crc\n",
      "-rw-r--r-- 1 big big 1942822 Apr 26 12:18 part-00000-389779bf-0229-4ba8-89cb-9463009729e0-c000.csv\n",
      "-rw-r--r-- 1 big big   15188 Apr 26 12:18 .part-00000-389779bf-0229-4ba8-89cb-9463009729e0-c000.csv.crc\n",
      "-rw-r--r-- 1 big big 3161748 Apr 26 12:18 part-00000-39cfd6cc-5d9e-4ba4-b39c-d1ceecf5ab38-c000.csv\n",
      "-rw-r--r-- 1 big big   24712 Apr 26 12:18 .part-00000-39cfd6cc-5d9e-4ba4-b39c-d1ceecf5ab38-c000.csv.crc\n",
      "-rw-r--r-- 1 big big 1357655 Apr 26 12:17 part-00000-3a4987e7-f91f-4c5e-ab73-5073ee8c1b8b-c000.csv\n",
      "-rw-r--r-- 1 big big   10616 Apr 26 12:17 .part-00000-3a4987e7-f91f-4c5e-ab73-5073ee8c1b8b-c000.csv.crc\n",
      "-rw-r--r-- 1 big big 2125005 Apr 26 12:16 part-00000-3a9d4221-d631-424e-8d77-2a9b606dc52a-c000.csv\n",
      "-rw-r--r-- 1 big big   16612 Apr 26 12:16 .part-00000-3a9d4221-d631-424e-8d77-2a9b606dc52a-c000.csv.crc\n",
      "-rw-r--r-- 1 big big 1883503 Apr 26 12:18 part-00000-3acfac9e-e976-4a52-a501-d187d6ea3c3e-c000.csv\n",
      "-rw-r--r-- 1 big big   14724 Apr 26 12:18 .part-00000-3acfac9e-e976-4a52-a501-d187d6ea3c3e-c000.csv.crc\n",
      "-rw-r--r-- 1 big big 2118747 Apr 26 12:18 part-00000-3c55b788-b192-4ad5-9498-6fe71b1cacf1-c000.csv\n",
      "-rw-r--r-- 1 big big   16564 Apr 26 12:18 .part-00000-3c55b788-b192-4ad5-9498-6fe71b1cacf1-c000.csv.crc\n",
      "-rw-r--r-- 1 big big 2320759 Apr 26 12:17 part-00000-3d200930-9aa4-4f7d-a258-66ac32bbe4c3-c000.csv\n",
      "-rw-r--r-- 1 big big   18140 Apr 26 12:17 .part-00000-3d200930-9aa4-4f7d-a258-66ac32bbe4c3-c000.csv.crc\n",
      "-rw-r--r-- 1 big big 2663276 Apr 26 12:17 part-00000-3d54818e-dcee-4424-aadb-acd1afefa308-c000.csv\n",
      "-rw-r--r-- 1 big big   20816 Apr 26 12:17 .part-00000-3d54818e-dcee-4424-aadb-acd1afefa308-c000.csv.crc\n",
      "-rw-r--r-- 1 big big 2535249 Apr 26 12:16 part-00000-3d63ceb8-b0f7-4bb3-9773-45dd4aae636e-c000.csv\n",
      "-rw-r--r-- 1 big big   19816 Apr 26 12:16 .part-00000-3d63ceb8-b0f7-4bb3-9773-45dd4aae636e-c000.csv.crc\n",
      "-rw-r--r-- 1 big big 3205686 Apr 26 12:18 part-00000-3d7aff34-1b83-4f35-8cfb-0867243a8d0f-c000.csv\n",
      "-rw-r--r-- 1 big big   25056 Apr 26 12:18 .part-00000-3d7aff34-1b83-4f35-8cfb-0867243a8d0f-c000.csv.crc\n",
      "-rw-r--r-- 1 big big 2165600 Apr 26 12:17 part-00000-3d860949-f455-40ae-a67e-695bdbea0b0b-c000.csv\n",
      "-rw-r--r-- 1 big big   16928 Apr 26 12:17 .part-00000-3d860949-f455-40ae-a67e-695bdbea0b0b-c000.csv.crc\n",
      "-rw-r--r-- 1 big big 2143279 Apr 26 12:18 part-00000-3db28af5-3113-4535-ac66-b79c632731a3-c000.csv\n",
      "-rw-r--r-- 1 big big   16756 Apr 26 12:18 .part-00000-3db28af5-3113-4535-ac66-b79c632731a3-c000.csv.crc\n",
      "-rw-r--r-- 1 big big 2242306 Apr 26 12:18 part-00000-3ea0c096-241c-41ac-a2c0-af9d509d1ac6-c000.csv\n",
      "-rw-r--r-- 1 big big   17528 Apr 26 12:18 .part-00000-3ea0c096-241c-41ac-a2c0-af9d509d1ac6-c000.csv.crc\n",
      "-rw-r--r-- 1 big big 2836926 Apr 26 12:16 part-00000-3ee65aa5-9e61-4dd4-9cef-7d6d872b9838-c000.csv\n",
      "-rw-r--r-- 1 big big   22172 Apr 26 12:16 .part-00000-3ee65aa5-9e61-4dd4-9cef-7d6d872b9838-c000.csv.crc\n",
      "-rw-r--r-- 1 big big 1724425 Apr 26 12:17 part-00000-3f28483d-694f-4928-bb91-3ec2380540dc-c000.csv\n",
      "-rw-r--r-- 1 big big   13484 Apr 26 12:17 .part-00000-3f28483d-694f-4928-bb91-3ec2380540dc-c000.csv.crc\n",
      "-rw-r--r-- 1 big big 1641364 Apr 26 12:16 part-00000-3fd66280-da42-4fd8-9237-ea32fbadcfdc-c000.csv\n",
      "-rw-r--r-- 1 big big   12832 Apr 26 12:16 .part-00000-3fd66280-da42-4fd8-9237-ea32fbadcfdc-c000.csv.crc\n",
      "-rw-r--r-- 1 big big 2332784 Apr 26 12:17 part-00000-3fe29cb0-6324-4d04-9e14-96b4adb7e56c-c000.csv\n",
      "-rw-r--r-- 1 big big   18236 Apr 26 12:17 .part-00000-3fe29cb0-6324-4d04-9e14-96b4adb7e56c-c000.csv.crc\n",
      "-rw-r--r-- 1 big big 2424427 Apr 26 12:17 part-00000-400e5531-8293-416e-a535-36a18b9e7463-c000.csv\n",
      "-rw-r--r-- 1 big big   18952 Apr 26 12:17 .part-00000-400e5531-8293-416e-a535-36a18b9e7463-c000.csv.crc\n",
      "-rw-r--r-- 1 big big 2955008 Apr 26 12:17 part-00000-402ddd17-c147-4d53-8262-b764a3110e31-c000.csv\n",
      "-rw-r--r-- 1 big big   23096 Apr 26 12:17 .part-00000-402ddd17-c147-4d53-8262-b764a3110e31-c000.csv.crc\n",
      "-rw-r--r-- 1 big big 2177572 Apr 26 12:17 part-00000-4117fd03-dde1-4159-8270-2d017e29abc3-c000.csv\n",
      "-rw-r--r-- 1 big big   17024 Apr 26 12:17 .part-00000-4117fd03-dde1-4159-8270-2d017e29abc3-c000.csv.crc\n",
      "-rw-r--r-- 1 big big 1856588 Apr 26 12:17 part-00000-412b73ea-fe35-4b00-9834-86cae735cd86-c000.csv\n",
      "-rw-r--r-- 1 big big   14516 Apr 26 12:17 .part-00000-412b73ea-fe35-4b00-9834-86cae735cd86-c000.csv.crc\n",
      "-rw-r--r-- 1 big big 3174516 Apr 26 12:17 part-00000-41b3fb14-bfb6-4a65-8952-35e19ed7fe6c-c000.csv\n",
      "-rw-r--r-- 1 big big   24812 Apr 26 12:17 .part-00000-41b3fb14-bfb6-4a65-8952-35e19ed7fe6c-c000.csv.crc\n",
      "-rw-r--r-- 1 big big 3167507 Apr 26 12:17 part-00000-422d7990-c6fa-454c-8134-cac0d14e30ea-c000.csv\n",
      "-rw-r--r-- 1 big big   24756 Apr 26 12:17 .part-00000-422d7990-c6fa-454c-8134-cac0d14e30ea-c000.csv.crc\n",
      "-rw-r--r-- 1 big big 1722906 Apr 26 12:17 part-00000-434579ab-8cb0-40ef-bcc5-7e9e27e88fa3-c000.csv\n",
      "-rw-r--r-- 1 big big   13472 Apr 26 12:17 .part-00000-434579ab-8cb0-40ef-bcc5-7e9e27e88fa3-c000.csv.crc\n",
      "-rw-r--r-- 1 big big 4043733 Apr 26 12:17 part-00000-436ac7ff-cd3b-4637-91fc-abaeb413a41f-c000.csv\n",
      "-rw-r--r-- 1 big big   31600 Apr 26 12:17 .part-00000-436ac7ff-cd3b-4637-91fc-abaeb413a41f-c000.csv.crc\n",
      "-rw-r--r-- 1 big big 1949709 Apr 26 12:17 part-00000-43782c87-a337-4bd3-9967-2c189bb021f8-c000.csv\n",
      "-rw-r--r-- 1 big big   15244 Apr 26 12:17 .part-00000-43782c87-a337-4bd3-9967-2c189bb021f8-c000.csv.crc\n",
      "-rw-r--r-- 1 big big 1938402 Apr 26 12:16 part-00000-43dc09ac-f53b-4278-a4b4-e4bc0bc3f5a8-c000.csv\n",
      "-rw-r--r-- 1 big big   15152 Apr 26 12:16 .part-00000-43dc09ac-f53b-4278-a4b4-e4bc0bc3f5a8-c000.csv.crc\n",
      "-rw-r--r-- 1 big big 1694656 Apr 26 12:17 part-00000-4492fb39-4c92-4c44-b2a9-f3bbab3cc835-c000.csv\n",
      "-rw-r--r-- 1 big big   13248 Apr 26 12:17 .part-00000-4492fb39-4c92-4c44-b2a9-f3bbab3cc835-c000.csv.crc\n",
      "-rw-r--r-- 1 big big 1931012 Apr 26 12:17 part-00000-44e56e45-8935-4337-a87e-9baa768342d8-c000.csv\n",
      "-rw-r--r-- 1 big big   15096 Apr 26 12:17 .part-00000-44e56e45-8935-4337-a87e-9baa768342d8-c000.csv.crc\n",
      "-rw-r--r-- 1 big big 1809929 Apr 26 12:17 part-00000-457868fb-72ac-45c0-8cbc-cb21a1787a9d-c000.csv\n",
      "-rw-r--r-- 1 big big   14152 Apr 26 12:17 .part-00000-457868fb-72ac-45c0-8cbc-cb21a1787a9d-c000.csv.crc\n",
      "-rw-r--r-- 1 big big 2155669 Apr 26 12:17 part-00000-45d6c370-7996-4cf2-89bc-877dc4ced741-c000.csv\n",
      "-rw-r--r-- 1 big big   16852 Apr 26 12:17 .part-00000-45d6c370-7996-4cf2-89bc-877dc4ced741-c000.csv.crc\n",
      "-rw-r--r-- 1 big big 2866592 Apr 26 12:18 part-00000-46edd5ee-ee4b-4b83-a54a-c1f90c5f122a-c000.csv\n",
      "-rw-r--r-- 1 big big   22404 Apr 26 12:18 .part-00000-46edd5ee-ee4b-4b83-a54a-c1f90c5f122a-c000.csv.crc\n",
      "-rw-r--r-- 1 big big 3521501 Apr 26 12:16 part-00000-47547000-6510-42dd-88f1-4feac591a8f8-c000.csv\n",
      "-rw-r--r-- 1 big big   27520 Apr 26 12:16 .part-00000-47547000-6510-42dd-88f1-4feac591a8f8-c000.csv.crc\n",
      "-rw-r--r-- 1 big big 1800695 Apr 26 12:17 part-00000-4808bc5a-9020-42d2-8ef4-f634c0f2a16c-c000.csv\n",
      "-rw-r--r-- 1 big big   14076 Apr 26 12:17 .part-00000-4808bc5a-9020-42d2-8ef4-f634c0f2a16c-c000.csv.crc\n",
      "-rw-r--r-- 1 big big 2498089 Apr 26 12:18 part-00000-4854fd20-f782-477a-af92-0ecd3f931e67-c000.csv\n",
      "-rw-r--r-- 1 big big   19528 Apr 26 12:18 .part-00000-4854fd20-f782-477a-af92-0ecd3f931e67-c000.csv.crc\n",
      "-rw-r--r-- 1 big big 3540463 Apr 26 12:17 part-00000-487c60d3-6479-4435-8c80-71bca87aa851-c000.csv\n",
      "-rw-r--r-- 1 big big   27668 Apr 26 12:17 .part-00000-487c60d3-6479-4435-8c80-71bca87aa851-c000.csv.crc\n",
      "-rw-r--r-- 1 big big 1551973 Apr 26 12:17 part-00000-48ef7eef-6a06-41c4-ad7a-43250972587e-c000.csv\n",
      "-rw-r--r-- 1 big big   12136 Apr 26 12:17 .part-00000-48ef7eef-6a06-41c4-ad7a-43250972587e-c000.csv.crc\n",
      "-rw-r--r-- 1 big big 2061145 Apr 26 12:16 part-00000-49a27058-f581-48c2-a994-4a776f623560-c000.csv\n",
      "-rw-r--r-- 1 big big   16112 Apr 26 12:16 .part-00000-49a27058-f581-48c2-a994-4a776f623560-c000.csv.crc\n",
      "-rw-r--r-- 1 big big 2561848 Apr 26 12:16 part-00000-4b2c6c2d-d9ee-441b-affc-0826ca18064f-c000.csv\n",
      "-rw-r--r-- 1 big big   20024 Apr 26 12:16 .part-00000-4b2c6c2d-d9ee-441b-affc-0826ca18064f-c000.csv.crc\n",
      "-rw-r--r-- 1 big big 6182847 Apr 28 08:42 part-00000-4b4a79a4-26a9-4fe0-9c53-8bfd73875359-c000.csv\n",
      "-rw-r--r-- 1 big big   48312 Apr 28 08:42 .part-00000-4b4a79a4-26a9-4fe0-9c53-8bfd73875359-c000.csv.crc\n",
      "-rw-r--r-- 1 big big 2424508 Apr 26 12:17 part-00000-4c03c2aa-4d72-442c-99fc-2817c4b782db-c000.csv\n",
      "-rw-r--r-- 1 big big   18952 Apr 26 12:17 .part-00000-4c03c2aa-4d72-442c-99fc-2817c4b782db-c000.csv.crc\n",
      "-rw-r--r-- 1 big big 3423223 Apr 26 12:16 part-00000-4c5bd75c-d670-468f-afdf-1ca44020af5f-c000.csv\n",
      "-rw-r--r-- 1 big big   26752 Apr 26 12:16 .part-00000-4c5bd75c-d670-468f-afdf-1ca44020af5f-c000.csv.crc\n",
      "-rw-r--r-- 1 big big 1398627 Apr 26 12:16 part-00000-4dd539fc-fc4c-49ed-9417-6385ebc7199f-c000.csv\n",
      "-rw-r--r-- 1 big big   10936 Apr 26 12:16 .part-00000-4dd539fc-fc4c-49ed-9417-6385ebc7199f-c000.csv.crc\n",
      "-rw-r--r-- 1 big big 3811599 Apr 28 08:41 part-00000-4e386e3e-2a1e-4fd7-a381-841fa6c22b26-c000.csv\n",
      "-rw-r--r-- 1 big big   29788 Apr 28 08:41 .part-00000-4e386e3e-2a1e-4fd7-a381-841fa6c22b26-c000.csv.crc\n",
      "-rw-r--r-- 1 big big 2435555 Apr 26 12:17 part-00000-4ebac89c-6472-4518-bb0e-3fdd9f4c25a0-c000.csv\n",
      "-rw-r--r-- 1 big big   19036 Apr 26 12:17 .part-00000-4ebac89c-6472-4518-bb0e-3fdd9f4c25a0-c000.csv.crc\n",
      "-rw-r--r-- 1 big big 2934319 Apr 28 08:42 part-00000-4f82460d-3e08-41db-9574-851a09f161bb-c000.csv\n",
      "-rw-r--r-- 1 big big   22936 Apr 28 08:42 .part-00000-4f82460d-3e08-41db-9574-851a09f161bb-c000.csv.crc\n",
      "-rw-r--r-- 1 big big 1376135 Apr 26 12:17 part-00000-4f95f85a-7b00-485f-9248-a2fafcf18de8-c000.csv\n",
      "-rw-r--r-- 1 big big   10760 Apr 26 12:17 .part-00000-4f95f85a-7b00-485f-9248-a2fafcf18de8-c000.csv.crc\n",
      "-rw-r--r-- 1 big big 2302867 Apr 26 12:18 part-00000-4ffb4a82-150b-45f6-84ca-77cc23144d2d-c000.csv\n",
      "-rw-r--r-- 1 big big   18000 Apr 26 12:18 .part-00000-4ffb4a82-150b-45f6-84ca-77cc23144d2d-c000.csv.crc\n",
      "-rw-r--r-- 1 big big 2713858 Apr 26 12:17 part-00000-50082a76-1bc7-407c-906c-8b07a66e838e-c000.csv\n",
      "-rw-r--r-- 1 big big   21212 Apr 26 12:17 .part-00000-50082a76-1bc7-407c-906c-8b07a66e838e-c000.csv.crc\n",
      "-rw-r--r-- 1 big big 1893989 Apr 26 12:18 part-00000-509aa405-5d5c-4340-aca4-f991db39673f-c000.csv\n",
      "-rw-r--r-- 1 big big   14808 Apr 26 12:18 .part-00000-509aa405-5d5c-4340-aca4-f991db39673f-c000.csv.crc\n",
      "-rw-r--r-- 1 big big 2637506 Apr 26 12:17 part-00000-509baadb-5657-405d-a8d4-1a4e2d3e8827-c000.csv\n",
      "-rw-r--r-- 1 big big   20616 Apr 26 12:17 .part-00000-509baadb-5657-405d-a8d4-1a4e2d3e8827-c000.csv.crc\n",
      "-rw-r--r-- 1 big big 1687975 Apr 26 12:17 part-00000-50b3378a-e816-4dda-9e2f-b13dac7a0ba6-c000.csv\n",
      "-rw-r--r-- 1 big big   13196 Apr 26 12:17 .part-00000-50b3378a-e816-4dda-9e2f-b13dac7a0ba6-c000.csv.crc\n",
      "-rw-r--r-- 1 big big 3505226 Apr 26 12:17 part-00000-51b2a8be-5ce6-47e6-a873-ca8a26561f7d-c000.csv\n",
      "-rw-r--r-- 1 big big   27396 Apr 26 12:17 .part-00000-51b2a8be-5ce6-47e6-a873-ca8a26561f7d-c000.csv.crc\n",
      "-rw-r--r-- 1 big big 2128690 Apr 26 12:16 part-00000-5287905e-51c1-479d-8753-4aec31fa6210-c000.csv\n",
      "-rw-r--r-- 1 big big   16640 Apr 26 12:16 .part-00000-5287905e-51c1-479d-8753-4aec31fa6210-c000.csv.crc\n",
      "-rw-r--r-- 1 big big 1982556 Apr 26 12:18 part-00000-52ca9b6b-207c-4122-980c-c9a04c967f11-c000.csv\n",
      "-rw-r--r-- 1 big big   15500 Apr 26 12:18 .part-00000-52ca9b6b-207c-4122-980c-c9a04c967f11-c000.csv.crc\n",
      "-rw-r--r-- 1 big big 2249992 Apr 26 12:18 part-00000-53214dde-f019-4eba-948b-4537a97b9528-c000.csv\n",
      "-rw-r--r-- 1 big big   17588 Apr 26 12:18 .part-00000-53214dde-f019-4eba-948b-4537a97b9528-c000.csv.crc\n",
      "-rw-r--r-- 1 big big 3563238 Apr 26 12:16 part-00000-5364cc2b-7a70-4886-af46-90670bcdb884-c000.csv\n",
      "-rw-r--r-- 1 big big   27848 Apr 26 12:16 .part-00000-5364cc2b-7a70-4886-af46-90670bcdb884-c000.csv.crc\n",
      "-rw-r--r-- 1 big big 5505094 Apr 26 12:16 part-00000-53aa6897-7419-4d7d-b884-a6286bff5ad6-c000.csv\n",
      "-rw-r--r-- 1 big big   43020 Apr 26 12:16 .part-00000-53aa6897-7419-4d7d-b884-a6286bff5ad6-c000.csv.crc\n",
      "-rw-r--r-- 1 big big 7085724 Apr 26 12:16 part-00000-53b48966-a4a7-44d1-b7c8-f512157871f6-c000.csv\n",
      "-rw-r--r-- 1 big big   55368 Apr 26 12:16 .part-00000-53b48966-a4a7-44d1-b7c8-f512157871f6-c000.csv.crc\n",
      "-rw-r--r-- 1 big big 3705249 Apr 26 12:17 part-00000-53c1dc31-b90a-432e-9326-c54820b9cb9d-c000.csv\n",
      "-rw-r--r-- 1 big big   28956 Apr 26 12:17 .part-00000-53c1dc31-b90a-432e-9326-c54820b9cb9d-c000.csv.crc\n",
      "-rw-r--r-- 1 big big 1799186 Apr 26 12:17 part-00000-53c5fc2e-56c6-4866-8e8f-64efda3a022f-c000.csv\n",
      "-rw-r--r-- 1 big big   14068 Apr 26 12:17 .part-00000-53c5fc2e-56c6-4866-8e8f-64efda3a022f-c000.csv.crc\n",
      "-rw-r--r-- 1 big big 2766477 Apr 26 12:17 part-00000-55369ca5-5e26-499c-a06f-30b20a789af0-c000.csv\n",
      "-rw-r--r-- 1 big big   21624 Apr 26 12:17 .part-00000-55369ca5-5e26-499c-a06f-30b20a789af0-c000.csv.crc\n",
      "-rw-r--r-- 1 big big 2907406 Apr 26 12:18 part-00000-557d7016-5000-4566-b4b2-3cdb34c65d68-c000.csv\n",
      "-rw-r--r-- 1 big big   22724 Apr 26 12:18 .part-00000-557d7016-5000-4566-b4b2-3cdb34c65d68-c000.csv.crc\n",
      "-rw-r--r-- 1 big big 9884458 Apr 28 08:42 part-00000-559969cc-4465-45cf-9244-2e8c4410b667-c000.csv\n",
      "-rw-r--r-- 1 big big   77232 Apr 28 08:42 .part-00000-559969cc-4465-45cf-9244-2e8c4410b667-c000.csv.crc\n",
      "-rw-r--r-- 1 big big 1846813 Apr 26 12:16 part-00000-560b0dcb-fe21-4fe3-81ec-6af45bf4eafc-c000.csv\n",
      "-rw-r--r-- 1 big big   14440 Apr 26 12:16 .part-00000-560b0dcb-fe21-4fe3-81ec-6af45bf4eafc-c000.csv.crc\n",
      "-rw-r--r-- 1 big big 1727397 Apr 26 12:17 part-00000-564a1b84-283c-45fd-a0d2-40137c1b9a30-c000.csv\n",
      "-rw-r--r-- 1 big big   13504 Apr 26 12:17 .part-00000-564a1b84-283c-45fd-a0d2-40137c1b9a30-c000.csv.crc\n",
      "-rw-r--r-- 1 big big 3928582 Apr 26 12:18 part-00000-5658213e-feff-4a89-aff5-e6b923b50bbf-c000.csv\n",
      "-rw-r--r-- 1 big big   30704 Apr 26 12:18 .part-00000-5658213e-feff-4a89-aff5-e6b923b50bbf-c000.csv.crc\n",
      "-rw-r--r-- 1 big big 2647715 Apr 26 12:17 part-00000-5738e397-62c1-4ec7-9b61-520ff9f74bc5-c000.csv\n",
      "-rw-r--r-- 1 big big   20696 Apr 26 12:17 .part-00000-5738e397-62c1-4ec7-9b61-520ff9f74bc5-c000.csv.crc\n",
      "-rw-r--r-- 1 big big 1721318 Apr 26 12:17 part-00000-58642456-12ac-4d31-8553-e72f030f93b0-c000.csv\n",
      "-rw-r--r-- 1 big big   13456 Apr 26 12:17 .part-00000-58642456-12ac-4d31-8553-e72f030f93b0-c000.csv.crc\n",
      "-rw-r--r-- 1 big big 1475215 Apr 26 12:16 part-00000-5965c56e-b253-466d-b7e6-0ae650c0d05e-c000.csv\n",
      "-rw-r--r-- 1 big big   11536 Apr 26 12:16 .part-00000-5965c56e-b253-466d-b7e6-0ae650c0d05e-c000.csv.crc\n",
      "-rw-r--r-- 1 big big 2890268 Apr 26 12:18 part-00000-597bcec7-402a-4712-9b6f-20f28ebfea08-c000.csv\n",
      "-rw-r--r-- 1 big big   22592 Apr 26 12:18 .part-00000-597bcec7-402a-4712-9b6f-20f28ebfea08-c000.csv.crc\n",
      "-rw-r--r-- 1 big big 1832818 Apr 26 12:16 part-00000-5987f1ba-1ae0-463d-bea4-8ebfeb533f0a-c000.csv\n",
      "-rw-r--r-- 1 big big   14328 Apr 26 12:16 .part-00000-5987f1ba-1ae0-463d-bea4-8ebfeb533f0a-c000.csv.crc\n",
      "-rw-r--r-- 1 big big 2978522 Apr 26 12:18 part-00000-59ee3a33-b1fe-4cd9-8224-d53852350191-c000.csv\n",
      "-rw-r--r-- 1 big big   23280 Apr 26 12:18 .part-00000-59ee3a33-b1fe-4cd9-8224-d53852350191-c000.csv.crc\n",
      "-rw-r--r-- 1 big big 2094578 Apr 26 12:16 part-00000-5a28a7e2-daa8-47fb-9b9e-03094917d7aa-c000.csv\n",
      "-rw-r--r-- 1 big big   16372 Apr 26 12:16 .part-00000-5a28a7e2-daa8-47fb-9b9e-03094917d7aa-c000.csv.crc\n",
      "-rw-r--r-- 1 big big 1862331 Apr 26 12:17 part-00000-5a34463b-044f-4990-aeae-1473828757b4-c000.csv\n",
      "-rw-r--r-- 1 big big   14560 Apr 26 12:17 .part-00000-5a34463b-044f-4990-aeae-1473828757b4-c000.csv.crc\n",
      "-rw-r--r-- 1 big big 3201543 Apr 26 12:18 part-00000-5a4c1c9d-846f-4825-946d-21745666d558-c000.csv\n",
      "-rw-r--r-- 1 big big   25024 Apr 26 12:18 .part-00000-5a4c1c9d-846f-4825-946d-21745666d558-c000.csv.crc\n",
      "-rw-r--r-- 1 big big 2625081 Apr 26 12:17 part-00000-5a850a25-a3f1-48ae-9682-6253c18b7e7c-c000.csv\n",
      "-rw-r--r-- 1 big big   20520 Apr 26 12:17 .part-00000-5a850a25-a3f1-48ae-9682-6253c18b7e7c-c000.csv.crc\n",
      "-rw-r--r-- 1 big big 1668179 Apr 26 12:17 part-00000-5afce62c-651d-429f-bcee-2f193b832b26-c000.csv\n",
      "-rw-r--r-- 1 big big   13044 Apr 26 12:17 .part-00000-5afce62c-651d-429f-bcee-2f193b832b26-c000.csv.crc\n",
      "-rw-r--r-- 1 big big 1851832 Apr 26 12:16 part-00000-5b7279fb-30d4-4163-be3a-e076a4553df3-c000.csv\n",
      "-rw-r--r-- 1 big big   14476 Apr 26 12:16 .part-00000-5b7279fb-30d4-4163-be3a-e076a4553df3-c000.csv.crc\n",
      "-rw-r--r-- 1 big big 1353469 Apr 26 12:17 part-00000-5b9481b3-d40d-4311-b9ce-2315495f19a9-c000.csv\n",
      "-rw-r--r-- 1 big big   10584 Apr 26 12:17 .part-00000-5b9481b3-d40d-4311-b9ce-2315495f19a9-c000.csv.crc\n",
      "-rw-r--r-- 1 big big 2465194 Apr 26 12:17 part-00000-5c28b1d3-5eb7-48be-9aa9-0488a27c046b-c000.csv\n",
      "-rw-r--r-- 1 big big   19268 Apr 26 12:17 .part-00000-5c28b1d3-5eb7-48be-9aa9-0488a27c046b-c000.csv.crc\n",
      "-rw-r--r-- 1 big big 1665301 Apr 26 12:17 part-00000-5dd63109-f467-4250-80ad-5771f5178da5-c000.csv\n",
      "-rw-r--r-- 1 big big   13020 Apr 26 12:17 .part-00000-5dd63109-f467-4250-80ad-5771f5178da5-c000.csv.crc\n",
      "-rw-r--r-- 1 big big 2369590 Apr 26 12:18 part-00000-5e004394-660e-493a-9da3-e0d13d0e214c-c000.csv\n",
      "-rw-r--r-- 1 big big   18524 Apr 26 12:18 .part-00000-5e004394-660e-493a-9da3-e0d13d0e214c-c000.csv.crc\n",
      "-rw-r--r-- 1 big big 3666589 Apr 26 12:18 part-00000-5ee3d3fa-d0b9-461f-b7ff-3e4076350f75-c000.csv\n",
      "-rw-r--r-- 1 big big   28656 Apr 26 12:18 .part-00000-5ee3d3fa-d0b9-461f-b7ff-3e4076350f75-c000.csv.crc\n",
      "-rw-r--r-- 1 big big 1722364 Apr 26 12:16 part-00000-5f25e9b4-16be-472e-ab2a-043b77697257-c000.csv\n",
      "-rw-r--r-- 1 big big   13464 Apr 26 12:16 .part-00000-5f25e9b4-16be-472e-ab2a-043b77697257-c000.csv.crc\n",
      "-rw-r--r-- 1 big big 1918767 Apr 26 12:17 part-00000-5f53d098-5e1b-406b-b0cf-2ffd4acbfeb0-c000.csv\n",
      "-rw-r--r-- 1 big big   15000 Apr 26 12:17 .part-00000-5f53d098-5e1b-406b-b0cf-2ffd4acbfeb0-c000.csv.crc\n",
      "-rw-r--r-- 1 big big 2989427 Apr 26 12:17 part-00000-5fa72368-cd2e-405a-980c-583cae60e173-c000.csv\n",
      "-rw-r--r-- 1 big big   23364 Apr 26 12:17 .part-00000-5fa72368-cd2e-405a-980c-583cae60e173-c000.csv.crc\n",
      "-rw-r--r-- 1 big big 1598803 Apr 26 12:16 part-00000-5ff30f92-1303-402a-8f14-ca09d3cf521c-c000.csv\n",
      "-rw-r--r-- 1 big big   12500 Apr 26 12:16 .part-00000-5ff30f92-1303-402a-8f14-ca09d3cf521c-c000.csv.crc\n",
      "-rw-r--r-- 1 big big 5200727 Apr 26 12:18 part-00000-6027a38e-bbd3-4fff-b6b4-231b9fa4ce62-c000.csv\n",
      "-rw-r--r-- 1 big big   40640 Apr 26 12:18 .part-00000-6027a38e-bbd3-4fff-b6b4-231b9fa4ce62-c000.csv.crc\n",
      "-rw-r--r-- 1 big big 4085675 Apr 26 12:16 part-00000-60bd6faa-1b9a-4335-8f68-a921203e1d5d-c000.csv\n",
      "-rw-r--r-- 1 big big   31928 Apr 26 12:16 .part-00000-60bd6faa-1b9a-4335-8f68-a921203e1d5d-c000.csv.crc\n",
      "-rw-r--r-- 1 big big 3490913 Apr 26 12:18 part-00000-61290705-01fb-4d21-90d8-a8435f0a762d-c000.csv\n",
      "-rw-r--r-- 1 big big   27284 Apr 26 12:18 .part-00000-61290705-01fb-4d21-90d8-a8435f0a762d-c000.csv.crc\n",
      "-rw-r--r-- 1 big big 1938233 Apr 26 12:16 part-00000-61aebf43-72cc-4f05-acf4-9dc3a4c699b9-c000.csv\n",
      "-rw-r--r-- 1 big big   15152 Apr 26 12:16 .part-00000-61aebf43-72cc-4f05-acf4-9dc3a4c699b9-c000.csv.crc\n",
      "-rw-r--r-- 1 big big 2892352 Apr 26 12:16 part-00000-61d1bedf-6683-4734-b119-337b8b317db6-c000.csv\n",
      "-rw-r--r-- 1 big big   22608 Apr 26 12:16 .part-00000-61d1bedf-6683-4734-b119-337b8b317db6-c000.csv.crc\n",
      "-rw-r--r-- 1 big big 2713473 Apr 26 12:16 part-00000-624029b3-2d76-4408-bf4b-37744c791cd2-c000.csv\n",
      "-rw-r--r-- 1 big big   21208 Apr 26 12:16 .part-00000-624029b3-2d76-4408-bf4b-37744c791cd2-c000.csv.crc\n",
      "-rw-r--r-- 1 big big 2239509 Apr 26 12:18 part-00000-625d0730-84bd-41f2-a368-a66465099517-c000.csv\n",
      "-rw-r--r-- 1 big big   17508 Apr 26 12:18 .part-00000-625d0730-84bd-41f2-a368-a66465099517-c000.csv.crc\n",
      "-rw-r--r-- 1 big big 3041944 Apr 26 12:17 part-00000-626de520-64dc-4fe1-8175-375f59050158-c000.csv\n",
      "-rw-r--r-- 1 big big   23776 Apr 26 12:17 .part-00000-626de520-64dc-4fe1-8175-375f59050158-c000.csv.crc\n",
      "-rw-r--r-- 1 big big 2385840 Apr 26 12:18 part-00000-631e2e54-bb8d-4a72-b10e-678a2092ffb5-c000.csv\n",
      "-rw-r--r-- 1 big big   18648 Apr 26 12:18 .part-00000-631e2e54-bb8d-4a72-b10e-678a2092ffb5-c000.csv.crc\n",
      "-rw-r--r-- 1 big big 2663073 Apr 26 12:17 part-00000-63649178-5106-4547-a78f-f570867c59ac-c000.csv\n",
      "-rw-r--r-- 1 big big   20816 Apr 26 12:17 .part-00000-63649178-5106-4547-a78f-f570867c59ac-c000.csv.crc\n",
      "-rw-r--r-- 1 big big 1303810 Apr 26 12:16 part-00000-636d6285-1eff-4f67-a4e5-e5b3255de84c-c000.csv\n",
      "-rw-r--r-- 1 big big   10196 Apr 26 12:16 .part-00000-636d6285-1eff-4f67-a4e5-e5b3255de84c-c000.csv.crc\n",
      "-rw-r--r-- 1 big big 1878006 Apr 26 12:17 part-00000-638838dc-5f16-4a3f-aad1-edbe209f885a-c000.csv\n",
      "-rw-r--r-- 1 big big   14680 Apr 26 12:17 .part-00000-638838dc-5f16-4a3f-aad1-edbe209f885a-c000.csv.crc\n",
      "-rw-r--r-- 1 big big 2483320 Apr 26 12:18 part-00000-645e6c86-2ad7-4dc4-a45e-67a4efd64552-c000.csv\n",
      "-rw-r--r-- 1 big big   19412 Apr 26 12:18 .part-00000-645e6c86-2ad7-4dc4-a45e-67a4efd64552-c000.csv.crc\n",
      "-rw-r--r-- 1 big big 2011234 Apr 28 08:42 part-00000-64db96d6-6dd4-4c6f-99bd-97e3ba8bf583-c000.csv\n",
      "-rw-r--r-- 1 big big   15724 Apr 28 08:42 .part-00000-64db96d6-6dd4-4c6f-99bd-97e3ba8bf583-c000.csv.crc\n",
      "-rw-r--r-- 1 big big 1720141 Apr 26 12:17 part-00000-64e702ed-52fd-4bb0-a74a-aee1ee962f9e-c000.csv\n",
      "-rw-r--r-- 1 big big   13448 Apr 26 12:17 .part-00000-64e702ed-52fd-4bb0-a74a-aee1ee962f9e-c000.csv.crc\n",
      "-rw-r--r-- 1 big big 7918929 Apr 26 12:16 part-00000-6559d2f8-9592-4b0f-bcd5-ef9e26409fac-c000.csv\n",
      "-rw-r--r-- 1 big big   61876 Apr 26 12:16 .part-00000-6559d2f8-9592-4b0f-bcd5-ef9e26409fac-c000.csv.crc\n",
      "-rw-r--r-- 1 big big 1927943 Apr 26 12:17 part-00000-655de7d9-3a3f-4f42-bbcd-7ed2a4db5681-c000.csv\n",
      "-rw-r--r-- 1 big big   15072 Apr 26 12:17 .part-00000-655de7d9-3a3f-4f42-bbcd-7ed2a4db5681-c000.csv.crc\n",
      "-rw-r--r-- 1 big big 2301912 Apr 26 12:18 part-00000-658cd086-3d98-4d84-bc14-8f5681ca879c-c000.csv\n",
      "-rw-r--r-- 1 big big   17992 Apr 26 12:18 .part-00000-658cd086-3d98-4d84-bc14-8f5681ca879c-c000.csv.crc\n",
      "-rw-r--r-- 1 big big 3050505 Apr 26 12:16 part-00000-65ca8601-77e9-4eb3-8129-c23841597d85-c000.csv\n",
      "-rw-r--r-- 1 big big   23844 Apr 26 12:16 .part-00000-65ca8601-77e9-4eb3-8129-c23841597d85-c000.csv.crc\n",
      "-rw-r--r-- 1 big big 3035450 Apr 26 12:16 part-00000-65dee3e5-7f58-4c29-a6ae-8de18910a85c-c000.csv\n",
      "-rw-r--r-- 1 big big   23724 Apr 26 12:16 .part-00000-65dee3e5-7f58-4c29-a6ae-8de18910a85c-c000.csv.crc\n",
      "-rw-r--r-- 1 big big 1419801 Apr 26 12:17 part-00000-66376989-26a4-4dd6-8b6a-177d8ecab5bc-c000.csv\n",
      "-rw-r--r-- 1 big big   11104 Apr 26 12:17 .part-00000-66376989-26a4-4dd6-8b6a-177d8ecab5bc-c000.csv.crc\n",
      "-rw-r--r-- 1 big big 2127020 Apr 26 12:18 part-00000-66d9932e-498b-489f-b43a-75a15f444fa7-c000.csv\n",
      "-rw-r--r-- 1 big big   16628 Apr 26 12:18 .part-00000-66d9932e-498b-489f-b43a-75a15f444fa7-c000.csv.crc\n",
      "-rw-r--r-- 1 big big 2961633 Apr 26 12:18 part-00000-6717f1ab-1238-40aa-ba86-ad171027ba53-c000.csv\n",
      "-rw-r--r-- 1 big big   23148 Apr 26 12:18 .part-00000-6717f1ab-1238-40aa-ba86-ad171027ba53-c000.csv.crc\n",
      "-rw-r--r-- 1 big big 1939375 Apr 26 12:16 part-00000-6729a900-1584-40f7-918b-3301b27731c6-c000.csv\n",
      "-rw-r--r-- 1 big big   15160 Apr 26 12:16 .part-00000-6729a900-1584-40f7-918b-3301b27731c6-c000.csv.crc\n",
      "-rw-r--r-- 1 big big 2571953 Apr 26 12:17 part-00000-686af47d-aee8-4b7d-8337-a0d9140ef807-c000.csv\n",
      "-rw-r--r-- 1 big big   20104 Apr 26 12:17 .part-00000-686af47d-aee8-4b7d-8337-a0d9140ef807-c000.csv.crc\n",
      "-rw-r--r-- 1 big big 1401750 Apr 28 08:41 part-00000-6d231b06-dab7-4fc6-9afc-9673b01c7a76-c000.csv\n",
      "-rw-r--r-- 1 big big   10960 Apr 28 08:41 .part-00000-6d231b06-dab7-4fc6-9afc-9673b01c7a76-c000.csv.crc\n",
      "-rw-r--r-- 1 big big 2033785 Apr 26 12:16 part-00000-6e275ee6-5f08-487e-b801-87150883d905-c000.csv\n",
      "-rw-r--r-- 1 big big   15900 Apr 26 12:16 .part-00000-6e275ee6-5f08-487e-b801-87150883d905-c000.csv.crc\n",
      "-rw-r--r-- 1 big big 2596521 Apr 26 12:18 part-00000-6e53a1cb-b8dd-449c-a062-c4b7a08737c7-c000.csv\n",
      "-rw-r--r-- 1 big big   20296 Apr 26 12:18 .part-00000-6e53a1cb-b8dd-449c-a062-c4b7a08737c7-c000.csv.crc\n",
      "-rw-r--r-- 1 big big 1824292 Apr 26 12:17 part-00000-6f1442c4-5ed9-4055-89ee-43450c312430-c000.csv\n",
      "-rw-r--r-- 1 big big   14264 Apr 26 12:17 .part-00000-6f1442c4-5ed9-4055-89ee-43450c312430-c000.csv.crc\n",
      "-rw-r--r-- 1 big big 2085533 Apr 26 12:16 part-00000-6f48f931-a984-4f19-8f93-7e58411f1f6e-c000.csv\n",
      "-rw-r--r-- 1 big big   16304 Apr 26 12:16 .part-00000-6f48f931-a984-4f19-8f93-7e58411f1f6e-c000.csv.crc\n",
      "-rw-r--r-- 1 big big 2133550 Apr 26 12:17 part-00000-6f601e01-b101-4686-9040-947c8d028444-c000.csv\n",
      "-rw-r--r-- 1 big big   16680 Apr 26 12:17 .part-00000-6f601e01-b101-4686-9040-947c8d028444-c000.csv.crc\n",
      "-rw-r--r-- 1 big big 2078763 Apr 26 12:17 part-00000-70efefe8-dffe-4642-8e4c-714db37e0915-c000.csv\n",
      "-rw-r--r-- 1 big big   16252 Apr 26 12:17 .part-00000-70efefe8-dffe-4642-8e4c-714db37e0915-c000.csv.crc\n",
      "-rw-r--r-- 1 big big 2358919 Apr 26 12:17 part-00000-71056920-a751-48f5-8a41-9348b35329d2-c000.csv\n",
      "-rw-r--r-- 1 big big   18440 Apr 26 12:17 .part-00000-71056920-a751-48f5-8a41-9348b35329d2-c000.csv.crc\n",
      "-rw-r--r-- 1 big big 3279606 Apr 26 12:18 part-00000-7187c920-82b8-44c7-91d0-036657aceb06-c000.csv\n",
      "-rw-r--r-- 1 big big   25632 Apr 26 12:18 .part-00000-7187c920-82b8-44c7-91d0-036657aceb06-c000.csv.crc\n",
      "-rw-r--r-- 1 big big 2395633 Apr 26 12:18 part-00000-72ed1641-77a6-41ba-a12f-a1e5b27d4189-c000.csv\n",
      "-rw-r--r-- 1 big big   18724 Apr 26 12:18 .part-00000-72ed1641-77a6-41ba-a12f-a1e5b27d4189-c000.csv.crc\n",
      "-rw-r--r-- 1 big big 2149206 Apr 26 12:17 part-00000-73754c41-66db-44eb-aabd-0dde4b06046d-c000.csv\n",
      "-rw-r--r-- 1 big big   16800 Apr 26 12:17 .part-00000-73754c41-66db-44eb-aabd-0dde4b06046d-c000.csv.crc\n",
      "-rw-r--r-- 1 big big 3563238 Apr 28 08:42 part-00000-74b01fb1-9afc-42b2-b995-323f098be759-c000.csv\n",
      "-rw-r--r-- 1 big big   27848 Apr 28 08:42 .part-00000-74b01fb1-9afc-42b2-b995-323f098be759-c000.csv.crc\n",
      "-rw-r--r-- 1 big big 2791284 Apr 26 12:18 part-00000-75173dec-d0ed-4327-9be7-125a9a3e76ab-c000.csv\n",
      "-rw-r--r-- 1 big big   21816 Apr 26 12:18 .part-00000-75173dec-d0ed-4327-9be7-125a9a3e76ab-c000.csv.crc\n",
      "-rw-r--r-- 1 big big 4157916 Apr 26 12:16 part-00000-75179cab-46f4-4eaa-9a42-3ccb1a6e77c1-c000.csv\n",
      "-rw-r--r-- 1 big big   32492 Apr 26 12:16 .part-00000-75179cab-46f4-4eaa-9a42-3ccb1a6e77c1-c000.csv.crc\n",
      "-rw-r--r-- 1 big big 2311144 Apr 26 12:18 part-00000-76d334f9-6086-400b-a3e9-666ac0e47794-c000.csv\n",
      "-rw-r--r-- 1 big big   18064 Apr 26 12:18 .part-00000-76d334f9-6086-400b-a3e9-666ac0e47794-c000.csv.crc\n",
      "-rw-r--r-- 1 big big 2113977 Apr 26 12:16 part-00000-778b7a3b-90b2-4ae5-bfd4-dad6ac5289cd-c000.csv\n",
      "-rw-r--r-- 1 big big   16524 Apr 26 12:16 .part-00000-778b7a3b-90b2-4ae5-bfd4-dad6ac5289cd-c000.csv.crc\n",
      "-rw-r--r-- 1 big big 3108363 Apr 26 12:18 part-00000-77a90ddc-a46d-49a1-9c48-3a670dd9c1b6-c000.csv\n",
      "-rw-r--r-- 1 big big   24296 Apr 26 12:18 .part-00000-77a90ddc-a46d-49a1-9c48-3a670dd9c1b6-c000.csv.crc\n",
      "-rw-r--r-- 1 big big 4374402 Apr 26 12:18 part-00000-7875f692-ad5a-4755-add3-fdeb2bfcd306-c000.csv\n",
      "-rw-r--r-- 1 big big   34184 Apr 26 12:18 .part-00000-7875f692-ad5a-4755-add3-fdeb2bfcd306-c000.csv.crc\n",
      "-rw-r--r-- 1 big big 2075003 Apr 26 12:17 part-00000-78ae1617-aa96-4816-96a5-6956586f81c6-c000.csv\n",
      "-rw-r--r-- 1 big big   16220 Apr 26 12:17 .part-00000-78ae1617-aa96-4816-96a5-6956586f81c6-c000.csv.crc\n",
      "-rw-r--r-- 1 big big 2709353 Apr 26 12:17 part-00000-7b8f2f3e-ce1d-4fc8-b049-b293b69308e7-c000.csv\n",
      "-rw-r--r-- 1 big big   21176 Apr 26 12:17 .part-00000-7b8f2f3e-ce1d-4fc8-b049-b293b69308e7-c000.csv.crc\n",
      "-rw-r--r-- 1 big big 2233871 Apr 26 12:18 part-00000-7d00e2be-c4d8-4f99-8e58-cd00958fe598-c000.csv\n",
      "-rw-r--r-- 1 big big   17464 Apr 26 12:18 .part-00000-7d00e2be-c4d8-4f99-8e58-cd00958fe598-c000.csv.crc\n",
      "-rw-r--r-- 1 big big 2605035 Apr 26 12:18 part-00000-7d5802ec-99c5-4395-9059-2eb25d426241-c000.csv\n",
      "-rw-r--r-- 1 big big   20360 Apr 26 12:18 .part-00000-7d5802ec-99c5-4395-9059-2eb25d426241-c000.csv.crc\n",
      "-rw-r--r-- 1 big big 1774093 Apr 26 12:17 part-00000-7dbfd98e-9fb6-49a5-8205-e8eef67b0200-c000.csv\n",
      "-rw-r--r-- 1 big big   13872 Apr 26 12:17 .part-00000-7dbfd98e-9fb6-49a5-8205-e8eef67b0200-c000.csv.crc\n",
      "-rw-r--r-- 1 big big 2436766 Apr 26 12:18 part-00000-7e303111-dd86-433d-bf82-0e767dc68d58-c000.csv\n",
      "-rw-r--r-- 1 big big   19048 Apr 26 12:18 .part-00000-7e303111-dd86-433d-bf82-0e767dc68d58-c000.csv.crc\n",
      "-rw-r--r-- 1 big big 2926359 Apr 26 12:17 part-00000-7f48feb4-3bc6-4d7e-8643-7c7e9b19ffa7-c000.csv\n",
      "-rw-r--r-- 1 big big   22872 Apr 26 12:17 .part-00000-7f48feb4-3bc6-4d7e-8643-7c7e9b19ffa7-c000.csv.crc\n",
      "-rw-r--r-- 1 big big 2171823 Apr 26 12:16 part-00000-7fe1e9d8-e53c-45b0-98d6-fbf8fea585c3-c000.csv\n",
      "-rw-r--r-- 1 big big   16976 Apr 26 12:16 .part-00000-7fe1e9d8-e53c-45b0-98d6-fbf8fea585c3-c000.csv.crc\n",
      "-rw-r--r-- 1 big big 2163690 Apr 26 12:16 part-00000-800c2d58-046a-4a4f-a206-c9a845ef94f6-c000.csv\n",
      "-rw-r--r-- 1 big big   16912 Apr 26 12:16 .part-00000-800c2d58-046a-4a4f-a206-c9a845ef94f6-c000.csv.crc\n",
      "-rw-r--r-- 1 big big 2517644 Apr 26 12:18 part-00000-80191cd4-3c50-42ff-b672-8a4af13ca702-c000.csv\n",
      "-rw-r--r-- 1 big big   19680 Apr 26 12:18 .part-00000-80191cd4-3c50-42ff-b672-8a4af13ca702-c000.csv.crc\n",
      "-rw-r--r-- 1 big big 2390477 Apr 26 12:18 part-00000-806981a0-4bbc-4700-b4d0-024f9b016726-c000.csv\n",
      "-rw-r--r-- 1 big big   18684 Apr 26 12:18 .part-00000-806981a0-4bbc-4700-b4d0-024f9b016726-c000.csv.crc\n",
      "-rw-r--r-- 1 big big 1880851 Apr 26 12:16 part-00000-808abf1f-717a-4cf2-ac85-2aa3930bf707-c000.csv\n",
      "-rw-r--r-- 1 big big   14704 Apr 26 12:16 .part-00000-808abf1f-717a-4cf2-ac85-2aa3930bf707-c000.csv.crc\n",
      "-rw-r--r-- 1 big big 2881884 Apr 26 12:17 part-00000-81ea69ac-a8ea-400b-8934-220b441109ea-c000.csv\n",
      "-rw-r--r-- 1 big big   22524 Apr 26 12:17 .part-00000-81ea69ac-a8ea-400b-8934-220b441109ea-c000.csv.crc\n",
      "-rw-r--r-- 1 big big 3669507 Apr 26 12:16 part-00000-82265037-0cc5-4067-8b28-d2f4c3c9819e-c000.csv\n",
      "-rw-r--r-- 1 big big   28680 Apr 26 12:16 .part-00000-82265037-0cc5-4067-8b28-d2f4c3c9819e-c000.csv.crc\n",
      "-rw-r--r-- 1 big big 2492826 Apr 26 12:18 part-00000-826dcd96-bf89-498b-92c9-c432b8933707-c000.csv\n",
      "-rw-r--r-- 1 big big   19484 Apr 26 12:18 .part-00000-826dcd96-bf89-498b-92c9-c432b8933707-c000.csv.crc\n",
      "-rw-r--r-- 1 big big 2437780 Apr 26 12:17 part-00000-8306411a-c539-4299-b97c-78e829ce99d1-c000.csv\n",
      "-rw-r--r-- 1 big big   19056 Apr 26 12:17 .part-00000-8306411a-c539-4299-b97c-78e829ce99d1-c000.csv.crc\n",
      "-rw-r--r-- 1 big big 2281901 Apr 26 12:16 part-00000-83258c46-d263-4f7f-8f13-fda481c29925-c000.csv\n",
      "-rw-r--r-- 1 big big   17836 Apr 26 12:16 .part-00000-83258c46-d263-4f7f-8f13-fda481c29925-c000.csv.crc\n",
      "-rw-r--r-- 1 big big 2088301 Apr 26 12:16 part-00000-83a71cc6-bee8-46ed-aa81-319f30c175b7-c000.csv\n",
      "-rw-r--r-- 1 big big   16324 Apr 26 12:16 .part-00000-83a71cc6-bee8-46ed-aa81-319f30c175b7-c000.csv.crc\n",
      "-rw-r--r-- 1 big big 3101582 Apr 26 12:18 part-00000-8454d733-7d81-46d5-b7bd-756735d681ca-c000.csv\n",
      "-rw-r--r-- 1 big big   24240 Apr 26 12:18 .part-00000-8454d733-7d81-46d5-b7bd-756735d681ca-c000.csv.crc\n",
      "-rw-r--r-- 1 big big 1823150 Apr 26 12:17 part-00000-855fe758-d49f-4106-953e-2e66448bea89-c000.csv\n",
      "-rw-r--r-- 1 big big   14252 Apr 26 12:17 .part-00000-855fe758-d49f-4106-953e-2e66448bea89-c000.csv.crc\n",
      "-rw-r--r-- 1 big big 2057707 Apr 26 12:17 part-00000-85997fc4-98f6-4afa-ab71-95fe500c448f-c000.csv\n",
      "-rw-r--r-- 1 big big   16084 Apr 26 12:17 .part-00000-85997fc4-98f6-4afa-ab71-95fe500c448f-c000.csv.crc\n",
      "-rw-r--r-- 1 big big 1614771 Apr 26 12:17 part-00000-85cc50eb-d174-4abf-a2fa-b318dd5eacb3-c000.csv\n",
      "-rw-r--r-- 1 big big   12624 Apr 26 12:17 .part-00000-85cc50eb-d174-4abf-a2fa-b318dd5eacb3-c000.csv.crc\n",
      "-rw-r--r-- 1 big big 3159244 Apr 26 12:18 part-00000-872f3381-d87c-4179-8f8a-dc1df2e06c0c-c000.csv\n",
      "-rw-r--r-- 1 big big   24692 Apr 26 12:18 .part-00000-872f3381-d87c-4179-8f8a-dc1df2e06c0c-c000.csv.crc\n",
      "-rw-r--r-- 1 big big 3139070 Apr 26 12:17 part-00000-87a03eb2-87f6-472b-a85f-717970b577bd-c000.csv\n",
      "-rw-r--r-- 1 big big   24532 Apr 26 12:17 .part-00000-87a03eb2-87f6-472b-a85f-717970b577bd-c000.csv.crc\n",
      "-rw-r--r-- 1 big big 2089298 Apr 26 12:18 part-00000-87bc9279-6f0f-4056-a930-e56729a62432-c000.csv\n",
      "-rw-r--r-- 1 big big   16332 Apr 26 12:18 .part-00000-87bc9279-6f0f-4056-a930-e56729a62432-c000.csv.crc\n",
      "-rw-r--r-- 1 big big 1600883 Apr 26 12:16 part-00000-8804ba93-e85a-4094-9816-e3d900807da4-c000.csv\n",
      "-rw-r--r-- 1 big big   12516 Apr 26 12:16 .part-00000-8804ba93-e85a-4094-9816-e3d900807da4-c000.csv.crc\n",
      "-rw-r--r-- 1 big big 3881789 Apr 26 12:18 part-00000-888b0d41-2e6f-4a82-bd35-7ab0a1305152-c000.csv\n",
      "-rw-r--r-- 1 big big   30336 Apr 26 12:18 .part-00000-888b0d41-2e6f-4a82-bd35-7ab0a1305152-c000.csv.crc\n",
      "-rw-r--r-- 1 big big 2204563 Apr 26 12:16 part-00000-88ce0a17-0809-47f2-ae06-4b3299e2d53e-c000.csv\n",
      "-rw-r--r-- 1 big big   17232 Apr 26 12:16 .part-00000-88ce0a17-0809-47f2-ae06-4b3299e2d53e-c000.csv.crc\n",
      "-rw-r--r-- 1 big big 5331783 Apr 28 08:41 part-00000-890c6a62-5833-4e5a-a9a7-7f3865f1084c-c000.csv\n",
      "-rw-r--r-- 1 big big   41664 Apr 28 08:41 .part-00000-890c6a62-5833-4e5a-a9a7-7f3865f1084c-c000.csv.crc\n",
      "-rw-r--r-- 1 big big 7169223 Apr 28 08:42 part-00000-894eaaa1-aa43-4089-ba09-79228154ac86-c000.csv\n",
      "-rw-r--r-- 1 big big   56020 Apr 28 08:42 .part-00000-894eaaa1-aa43-4089-ba09-79228154ac86-c000.csv.crc\n",
      "-rw-r--r-- 1 big big 2372061 Apr 26 12:18 part-00000-8973f820-2222-4d00-9ae3-22724d0b11ff-c000.csv\n",
      "-rw-r--r-- 1 big big   18540 Apr 26 12:18 .part-00000-8973f820-2222-4d00-9ae3-22724d0b11ff-c000.csv.crc\n",
      "-rw-r--r-- 1 big big 2021360 Apr 26 12:16 part-00000-89da10a6-3391-403d-a8f5-8110a3a29d13-c000.csv\n",
      "-rw-r--r-- 1 big big   15800 Apr 26 12:16 .part-00000-89da10a6-3391-403d-a8f5-8110a3a29d13-c000.csv.crc\n",
      "-rw-r--r-- 1 big big 1810194 Apr 26 12:18 part-00000-8a03816d-6fbf-4dc2-84e4-bcacdaefec1f-c000.csv\n",
      "-rw-r--r-- 1 big big   14152 Apr 26 12:18 .part-00000-8a03816d-6fbf-4dc2-84e4-bcacdaefec1f-c000.csv.crc\n",
      "-rw-r--r-- 1 big big 2133181 Apr 26 12:17 part-00000-8b2476a4-0f7d-4a70-bd32-bb68d634fc59-c000.csv\n",
      "-rw-r--r-- 1 big big   16676 Apr 26 12:17 .part-00000-8b2476a4-0f7d-4a70-bd32-bb68d634fc59-c000.csv.crc\n",
      "-rw-r--r-- 1 big big 1720785 Apr 26 12:17 part-00000-8ced3e91-7134-40f8-9a17-bdbd85b1f6e6-c000.csv\n",
      "-rw-r--r-- 1 big big   13452 Apr 26 12:17 .part-00000-8ced3e91-7134-40f8-9a17-bdbd85b1f6e6-c000.csv.crc\n",
      "-rw-r--r-- 1 big big 1704800 Apr 26 12:18 part-00000-8ceee3a4-72eb-4239-badd-4ff7e0b3f0ef-c000.csv\n",
      "-rw-r--r-- 1 big big   13328 Apr 26 12:18 .part-00000-8ceee3a4-72eb-4239-badd-4ff7e0b3f0ef-c000.csv.crc\n",
      "-rw-r--r-- 1 big big 2502082 Apr 26 12:18 part-00000-8d5801a3-0ed5-4ae6-9335-105bcc135c78-c000.csv\n",
      "-rw-r--r-- 1 big big   19556 Apr 26 12:18 .part-00000-8d5801a3-0ed5-4ae6-9335-105bcc135c78-c000.csv.crc\n",
      "-rw-r--r-- 1 big big 1610293 Apr 26 12:16 part-00000-8daca3e4-9a11-403b-ae96-a6c403ce6d0f-c000.csv\n",
      "-rw-r--r-- 1 big big   12592 Apr 26 12:16 .part-00000-8daca3e4-9a11-403b-ae96-a6c403ce6d0f-c000.csv.crc\n",
      "-rw-r--r-- 1 big big 2171823 Apr 28 08:42 part-00000-8dc58267-7f22-4d7c-83d9-2ea073b70583-c000.csv\n",
      "-rw-r--r-- 1 big big   16976 Apr 28 08:42 .part-00000-8dc58267-7f22-4d7c-83d9-2ea073b70583-c000.csv.crc\n",
      "-rw-r--r-- 1 big big  120471 Apr 28 08:41 part-00000-8e054f93-f6fd-45e6-adf3-7f35007ff3f8-c000.csv\n",
      "-rw-r--r-- 1 big big     952 Apr 28 08:41 .part-00000-8e054f93-f6fd-45e6-adf3-7f35007ff3f8-c000.csv.crc\n",
      "-rw-r--r-- 1 big big 2883948 Apr 26 12:18 part-00000-8ea994fc-52e6-4caa-a901-f4e3fb68ff44-c000.csv\n",
      "-rw-r--r-- 1 big big   22540 Apr 26 12:18 .part-00000-8ea994fc-52e6-4caa-a901-f4e3fb68ff44-c000.csv.crc\n",
      "-rw-r--r-- 1 big big 3248238 Apr 28 08:42 part-00000-8ee0ac2d-7271-4f07-951e-32b983a8c420-c000.csv\n",
      "-rw-r--r-- 1 big big   25388 Apr 28 08:42 .part-00000-8ee0ac2d-7271-4f07-951e-32b983a8c420-c000.csv.crc\n",
      "-rw-r--r-- 1 big big 2267494 Apr 26 12:17 part-00000-8f36d868-9bf9-41c2-b35c-a96c1b399cd6-c000.csv\n",
      "-rw-r--r-- 1 big big   17724 Apr 26 12:17 .part-00000-8f36d868-9bf9-41c2-b35c-a96c1b399cd6-c000.csv.crc\n",
      "-rw-r--r-- 1 big big 1701341 Apr 26 12:17 part-00000-8fc89bcf-c88b-44aa-bcc7-29d79e0bda1c-c000.csv\n",
      "-rw-r--r-- 1 big big   13300 Apr 26 12:17 .part-00000-8fc89bcf-c88b-44aa-bcc7-29d79e0bda1c-c000.csv.crc\n",
      "-rw-r--r-- 1 big big 1865327 Apr 26 12:18 part-00000-908df98b-99f4-4249-a562-6e597156af97-c000.csv\n",
      "-rw-r--r-- 1 big big   14584 Apr 26 12:18 .part-00000-908df98b-99f4-4249-a562-6e597156af97-c000.csv.crc\n",
      "-rw-r--r-- 1 big big 1708942 Apr 26 12:16 part-00000-90e01487-a084-4b44-afc0-fa66a2c10929-c000.csv\n",
      "-rw-r--r-- 1 big big   13360 Apr 26 12:16 .part-00000-90e01487-a084-4b44-afc0-fa66a2c10929-c000.csv.crc\n",
      "-rw-r--r-- 1 big big 3208759 Apr 26 12:17 part-00000-9157fa2b-ab7d-456e-b752-4735aa8bc75a-c000.csv\n",
      "-rw-r--r-- 1 big big   25080 Apr 26 12:17 .part-00000-9157fa2b-ab7d-456e-b752-4735aa8bc75a-c000.csv.crc\n",
      "-rw-r--r-- 1 big big 2021360 Apr 28 08:42 part-00000-917655b9-155a-4334-b736-ba10e7ee2419-c000.csv\n",
      "-rw-r--r-- 1 big big   15800 Apr 28 08:42 .part-00000-917655b9-155a-4334-b736-ba10e7ee2419-c000.csv.crc\n",
      "-rw-r--r-- 1 big big 1456553 Apr 26 12:16 part-00000-9196fb81-d8aa-452b-88ee-364c0ed01cc1-c000.csv\n",
      "-rw-r--r-- 1 big big   11388 Apr 26 12:16 .part-00000-9196fb81-d8aa-452b-88ee-364c0ed01cc1-c000.csv.crc\n",
      "-rw-r--r-- 1 big big 1148203 Apr 26 12:16 part-00000-92b77b7c-3520-481e-81a3-9dc245175600-c000.csv\n",
      "-rw-r--r-- 1 big big    8980 Apr 26 12:16 .part-00000-92b77b7c-3520-481e-81a3-9dc245175600-c000.csv.crc\n",
      "-rw-r--r-- 1 big big 2408036 Apr 28 08:42 part-00000-9323ac36-1bcd-4683-8923-8d4edd4e9579-c000.csv\n",
      "-rw-r--r-- 1 big big   18824 Apr 28 08:42 .part-00000-9323ac36-1bcd-4683-8923-8d4edd4e9579-c000.csv.crc\n",
      "-rw-r--r-- 1 big big 6615542 Apr 26 12:16 part-00000-93ac3e62-ac34-4a1e-aedd-c7f6fdf9c82c-c000.csv\n",
      "-rw-r--r-- 1 big big   51692 Apr 26 12:16 .part-00000-93ac3e62-ac34-4a1e-aedd-c7f6fdf9c82c-c000.csv.crc\n",
      "-rw-r--r-- 1 big big 1848383 Apr 26 12:16 part-00000-93e7b0d8-ac2e-4dff-9f2e-0774add15115-c000.csv\n",
      "-rw-r--r-- 1 big big   14452 Apr 26 12:16 .part-00000-93e7b0d8-ac2e-4dff-9f2e-0774add15115-c000.csv.crc\n",
      "-rw-r--r-- 1 big big 2073594 Apr 26 12:18 part-00000-9483b989-faa6-4414-bf6c-779325855fb8-c000.csv\n",
      "-rw-r--r-- 1 big big   16208 Apr 26 12:18 .part-00000-9483b989-faa6-4414-bf6c-779325855fb8-c000.csv.crc\n",
      "-rw-r--r-- 1 big big 1703895 Apr 26 12:18 part-00000-949fb68c-89fc-4991-bf15-c37cf9c5abb3-c000.csv\n",
      "-rw-r--r-- 1 big big   13320 Apr 26 12:18 .part-00000-949fb68c-89fc-4991-bf15-c37cf9c5abb3-c000.csv.crc\n",
      "-rw-r--r-- 1 big big 2494265 Apr 26 12:18 part-00000-970125dd-4390-4f1f-ac09-98e544bed09c-c000.csv\n",
      "-rw-r--r-- 1 big big   19496 Apr 26 12:18 .part-00000-970125dd-4390-4f1f-ac09-98e544bed09c-c000.csv.crc\n",
      "-rw-r--r-- 1 big big 3521501 Apr 28 08:42 part-00000-9722737e-0889-4db7-92de-07416c5b90a2-c000.csv\n",
      "-rw-r--r-- 1 big big   27520 Apr 28 08:42 .part-00000-9722737e-0889-4db7-92de-07416c5b90a2-c000.csv.crc\n",
      "-rw-r--r-- 1 big big 1563222 Apr 26 12:17 part-00000-9755522d-eb2c-459f-81eb-4fe25e988f23-c000.csv\n",
      "-rw-r--r-- 1 big big   12224 Apr 26 12:17 .part-00000-9755522d-eb2c-459f-81eb-4fe25e988f23-c000.csv.crc\n",
      "-rw-r--r-- 1 big big 1671256 Apr 26 12:17 part-00000-97a61690-4e30-4527-8677-d82fe2e07148-c000.csv\n",
      "-rw-r--r-- 1 big big   13068 Apr 26 12:17 .part-00000-97a61690-4e30-4527-8677-d82fe2e07148-c000.csv.crc\n",
      "-rw-r--r-- 1 big big 2826120 Apr 26 12:17 part-00000-97e707b0-4961-4453-a33f-ddbddc0e1588-c000.csv\n",
      "-rw-r--r-- 1 big big   22088 Apr 26 12:17 .part-00000-97e707b0-4961-4453-a33f-ddbddc0e1588-c000.csv.crc\n",
      "-rw-r--r-- 1 big big 1756075 Apr 26 12:17 part-00000-97ff0e99-d3f1-45ba-bf83-8ec86d8cdd42-c000.csv\n",
      "-rw-r--r-- 1 big big   13728 Apr 26 12:17 .part-00000-97ff0e99-d3f1-45ba-bf83-8ec86d8cdd42-c000.csv.crc\n",
      "-rw-r--r-- 1 big big 2417362 Apr 26 12:17 part-00000-9800965b-f0a2-4367-afb2-e2acc4061522-c000.csv\n",
      "-rw-r--r-- 1 big big   18896 Apr 26 12:17 .part-00000-9800965b-f0a2-4367-afb2-e2acc4061522-c000.csv.crc\n",
      "-rw-r--r-- 1 big big 4058029 Apr 26 12:17 part-00000-987a028c-3313-4537-b75c-972ca3d9fd96-c000.csv\n",
      "-rw-r--r-- 1 big big   31712 Apr 26 12:17 .part-00000-987a028c-3313-4537-b75c-972ca3d9fd96-c000.csv.crc\n",
      "-rw-r--r-- 1 big big 3130025 Apr 26 12:16 part-00000-9887fa5a-894d-43b3-a913-40e88e2c113a-c000.csv\n",
      "-rw-r--r-- 1 big big   24464 Apr 26 12:16 .part-00000-9887fa5a-894d-43b3-a913-40e88e2c113a-c000.csv.crc\n",
      "-rw-r--r-- 1 big big 2263653 Apr 26 12:17 part-00000-988f54f7-7a14-4253-9344-3a9eef1d6b17-c000.csv\n",
      "-rw-r--r-- 1 big big   17696 Apr 26 12:17 .part-00000-988f54f7-7a14-4253-9344-3a9eef1d6b17-c000.csv.crc\n",
      "-rw-r--r-- 1 big big 2276930 Apr 26 12:18 part-00000-9b25fab9-03d2-439a-b1e6-61f55810c324-c000.csv\n",
      "-rw-r--r-- 1 big big   17800 Apr 26 12:18 .part-00000-9b25fab9-03d2-439a-b1e6-61f55810c324-c000.csv.crc\n",
      "-rw-r--r-- 1 big big 2131249 Apr 26 12:17 part-00000-9c9e9604-998d-4e7b-89a9-6a4c880787b4-c000.csv\n",
      "-rw-r--r-- 1 big big   16660 Apr 26 12:17 .part-00000-9c9e9604-998d-4e7b-89a9-6a4c880787b4-c000.csv.crc\n",
      "-rw-r--r-- 1 big big 4950604 Apr 26 12:16 part-00000-9d102298-e0d4-445f-bc37-41f94768e237-c000.csv\n",
      "-rw-r--r-- 1 big big   38688 Apr 26 12:16 .part-00000-9d102298-e0d4-445f-bc37-41f94768e237-c000.csv.crc\n",
      "-rw-r--r-- 1 big big 1220312 Apr 26 12:16 part-00000-9d48658f-2a80-4635-a32f-216e4f8e1a9c-c000.csv\n",
      "-rw-r--r-- 1 big big    9544 Apr 26 12:16 .part-00000-9d48658f-2a80-4635-a32f-216e4f8e1a9c-c000.csv.crc\n",
      "-rw-r--r-- 1 big big 1667563 Apr 26 12:17 part-00000-9d71e6c5-7fe0-4f95-9ac7-8fc9514576a0-c000.csv\n",
      "-rw-r--r-- 1 big big   13036 Apr 26 12:17 .part-00000-9d71e6c5-7fe0-4f95-9ac7-8fc9514576a0-c000.csv.crc\n",
      "-rw-r--r-- 1 big big 2299218 Apr 26 12:16 part-00000-9de54426-e278-43c9-b584-4fe95684c0a6-c000.csv\n",
      "-rw-r--r-- 1 big big   17972 Apr 26 12:16 .part-00000-9de54426-e278-43c9-b584-4fe95684c0a6-c000.csv.crc\n",
      "-rw-r--r-- 1 big big 1771460 Apr 26 12:17 part-00000-9f76daa1-42d9-4e32-b699-11f0061fcc26-c000.csv\n",
      "-rw-r--r-- 1 big big   13848 Apr 26 12:17 .part-00000-9f76daa1-42d9-4e32-b699-11f0061fcc26-c000.csv.crc\n",
      "-rw-r--r-- 1 big big 2358129 Apr 26 12:18 part-00000-a0568a88-3ece-4a7b-a773-a3610c2af7b8-c000.csv\n",
      "-rw-r--r-- 1 big big   18432 Apr 26 12:18 .part-00000-a0568a88-3ece-4a7b-a773-a3610c2af7b8-c000.csv.crc\n",
      "-rw-r--r-- 1 big big 1480123 Apr 26 12:16 part-00000-a0d1e99f-57ea-4ebc-84bb-c47bea090f70-c000.csv\n",
      "-rw-r--r-- 1 big big   11572 Apr 26 12:16 .part-00000-a0d1e99f-57ea-4ebc-84bb-c47bea090f70-c000.csv.crc\n",
      "-rw-r--r-- 1 big big 2455768 Apr 26 12:18 part-00000-a144974b-8bbb-468b-a492-ce62015555a4-c000.csv\n",
      "-rw-r--r-- 1 big big   19196 Apr 26 12:18 .part-00000-a144974b-8bbb-468b-a492-ce62015555a4-c000.csv.crc\n",
      "-rw-r--r-- 1 big big 2571036 Apr 26 12:17 part-00000-a19d9d8e-c00b-4ae6-8c35-9f8c2096a3a2-c000.csv\n",
      "-rw-r--r-- 1 big big   20096 Apr 26 12:17 .part-00000-a19d9d8e-c00b-4ae6-8c35-9f8c2096a3a2-c000.csv.crc\n",
      "-rw-r--r-- 1 big big 1580618 Apr 26 12:16 part-00000-a1b186ac-6028-415d-b729-13299cd8d0bb-c000.csv\n",
      "-rw-r--r-- 1 big big   12360 Apr 26 12:16 .part-00000-a1b186ac-6028-415d-b729-13299cd8d0bb-c000.csv.crc\n",
      "-rw-r--r-- 1 big big 2306151 Apr 26 12:17 part-00000-a23b4d75-20d7-4b89-aae7-10c5845eb52b-c000.csv\n",
      "-rw-r--r-- 1 big big   18028 Apr 26 12:17 .part-00000-a23b4d75-20d7-4b89-aae7-10c5845eb52b-c000.csv.crc\n",
      "-rw-r--r-- 1 big big 4950604 Apr 28 08:42 part-00000-a245da4f-e781-4cad-b8d3-92e2a7f95ad9-c000.csv\n",
      "-rw-r--r-- 1 big big   38688 Apr 28 08:42 .part-00000-a245da4f-e781-4cad-b8d3-92e2a7f95ad9-c000.csv.crc\n",
      "-rw-r--r-- 1 big big 3456137 Apr 26 12:18 part-00000-a25c9843-cea5-4363-af5e-9bb625759a3b-c000.csv\n",
      "-rw-r--r-- 1 big big   27012 Apr 26 12:18 .part-00000-a25c9843-cea5-4363-af5e-9bb625759a3b-c000.csv.crc\n",
      "-rw-r--r-- 1 big big 1957110 Apr 26 12:17 part-00000-a28b3ed1-034c-4c0a-820f-89b1ff85be8a-c000.csv\n",
      "-rw-r--r-- 1 big big   15300 Apr 26 12:17 .part-00000-a28b3ed1-034c-4c0a-820f-89b1ff85be8a-c000.csv.crc\n",
      "-rw-r--r-- 1 big big 2519745 Apr 26 12:17 part-00000-a2e5e4c6-d335-415f-9142-58bf5ac13d33-c000.csv\n",
      "-rw-r--r-- 1 big big   19696 Apr 26 12:17 .part-00000-a2e5e4c6-d335-415f-9142-58bf5ac13d33-c000.csv.crc\n",
      "-rw-r--r-- 1 big big 2250680 Apr 26 12:18 part-00000-a3084c96-557e-4382-87b7-322f74747130-c000.csv\n",
      "-rw-r--r-- 1 big big   17592 Apr 26 12:18 .part-00000-a3084c96-557e-4382-87b7-322f74747130-c000.csv.crc\n",
      "-rw-r--r-- 1 big big 2523666 Apr 26 12:16 part-00000-a33a024a-c3c5-4b33-b3fd-4bb9552e8371-c000.csv\n",
      "-rw-r--r-- 1 big big   19728 Apr 26 12:16 .part-00000-a33a024a-c3c5-4b33-b3fd-4bb9552e8371-c000.csv.crc\n",
      "-rw-r--r-- 1 big big  140612 Apr 26 12:16 part-00000-a3671fe7-53b6-4dc2-9f57-91cfa05568a4-c000.csv\n",
      "-rw-r--r-- 1 big big    1108 Apr 26 12:16 .part-00000-a3671fe7-53b6-4dc2-9f57-91cfa05568a4-c000.csv.crc\n",
      "-rw-r--r-- 1 big big 2067667 Apr 26 12:18 part-00000-a426c877-8790-4666-8b7b-95ab2fde5668-c000.csv\n",
      "-rw-r--r-- 1 big big   16164 Apr 26 12:18 .part-00000-a426c877-8790-4666-8b7b-95ab2fde5668-c000.csv.crc\n",
      "-rw-r--r-- 1 big big 3098750 Apr 26 12:18 part-00000-a4a3a3c7-5fa5-4b5c-a957-7f1ff733fd89-c000.csv\n",
      "-rw-r--r-- 1 big big   24220 Apr 26 12:18 .part-00000-a4a3a3c7-5fa5-4b5c-a957-7f1ff733fd89-c000.csv.crc\n",
      "-rw-r--r-- 1 big big 1964487 Apr 26 12:16 part-00000-a5911bf9-b68f-4509-aa4b-54dbdb9d21bc-c000.csv\n",
      "-rw-r--r-- 1 big big   15356 Apr 26 12:16 .part-00000-a5911bf9-b68f-4509-aa4b-54dbdb9d21bc-c000.csv.crc\n",
      "-rw-r--r-- 1 big big 2695736 Apr 26 12:18 part-00000-a5b46f12-1115-4e31-ad20-784a60200133-c000.csv\n",
      "-rw-r--r-- 1 big big   21072 Apr 26 12:18 .part-00000-a5b46f12-1115-4e31-ad20-784a60200133-c000.csv.crc\n",
      "-rw-r--r-- 1 big big 1942232 Apr 26 12:17 part-00000-a5f31332-ecf5-48e2-ac65-da94d8b9b73d-c000.csv\n",
      "-rw-r--r-- 1 big big   15184 Apr 26 12:17 .part-00000-a5f31332-ecf5-48e2-ac65-da94d8b9b73d-c000.csv.crc\n",
      "-rw-r--r-- 1 big big 1624883 Apr 26 12:17 part-00000-a6a2d9a2-832f-4e75-8f4c-cca3e20c00bb-c000.csv\n",
      "-rw-r--r-- 1 big big   12704 Apr 26 12:17 .part-00000-a6a2d9a2-832f-4e75-8f4c-cca3e20c00bb-c000.csv.crc\n",
      "-rw-r--r-- 1 big big 1954577 Apr 26 12:17 part-00000-a6b38943-94b1-4274-9ad5-6f8a7571d467-c000.csv\n",
      "-rw-r--r-- 1 big big   15280 Apr 26 12:17 .part-00000-a6b38943-94b1-4274-9ad5-6f8a7571d467-c000.csv.crc\n",
      "-rw-r--r-- 1 big big 2370464 Apr 26 12:18 part-00000-a6d51aa8-8536-456b-9302-11a0f46f2d9c-c000.csv\n",
      "-rw-r--r-- 1 big big   18528 Apr 26 12:18 .part-00000-a6d51aa8-8536-456b-9302-11a0f46f2d9c-c000.csv.crc\n",
      "-rw-r--r-- 1 big big 1752567 Apr 26 12:17 part-00000-a745b892-23bb-4d37-8e30-894694cd879c-c000.csv\n",
      "-rw-r--r-- 1 big big   13700 Apr 26 12:17 .part-00000-a745b892-23bb-4d37-8e30-894694cd879c-c000.csv.crc\n",
      "-rw-r--r-- 1 big big 2476063 Apr 26 12:18 part-00000-a77f55b1-db33-42eb-8be6-a9e8368fde8c-c000.csv\n",
      "-rw-r--r-- 1 big big   19356 Apr 26 12:18 .part-00000-a77f55b1-db33-42eb-8be6-a9e8368fde8c-c000.csv.crc\n",
      "-rw-r--r-- 1 big big 2436646 Apr 26 12:18 part-00000-a790c2a2-3a34-48cc-bac5-44f03f17bc98-c000.csv\n",
      "-rw-r--r-- 1 big big   19048 Apr 26 12:18 .part-00000-a790c2a2-3a34-48cc-bac5-44f03f17bc98-c000.csv.crc\n",
      "-rw-r--r-- 1 big big 2210438 Apr 26 12:17 part-00000-a7c4fd57-0a8f-408e-8e40-045409fa1a35-c000.csv\n",
      "-rw-r--r-- 1 big big   17280 Apr 26 12:17 .part-00000-a7c4fd57-0a8f-408e-8e40-045409fa1a35-c000.csv.crc\n",
      "-rw-r--r-- 1 big big 2364210 Apr 26 12:16 part-00000-a7f24e07-08d8-4558-aa23-27e089979010-c000.csv\n",
      "-rw-r--r-- 1 big big   18480 Apr 26 12:16 .part-00000-a7f24e07-08d8-4558-aa23-27e089979010-c000.csv.crc\n",
      "-rw-r--r-- 1 big big 3490450 Apr 26 12:17 part-00000-a83ecf56-735e-4e9f-9867-d26d5bc59ce2-c000.csv\n",
      "-rw-r--r-- 1 big big   27280 Apr 26 12:17 .part-00000-a83ecf56-735e-4e9f-9867-d26d5bc59ce2-c000.csv.crc\n",
      "-rw-r--r-- 1 big big 3866520 Apr 26 12:18 part-00000-a8626260-f85c-4fa5-8602-e59fd9a0757f-c000.csv\n",
      "-rw-r--r-- 1 big big   30216 Apr 26 12:18 .part-00000-a8626260-f85c-4fa5-8602-e59fd9a0757f-c000.csv.crc\n",
      "-rw-r--r-- 1 big big 1883886 Apr 26 12:17 part-00000-a9e697e9-bc4a-4beb-87b5-6b1f2f6a0b19-c000.csv\n",
      "-rw-r--r-- 1 big big   14728 Apr 26 12:17 .part-00000-a9e697e9-bc4a-4beb-87b5-6b1f2f6a0b19-c000.csv.crc\n",
      "-rw-r--r-- 1 big big 2383218 Apr 26 12:18 part-00000-aaec04a6-bbf2-45f8-a691-c725a1310f81-c000.csv\n",
      "-rw-r--r-- 1 big big   18628 Apr 26 12:18 .part-00000-aaec04a6-bbf2-45f8-a691-c725a1310f81-c000.csv.crc\n",
      "-rw-r--r-- 1 big big 3672965 Apr 26 12:16 part-00000-ab551977-c67d-44a2-a0f1-8092e43fbe34-c000.csv\n",
      "-rw-r--r-- 1 big big   28704 Apr 26 12:16 .part-00000-ab551977-c67d-44a2-a0f1-8092e43fbe34-c000.csv.crc\n",
      "-rw-r--r-- 1 big big 2532350 Apr 26 12:18 part-00000-abd40344-c0b2-425d-8235-cd2844f267f6-c000.csv\n",
      "-rw-r--r-- 1 big big   19792 Apr 26 12:18 .part-00000-abd40344-c0b2-425d-8235-cd2844f267f6-c000.csv.crc\n",
      "-rw-r--r-- 1 big big 1313796 Apr 26 12:16 part-00000-abe203ab-e68b-4cd1-99c5-bcd05d4c681c-c000.csv\n",
      "-rw-r--r-- 1 big big   10276 Apr 26 12:16 .part-00000-abe203ab-e68b-4cd1-99c5-bcd05d4c681c-c000.csv.crc\n",
      "-rw-r--r-- 1 big big 3200948 Apr 26 12:17 part-00000-ac4994b7-7e64-4b2e-b8ac-dc80de814ade-c000.csv\n",
      "-rw-r--r-- 1 big big   25016 Apr 26 12:17 .part-00000-ac4994b7-7e64-4b2e-b8ac-dc80de814ade-c000.csv.crc\n",
      "-rw-r--r-- 1 big big 2823854 Apr 26 12:18 part-00000-aca3ed33-0eea-4e85-8c99-f53bb65a03b4-c000.csv\n",
      "-rw-r--r-- 1 big big   22072 Apr 26 12:18 .part-00000-aca3ed33-0eea-4e85-8c99-f53bb65a03b4-c000.csv.crc\n",
      "-rw-r--r-- 1 big big 1863957 Apr 26 12:17 part-00000-acc24b64-1bc2-4ddc-be99-1b81284a8f8b-c000.csv\n",
      "-rw-r--r-- 1 big big   14572 Apr 26 12:17 .part-00000-acc24b64-1bc2-4ddc-be99-1b81284a8f8b-c000.csv.crc\n",
      "-rw-r--r-- 1 big big 1309743 Apr 26 12:17 part-00000-ade39818-52b7-42a9-9b76-c4774781af44-c000.csv\n",
      "-rw-r--r-- 1 big big   10244 Apr 26 12:17 .part-00000-ade39818-52b7-42a9-9b76-c4774781af44-c000.csv.crc\n",
      "-rw-r--r-- 1 big big 1554519 Apr 26 12:16 part-00000-adf92c42-5a54-4805-ab2f-82ae7bb0d286-c000.csv\n",
      "-rw-r--r-- 1 big big   12156 Apr 26 12:16 .part-00000-adf92c42-5a54-4805-ab2f-82ae7bb0d286-c000.csv.crc\n",
      "-rw-r--r-- 1 big big 2140665 Apr 26 12:18 part-00000-ae190e82-8c21-46d9-9f64-b03456c9b90c-c000.csv\n",
      "-rw-r--r-- 1 big big   16732 Apr 26 12:18 .part-00000-ae190e82-8c21-46d9-9f64-b03456c9b90c-c000.csv.crc\n",
      "-rw-r--r-- 1 big big 2118004 Apr 26 12:17 part-00000-af872455-f168-4018-8f3a-9d732b4fa026-c000.csv\n",
      "-rw-r--r-- 1 big big   16556 Apr 26 12:17 .part-00000-af872455-f168-4018-8f3a-9d732b4fa026-c000.csv.crc\n",
      "-rw-r--r-- 1 big big 2567097 Apr 26 12:18 part-00000-b0775ee9-985a-429d-9841-caf247d77736-c000.csv\n",
      "-rw-r--r-- 1 big big   20064 Apr 26 12:18 .part-00000-b0775ee9-985a-429d-9841-caf247d77736-c000.csv.crc\n",
      "-rw-r--r-- 1 big big 1776696 Apr 26 12:18 part-00000-b08265a1-fa47-4fbe-93eb-087e6c79da73-c000.csv\n",
      "-rw-r--r-- 1 big big   13892 Apr 26 12:18 .part-00000-b08265a1-fa47-4fbe-93eb-087e6c79da73-c000.csv.crc\n",
      "-rw-r--r-- 1 big big 3298934 Apr 28 08:42 part-00000-b08c6176-6b51-41ff-99d9-08bad94368a8-c000.csv\n",
      "-rw-r--r-- 1 big big   25784 Apr 28 08:42 .part-00000-b08c6176-6b51-41ff-99d9-08bad94368a8-c000.csv.crc\n",
      "-rw-r--r-- 1 big big 2594178 Apr 26 12:18 part-00000-b0ce39ee-f8da-40bb-8656-20e76ec7c228-c000.csv\n",
      "-rw-r--r-- 1 big big   20276 Apr 26 12:18 .part-00000-b0ce39ee-f8da-40bb-8656-20e76ec7c228-c000.csv.crc\n",
      "-rw-r--r-- 1 big big 2557567 Apr 26 12:17 part-00000-b0d0d2c3-408f-4c6a-93f4-ddb5e64cda5e-c000.csv\n",
      "-rw-r--r-- 1 big big   19992 Apr 26 12:17 .part-00000-b0d0d2c3-408f-4c6a-93f4-ddb5e64cda5e-c000.csv.crc\n",
      "-rw-r--r-- 1 big big 2308685 Apr 26 12:18 part-00000-b118f4bf-46d6-4d61-abc0-96dd0b8987fe-c000.csv\n",
      "-rw-r--r-- 1 big big   18048 Apr 26 12:18 .part-00000-b118f4bf-46d6-4d61-abc0-96dd0b8987fe-c000.csv.crc\n",
      "-rw-r--r-- 1 big big 1679717 Apr 26 12:16 part-00000-b2c67565-a924-4ab9-9c1e-124deb46bd11-c000.csv\n",
      "-rw-r--r-- 1 big big   13132 Apr 26 12:16 .part-00000-b2c67565-a924-4ab9-9c1e-124deb46bd11-c000.csv.crc\n",
      "-rw-r--r-- 1 big big 2402259 Apr 26 12:18 part-00000-b4403485-b164-48bb-afb8-2a2432b8ad89-c000.csv\n",
      "-rw-r--r-- 1 big big   18776 Apr 26 12:18 .part-00000-b4403485-b164-48bb-afb8-2a2432b8ad89-c000.csv.crc\n",
      "-rw-r--r-- 1 big big 2337386 Apr 26 12:17 part-00000-b4741d75-ef16-4b74-a6d5-af03d28a858a-c000.csv\n",
      "-rw-r--r-- 1 big big   18272 Apr 26 12:17 .part-00000-b4741d75-ef16-4b74-a6d5-af03d28a858a-c000.csv.crc\n",
      "-rw-r--r-- 1 big big 2658157 Apr 26 12:18 part-00000-b5c1e230-9bd7-4c95-9489-096d2fd4cfdd-c000.csv\n",
      "-rw-r--r-- 1 big big   20776 Apr 26 12:18 .part-00000-b5c1e230-9bd7-4c95-9489-096d2fd4cfdd-c000.csv.crc\n",
      "-rw-r--r-- 1 big big 2371987 Apr 26 12:18 part-00000-b5f6888d-5a4d-4837-9760-4d97b33ff20d-c000.csv\n",
      "-rw-r--r-- 1 big big   18540 Apr 26 12:18 .part-00000-b5f6888d-5a4d-4837-9760-4d97b33ff20d-c000.csv.crc\n",
      "-rw-r--r-- 1 big big 1695863 Apr 26 12:16 part-00000-b7377870-69eb-455e-b551-0d8a8b78d9d6-c000.csv\n",
      "-rw-r--r-- 1 big big   13260 Apr 26 12:16 .part-00000-b7377870-69eb-455e-b551-0d8a8b78d9d6-c000.csv.crc\n",
      "-rw-r--r-- 1 big big 2843675 Apr 26 12:18 part-00000-b76845e3-547f-430c-8876-36c985b53498-c000.csv\n",
      "-rw-r--r-- 1 big big   22228 Apr 26 12:18 .part-00000-b76845e3-547f-430c-8876-36c985b53498-c000.csv.crc\n",
      "-rw-r--r-- 1 big big 2439690 Apr 26 12:17 part-00000-ba2dfc18-53c6-44ea-bd17-596d65b71a50-c000.csv\n",
      "-rw-r--r-- 1 big big   19072 Apr 26 12:17 .part-00000-ba2dfc18-53c6-44ea-bd17-596d65b71a50-c000.csv.crc\n",
      "-rw-r--r-- 1 big big 1869814 Apr 26 12:17 part-00000-bb85d28c-30c8-46f0-852a-666a3ac7b8fe-c000.csv\n",
      "-rw-r--r-- 1 big big   14616 Apr 26 12:17 .part-00000-bb85d28c-30c8-46f0-852a-666a3ac7b8fe-c000.csv.crc\n",
      "-rw-r--r-- 1 big big  362562 Apr 26 12:17 part-00000-bbcf5bcc-fbf2-4e42-b99b-dac750b723cf-c000.csv\n",
      "-rw-r--r-- 1 big big    2844 Apr 26 12:17 .part-00000-bbcf5bcc-fbf2-4e42-b99b-dac750b723cf-c000.csv.crc\n",
      "-rw-r--r-- 1 big big 5505094 Apr 28 08:41 part-00000-bbe4d540-d4dd-4a28-b6e8-2bbf49a85f52-c000.csv\n",
      "-rw-r--r-- 1 big big   43020 Apr 28 08:41 .part-00000-bbe4d540-d4dd-4a28-b6e8-2bbf49a85f52-c000.csv.crc\n",
      "-rw-r--r-- 1 big big 2399971 Apr 26 12:18 part-00000-bc521e77-db40-4ca0-aef9-76e858fa2aad-c000.csv\n",
      "-rw-r--r-- 1 big big   18760 Apr 26 12:18 .part-00000-bc521e77-db40-4ca0-aef9-76e858fa2aad-c000.csv.crc\n",
      "-rw-r--r-- 1 big big 2051093 Apr 26 12:17 part-00000-bd5157ef-bbd5-4575-a262-65e8eda60da1-c000.csv\n",
      "-rw-r--r-- 1 big big   16036 Apr 26 12:17 .part-00000-bd5157ef-bbd5-4575-a262-65e8eda60da1-c000.csv.crc\n",
      "-rw-r--r-- 1 big big 2934319 Apr 26 12:16 part-00000-bdb2bf5f-249e-4f42-afae-8a47605f3479-c000.csv\n",
      "-rw-r--r-- 1 big big   22936 Apr 26 12:16 .part-00000-bdb2bf5f-249e-4f42-afae-8a47605f3479-c000.csv.crc\n",
      "-rw-r--r-- 1 big big 2387239 Apr 26 12:18 part-00000-bdf59983-a17d-4d29-ad8c-3e9c631fde32-c000.csv\n",
      "-rw-r--r-- 1 big big   18660 Apr 26 12:18 .part-00000-bdf59983-a17d-4d29-ad8c-3e9c631fde32-c000.csv.crc\n",
      "-rw-r--r-- 1 big big 4739091 Apr 28 08:42 part-00000-be000a9a-63e4-495b-8caa-bdb3a7dd63a8-c000.csv\n",
      "-rw-r--r-- 1 big big   37036 Apr 28 08:42 .part-00000-be000a9a-63e4-495b-8caa-bdb3a7dd63a8-c000.csv.crc\n",
      "-rw-r--r-- 1 big big 2131881 Apr 26 12:16 part-00000-be0804fe-b308-4581-9588-4aebe1058cc6-c000.csv\n",
      "-rw-r--r-- 1 big big   16664 Apr 26 12:16 .part-00000-be0804fe-b308-4581-9588-4aebe1058cc6-c000.csv.crc\n",
      "-rw-r--r-- 1 big big 4428090 Apr 26 12:17 part-00000-be3fe2ae-4922-4b3e-8b0f-e0fed42e9d31-c000.csv\n",
      "-rw-r--r-- 1 big big   34604 Apr 26 12:17 .part-00000-be3fe2ae-4922-4b3e-8b0f-e0fed42e9d31-c000.csv.crc\n",
      "-rw-r--r-- 1 big big 2399857 Apr 26 12:18 part-00000-beb7be8c-c48e-41a6-a9ec-27a3d7b96b95-c000.csv\n",
      "-rw-r--r-- 1 big big   18760 Apr 26 12:18 .part-00000-beb7be8c-c48e-41a6-a9ec-27a3d7b96b95-c000.csv.crc\n",
      "-rw-r--r-- 1 big big 1589605 Apr 26 12:16 part-00000-bed4443a-c244-4442-b948-a87d3a5b9610-c000.csv\n",
      "-rw-r--r-- 1 big big   12428 Apr 26 12:16 .part-00000-bed4443a-c244-4442-b948-a87d3a5b9610-c000.csv.crc\n",
      "-rw-r--r-- 1 big big 2408036 Apr 26 12:16 part-00000-beeabd13-f85a-417c-ae32-b4ff78de5d97-c000.csv\n",
      "-rw-r--r-- 1 big big   18824 Apr 26 12:16 .part-00000-beeabd13-f85a-417c-ae32-b4ff78de5d97-c000.csv.crc\n",
      "-rw-r--r-- 1 big big 3695646 Apr 26 12:16 part-00000-bf0904a5-f98f-49e9-ae08-6a2612fdea93-c000.csv\n",
      "-rw-r--r-- 1 big big   28884 Apr 26 12:16 .part-00000-bf0904a5-f98f-49e9-ae08-6a2612fdea93-c000.csv.crc\n",
      "-rw-r--r-- 1 big big 3183263 Apr 26 12:18 part-00000-bf1e3c01-8683-4f81-bf65-4821f193831d-c000.csv\n",
      "-rw-r--r-- 1 big big   24880 Apr 26 12:18 .part-00000-bf1e3c01-8683-4f81-bf65-4821f193831d-c000.csv.crc\n",
      "-rw-r--r-- 1 big big 2230251 Apr 26 12:17 part-00000-c027dad8-11f2-40a6-a88f-6724aa48105f-c000.csv\n",
      "-rw-r--r-- 1 big big   17432 Apr 26 12:17 .part-00000-c027dad8-11f2-40a6-a88f-6724aa48105f-c000.csv.crc\n",
      "-rw-r--r-- 1 big big 3689754 Apr 26 12:16 part-00000-c107f1f9-96fb-4fdc-8a28-d0cc621d96fe-c000.csv\n",
      "-rw-r--r-- 1 big big   28836 Apr 26 12:16 .part-00000-c107f1f9-96fb-4fdc-8a28-d0cc621d96fe-c000.csv.crc\n",
      "-rw-r--r-- 1 big big 2478567 Apr 26 12:17 part-00000-c1519c90-e59a-48ba-afb8-eedb826a45d3-c000.csv\n",
      "-rw-r--r-- 1 big big   19372 Apr 26 12:17 .part-00000-c1519c90-e59a-48ba-afb8-eedb826a45d3-c000.csv.crc\n",
      "-rw-r--r-- 1 big big 2155759 Apr 26 12:17 part-00000-c221b6ad-d927-4986-b37b-21d639b88f24-c000.csv\n",
      "-rw-r--r-- 1 big big   16852 Apr 26 12:17 .part-00000-c221b6ad-d927-4986-b37b-21d639b88f24-c000.csv.crc\n",
      "-rw-r--r-- 1 big big 1828276 Apr 26 12:17 part-00000-c2f44536-83ad-4d87-8dc9-9e101610efa2-c000.csv\n",
      "-rw-r--r-- 1 big big   14292 Apr 26 12:17 .part-00000-c2f44536-83ad-4d87-8dc9-9e101610efa2-c000.csv.crc\n",
      "-rw-r--r-- 1 big big 2394952 Apr 26 12:18 part-00000-c3aa34d4-8c85-4a1a-971d-a20350202d96-c000.csv\n",
      "-rw-r--r-- 1 big big   18720 Apr 26 12:18 .part-00000-c3aa34d4-8c85-4a1a-971d-a20350202d96-c000.csv.crc\n",
      "-rw-r--r-- 1 big big 1671039 Apr 26 12:17 part-00000-c3c13708-ec7f-4555-b495-ffeab7cee8b4-c000.csv\n",
      "-rw-r--r-- 1 big big   13064 Apr 26 12:17 .part-00000-c3c13708-ec7f-4555-b495-ffeab7cee8b4-c000.csv.crc\n",
      "-rw-r--r-- 1 big big 2586287 Apr 26 12:17 part-00000-c448fd41-b7d1-49b6-9caf-9ed87cb69faa-c000.csv\n",
      "-rw-r--r-- 1 big big   20216 Apr 26 12:17 .part-00000-c448fd41-b7d1-49b6-9caf-9ed87cb69faa-c000.csv.crc\n",
      "-rw-r--r-- 1 big big 2086539 Apr 26 12:17 part-00000-c4d5c2fc-73b7-434e-a6dd-61c88d088395-c000.csv\n",
      "-rw-r--r-- 1 big big   16312 Apr 26 12:17 .part-00000-c4d5c2fc-73b7-434e-a6dd-61c88d088395-c000.csv.crc\n",
      "-rw-r--r-- 1 big big 3669507 Apr 28 08:41 part-00000-c5177db1-3cd9-48c7-af4e-5e5cd6c6f901-c000.csv\n",
      "-rw-r--r-- 1 big big   28680 Apr 28 08:41 .part-00000-c5177db1-3cd9-48c7-af4e-5e5cd6c6f901-c000.csv.crc\n",
      "-rw-r--r-- 1 big big 1542902 Apr 26 12:16 part-00000-c55825b9-54fe-4f69-b4aa-bb97a5d3349f-c000.csv\n",
      "-rw-r--r-- 1 big big   12064 Apr 26 12:16 .part-00000-c55825b9-54fe-4f69-b4aa-bb97a5d3349f-c000.csv.crc\n",
      "-rw-r--r-- 1 big big 1933937 Apr 26 12:16 part-00000-c57d876a-7015-40e3-8967-9a22f25f0198-c000.csv\n",
      "-rw-r--r-- 1 big big   15120 Apr 26 12:16 .part-00000-c57d876a-7015-40e3-8967-9a22f25f0198-c000.csv.crc\n",
      "-rw-r--r-- 1 big big 2568474 Apr 26 12:17 part-00000-c5de3812-a297-49a3-9c86-e273cb12eab1-c000.csv\n",
      "-rw-r--r-- 1 big big   20076 Apr 26 12:17 .part-00000-c5de3812-a297-49a3-9c86-e273cb12eab1-c000.csv.crc\n",
      "-rw-r--r-- 1 big big 2506188 Apr 26 12:16 part-00000-c61d6b3c-2131-47b3-a259-243f230cb492-c000.csv\n",
      "-rw-r--r-- 1 big big   19588 Apr 26 12:16 .part-00000-c61d6b3c-2131-47b3-a259-243f230cb492-c000.csv.crc\n",
      "-rw-r--r-- 1 big big 4873337 Apr 26 12:18 part-00000-c6fab7e7-c7c9-401e-bd04-fe2d5fd4286d-c000.csv\n",
      "-rw-r--r-- 1 big big   38084 Apr 26 12:18 .part-00000-c6fab7e7-c7c9-401e-bd04-fe2d5fd4286d-c000.csv.crc\n",
      "-rw-r--r-- 1 big big 2703405 Apr 26 12:18 part-00000-c74c1611-4475-4a21-b440-3770d2bb9575-c000.csv\n",
      "-rw-r--r-- 1 big big   21132 Apr 26 12:18 .part-00000-c74c1611-4475-4a21-b440-3770d2bb9575-c000.csv.crc\n",
      "-rw-r--r-- 1 big big 3905106 Apr 26 12:16 part-00000-c7f4fe3a-3bf8-4616-b1c8-05805e0532d9-c000.csv\n",
      "-rw-r--r-- 1 big big   30520 Apr 26 12:16 .part-00000-c7f4fe3a-3bf8-4616-b1c8-05805e0532d9-c000.csv.crc\n",
      "-rw-r--r-- 1 big big 2841744 Apr 26 12:17 part-00000-c840d7b1-535c-436f-b2a6-ccff54db6b03-c000.csv\n",
      "-rw-r--r-- 1 big big   22212 Apr 26 12:17 .part-00000-c840d7b1-535c-436f-b2a6-ccff54db6b03-c000.csv.crc\n",
      "-rw-r--r-- 1 big big 2181878 Apr 26 12:18 part-00000-c871fa8d-2af6-464a-8c62-8e0f06ad3c81-c000.csv\n",
      "-rw-r--r-- 1 big big   17056 Apr 26 12:18 .part-00000-c871fa8d-2af6-464a-8c62-8e0f06ad3c81-c000.csv.crc\n",
      "-rw-r--r-- 1 big big 1963160 Apr 26 12:16 part-00000-c95e88cd-6a84-4502-bf92-38c49089bb78-c000.csv\n",
      "-rw-r--r-- 1 big big   15348 Apr 26 12:16 .part-00000-c95e88cd-6a84-4502-bf92-38c49089bb78-c000.csv.crc\n",
      "-rw-r--r-- 1 big big 4391186 Apr 26 12:16 part-00000-c99e223a-833a-4044-b683-de00fd45273b-c000.csv\n",
      "-rw-r--r-- 1 big big   34316 Apr 26 12:16 .part-00000-c99e223a-833a-4044-b683-de00fd45273b-c000.csv.crc\n",
      "-rw-r--r-- 1 big big 2941644 Apr 28 08:42 part-00000-c9f69274-9abd-4535-a25e-378483ed64a4-c000.csv\n",
      "-rw-r--r-- 1 big big   22992 Apr 28 08:42 .part-00000-c9f69274-9abd-4535-a25e-378483ed64a4-c000.csv.crc\n",
      "-rw-r--r-- 1 big big 3672965 Apr 28 08:42 part-00000-ca7f4496-c349-4746-9b7f-2ada92a10b20-c000.csv\n",
      "-rw-r--r-- 1 big big   28704 Apr 28 08:42 .part-00000-ca7f4496-c349-4746-9b7f-2ada92a10b20-c000.csv.crc\n",
      "-rw-r--r-- 1 big big 2607588 Apr 26 12:17 part-00000-cb483aed-e305-4256-8cf3-65729bf63986-c000.csv\n",
      "-rw-r--r-- 1 big big   20380 Apr 26 12:17 .part-00000-cb483aed-e305-4256-8cf3-65729bf63986-c000.csv.crc\n",
      "-rw-r--r-- 1 big big 6118498 Apr 26 12:16 part-00000-cb51a8d9-d596-46bd-8cb8-1841e2f4f89b-c000.csv\n",
      "-rw-r--r-- 1 big big   47812 Apr 26 12:16 .part-00000-cb51a8d9-d596-46bd-8cb8-1841e2f4f89b-c000.csv.crc\n",
      "-rw-r--r-- 1 big big 2143870 Apr 26 12:17 part-00000-ccba917a-1f44-4e03-80ec-45e93ec8abdd-c000.csv\n",
      "-rw-r--r-- 1 big big   16760 Apr 26 12:17 .part-00000-ccba917a-1f44-4e03-80ec-45e93ec8abdd-c000.csv.crc\n",
      "-rw-r--r-- 1 big big 1965803 Apr 26 12:16 part-00000-ccf69d5d-df2c-48bf-a840-d4829ac390e0-c000.csv\n",
      "-rw-r--r-- 1 big big   15368 Apr 26 12:16 .part-00000-ccf69d5d-df2c-48bf-a840-d4829ac390e0-c000.csv.crc\n",
      "-rw-r--r-- 1 big big 2093031 Apr 26 12:18 part-00000-cd456cdf-ca4e-4b8f-a54b-9e8e3f32f6cc-c000.csv\n",
      "-rw-r--r-- 1 big big   16360 Apr 26 12:18 .part-00000-cd456cdf-ca4e-4b8f-a54b-9e8e3f32f6cc-c000.csv.crc\n",
      "-rw-r--r-- 1 big big 2032970 Apr 26 12:17 part-00000-cd630888-4960-4317-812d-899cfa147106-c000.csv\n",
      "-rw-r--r-- 1 big big   15892 Apr 26 12:17 .part-00000-cd630888-4960-4317-812d-899cfa147106-c000.csv.crc\n",
      "-rw-r--r-- 1 big big 1804825 Apr 26 12:17 part-00000-ce5f16cd-6a2b-4ca2-8ff9-a44d9bb5135d-c000.csv\n",
      "-rw-r--r-- 1 big big   14112 Apr 26 12:17 .part-00000-ce5f16cd-6a2b-4ca2-8ff9-a44d9bb5135d-c000.csv.crc\n",
      "-rw-r--r-- 1 big big 2079144 Apr 26 12:18 part-00000-ce6dc322-387b-44c6-8985-bd36f316c67d-c000.csv\n",
      "-rw-r--r-- 1 big big   16252 Apr 26 12:18 .part-00000-ce6dc322-387b-44c6-8985-bd36f316c67d-c000.csv.crc\n",
      "-rw-r--r-- 1 big big 6615542 Apr 28 08:42 part-00000-cecca030-5f21-4801-a4d3-3676612fd5e2-c000.csv\n",
      "-rw-r--r-- 1 big big   51692 Apr 28 08:42 .part-00000-cecca030-5f21-4801-a4d3-3676612fd5e2-c000.csv.crc\n",
      "-rw-r--r-- 1 big big 1879348 Apr 26 12:16 part-00000-cf0649ca-4dde-44cd-9bc9-33c0149a2bfc-c000.csv\n",
      "-rw-r--r-- 1 big big   14692 Apr 26 12:16 .part-00000-cf0649ca-4dde-44cd-9bc9-33c0149a2bfc-c000.csv.crc\n",
      "-rw-r--r-- 1 big big 1653764 Apr 26 12:18 part-00000-cf181661-c722-4685-a59d-b9a08e30674c-c000.csv\n",
      "-rw-r--r-- 1 big big   12932 Apr 26 12:18 .part-00000-cf181661-c722-4685-a59d-b9a08e30674c-c000.csv.crc\n",
      "-rw-r--r-- 1 big big 2268628 Apr 26 12:18 part-00000-cfb3f6ed-75fe-44ab-9dfc-ade75edaecfc-c000.csv\n",
      "-rw-r--r-- 1 big big   17732 Apr 26 12:18 .part-00000-cfb3f6ed-75fe-44ab-9dfc-ade75edaecfc-c000.csv.crc\n",
      "-rw-r--r-- 1 big big 2676912 Apr 26 12:18 part-00000-cfee4c92-297f-4404-b00a-e167c4f38a36-c000.csv\n",
      "-rw-r--r-- 1 big big   20924 Apr 26 12:18 .part-00000-cfee4c92-297f-4404-b00a-e167c4f38a36-c000.csv.crc\n",
      "-rw-r--r-- 1 big big 6356379 Apr 28 08:42 part-00000-d0987fe2-be19-4701-ae78-1abfe74ab7bf-c000.csv\n",
      "-rw-r--r-- 1 big big   49668 Apr 28 08:42 .part-00000-d0987fe2-be19-4701-ae78-1abfe74ab7bf-c000.csv.crc\n",
      "-rw-r--r-- 1 big big 5307591 Apr 26 12:16 part-00000-d105ed46-74e3-4030-838c-bbba97beb9b5-c000.csv\n",
      "-rw-r--r-- 1 big big   41476 Apr 26 12:16 .part-00000-d105ed46-74e3-4030-838c-bbba97beb9b5-c000.csv.crc\n",
      "-rw-r--r-- 1 big big 2172006 Apr 26 12:18 part-00000-d1aacb0e-5352-4440-ab52-7167e8d52122-c000.csv\n",
      "-rw-r--r-- 1 big big   16980 Apr 26 12:18 .part-00000-d1aacb0e-5352-4440-ab52-7167e8d52122-c000.csv.crc\n",
      "-rw-r--r-- 1 big big 2597499 Apr 26 12:18 part-00000-d2b9f561-d4cc-497d-865d-2a3301a56c5f-c000.csv\n",
      "-rw-r--r-- 1 big big   20304 Apr 26 12:18 .part-00000-d2b9f561-d4cc-497d-865d-2a3301a56c5f-c000.csv.crc\n",
      "-rw-r--r-- 1 big big 2436215 Apr 26 12:17 part-00000-d3086c8f-2d5b-48c5-8baa-e9984c9d8c33-c000.csv\n",
      "-rw-r--r-- 1 big big   19044 Apr 26 12:17 .part-00000-d3086c8f-2d5b-48c5-8baa-e9984c9d8c33-c000.csv.crc\n",
      "-rw-r--r-- 1 big big 2586143 Apr 26 12:16 part-00000-d31d4e22-be42-4a82-8c1d-c7e600aaf47d-c000.csv\n",
      "-rw-r--r-- 1 big big   20216 Apr 26 12:16 .part-00000-d31d4e22-be42-4a82-8c1d-c7e600aaf47d-c000.csv.crc\n",
      "-rw-r--r-- 1 big big 5717868 Apr 26 12:16 part-00000-d37ea071-fb12-4f17-8245-e477e8a187cb-c000.csv\n",
      "-rw-r--r-- 1 big big   44680 Apr 26 12:16 .part-00000-d37ea071-fb12-4f17-8245-e477e8a187cb-c000.csv.crc\n",
      "-rw-r--r-- 1 big big 2789976 Apr 26 12:17 part-00000-d3be5c9e-f528-4cbe-9ff5-b46f57d4da18-c000.csv\n",
      "-rw-r--r-- 1 big big   21808 Apr 26 12:17 .part-00000-d3be5c9e-f528-4cbe-9ff5-b46f57d4da18-c000.csv.crc\n",
      "-rw-r--r-- 1 big big 1973658 Apr 26 12:18 part-00000-d41c4454-c0a2-4b69-a9ee-0e51dab99515-c000.csv\n",
      "-rw-r--r-- 1 big big   15428 Apr 26 12:18 .part-00000-d41c4454-c0a2-4b69-a9ee-0e51dab99515-c000.csv.crc\n",
      "-rw-r--r-- 1 big big 2300723 Apr 26 12:17 part-00000-d524d53e-5143-45ba-a57a-c9176e7d1f00-c000.csv\n",
      "-rw-r--r-- 1 big big   17984 Apr 26 12:17 .part-00000-d524d53e-5143-45ba-a57a-c9176e7d1f00-c000.csv.crc\n",
      "-rw-r--r-- 1 big big 1580618 Apr 28 08:41 part-00000-d5300ab5-3979-4e36-a84c-364978674bc8-c000.csv\n",
      "-rw-r--r-- 1 big big   12360 Apr 28 08:41 .part-00000-d5300ab5-3979-4e36-a84c-364978674bc8-c000.csv.crc\n",
      "-rw-r--r-- 1 big big 2100373 Apr 26 12:17 part-00000-d5b2e204-1037-4785-8b09-d76dbc2da9b7-c000.csv\n",
      "-rw-r--r-- 1 big big   16420 Apr 26 12:17 .part-00000-d5b2e204-1037-4785-8b09-d76dbc2da9b7-c000.csv.crc\n",
      "-rw-r--r-- 1 big big 1600480 Apr 26 12:16 part-00000-d634ca1b-045a-4741-85db-af98f3e2cfcc-c000.csv\n",
      "-rw-r--r-- 1 big big   12512 Apr 26 12:16 .part-00000-d634ca1b-045a-4741-85db-af98f3e2cfcc-c000.csv.crc\n",
      "-rw-r--r-- 1 big big 1716570 Apr 26 12:17 part-00000-d6c760fb-84fb-48f3-afd6-cc98c88ab519-c000.csv\n",
      "-rw-r--r-- 1 big big   13420 Apr 26 12:17 .part-00000-d6c760fb-84fb-48f3-afd6-cc98c88ab519-c000.csv.crc\n",
      "-rw-r--r-- 1 big big 3695646 Apr 28 08:42 part-00000-d71aa860-e909-4b1a-84b7-945186a77f7a-c000.csv\n",
      "-rw-r--r-- 1 big big   28884 Apr 28 08:42 .part-00000-d71aa860-e909-4b1a-84b7-945186a77f7a-c000.csv.crc\n",
      "-rw-r--r-- 1 big big 2281901 Apr 28 08:42 part-00000-d72931fb-cce0-4348-a6cc-4c78ec2e66f5-c000.csv\n",
      "-rw-r--r-- 1 big big   17836 Apr 28 08:42 .part-00000-d72931fb-cce0-4348-a6cc-4c78ec2e66f5-c000.csv.crc\n",
      "-rw-r--r-- 1 big big 2275959 Apr 26 12:18 part-00000-d7fd6e51-a5fe-42ba-954b-6d8781562272-c000.csv\n",
      "-rw-r--r-- 1 big big   17792 Apr 26 12:18 .part-00000-d7fd6e51-a5fe-42ba-954b-6d8781562272-c000.csv.crc\n",
      "-rw-r--r-- 1 big big 2591973 Apr 26 12:17 part-00000-d7feca50-2c68-4880-af3d-675d09f2832e-c000.csv\n",
      "-rw-r--r-- 1 big big   20260 Apr 26 12:17 .part-00000-d7feca50-2c68-4880-af3d-675d09f2832e-c000.csv.crc\n",
      "-rw-r--r-- 1 big big 3567452 Apr 26 12:18 part-00000-d80ff5b2-6834-4a42-84af-3f84bc67f9af-c000.csv\n",
      "-rw-r--r-- 1 big big   27880 Apr 26 12:18 .part-00000-d80ff5b2-6834-4a42-84af-3f84bc67f9af-c000.csv.crc\n",
      "-rw-r--r-- 1 big big 1888249 Apr 26 12:18 part-00000-d81a2b1f-904e-41f6-a5a7-cb79d1004311-c000.csv\n",
      "-rw-r--r-- 1 big big   14760 Apr 26 12:18 .part-00000-d81a2b1f-904e-41f6-a5a7-cb79d1004311-c000.csv.crc\n",
      "-rw-r--r-- 1 big big 2268713 Apr 26 12:18 part-00000-d85270dc-8c00-44c2-8448-51c0ef211397-c000.csv\n",
      "-rw-r--r-- 1 big big   17736 Apr 26 12:18 .part-00000-d85270dc-8c00-44c2-8448-51c0ef211397-c000.csv.crc\n",
      "-rw-r--r-- 1 big big 2438302 Apr 26 12:17 part-00000-d8fde9d5-dbe1-4d20-8e80-c24c73afb100-c000.csv\n",
      "-rw-r--r-- 1 big big   19060 Apr 26 12:17 .part-00000-d8fde9d5-dbe1-4d20-8e80-c24c73afb100-c000.csv.crc\n",
      "-rw-r--r-- 1 big big 3243795 Apr 26 12:16 part-00000-d91cf447-33fb-4383-b161-b9d4771b6472-c000.csv\n",
      "-rw-r--r-- 1 big big   25352 Apr 26 12:16 .part-00000-d91cf447-33fb-4383-b161-b9d4771b6472-c000.csv.crc\n",
      "-rw-r--r-- 1 big big 7558770 Apr 26 12:18 part-00000-d9629d98-e772-4580-a100-ed652c0fc716-c000.csv\n",
      "-rw-r--r-- 1 big big   59064 Apr 26 12:18 .part-00000-d9629d98-e772-4580-a100-ed652c0fc716-c000.csv.crc\n",
      "-rw-r--r-- 1 big big 1887793 Apr 26 12:18 part-00000-d9f60248-a18a-4fff-90e9-dcc5d0cfd7f2-c000.csv\n",
      "-rw-r--r-- 1 big big   14760 Apr 26 12:18 .part-00000-d9f60248-a18a-4fff-90e9-dcc5d0cfd7f2-c000.csv.crc\n",
      "-rw-r--r-- 1 big big 2060301 Apr 26 12:18 part-00000-daa00ac9-191d-4314-97c5-cd0e365c98d7-c000.csv\n",
      "-rw-r--r-- 1 big big   16108 Apr 26 12:18 .part-00000-daa00ac9-191d-4314-97c5-cd0e365c98d7-c000.csv.crc\n",
      "-rw-r--r-- 1 big big 2351968 Apr 26 12:18 part-00000-dabfa797-7f66-451b-93ae-db7421c9bf91-c000.csv\n",
      "-rw-r--r-- 1 big big   18384 Apr 26 12:18 .part-00000-dabfa797-7f66-451b-93ae-db7421c9bf91-c000.csv.crc\n",
      "-rw-r--r-- 1 big big 2723109 Apr 26 12:18 part-00000-dafa7a5d-fd05-4171-a3fa-68610a7a580c-c000.csv\n",
      "-rw-r--r-- 1 big big   21284 Apr 26 12:18 .part-00000-dafa7a5d-fd05-4171-a3fa-68610a7a580c-c000.csv.crc\n",
      "-rw-r--r-- 1 big big 2836926 Apr 28 08:41 part-00000-dc3c9aa0-cdc3-4c19-8fdf-9b4777ba198e-c000.csv\n",
      "-rw-r--r-- 1 big big   22172 Apr 28 08:41 .part-00000-dc3c9aa0-cdc3-4c19-8fdf-9b4777ba198e-c000.csv.crc\n",
      "-rw-r--r-- 1 big big 4313952 Apr 26 12:18 part-00000-dc3f8ccc-e8fe-4304-ba8c-948d1d3c25fc-c000.csv\n",
      "-rw-r--r-- 1 big big   33712 Apr 26 12:18 .part-00000-dc3f8ccc-e8fe-4304-ba8c-948d1d3c25fc-c000.csv.crc\n",
      "-rw-r--r-- 1 big big 3103795 Apr 26 12:16 part-00000-dc9f7997-5bbf-4a54-ad07-8a40f354c119-c000.csv\n",
      "-rw-r--r-- 1 big big   24260 Apr 26 12:16 .part-00000-dc9f7997-5bbf-4a54-ad07-8a40f354c119-c000.csv.crc\n",
      "-rw-r--r-- 1 big big 3243795 Apr 28 08:42 part-00000-dcd60fe1-ba8d-4a78-9498-7a52ba66128a-c000.csv\n",
      "-rw-r--r-- 1 big big   25352 Apr 28 08:42 .part-00000-dcd60fe1-ba8d-4a78-9498-7a52ba66128a-c000.csv.crc\n",
      "-rw-r--r-- 1 big big 1547727 Apr 26 12:16 part-00000-dd0ac114-3d21-40c6-ba1c-0795d1843fef-c000.csv\n",
      "-rw-r--r-- 1 big big   12100 Apr 26 12:16 .part-00000-dd0ac114-3d21-40c6-ba1c-0795d1843fef-c000.csv.crc\n",
      "-rw-r--r-- 1 big big 2479160 Apr 26 12:17 part-00000-dd674db7-c120-4fef-9eee-12acb62a31f8-c000.csv\n",
      "-rw-r--r-- 1 big big   19380 Apr 26 12:17 .part-00000-dd674db7-c120-4fef-9eee-12acb62a31f8-c000.csv.crc\n",
      "-rw-r--r-- 1 big big 3248238 Apr 26 12:16 part-00000-dd876bf6-cc5a-490f-83f4-4f86c83595d7-c000.csv\n",
      "-rw-r--r-- 1 big big   25388 Apr 26 12:16 .part-00000-dd876bf6-cc5a-490f-83f4-4f86c83595d7-c000.csv.crc\n",
      "-rw-r--r-- 1 big big 2201791 Apr 26 12:16 part-00000-de1792a8-04e1-49d0-b24b-2710cc2b66d2-c000.csv\n",
      "-rw-r--r-- 1 big big   17212 Apr 26 12:16 .part-00000-de1792a8-04e1-49d0-b24b-2710cc2b66d2-c000.csv.crc\n",
      "-rw-r--r-- 1 big big 1732810 Apr 26 12:17 part-00000-df92db8e-7678-4e5a-bfa9-d242e7a5f533-c000.csv\n",
      "-rw-r--r-- 1 big big   13548 Apr 26 12:17 .part-00000-df92db8e-7678-4e5a-bfa9-d242e7a5f533-c000.csv.crc\n",
      "-rw-r--r-- 1 big big 2565431 Apr 26 12:18 part-00000-dfb9b8da-94ef-4e66-b62d-53368f2febd3-c000.csv\n",
      "-rw-r--r-- 1 big big   20052 Apr 26 12:18 .part-00000-dfb9b8da-94ef-4e66-b62d-53368f2febd3-c000.csv.crc\n",
      "-rw-r--r-- 1 big big 1832362 Apr 26 12:18 part-00000-dfc1ed06-1c1b-4454-87ae-0df2c337eea6-c000.csv\n",
      "-rw-r--r-- 1 big big   14324 Apr 26 12:18 .part-00000-dfc1ed06-1c1b-4454-87ae-0df2c337eea6-c000.csv.crc\n",
      "-rw-r--r-- 1 big big 2690729 Apr 26 12:17 part-00000-e00c87af-37b1-4215-9f70-3cc218723f17-c000.csv\n",
      "-rw-r--r-- 1 big big   21032 Apr 26 12:17 .part-00000-e00c87af-37b1-4215-9f70-3cc218723f17-c000.csv.crc\n",
      "-rw-r--r-- 1 big big 3348170 Apr 26 12:16 part-00000-e049bce6-d15b-47fa-b817-6c64ec600a27-c000.csv\n",
      "-rw-r--r-- 1 big big   26168 Apr 26 12:16 .part-00000-e049bce6-d15b-47fa-b817-6c64ec600a27-c000.csv.crc\n",
      "-rw-r--r-- 1 big big 7918929 Apr 28 08:42 part-00000-e0683f46-6617-4562-8180-c2ea0045bade-c000.csv\n",
      "-rw-r--r-- 1 big big   61876 Apr 28 08:42 .part-00000-e0683f46-6617-4562-8180-c2ea0045bade-c000.csv.crc\n",
      "-rw-r--r-- 1 big big 2470582 Apr 26 12:18 part-00000-e145b743-a9e2-4db1-b47b-bd849a91038a-c000.csv\n",
      "-rw-r--r-- 1 big big   19312 Apr 26 12:18 .part-00000-e145b743-a9e2-4db1-b47b-bd849a91038a-c000.csv.crc\n",
      "-rw-r--r-- 1 big big 2329418 Apr 26 12:18 part-00000-e1e536b7-32a0-4027-b42f-5dc311331d04-c000.csv\n",
      "-rw-r--r-- 1 big big   18208 Apr 26 12:18 .part-00000-e1e536b7-32a0-4027-b42f-5dc311331d04-c000.csv.crc\n",
      "-rw-r--r-- 1 big big 5331783 Apr 26 12:16 part-00000-e2bb510f-eb20-4bfa-99ee-33b95a2e448a-c000.csv\n",
      "-rw-r--r-- 1 big big   41664 Apr 26 12:16 .part-00000-e2bb510f-eb20-4bfa-99ee-33b95a2e448a-c000.csv.crc\n",
      "-rw-r--r-- 1 big big 2172280 Apr 26 12:17 part-00000-e2e3ea8f-4c1c-402c-a0e6-9ba1dea25a46-c000.csv\n",
      "-rw-r--r-- 1 big big   16980 Apr 26 12:17 .part-00000-e2e3ea8f-4c1c-402c-a0e6-9ba1dea25a46-c000.csv.crc\n",
      "-rw-r--r-- 1 big big 1991300 Apr 26 12:17 part-00000-e301c4f6-516e-460f-8a02-44a52011c660-c000.csv\n",
      "-rw-r--r-- 1 big big   15568 Apr 26 12:17 .part-00000-e301c4f6-516e-460f-8a02-44a52011c660-c000.csv.crc\n",
      "-rw-r--r-- 1 big big 2255777 Apr 26 12:17 part-00000-e48d3c25-a361-4b85-871c-acc5c34974dd-c000.csv\n",
      "-rw-r--r-- 1 big big   17632 Apr 26 12:17 .part-00000-e48d3c25-a361-4b85-871c-acc5c34974dd-c000.csv.crc\n",
      "-rw-r--r-- 1 big big 2579704 Apr 26 12:18 part-00000-e4ffa2a1-ff86-484e-aad5-596ebc04422a-c000.csv\n",
      "-rw-r--r-- 1 big big   20164 Apr 26 12:18 .part-00000-e4ffa2a1-ff86-484e-aad5-596ebc04422a-c000.csv.crc\n",
      "-rw-r--r-- 1 big big 1923329 Apr 26 12:17 part-00000-e51c0c57-8838-444e-88a8-ebee107bb987-c000.csv\n",
      "-rw-r--r-- 1 big big   15036 Apr 26 12:17 .part-00000-e51c0c57-8838-444e-88a8-ebee107bb987-c000.csv.crc\n",
      "-rw-r--r-- 1 big big 2000718 Apr 26 12:18 part-00000-e56724f8-59da-4f08-9429-065de22469d8-c000.csv\n",
      "-rw-r--r-- 1 big big   15640 Apr 26 12:18 .part-00000-e56724f8-59da-4f08-9429-065de22469d8-c000.csv.crc\n",
      "-rw-r--r-- 1 big big 3648654 Apr 26 12:16 part-00000-e6668a43-6f07-4a33-851d-458e80d31f33-c000.csv\n",
      "-rw-r--r-- 1 big big   28516 Apr 26 12:16 .part-00000-e6668a43-6f07-4a33-851d-458e80d31f33-c000.csv.crc\n",
      "-rw-r--r-- 1 big big 2337650 Apr 26 12:17 part-00000-e692493f-8ffd-49e9-9c4e-effe52216d44-c000.csv\n",
      "-rw-r--r-- 1 big big   18272 Apr 26 12:17 .part-00000-e692493f-8ffd-49e9-9c4e-effe52216d44-c000.csv.crc\n",
      "-rw-r--r-- 1 big big 2012855 Apr 26 12:16 part-00000-e711a915-b61d-4f5e-868e-2b828fbe819d-c000.csv\n",
      "-rw-r--r-- 1 big big   15736 Apr 26 12:16 .part-00000-e711a915-b61d-4f5e-868e-2b828fbe819d-c000.csv.crc\n",
      "-rw-r--r-- 1 big big 2379388 Apr 26 12:17 part-00000-e7247f69-3c65-4c5b-be60-93180d7de1b8-c000.csv\n",
      "-rw-r--r-- 1 big big   18600 Apr 26 12:17 .part-00000-e7247f69-3c65-4c5b-be60-93180d7de1b8-c000.csv.crc\n",
      "-rw-r--r-- 1 big big    9507 Apr 26 12:17 part-00000-e77c6ea3-01c3-4252-aabd-877bdd2e4791-c000.csv\n",
      "-rw-r--r-- 1 big big      84 Apr 26 12:17 .part-00000-e77c6ea3-01c3-4252-aabd-877bdd2e4791-c000.csv.crc\n",
      "-rw-r--r-- 1 big big 4739091 Apr 26 12:16 part-00000-e7870724-37f6-4fc2-b15a-3baaa8215982-c000.csv\n",
      "-rw-r--r-- 1 big big   37036 Apr 26 12:16 .part-00000-e7870724-37f6-4fc2-b15a-3baaa8215982-c000.csv.crc\n",
      "-rw-r--r-- 1 big big 2521040 Apr 26 12:18 part-00000-e7f54b8a-2fd9-4891-b811-fa7aae8e1867-c000.csv\n",
      "-rw-r--r-- 1 big big   19704 Apr 26 12:18 .part-00000-e7f54b8a-2fd9-4891-b811-fa7aae8e1867-c000.csv.crc\n",
      "-rw-r--r-- 1 big big 2598594 Apr 26 12:18 part-00000-e80d6dd0-9cc0-4814-8919-076938977b9b-c000.csv\n",
      "-rw-r--r-- 1 big big   20312 Apr 26 12:18 .part-00000-e80d6dd0-9cc0-4814-8919-076938977b9b-c000.csv.crc\n",
      "-rw-r--r-- 1 big big 3811599 Apr 26 12:16 part-00000-e8808bbb-4030-4a04-88bc-d154a490cc63-c000.csv\n",
      "-rw-r--r-- 1 big big   29788 Apr 26 12:16 .part-00000-e8808bbb-4030-4a04-88bc-d154a490cc63-c000.csv.crc\n",
      "-rw-r--r-- 1 big big 4085675 Apr 28 08:42 part-00000-e8d928db-f246-474b-8ec1-86a6957c999e-c000.csv\n",
      "-rw-r--r-- 1 big big   31928 Apr 28 08:42 .part-00000-e8d928db-f246-474b-8ec1-86a6957c999e-c000.csv.crc\n",
      "-rw-r--r-- 1 big big 1980979 Apr 28 08:42 part-00000-e8fc6ffb-34f5-4b0e-8055-4d562548e61c-c000.csv\n",
      "-rw-r--r-- 1 big big   15488 Apr 28 08:42 .part-00000-e8fc6ffb-34f5-4b0e-8055-4d562548e61c-c000.csv.crc\n",
      "-rw-r--r-- 1 big big 1985949 Apr 26 12:17 part-00000-e90572c2-07bc-4d5c-a593-fa9f2cd2e78c-c000.csv\n",
      "-rw-r--r-- 1 big big   15524 Apr 26 12:17 .part-00000-e90572c2-07bc-4d5c-a593-fa9f2cd2e78c-c000.csv.crc\n",
      "-rw-r--r-- 1 big big 2213045 Apr 26 12:18 part-00000-e98b519d-e93c-45b0-9776-de8809929a6a-c000.csv\n",
      "-rw-r--r-- 1 big big   17300 Apr 26 12:18 .part-00000-e98b519d-e93c-45b0-9776-de8809929a6a-c000.csv.crc\n",
      "-rw-r--r-- 1 big big 2458792 Apr 26 12:17 part-00000-ea203908-6154-4f5a-aca2-e6038d440510-c000.csv\n",
      "-rw-r--r-- 1 big big   19220 Apr 26 12:17 .part-00000-ea203908-6154-4f5a-aca2-e6038d440510-c000.csv.crc\n",
      "-rw-r--r-- 1 big big  140612 Apr 28 08:42 part-00000-ea3d9ee7-d095-41ea-beb0-d82281a8924c-c000.csv\n",
      "-rw-r--r-- 1 big big    1108 Apr 28 08:42 .part-00000-ea3d9ee7-d095-41ea-beb0-d82281a8924c-c000.csv.crc\n",
      "-rw-r--r-- 1 big big 1818044 Apr 26 12:17 part-00000-ea3fff23-7942-4436-ac8b-901174f2b102-c000.csv\n",
      "-rw-r--r-- 1 big big   14212 Apr 26 12:17 .part-00000-ea3fff23-7942-4436-ac8b-901174f2b102-c000.csv.crc\n",
      "-rw-r--r-- 1 big big 3701132 Apr 26 12:18 part-00000-ea58de94-1cda-42e2-abc7-b8222c8804e0-c000.csv\n",
      "-rw-r--r-- 1 big big   28924 Apr 26 12:18 .part-00000-ea58de94-1cda-42e2-abc7-b8222c8804e0-c000.csv.crc\n",
      "-rw-r--r-- 1 big big 2709884 Apr 26 12:18 part-00000-eb4bfc57-4679-4b39-9126-63694eacd104-c000.csv\n",
      "-rw-r--r-- 1 big big   21180 Apr 26 12:18 .part-00000-eb4bfc57-4679-4b39-9126-63694eacd104-c000.csv.crc\n",
      "-rw-r--r-- 1 big big 2780647 Apr 26 12:18 part-00000-eb8a32b9-4a38-4f6b-ba11-22111930a838-c000.csv\n",
      "-rw-r--r-- 1 big big   21732 Apr 26 12:18 .part-00000-eb8a32b9-4a38-4f6b-ba11-22111930a838-c000.csv.crc\n",
      "-rw-r--r-- 1 big big 1401750 Apr 26 12:16 part-00000-eb9a3260-e133-4e23-9bc8-14265138d73c-c000.csv\n",
      "-rw-r--r-- 1 big big   10960 Apr 26 12:16 .part-00000-eb9a3260-e133-4e23-9bc8-14265138d73c-c000.csv.crc\n",
      "-rw-r--r-- 1 big big 9884458 Apr 26 12:16 part-00000-ec88e74a-d453-496a-a56f-5f5aa46dd5f9-c000.csv\n",
      "-rw-r--r-- 1 big big   77232 Apr 26 12:16 .part-00000-ec88e74a-d453-496a-a56f-5f5aa46dd5f9-c000.csv.crc\n",
      "-rw-r--r-- 1 big big 2671127 Apr 26 12:16 part-00000-ecd410ea-d5e0-4e20-8b3a-b8ad08500aec-c000.csv\n",
      "-rw-r--r-- 1 big big   20880 Apr 26 12:16 .part-00000-ecd410ea-d5e0-4e20-8b3a-b8ad08500aec-c000.csv.crc\n",
      "-rw-r--r-- 1 big big 2900516 Apr 26 12:16 part-00000-eda6bccd-b293-4aa2-935b-ec36522d2b0c-c000.csv\n",
      "-rw-r--r-- 1 big big   22672 Apr 26 12:16 .part-00000-eda6bccd-b293-4aa2-935b-ec36522d2b0c-c000.csv.crc\n",
      "-rw-r--r-- 1 big big 2546728 Apr 26 12:18 part-00000-eddcf326-a7e1-486f-9b18-57d677f9c015-c000.csv\n",
      "-rw-r--r-- 1 big big   19908 Apr 26 12:18 .part-00000-eddcf326-a7e1-486f-9b18-57d677f9c015-c000.csv.crc\n",
      "-rw-r--r-- 1 big big 2894567 Apr 26 12:17 part-00000-ee01d9a5-54ea-43b7-8d19-252025bb24de-c000.csv\n",
      "-rw-r--r-- 1 big big   22624 Apr 26 12:17 .part-00000-ee01d9a5-54ea-43b7-8d19-252025bb24de-c000.csv.crc\n",
      "-rw-r--r-- 1 big big 2080654 Apr 26 12:17 part-00000-ee1e3ca6-fdb6-4be9-af71-f94f43297512-c000.csv\n",
      "-rw-r--r-- 1 big big   16264 Apr 26 12:17 .part-00000-ee1e3ca6-fdb6-4be9-af71-f94f43297512-c000.csv.crc\n",
      "-rw-r--r-- 1 big big 2479987 Apr 26 12:18 part-00000-ee8097b4-e176-4f2f-9601-263e7322a04d-c000.csv\n",
      "-rw-r--r-- 1 big big   19384 Apr 26 12:18 .part-00000-ee8097b4-e176-4f2f-9601-263e7322a04d-c000.csv.crc\n",
      "-rw-r--r-- 1 big big 2451968 Apr 26 12:16 part-00000-f071ecfd-e158-4eff-961f-0fa0ad54cd42-c000.csv\n",
      "-rw-r--r-- 1 big big   19164 Apr 26 12:16 .part-00000-f071ecfd-e158-4eff-961f-0fa0ad54cd42-c000.csv.crc\n",
      "-rw-r--r-- 1 big big 1731132 Apr 26 12:16 part-00000-f163a08e-b45b-4f30-809c-d4b8d9c11266-c000.csv\n",
      "-rw-r--r-- 1 big big   13536 Apr 26 12:16 .part-00000-f163a08e-b45b-4f30-809c-d4b8d9c11266-c000.csv.crc\n",
      "-rw-r--r-- 1 big big 2252556 Apr 26 12:17 part-00000-f1e11c88-8551-4518-a420-86e339337f18-c000.csv\n",
      "-rw-r--r-- 1 big big   17608 Apr 26 12:17 .part-00000-f1e11c88-8551-4518-a420-86e339337f18-c000.csv.crc\n",
      "-rw-r--r-- 1 big big 3905106 Apr 28 08:42 part-00000-f23937d3-2bb3-4a50-a80e-889370454888-c000.csv\n",
      "-rw-r--r-- 1 big big   30520 Apr 28 08:42 .part-00000-f23937d3-2bb3-4a50-a80e-889370454888-c000.csv.crc\n",
      "-rw-r--r-- 1 big big 2047225 Apr 26 12:17 part-00000-f3d4a0b0-d979-4862-9ad8-6b7a7260b67b-c000.csv\n",
      "-rw-r--r-- 1 big big   16004 Apr 26 12:17 .part-00000-f3d4a0b0-d979-4862-9ad8-6b7a7260b67b-c000.csv.crc\n",
      "-rw-r--r-- 1 big big 2941644 Apr 26 12:16 part-00000-f3e99f77-2753-4105-a741-94cc7fa9c319-c000.csv\n",
      "-rw-r--r-- 1 big big   22992 Apr 26 12:16 .part-00000-f3e99f77-2753-4105-a741-94cc7fa9c319-c000.csv.crc\n",
      "-rw-r--r-- 1 big big 2725768 Apr 26 12:18 part-00000-f4097352-8282-410f-a849-58f519f97949-c000.csv\n",
      "-rw-r--r-- 1 big big   21304 Apr 26 12:18 .part-00000-f4097352-8282-410f-a849-58f519f97949-c000.csv.crc\n",
      "-rw-r--r-- 1 big big 2408614 Apr 26 12:17 part-00000-f4673072-a9be-4666-89a2-f7244d59aa92-c000.csv\n",
      "-rw-r--r-- 1 big big   18828 Apr 26 12:17 .part-00000-f4673072-a9be-4666-89a2-f7244d59aa92-c000.csv.crc\n",
      "-rw-r--r-- 1 big big 2318426 Apr 26 12:16 part-00000-f4d8efe5-f25d-4b4a-be03-3161a6169708-c000.csv\n",
      "-rw-r--r-- 1 big big   18124 Apr 26 12:16 .part-00000-f4d8efe5-f25d-4b4a-be03-3161a6169708-c000.csv.crc\n",
      "-rw-r--r-- 1 big big 3069091 Apr 26 12:17 part-00000-f50f028c-9dff-488c-b322-3e70717f7fc5-c000.csv\n",
      "-rw-r--r-- 1 big big   23988 Apr 26 12:17 .part-00000-f50f028c-9dff-488c-b322-3e70717f7fc5-c000.csv.crc\n",
      "-rw-r--r-- 1 big big 1932853 Apr 26 12:17 part-00000-f5571252-7f26-4c7c-bd78-86bb7bc56436-c000.csv\n",
      "-rw-r--r-- 1 big big   15112 Apr 26 12:17 .part-00000-f5571252-7f26-4c7c-bd78-86bb7bc56436-c000.csv.crc\n",
      "-rw-r--r-- 1 big big 1462216 Apr 26 12:16 part-00000-f56f4832-0035-469e-a250-f5d1fb9dbd29-c000.csv\n",
      "-rw-r--r-- 1 big big   11432 Apr 26 12:16 .part-00000-f56f4832-0035-469e-a250-f5d1fb9dbd29-c000.csv.crc\n",
      "-rw-r--r-- 1 big big 3893746 Apr 26 12:18 part-00000-f5fba9fb-5daf-4f4e-a3d8-5dbda1c52ef0-c000.csv\n",
      "-rw-r--r-- 1 big big   30428 Apr 26 12:18 .part-00000-f5fba9fb-5daf-4f4e-a3d8-5dbda1c52ef0-c000.csv.crc\n",
      "-rw-r--r-- 1 big big 2235765 Apr 26 12:18 part-00000-f6454e69-64fe-4322-ad7e-098f1c914a97-c000.csv\n",
      "-rw-r--r-- 1 big big   17476 Apr 26 12:18 .part-00000-f6454e69-64fe-4322-ad7e-098f1c914a97-c000.csv.crc\n",
      "-rw-r--r-- 1 big big 1485401 Apr 26 12:16 part-00000-f64e4c0c-6ab0-4c45-ac5b-8fb2f85bd673-c000.csv\n",
      "-rw-r--r-- 1 big big   11616 Apr 26 12:16 .part-00000-f64e4c0c-6ab0-4c45-ac5b-8fb2f85bd673-c000.csv.crc\n",
      "-rw-r--r-- 1 big big 2058373 Apr 26 12:16 part-00000-f67dc5cd-b5c9-43a5-87cf-735cc736b7c9-c000.csv\n",
      "-rw-r--r-- 1 big big   16092 Apr 26 12:16 .part-00000-f67dc5cd-b5c9-43a5-87cf-735cc736b7c9-c000.csv.crc\n",
      "-rw-r--r-- 1 big big 1600480 Apr 28 08:42 part-00000-f6e9aa14-4a1d-41fa-82e8-31ada6b7afbc-c000.csv\n",
      "-rw-r--r-- 1 big big   12512 Apr 28 08:42 .part-00000-f6e9aa14-4a1d-41fa-82e8-31ada6b7afbc-c000.csv.crc\n",
      "-rw-r--r-- 1 big big 4930050 Apr 26 12:16 part-00000-f7777c78-ecb8-4409-9527-ee2065f77aa4-c000.csv\n",
      "-rw-r--r-- 1 big big   38528 Apr 26 12:16 .part-00000-f7777c78-ecb8-4409-9527-ee2065f77aa4-c000.csv.crc\n",
      "-rw-r--r-- 1 big big 2386860 Apr 26 12:18 part-00000-f7a11f37-9869-4946-8567-15fbacc7bd6d-c000.csv\n",
      "-rw-r--r-- 1 big big   18656 Apr 26 12:18 .part-00000-f7a11f37-9869-4946-8567-15fbacc7bd6d-c000.csv.crc\n",
      "-rw-r--r-- 1 big big 1887904 Apr 26 12:16 part-00000-f7a75907-8133-401b-b3cc-9178ae6f1d1c-c000.csv\n",
      "-rw-r--r-- 1 big big   14760 Apr 26 12:16 .part-00000-f7a75907-8133-401b-b3cc-9178ae6f1d1c-c000.csv.crc\n",
      "-rw-r--r-- 1 big big 3443306 Apr 26 12:18 part-00000-f8475eb0-b6e2-4d4a-9b55-eebf272bed30-c000.csv\n",
      "-rw-r--r-- 1 big big   26912 Apr 26 12:18 .part-00000-f8475eb0-b6e2-4d4a-9b55-eebf272bed30-c000.csv.crc\n",
      "-rw-r--r-- 1 big big 3452937 Apr 26 12:17 part-00000-f86c6fc4-53b7-474b-8139-9d302991b1fe-c000.csv\n",
      "-rw-r--r-- 1 big big   26988 Apr 26 12:17 .part-00000-f86c6fc4-53b7-474b-8139-9d302991b1fe-c000.csv.crc\n",
      "-rw-r--r-- 1 big big 1633096 Apr 26 12:17 part-00000-f8e60152-9f25-4bab-a7c4-8c8722e06591-c000.csv\n",
      "-rw-r--r-- 1 big big   12768 Apr 26 12:17 .part-00000-f8e60152-9f25-4bab-a7c4-8c8722e06591-c000.csv.crc\n",
      "-rw-r--r-- 1 big big 2350717 Apr 26 12:16 part-00000-f91c3db7-aab6-462f-9132-cb2a631d3039-c000.csv\n",
      "-rw-r--r-- 1 big big   18376 Apr 26 12:16 .part-00000-f91c3db7-aab6-462f-9132-cb2a631d3039-c000.csv.crc\n",
      "-rw-r--r-- 1 big big 4384709 Apr 26 12:18 part-00000-f9e73ab8-948d-46cd-b821-8ef9995bafe8-c000.csv\n",
      "-rw-r--r-- 1 big big   34264 Apr 26 12:18 .part-00000-f9e73ab8-948d-46cd-b821-8ef9995bafe8-c000.csv.crc\n",
      "-rw-r--r-- 1 big big 2287212 Apr 26 12:18 part-00000-f9ff4a49-8724-402c-8e72-cdd8d4bc4be1-c000.csv\n",
      "-rw-r--r-- 1 big big   17880 Apr 26 12:18 .part-00000-f9ff4a49-8724-402c-8e72-cdd8d4bc4be1-c000.csv.crc\n",
      "-rw-r--r-- 1 big big 1915158 Apr 26 12:17 part-00000-fa0552b0-c366-43ce-952a-e089d48ab32b-c000.csv\n",
      "-rw-r--r-- 1 big big   14972 Apr 26 12:17 .part-00000-fa0552b0-c366-43ce-952a-e089d48ab32b-c000.csv.crc\n",
      "-rw-r--r-- 1 big big 2355565 Apr 26 12:16 part-00000-fafc0a2c-6e9c-45ec-bbc6-6f5e5138c406-c000.csv\n",
      "-rw-r--r-- 1 big big   18412 Apr 26 12:16 .part-00000-fafc0a2c-6e9c-45ec-bbc6-6f5e5138c406-c000.csv.crc\n",
      "-rw-r--r-- 1 big big 3636614 Apr 26 12:17 part-00000-fb2877ec-f2ff-4573-93de-d32047fd6dab-c000.csv\n",
      "-rw-r--r-- 1 big big   28420 Apr 26 12:17 .part-00000-fb2877ec-f2ff-4573-93de-d32047fd6dab-c000.csv.crc\n",
      "-rw-r--r-- 1 big big 2041131 Apr 26 12:17 part-00000-fc0f0dcc-59e8-460e-abb5-7b48adad943d-c000.csv\n",
      "-rw-r--r-- 1 big big   15956 Apr 26 12:17 .part-00000-fc0f0dcc-59e8-460e-abb5-7b48adad943d-c000.csv.crc\n",
      "-rw-r--r-- 1 big big 2372710 Apr 26 12:18 part-00000-fc5d0459-5037-41a2-8c80-058b48e4dac1-c000.csv\n",
      "-rw-r--r-- 1 big big   18548 Apr 26 12:18 .part-00000-fc5d0459-5037-41a2-8c80-058b48e4dac1-c000.csv.crc\n",
      "-rw-r--r-- 1 big big 2350717 Apr 28 08:42 part-00000-fce2e1ff-835a-46aa-bb57-b43c24b16f3f-c000.csv\n",
      "-rw-r--r-- 1 big big   18376 Apr 28 08:42 .part-00000-fce2e1ff-835a-46aa-bb57-b43c24b16f3f-c000.csv.crc\n",
      "-rw-r--r-- 1 big big 4169978 Apr 26 12:16 part-00000-fce6fd94-7fd6-4659-a7f2-4b6dc440d0dd-c000.csv\n",
      "-rw-r--r-- 1 big big   32588 Apr 26 12:16 .part-00000-fce6fd94-7fd6-4659-a7f2-4b6dc440d0dd-c000.csv.crc\n",
      "-rw-r--r-- 1 big big 2180146 Apr 26 12:18 part-00000-fcf7926c-9923-4ab1-ae87-812ccbc4b06f-c000.csv\n",
      "-rw-r--r-- 1 big big   17044 Apr 26 12:18 .part-00000-fcf7926c-9923-4ab1-ae87-812ccbc4b06f-c000.csv.crc\n",
      "-rw-r--r-- 1 big big 2469603 Apr 26 12:17 part-00000-fd78f41c-3cea-4fe5-8a23-469c643e6300-c000.csv\n",
      "-rw-r--r-- 1 big big   19304 Apr 26 12:17 .part-00000-fd78f41c-3cea-4fe5-8a23-469c643e6300-c000.csv.crc\n",
      "-rw-r--r-- 1 big big 6182847 Apr 26 12:16 part-00000-fda0fc40-e5bb-4262-baf6-14e780e2566b-c000.csv\n",
      "-rw-r--r-- 1 big big   48312 Apr 26 12:16 .part-00000-fda0fc40-e5bb-4262-baf6-14e780e2566b-c000.csv.crc\n",
      "-rw-r--r-- 1 big big 2776878 Apr 26 12:18 part-00000-fe2e7ed6-9232-4ba4-8788-28389261bff1-c000.csv\n",
      "-rw-r--r-- 1 big big   21704 Apr 26 12:18 .part-00000-fe2e7ed6-9232-4ba4-8788-28389261bff1-c000.csv.crc\n",
      "-rw-r--r-- 1 big big 3058347 Apr 26 12:18 part-00000-fe47e867-542c-4f7b-9a42-8dd15cb3be47-c000.csv\n",
      "-rw-r--r-- 1 big big   23904 Apr 26 12:18 .part-00000-fe47e867-542c-4f7b-9a42-8dd15cb3be47-c000.csv.crc\n",
      "-rw-r--r-- 1 big big 2505982 Apr 26 12:17 part-00000-ff13aada-6797-44c8-b19d-a535642c0292-c000.csv\n",
      "-rw-r--r-- 1 big big   19588 Apr 26 12:17 .part-00000-ff13aada-6797-44c8-b19d-a535642c0292-c000.csv.crc\n",
      "-rw-r--r-- 1 big big 2331767 Apr 26 12:17 part-00000-ff4df14e-ab58-4c82-b5b8-8f6c598083d3-c000.csv\n",
      "-rw-r--r-- 1 big big   18228 Apr 26 12:17 .part-00000-ff4df14e-ab58-4c82-b5b8-8f6c598083d3-c000.csv.crc\n",
      "-rw-r--r-- 1 big big 5383186 Apr 26 12:16 part-00000-ff527a2e-666e-4a24-bd85-d49e638d53e0-c000.csv\n",
      "-rw-r--r-- 1 big big   42068 Apr 26 12:16 .part-00000-ff527a2e-666e-4a24-bd85-d49e638d53e0-c000.csv.crc\n",
      "-rw-r--r-- 1 big big 2411535 Apr 26 12:17 part-00000-ffa9b700-488a-40fa-8c5a-6e3a2ef5b3f5-c000.csv\n",
      "-rw-r--r-- 1 big big   18852 Apr 26 12:17 .part-00000-ffa9b700-488a-40fa-8c5a-6e3a2ef5b3f5-c000.csv.crc\n",
      "-rw-r--r-- 1 big big 1397420 Apr 26 12:16 part-00000-ffd34221-3dee-485a-ba0f-97798e981e54-c000.csv\n",
      "-rw-r--r-- 1 big big   10928 Apr 26 12:16 .part-00000-ffd34221-3dee-485a-ba0f-97798e981e54-c000.csv.crc\n",
      "-rw-r--r-- 1 big big       0 Apr 28 08:42 _SUCCESS\n",
      "-rw-r--r-- 1 big big       8 Apr 28 08:42 ._SUCCESS.crc\n"
     ]
    }
   ],
   "source": [
    "! ls -la test-janestreetmarket-by-date\n"
   ]
  },
  {
   "cell_type": "code",
   "execution_count": 15,
   "metadata": {},
   "outputs": [
    {
     "data": {
      "text/plain": [
       "StructType(List(StructField(date,IntegerType,true),StructField(weight,DoubleType,true),StructField(resp_1,DoubleType,true),StructField(resp_2,DoubleType,true),StructField(resp_3,DoubleType,true),StructField(resp_4,DoubleType,true),StructField(resp,DoubleType,true),StructField(feature_0,IntegerType,true),StructField(feature_1,DoubleType,true),StructField(feature_2,DoubleType,true),StructField(feature_3,DoubleType,true),StructField(feature_4,DoubleType,true),StructField(feature_5,DoubleType,true),StructField(feature_6,DoubleType,true),StructField(feature_7,DoubleType,true),StructField(feature_8,DoubleType,true),StructField(feature_9,DoubleType,true),StructField(feature_10,DoubleType,true),StructField(feature_11,DoubleType,true),StructField(feature_12,DoubleType,true),StructField(feature_13,DoubleType,true),StructField(feature_14,DoubleType,true),StructField(feature_15,DoubleType,true),StructField(feature_16,DoubleType,true),StructField(feature_17,DoubleType,true),StructField(feature_18,DoubleType,true),StructField(feature_19,DoubleType,true),StructField(feature_20,DoubleType,true),StructField(feature_21,DoubleType,true),StructField(feature_22,DoubleType,true),StructField(feature_23,DoubleType,true),StructField(feature_24,DoubleType,true),StructField(feature_25,DoubleType,true),StructField(feature_26,DoubleType,true),StructField(feature_27,DoubleType,true),StructField(feature_28,DoubleType,true),StructField(feature_29,DoubleType,true),StructField(feature_30,DoubleType,true),StructField(feature_31,DoubleType,true),StructField(feature_32,DoubleType,true),StructField(feature_33,DoubleType,true),StructField(feature_34,DoubleType,true),StructField(feature_35,DoubleType,true),StructField(feature_36,DoubleType,true),StructField(feature_37,DoubleType,true),StructField(feature_38,DoubleType,true),StructField(feature_39,DoubleType,true),StructField(feature_40,DoubleType,true),StructField(feature_41,DoubleType,true),StructField(feature_42,DoubleType,true),StructField(feature_43,DoubleType,true),StructField(feature_44,DoubleType,true),StructField(feature_45,DoubleType,true),StructField(feature_46,DoubleType,true),StructField(feature_47,DoubleType,true),StructField(feature_48,DoubleType,true),StructField(feature_49,DoubleType,true),StructField(feature_50,DoubleType,true),StructField(feature_51,DoubleType,true),StructField(feature_52,DoubleType,true),StructField(feature_53,DoubleType,true),StructField(feature_54,DoubleType,true),StructField(feature_55,DoubleType,true),StructField(feature_56,DoubleType,true),StructField(feature_57,DoubleType,true),StructField(feature_58,DoubleType,true),StructField(feature_59,DoubleType,true),StructField(feature_60,DoubleType,true),StructField(feature_61,DoubleType,true),StructField(feature_62,DoubleType,true),StructField(feature_63,DoubleType,true),StructField(feature_64,DoubleType,true),StructField(feature_65,DoubleType,true),StructField(feature_66,DoubleType,true),StructField(feature_67,DoubleType,true),StructField(feature_68,DoubleType,true),StructField(feature_69,DoubleType,true),StructField(feature_70,DoubleType,true),StructField(feature_71,DoubleType,true),StructField(feature_72,DoubleType,true),StructField(feature_73,DoubleType,true),StructField(feature_74,DoubleType,true),StructField(feature_75,DoubleType,true),StructField(feature_76,DoubleType,true),StructField(feature_77,DoubleType,true),StructField(feature_78,DoubleType,true),StructField(feature_79,DoubleType,true),StructField(feature_80,DoubleType,true),StructField(feature_81,DoubleType,true),StructField(feature_82,DoubleType,true),StructField(feature_83,DoubleType,true),StructField(feature_84,DoubleType,true),StructField(feature_85,DoubleType,true),StructField(feature_86,DoubleType,true),StructField(feature_87,DoubleType,true),StructField(feature_88,DoubleType,true),StructField(feature_89,DoubleType,true),StructField(feature_90,DoubleType,true),StructField(feature_91,DoubleType,true),StructField(feature_92,DoubleType,true),StructField(feature_93,DoubleType,true),StructField(feature_94,DoubleType,true),StructField(feature_95,DoubleType,true),StructField(feature_96,DoubleType,true),StructField(feature_97,DoubleType,true),StructField(feature_98,DoubleType,true),StructField(feature_99,DoubleType,true),StructField(feature_100,DoubleType,true),StructField(feature_101,DoubleType,true),StructField(feature_102,DoubleType,true),StructField(feature_103,DoubleType,true),StructField(feature_104,DoubleType,true),StructField(feature_105,DoubleType,true),StructField(feature_106,DoubleType,true),StructField(feature_107,DoubleType,true),StructField(feature_108,DoubleType,true),StructField(feature_109,DoubleType,true),StructField(feature_110,DoubleType,true),StructField(feature_111,DoubleType,true),StructField(feature_112,DoubleType,true),StructField(feature_113,DoubleType,true),StructField(feature_114,DoubleType,true),StructField(feature_115,DoubleType,true),StructField(feature_116,DoubleType,true),StructField(feature_117,DoubleType,true),StructField(feature_118,DoubleType,true),StructField(feature_119,DoubleType,true),StructField(feature_120,DoubleType,true),StructField(feature_121,DoubleType,true),StructField(feature_122,DoubleType,true),StructField(feature_123,DoubleType,true),StructField(feature_124,DoubleType,true),StructField(feature_125,DoubleType,true),StructField(feature_126,DoubleType,true),StructField(feature_127,DoubleType,true),StructField(feature_128,DoubleType,true),StructField(feature_129,DoubleType,true),StructField(ts_id,IntegerType,true),StructField(label,IntegerType,true)))"
      ]
     },
     "execution_count": 15,
     "metadata": {},
     "output_type": "execute_result"
    }
   ],
   "source": [
    "# the schema, should we need it later on\n",
    "\n",
    "janestreetmarket_schema = df.schema\n",
    "janestreetmarket_schema\n"
   ]
  },
  {
   "cell_type": "markdown",
   "metadata": {},
   "source": [
    "## Simulated streaming version of daily data"
   ]
  },
  {
   "cell_type": "code",
   "execution_count": 16,
   "metadata": {},
   "outputs": [],
   "source": [
    "streaming = ( spark.readStream.schema(janestreetmarket_schema)\n",
    "             .option(\"mode\",\"DROPMALFORMED\")\n",
    "             .option(\"maxFilesPerTrigger\", 1) # read one a file at a time\n",
    "             .csv(\"test-janestreetmarket-by-date\") # the directory containing data\n",
    "            )\n"
   ]
  },
  {
   "attachments": {
    "Screenshot%202022-04-26%20at%2019.02.17.png": {
     "image/png": "[encoded data removed]"
    }
   },
   "cell_type": "markdown",
   "metadata": {},
   "source": [
    "# Select the ML model\n",
    "\n",
    "We are going to use of the model that was already been created and stored in file.\n",
    "\n",
    "The model was trained using features as depicted in the matrix correlation below.\n",
    "\n",
    "![Screenshot%202022-04-26%20at%2019.02.17.png](attachment:Screenshot%202022-04-26%20at%2019.02.17.png)"
   ]
  },
  {
   "cell_type": "code",
   "execution_count": 19,
   "metadata": {},
   "outputs": [
    {
     "name": "stderr",
     "output_type": "stream",
     "text": [
      "                                                                                \r"
     ]
    }
   ],
   "source": [
    "# Load the ML model (not the simple pipeline)\n",
    "\n",
    "model = PipelineModel.load(\"model-LinearSVM\")\n"
   ]
  },
  {
   "cell_type": "markdown",
   "metadata": {},
   "source": [
    "# Streaming data transformer\n",
    "\n",
    "Let us set the operations to be applied to the stream."
   ]
  },
  {
   "cell_type": "code",
   "execution_count": 20,
   "metadata": {},
   "outputs": [],
   "source": [
    "# Fit stream test data into the model\n",
    "\n",
    "prediction = model.transform(streaming)\n"
   ]
  },
  {
   "cell_type": "code",
   "execution_count": 21,
   "metadata": {},
   "outputs": [],
   "source": [
    "# As in the notebook about binary classification, to compute the daily score \n",
    "# based on the trades made in that day, as weight * resp\n",
    "\n",
    "daily_score = ( prediction\n",
    "                   .withColumn(\"score\", expr(\"weight * resp * prediction\"))\n",
    "                   .groupBy(\"date\")\n",
    "                   .agg(count(\"score\").alias(\"trades\"), sum(\"score\").alias(\"total score\"))\n",
    "              )\n",
    "    "
   ]
  },
  {
   "cell_type": "code",
   "execution_count": 24,
   "metadata": {
    "collapsed": true,
    "jupyter": {
     "outputs_hidden": true
    },
    "tags": []
   },
   "outputs": [
    {
     "name": "stderr",
     "output_type": "stream",
     "text": [
      "22/04/28 08:56:19 WARN ResolveWriteToStream: Temporary checkpoint location created which is deleted normally when the query didn't fail: /tmp/temporary-f14da854-1458-4f73-9352-1c85437412ee. If it's required to delete it under any circumstances, please set spark.sql.streaming.forceDeleteTempCheckpointLocation to true. Important to know deleting temp checkpoint folder is best effort.\n",
      "22/04/28 08:56:19 WARN ResolveWriteToStream: spark.sql.adaptive.enabled is not supported in streaming DataFrames/Datasets and will be disabled.\n",
      "                                                                                \r"
     ]
    },
    {
     "name": "stdout",
     "output_type": "stream",
     "text": [
      "-------------------------------------------\n",
      "Batch: 19\n",
      "-------------------------------------------\n",
      "+----+------+------------------+\n",
      "|date|trades|       total score|\n",
      "+----+------+------------------+\n",
      "|  12|  2512| 45.69359017673081|\n",
      "|   1|  1867|34.610710405714116|\n",
      "|  13|  1011|12.511882217900721|\n",
      "|   6|   596| 4.215652725921872|\n",
      "|  16|  1796| 40.63414962566917|\n",
      "|   3|  1446|19.353484587030067|\n",
      "|   5|  2021|  44.9261880664683|\n",
      "|  19|  1226| 38.97824807912574|\n",
      "|  15|  1228|15.047707423435591|\n",
      "|   9|  1397|21.228627203907795|\n",
      "|  17|  1332|22.004204437392485|\n",
      "|   4|  2086|26.606762445868117|\n",
      "|   8|  1390| 23.34367982640452|\n",
      "|   7|   528| 4.987800784283386|\n",
      "|  10|   744| 7.300367594774864|\n",
      "|  11|   892| 16.95876568091774|\n",
      "|  14|   434| 6.942924006625589|\n",
      "|   2|    46|               0.0|\n",
      "|   0|  1074|13.232881865121751|\n",
      "|  18|  2412| 48.40266833234401|\n",
      "+----+------+------------------+\n",
      "\n"
     ]
    },
    {
     "name": "stderr",
     "output_type": "stream",
     "text": [
      "                                                                                \r"
     ]
    },
    {
     "name": "stdout",
     "output_type": "stream",
     "text": [
      "-------------------------------------------\n",
      "Batch: 0\n",
      "-------------------------------------------\n",
      "+----+------+------------------+\n",
      "|date|trades|       total score|\n",
      "+----+------+------------------+\n",
      "|   0|  1074|13.232881865121751|\n",
      "+----+------+------------------+\n",
      "\n"
     ]
    },
    {
     "name": "stderr",
     "output_type": "stream",
     "text": [
      "[Stage 152:(197 + 2) / 200][Stage 154:>(0 + 0) / 200][Stage 155:>  (0 + 0) / 2]]\r"
     ]
    },
    {
     "name": "stdout",
     "output_type": "stream",
     "text": [
      "-------------------------------------------\n",
      "Batch: 20\n",
      "-------------------------------------------\n",
      "+----+------+------------------+\n",
      "|date|trades|       total score|\n",
      "+----+------+------------------+\n",
      "|  12|  2512| 45.69359017673081|\n",
      "|   1|  1867|34.610710405714116|\n",
      "|  13|  1011|12.511882217900721|\n",
      "|   6|   596| 4.215652725921872|\n",
      "|  16|  1796| 40.63414962566917|\n",
      "|   3|  1446|19.353484587030067|\n",
      "|  20|   761|11.421589551666617|\n",
      "|   5|  2021|  44.9261880664683|\n",
      "|  19|  1226| 38.97824807912574|\n",
      "|  15|  1228|15.047707423435591|\n",
      "|   9|  1397|21.228627203907795|\n",
      "|  17|  1332|22.004204437392485|\n",
      "|   4|  2086|26.606762445868117|\n",
      "|   8|  1390| 23.34367982640452|\n",
      "|   7|   528| 4.987800784283386|\n",
      "|  10|   744| 7.300367594774864|\n",
      "|  11|   892| 16.95876568091774|\n",
      "|  14|   434| 6.942924006625589|\n",
      "|   2|    46|               0.0|\n",
      "|   0|  1074|13.232881865121751|\n",
      "+----+------+------------------+\n",
      "only showing top 20 rows\n",
      "\n"
     ]
    },
    {
     "name": "stderr",
     "output_type": "stream",
     "text": [
      "                                                                                \r"
     ]
    },
    {
     "name": "stdout",
     "output_type": "stream",
     "text": [
      "-------------------------------------------\n",
      "Batch: 1\n",
      "-------------------------------------------\n",
      "+----+------+------------------+\n",
      "|date|trades|       total score|\n",
      "+----+------+------------------+\n",
      "|   1|  1867|34.610710405714116|\n",
      "|   0|  1074|13.232881865121751|\n",
      "+----+------+------------------+\n",
      "\n"
     ]
    },
    {
     "name": "stderr",
     "output_type": "stream",
     "text": [
      "                                                                                \r"
     ]
    },
    {
     "name": "stdout",
     "output_type": "stream",
     "text": [
      "-------------------------------------------\n",
      "Batch: 21\n",
      "-------------------------------------------\n",
      "+----+------+------------------+\n",
      "|date|trades|       total score|\n",
      "+----+------+------------------+\n",
      "|  12|  2512| 45.69359017673081|\n",
      "|   1|  1867|34.610710405714116|\n",
      "|  13|  1011|12.511882217900721|\n",
      "|   6|   596| 4.215652725921872|\n",
      "|  16|  1796| 40.63414962566917|\n",
      "|   3|  1446|19.353484587030067|\n",
      "|  20|   761|11.421589551666617|\n",
      "|   5|  2021|  44.9261880664683|\n",
      "|  19|  1226| 38.97824807912574|\n",
      "|  15|  1228|15.047707423435591|\n",
      "|   9|  1397|21.228627203907795|\n",
      "|  17|  1332|22.004204437392485|\n",
      "|   4|  2086|26.606762445868117|\n",
      "|   8|  1390| 23.34367982640452|\n",
      "|   7|   528| 4.987800784283386|\n",
      "|  10|   744| 7.300367594774864|\n",
      "|  21|   604| 5.725162538871199|\n",
      "|  11|   892| 16.95876568091774|\n",
      "|  14|   434| 6.942924006625589|\n",
      "|   2|    46|               0.0|\n",
      "+----+------+------------------+\n",
      "only showing top 20 rows\n",
      "\n"
     ]
    },
    {
     "name": "stderr",
     "output_type": "stream",
     "text": [
      "                                                                                \r"
     ]
    },
    {
     "name": "stdout",
     "output_type": "stream",
     "text": [
      "-------------------------------------------\n",
      "Batch: 2\n",
      "-------------------------------------------\n",
      "+----+------+------------------+\n",
      "|date|trades|       total score|\n",
      "+----+------+------------------+\n",
      "|   1|  1867|34.610710405714116|\n",
      "|   2|    46|               0.0|\n",
      "|   0|  1074|13.232881865121751|\n",
      "+----+------+------------------+\n",
      "\n"
     ]
    },
    {
     "name": "stderr",
     "output_type": "stream",
     "text": [
      "                                                                                \r"
     ]
    },
    {
     "name": "stdout",
     "output_type": "stream",
     "text": [
      "-------------------------------------------\n",
      "Batch: 22\n",
      "-------------------------------------------\n",
      "+----+------+------------------+\n",
      "|date|trades|       total score|\n",
      "+----+------+------------------+\n",
      "|  12|  2512| 45.69359017673081|\n",
      "|   1|  1867|34.610710405714116|\n",
      "|  13|  1011|12.511882217900721|\n",
      "|   6|   596| 4.215652725921872|\n",
      "|  16|  1796| 40.63414962566917|\n",
      "|   3|  1446|19.353484587030067|\n",
      "|  20|   761|11.421589551666617|\n",
      "|   5|  2021|  44.9261880664683|\n",
      "|  19|  1226| 38.97824807912574|\n",
      "|  15|  1228|15.047707423435591|\n",
      "|   9|  1397|21.228627203907795|\n",
      "|  17|  1332|22.004204437392485|\n",
      "|   4|  2086|26.606762445868117|\n",
      "|   8|  1390| 23.34367982640452|\n",
      "|  23|  1347|18.231268702002378|\n",
      "|   7|   528| 4.987800784283386|\n",
      "|  10|   744| 7.300367594774864|\n",
      "|  21|   604| 5.725162538871199|\n",
      "|  11|   892| 16.95876568091774|\n",
      "|  14|   434| 6.942924006625589|\n",
      "+----+------+------------------+\n",
      "only showing top 20 rows\n",
      "\n"
     ]
    },
    {
     "name": "stderr",
     "output_type": "stream",
     "text": [
      "                                                                                \r"
     ]
    },
    {
     "name": "stdout",
     "output_type": "stream",
     "text": [
      "-------------------------------------------\n",
      "Batch: 3\n",
      "-------------------------------------------\n",
      "+----+------+------------------+\n",
      "|date|trades|       total score|\n",
      "+----+------+------------------+\n",
      "|   1|  1867|34.610710405714116|\n",
      "|   4|  2086|26.606762445868117|\n",
      "|   2|    46|               0.0|\n",
      "|   0|  1074|13.232881865121751|\n",
      "+----+------+------------------+\n",
      "\n"
     ]
    },
    {
     "name": "stderr",
     "output_type": "stream",
     "text": [
      "                                                                                \r"
     ]
    },
    {
     "name": "stdout",
     "output_type": "stream",
     "text": [
      "-------------------------------------------\n",
      "Batch: 23\n",
      "-------------------------------------------\n",
      "+----+------+------------------+\n",
      "|date|trades|       total score|\n",
      "+----+------+------------------+\n",
      "|  12|  2512| 45.69359017673081|\n",
      "|  22|  1296|22.654992255397108|\n",
      "|   1|  1867|34.610710405714116|\n",
      "|  13|  1011|12.511882217900721|\n",
      "|   6|   596| 4.215652725921872|\n",
      "|  16|  1796| 40.63414962566917|\n",
      "|   3|  1446|19.353484587030067|\n",
      "|  20|   761|11.421589551666617|\n",
      "|   5|  2021|  44.9261880664683|\n",
      "|  19|  1226| 38.97824807912574|\n",
      "|  15|  1228|15.047707423435591|\n",
      "|   9|  1397|21.228627203907795|\n",
      "|  17|  1332|22.004204437392485|\n",
      "|   4|  2086|26.606762445868117|\n",
      "|   8|  1390| 23.34367982640452|\n",
      "|  23|  1347|18.231268702002378|\n",
      "|   7|   528| 4.987800784283386|\n",
      "|  10|   744| 7.300367594774864|\n",
      "|  21|   604| 5.725162538871199|\n",
      "|  11|   892| 16.95876568091774|\n",
      "+----+------+------------------+\n",
      "only showing top 20 rows\n",
      "\n"
     ]
    },
    {
     "name": "stderr",
     "output_type": "stream",
     "text": [
      "                                                                                \r"
     ]
    },
    {
     "name": "stdout",
     "output_type": "stream",
     "text": [
      "-------------------------------------------\n",
      "Batch: 4\n",
      "-------------------------------------------\n",
      "+----+------+------------------+\n",
      "|date|trades|       total score|\n",
      "+----+------+------------------+\n",
      "|   1|  1867|34.610710405714116|\n",
      "|   5|  2021|  44.9261880664683|\n",
      "|   4|  2086|26.606762445868117|\n",
      "|   2|    46|               0.0|\n",
      "|   0|  1074|13.232881865121751|\n",
      "+----+------+------------------+\n",
      "\n"
     ]
    },
    {
     "name": "stderr",
     "output_type": "stream",
     "text": [
      "[Stage 176:(199 + 1) / 200][Stage 177:>  (0 + 1) / 2][Stage 179:>  (0 + 0) / 1]]\r"
     ]
    },
    {
     "name": "stdout",
     "output_type": "stream",
     "text": [
      "-------------------------------------------\n",
      "Batch: 24\n",
      "-------------------------------------------\n",
      "+----+------+------------------+\n",
      "|date|trades|       total score|\n",
      "+----+------+------------------+\n",
      "|  12|  2512| 45.69359017673081|\n",
      "|  22|  1296|22.654992255397108|\n",
      "|   1|  1867|34.610710405714116|\n",
      "|  13|  1011|12.511882217900721|\n",
      "|   6|   596| 4.215652725921872|\n",
      "|  16|  1796| 40.63414962566917|\n",
      "|   3|  1446|19.353484587030067|\n",
      "|  20|   761|11.421589551666617|\n",
      "|   5|  2021|  44.9261880664683|\n",
      "|  19|  1226| 38.97824807912574|\n",
      "|  15|  1228|15.047707423435591|\n",
      "|   9|  1397|21.228627203907795|\n",
      "|  17|  1332|22.004204437392485|\n",
      "|   4|  2086|26.606762445868117|\n",
      "|   8|  1390| 23.34367982640452|\n",
      "|  23|  1347|18.231268702002378|\n",
      "|   7|   528| 4.987800784283386|\n",
      "|  10|   744| 7.300367594774864|\n",
      "|  24|  1873| 23.07194092705697|\n",
      "|  21|   604| 5.725162538871199|\n",
      "+----+------+------------------+\n",
      "only showing top 20 rows\n",
      "\n"
     ]
    },
    {
     "name": "stderr",
     "output_type": "stream",
     "text": [
      "                                                                                \r"
     ]
    },
    {
     "name": "stdout",
     "output_type": "stream",
     "text": [
      "-------------------------------------------\n",
      "Batch: 5\n",
      "-------------------------------------------\n",
      "+----+------+------------------+\n",
      "|date|trades|       total score|\n",
      "+----+------+------------------+\n",
      "|   1|  1867|34.610710405714116|\n",
      "|   3|  1446|19.353484587030067|\n",
      "|   5|  2021|  44.9261880664683|\n",
      "|   4|  2086|26.606762445868117|\n",
      "|   2|    46|               0.0|\n",
      "|   0|  1074|13.232881865121751|\n",
      "+----+------+------------------+\n",
      "\n"
     ]
    },
    {
     "name": "stderr",
     "output_type": "stream",
     "text": [
      "                                                                                \r"
     ]
    },
    {
     "name": "stdout",
     "output_type": "stream",
     "text": [
      "-------------------------------------------\n",
      "Batch: 25\n",
      "-------------------------------------------\n",
      "+----+------+------------------+\n",
      "|date|trades|       total score|\n",
      "+----+------+------------------+\n",
      "|  27|  1573|27.840316434276815|\n",
      "|  12|  2512| 45.69359017673081|\n",
      "|  22|  1296|22.654992255397108|\n",
      "|   1|  1867|34.610710405714116|\n",
      "|  13|  1011|12.511882217900721|\n",
      "|   6|   596| 4.215652725921872|\n",
      "|  16|  1796| 40.63414962566917|\n",
      "|   3|  1446|19.353484587030067|\n",
      "|  20|   761|11.421589551666617|\n",
      "|   5|  2021|  44.9261880664683|\n",
      "|  19|  1226| 38.97824807912574|\n",
      "|  15|  1228|15.047707423435591|\n",
      "|   9|  1397|21.228627203907795|\n",
      "|  17|  1332|22.004204437392485|\n",
      "|   4|  2086|26.606762445868117|\n",
      "|   8|  1390| 23.34367982640452|\n",
      "|  23|  1347|18.231268702002378|\n",
      "|   7|   528| 4.987800784283386|\n",
      "|  10|   744| 7.300367594774864|\n",
      "|  24|  1873| 23.07194092705697|\n",
      "+----+------+------------------+\n",
      "only showing top 20 rows\n",
      "\n"
     ]
    },
    {
     "name": "stderr",
     "output_type": "stream",
     "text": [
      "                                                                                \r"
     ]
    },
    {
     "name": "stdout",
     "output_type": "stream",
     "text": [
      "-------------------------------------------\n",
      "Batch: 6\n",
      "-------------------------------------------\n",
      "+----+------+------------------+\n",
      "|date|trades|       total score|\n",
      "+----+------+------------------+\n",
      "|   1|  1867|34.610710405714116|\n",
      "|   3|  1446|19.353484587030067|\n",
      "|   5|  2021|  44.9261880664683|\n",
      "|   4|  2086|26.606762445868117|\n",
      "|   7|   528| 4.987800784283386|\n",
      "|   2|    46|               0.0|\n",
      "|   0|  1074|13.232881865121751|\n",
      "+----+------+------------------+\n",
      "\n"
     ]
    },
    {
     "name": "stderr",
     "output_type": "stream",
     "text": [
      "[Stage 188:(199 + 1) / 200][Stage 189:>  (0 + 1) / 1][Stage 191:>  (0 + 0) / 1]]\r"
     ]
    },
    {
     "name": "stdout",
     "output_type": "stream",
     "text": [
      "-------------------------------------------\n",
      "Batch: 26\n",
      "-------------------------------------------\n"
     ]
    },
    {
     "name": "stderr",
     "output_type": "stream",
     "text": [
      "                                                                                \r"
     ]
    },
    {
     "name": "stdout",
     "output_type": "stream",
     "text": [
      "+----+------+------------------+\n",
      "|date|trades|       total score|\n",
      "+----+------+------------------+\n",
      "|  26|  1401|27.667816365755392|\n",
      "|  27|  1573|27.840316434276815|\n",
      "|  12|  2512| 45.69359017673081|\n",
      "|  22|  1296|22.654992255397108|\n",
      "|   1|  1867|34.610710405714116|\n",
      "|  13|  1011|12.511882217900721|\n",
      "|   6|   596| 4.215652725921872|\n",
      "|  16|  1796| 40.63414962566917|\n",
      "|   3|  1446|19.353484587030067|\n",
      "|  20|   761|11.421589551666617|\n",
      "|   5|  2021|  44.9261880664683|\n",
      "|  19|  1226| 38.97824807912574|\n",
      "|  15|  1228|15.047707423435591|\n",
      "|   9|  1397|21.228627203907795|\n",
      "|  17|  1332|22.004204437392485|\n",
      "|   4|  2086|26.606762445868117|\n",
      "|   8|  1390| 23.34367982640452|\n",
      "|  23|  1347|18.231268702002378|\n",
      "|   7|   528| 4.987800784283386|\n",
      "|  10|   744| 7.300367594774864|\n",
      "+----+------+------------------+\n",
      "only showing top 20 rows\n",
      "\n"
     ]
    },
    {
     "name": "stderr",
     "output_type": "stream",
     "text": [
      "                                                                                \r"
     ]
    },
    {
     "name": "stdout",
     "output_type": "stream",
     "text": [
      "-------------------------------------------\n",
      "Batch: 7\n",
      "-------------------------------------------\n",
      "+----+------+------------------+\n",
      "|date|trades|       total score|\n",
      "+----+------+------------------+\n",
      "|   1|  1867|34.610710405714116|\n",
      "|   6|   596| 4.215652725921872|\n",
      "|   3|  1446|19.353484587030067|\n",
      "|   5|  2021|  44.9261880664683|\n",
      "|   4|  2086|26.606762445868117|\n",
      "|   7|   528| 4.987800784283386|\n",
      "|   2|    46|               0.0|\n",
      "|   0|  1074|13.232881865121751|\n",
      "+----+------+------------------+\n",
      "\n"
     ]
    },
    {
     "name": "stderr",
     "output_type": "stream",
     "text": [
      "                                                                                \r"
     ]
    },
    {
     "name": "stdout",
     "output_type": "stream",
     "text": [
      "-------------------------------------------\n",
      "Batch: 27\n",
      "-------------------------------------------\n",
      "+----+------+------------------+\n",
      "|date|trades|       total score|\n",
      "+----+------+------------------+\n",
      "|  26|  1401|27.667816365755392|\n",
      "|  27|  1573|27.840316434276815|\n",
      "|  12|  2512| 45.69359017673081|\n",
      "|  22|  1296|22.654992255397108|\n",
      "|   1|  1867|34.610710405714116|\n",
      "|  13|  1011|12.511882217900721|\n",
      "|   6|   596| 4.215652725921872|\n",
      "|  16|  1796| 40.63414962566917|\n",
      "|   3|  1446|19.353484587030067|\n",
      "|  20|   761|11.421589551666617|\n",
      "|   5|  2021|  44.9261880664683|\n",
      "|  19|  1226| 38.97824807912574|\n",
      "|  15|  1228|15.047707423435591|\n",
      "|   9|  1397|21.228627203907795|\n",
      "|  17|  1332|22.004204437392485|\n",
      "|   4|  2086|26.606762445868117|\n",
      "|   8|  1390| 23.34367982640452|\n",
      "|  23|  1347|18.231268702002378|\n",
      "|   7|   528| 4.987800784283386|\n",
      "|  10|   744| 7.300367594774864|\n",
      "+----+------+------------------+\n",
      "only showing top 20 rows\n",
      "\n"
     ]
    },
    {
     "name": "stderr",
     "output_type": "stream",
     "text": [
      "                                                                                \r"
     ]
    },
    {
     "name": "stdout",
     "output_type": "stream",
     "text": [
      "-------------------------------------------\n",
      "Batch: 8\n",
      "-------------------------------------------\n",
      "+----+------+------------------+\n",
      "|date|trades|       total score|\n",
      "+----+------+------------------+\n",
      "|   1|  1867|34.610710405714116|\n",
      "|   6|   596| 4.215652725921872|\n",
      "|   3|  1446|19.353484587030067|\n",
      "|   5|  2021|  44.9261880664683|\n",
      "|   4|  2086|26.606762445868117|\n",
      "|   8|  1390| 23.34367982640452|\n",
      "|   7|   528| 4.987800784283386|\n",
      "|   2|    46|               0.0|\n",
      "|   0|  1074|13.232881865121751|\n",
      "+----+------+------------------+\n",
      "\n"
     ]
    },
    {
     "name": "stderr",
     "output_type": "stream",
     "text": [
      "                                                                                \r"
     ]
    },
    {
     "name": "stdout",
     "output_type": "stream",
     "text": [
      "-------------------------------------------\n",
      "Batch: 28\n",
      "-------------------------------------------\n",
      "+----+------+------------------+\n",
      "|date|trades|       total score|\n",
      "+----+------+------------------+\n",
      "|  26|  1401|27.667816365755392|\n",
      "|  27|  1573|27.840316434276815|\n",
      "|  12|  2512| 45.69359017673081|\n",
      "|  22|  1296|22.654992255397108|\n",
      "|   1|  1867|34.610710405714116|\n",
      "|  13|  1011|12.511882217900721|\n",
      "|   6|   596| 4.215652725921872|\n",
      "|  16|  1796| 40.63414962566917|\n",
      "|   3|  1446|19.353484587030067|\n",
      "|  20|   761|11.421589551666617|\n",
      "|   5|  2021|  44.9261880664683|\n",
      "|  19|  1226| 38.97824807912574|\n",
      "|  15|  1228|15.047707423435591|\n",
      "|   9|  1397|21.228627203907795|\n",
      "|  17|  1332|22.004204437392485|\n",
      "|   4|  2086|26.606762445868117|\n",
      "|   8|  1390| 23.34367982640452|\n",
      "|  23|  1347|18.231268702002378|\n",
      "|   7|   528| 4.987800784283386|\n",
      "|  10|   744| 7.300367594774864|\n",
      "+----+------+------------------+\n",
      "only showing top 20 rows\n",
      "\n"
     ]
    },
    {
     "name": "stderr",
     "output_type": "stream",
     "text": [
      "                                                                                \r"
     ]
    },
    {
     "name": "stdout",
     "output_type": "stream",
     "text": [
      "-------------------------------------------\n",
      "Batch: 9\n",
      "-------------------------------------------\n",
      "+----+------+------------------+\n",
      "|date|trades|       total score|\n",
      "+----+------+------------------+\n",
      "|   1|  1867|34.610710405714116|\n",
      "|   6|   596| 4.215652725921872|\n",
      "|   3|  1446|19.353484587030067|\n",
      "|   5|  2021|  44.9261880664683|\n",
      "|   4|  2086|26.606762445868117|\n",
      "|   8|  1390| 23.34367982640452|\n",
      "|   7|   528| 4.987800784283386|\n",
      "|  10|   744| 7.300367594774864|\n",
      "|   2|    46|               0.0|\n",
      "|   0|  1074|13.232881865121751|\n",
      "+----+------+------------------+\n",
      "\n"
     ]
    },
    {
     "name": "stderr",
     "output_type": "stream",
     "text": [
      "                                                                                \r"
     ]
    },
    {
     "name": "stdout",
     "output_type": "stream",
     "text": [
      "-------------------------------------------\n",
      "Batch: 29\n",
      "-------------------------------------------\n",
      "+----+------+------------------+\n",
      "|date|trades|       total score|\n",
      "+----+------+------------------+\n",
      "|  26|  1401|27.667816365755392|\n",
      "|  27|  1573|27.840316434276815|\n",
      "|  12|  2512| 45.69359017673081|\n",
      "|  22|  1296|22.654992255397108|\n",
      "|   1|  1867|34.610710405714116|\n",
      "|  13|  1011|12.511882217900721|\n",
      "|   6|   596| 4.215652725921872|\n",
      "|  16|  1796| 40.63414962566917|\n",
      "|   3|  1446|19.353484587030067|\n",
      "|  20|   761|11.421589551666617|\n",
      "|   5|  2021|  44.9261880664683|\n",
      "|  19|  1226| 38.97824807912574|\n",
      "|  15|  1228|15.047707423435591|\n",
      "|   9|  1397|21.228627203907795|\n",
      "|  17|  1332|22.004204437392485|\n",
      "|   4|  2086|26.606762445868117|\n",
      "|   8|  1390| 23.34367982640452|\n",
      "|  23|  1347|18.231268702002378|\n",
      "|   7|   528| 4.987800784283386|\n",
      "|  10|   744| 7.300367594774864|\n",
      "+----+------+------------------+\n",
      "only showing top 20 rows\n",
      "\n"
     ]
    },
    {
     "name": "stderr",
     "output_type": "stream",
     "text": [
      "[Stage 210:(199 + 1) / 200][Stage 212:>(0 + 1) / 200][Stage 213:>  (0 + 0) / 1]]\r"
     ]
    },
    {
     "name": "stdout",
     "output_type": "stream",
     "text": [
      "-------------------------------------------\n",
      "Batch: 10\n",
      "-------------------------------------------\n",
      "+----+------+------------------+\n",
      "|date|trades|       total score|\n",
      "+----+------+------------------+\n",
      "|   1|  1867|34.610710405714116|\n",
      "|   6|   596| 4.215652725921872|\n",
      "|   3|  1446|19.353484587030067|\n",
      "|   5|  2021|  44.9261880664683|\n",
      "|   4|  2086|26.606762445868117|\n",
      "|   8|  1390| 23.34367982640452|\n",
      "|   7|   528| 4.987800784283386|\n",
      "|  10|   744| 7.300367594774864|\n",
      "|  11|   892| 16.95876568091774|\n",
      "|   2|    46|               0.0|\n",
      "|   0|  1074|13.232881865121751|\n",
      "+----+------+------------------+\n",
      "\n"
     ]
    },
    {
     "name": "stderr",
     "output_type": "stream",
     "text": [
      "                                                                                \r"
     ]
    },
    {
     "name": "stdout",
     "output_type": "stream",
     "text": [
      "-------------------------------------------\n",
      "Batch: 30\n",
      "-------------------------------------------\n",
      "+----+------+------------------+\n",
      "|date|trades|       total score|\n",
      "+----+------+------------------+\n",
      "|  28|   764|10.178719634739597|\n",
      "|  26|  1401|27.667816365755392|\n",
      "|  27|  1573|27.840316434276815|\n",
      "|  12|  2512| 45.69359017673081|\n",
      "|  22|  1296|22.654992255397108|\n",
      "|   1|  1867|34.610710405714116|\n",
      "|  13|  1011|12.511882217900721|\n",
      "|   6|   596| 4.215652725921872|\n",
      "|  16|  1796| 40.63414962566917|\n",
      "|   3|  1446|19.353484587030067|\n",
      "|  20|   761|11.421589551666617|\n",
      "|   5|  2021|  44.9261880664683|\n",
      "|  19|  1226| 38.97824807912574|\n",
      "|  15|  1228|15.047707423435591|\n",
      "|   9|  1397|21.228627203907795|\n",
      "|  17|  1332|22.004204437392485|\n",
      "|   4|  2086|26.606762445868117|\n",
      "|   8|  1390| 23.34367982640452|\n",
      "|  23|  1347|18.231268702002378|\n",
      "|   7|   528| 4.987800784283386|\n",
      "+----+------+------------------+\n",
      "only showing top 20 rows\n",
      "\n"
     ]
    },
    {
     "name": "stderr",
     "output_type": "stream",
     "text": [
      "                                                                                \r"
     ]
    },
    {
     "name": "stdout",
     "output_type": "stream",
     "text": [
      "-------------------------------------------\n",
      "Batch: 11\n",
      "-------------------------------------------\n",
      "+----+------+------------------+\n",
      "|date|trades|       total score|\n",
      "+----+------+------------------+\n",
      "|   1|  1867|34.610710405714116|\n",
      "|   6|   596| 4.215652725921872|\n",
      "|   3|  1446|19.353484587030067|\n",
      "|   5|  2021|  44.9261880664683|\n",
      "|   9|  1397|21.228627203907795|\n",
      "|   4|  2086|26.606762445868117|\n",
      "|   8|  1390| 23.34367982640452|\n",
      "|   7|   528| 4.987800784283386|\n",
      "|  10|   744| 7.300367594774864|\n",
      "|  11|   892| 16.95876568091774|\n",
      "|   2|    46|               0.0|\n",
      "|   0|  1074|13.232881865121751|\n",
      "+----+------+------------------+\n",
      "\n"
     ]
    },
    {
     "name": "stderr",
     "output_type": "stream",
     "text": [
      "                                                                                \r"
     ]
    },
    {
     "name": "stdout",
     "output_type": "stream",
     "text": [
      "-------------------------------------------\n",
      "Batch: 31\n",
      "-------------------------------------------\n",
      "+----+------+------------------+\n",
      "|date|trades|       total score|\n",
      "+----+------+------------------+\n",
      "|  28|   764|10.178719634739597|\n",
      "|  26|  1401|27.667816365755392|\n",
      "|  27|  1573|27.840316434276815|\n",
      "|  12|  2512| 45.69359017673081|\n",
      "|  22|  1296|22.654992255397108|\n",
      "|   1|  1867|34.610710405714116|\n",
      "|  13|  1011|12.511882217900721|\n",
      "|   6|   596| 4.215652725921872|\n",
      "|  16|  1796| 40.63414962566917|\n",
      "|   3|  1446|19.353484587030067|\n",
      "|  20|   761|11.421589551666617|\n",
      "|   5|  2021|  44.9261880664683|\n",
      "|  19|  1226| 38.97824807912574|\n",
      "|  15|  1228|15.047707423435591|\n",
      "|   9|  1397|21.228627203907795|\n",
      "|  17|  1332|22.004204437392485|\n",
      "|   4|  2086|26.606762445868117|\n",
      "|   8|  1390| 23.34367982640452|\n",
      "|  23|  1347|18.231268702002378|\n",
      "|   7|   528| 4.987800784283386|\n",
      "+----+------+------------------+\n",
      "only showing top 20 rows\n",
      "\n"
     ]
    },
    {
     "name": "stderr",
     "output_type": "stream",
     "text": [
      "                                                                                \r"
     ]
    },
    {
     "name": "stdout",
     "output_type": "stream",
     "text": [
      "-------------------------------------------\n",
      "Batch: 12\n",
      "-------------------------------------------\n",
      "+----+------+------------------+\n",
      "|date|trades|       total score|\n",
      "+----+------+------------------+\n",
      "|  12|  2512| 45.69359017673081|\n",
      "|   1|  1867|34.610710405714116|\n",
      "|   6|   596| 4.215652725921872|\n",
      "|   3|  1446|19.353484587030067|\n",
      "|   5|  2021|  44.9261880664683|\n",
      "|   9|  1397|21.228627203907795|\n",
      "|   4|  2086|26.606762445868117|\n",
      "|   8|  1390| 23.34367982640452|\n",
      "|   7|   528| 4.987800784283386|\n",
      "|  10|   744| 7.300367594774864|\n",
      "|  11|   892| 16.95876568091774|\n",
      "|   2|    46|               0.0|\n",
      "|   0|  1074|13.232881865121751|\n",
      "+----+------+------------------+\n",
      "\n"
     ]
    },
    {
     "name": "stderr",
     "output_type": "stream",
     "text": [
      "                                                                                \r"
     ]
    },
    {
     "name": "stdout",
     "output_type": "stream",
     "text": [
      "-------------------------------------------\n",
      "Batch: 32\n",
      "-------------------------------------------\n",
      "+----+------+------------------+\n",
      "|date|trades|       total score|\n",
      "+----+------+------------------+\n",
      "|  28|   764|10.178719634739597|\n",
      "|  26|  1401|27.667816365755392|\n",
      "|  27|  1573|27.840316434276815|\n",
      "|  12|  2512| 45.69359017673081|\n",
      "|  22|  1296|22.654992255397108|\n",
      "|   1|  1867|34.610710405714116|\n",
      "|  13|  1011|12.511882217900721|\n",
      "|   6|   596| 4.215652725921872|\n",
      "|  16|  1796| 40.63414962566917|\n",
      "|   3|  1446|19.353484587030067|\n",
      "|  20|   761|11.421589551666617|\n",
      "|   5|  2021|  44.9261880664683|\n",
      "|  19|  1226| 38.97824807912574|\n",
      "|  15|  1228|15.047707423435591|\n",
      "|   9|  1397|21.228627203907795|\n",
      "|  17|  1332|22.004204437392485|\n",
      "|   4|  2086|26.606762445868117|\n",
      "|   8|  1390| 23.34367982640452|\n",
      "|  23|  1347|18.231268702002378|\n",
      "|   7|   528| 4.987800784283386|\n",
      "+----+------+------------------+\n",
      "only showing top 20 rows\n",
      "\n"
     ]
    },
    {
     "name": "stderr",
     "output_type": "stream",
     "text": [
      "                                                                                \r"
     ]
    },
    {
     "name": "stdout",
     "output_type": "stream",
     "text": [
      "-------------------------------------------\n",
      "Batch: 13\n",
      "-------------------------------------------\n",
      "+----+------+------------------+\n",
      "|date|trades|       total score|\n",
      "+----+------+------------------+\n",
      "|  12|  2512| 45.69359017673081|\n",
      "|   1|  1867|34.610710405714116|\n",
      "|  13|  1011|12.511882217900721|\n",
      "|   6|   596| 4.215652725921872|\n",
      "|   3|  1446|19.353484587030067|\n",
      "|   5|  2021|  44.9261880664683|\n",
      "|   9|  1397|21.228627203907795|\n",
      "|   4|  2086|26.606762445868117|\n",
      "|   8|  1390| 23.34367982640452|\n",
      "|   7|   528| 4.987800784283386|\n",
      "|  10|   744| 7.300367594774864|\n",
      "|  11|   892| 16.95876568091774|\n",
      "|   2|    46|               0.0|\n",
      "|   0|  1074|13.232881865121751|\n",
      "+----+------+------------------+\n",
      "\n"
     ]
    },
    {
     "name": "stderr",
     "output_type": "stream",
     "text": [
      "                                                                                \r"
     ]
    },
    {
     "name": "stdout",
     "output_type": "stream",
     "text": [
      "-------------------------------------------\n",
      "Batch: 33\n",
      "-------------------------------------------\n",
      "+----+------+------------------+\n",
      "|date|trades|       total score|\n",
      "+----+------+------------------+\n",
      "|  31|  1476|18.972340372994108|\n",
      "|  28|   764|10.178719634739597|\n",
      "|  26|  1401|27.667816365755392|\n",
      "|  27|  1573|27.840316434276815|\n",
      "|  12|  2512| 45.69359017673081|\n",
      "|  22|  1296|22.654992255397108|\n",
      "|   1|  1867|34.610710405714116|\n",
      "|  13|  1011|12.511882217900721|\n",
      "|   6|   596| 4.215652725921872|\n",
      "|  16|  1796| 40.63414962566917|\n",
      "|   3|  1446|19.353484587030067|\n",
      "|  20|   761|11.421589551666617|\n",
      "|   5|  2021|  44.9261880664683|\n",
      "|  19|  1226| 38.97824807912574|\n",
      "|  15|  1228|15.047707423435591|\n",
      "|   9|  1397|21.228627203907795|\n",
      "|  17|  1332|22.004204437392485|\n",
      "|   4|  2086|26.606762445868117|\n",
      "|   8|  1390| 23.34367982640452|\n",
      "|  23|  1347|18.231268702002378|\n",
      "+----+------+------------------+\n",
      "only showing top 20 rows\n",
      "\n"
     ]
    },
    {
     "name": "stderr",
     "output_type": "stream",
     "text": [
      "                                                                                \r"
     ]
    },
    {
     "name": "stdout",
     "output_type": "stream",
     "text": [
      "-------------------------------------------\n",
      "Batch: 14\n",
      "-------------------------------------------\n",
      "+----+------+------------------+\n",
      "|date|trades|       total score|\n",
      "+----+------+------------------+\n",
      "|  12|  2512| 45.69359017673081|\n",
      "|   1|  1867|34.610710405714116|\n",
      "|  13|  1011|12.511882217900721|\n",
      "|   6|   596| 4.215652725921872|\n",
      "|   3|  1446|19.353484587030067|\n",
      "|   5|  2021|  44.9261880664683|\n",
      "|  15|  1228|15.047707423435591|\n",
      "|   9|  1397|21.228627203907795|\n",
      "|   4|  2086|26.606762445868117|\n",
      "|   8|  1390| 23.34367982640452|\n",
      "|   7|   528| 4.987800784283386|\n",
      "|  10|   744| 7.300367594774864|\n",
      "|  11|   892| 16.95876568091774|\n",
      "|   2|    46|               0.0|\n",
      "|   0|  1074|13.232881865121751|\n",
      "+----+------+------------------+\n",
      "\n"
     ]
    },
    {
     "name": "stderr",
     "output_type": "stream",
     "text": [
      "                                                                                \r"
     ]
    },
    {
     "name": "stdout",
     "output_type": "stream",
     "text": [
      "-------------------------------------------\n",
      "Batch: 34\n",
      "-------------------------------------------\n",
      "+----+------+------------------+\n",
      "|date|trades|       total score|\n",
      "+----+------+------------------+\n",
      "|  31|  1476|18.972340372994108|\n",
      "|  34|   619| 4.858954530217932|\n",
      "|  28|   764|10.178719634739597|\n",
      "|  26|  1401|27.667816365755392|\n",
      "|  27|  1573|27.840316434276815|\n",
      "|  12|  2512| 45.69359017673081|\n",
      "|  22|  1296|22.654992255397108|\n",
      "|   1|  1867|34.610710405714116|\n",
      "|  13|  1011|12.511882217900721|\n",
      "|   6|   596| 4.215652725921872|\n",
      "|  16|  1796| 40.63414962566917|\n",
      "|   3|  1446|19.353484587030067|\n",
      "|  20|   761|11.421589551666617|\n",
      "|   5|  2021|  44.9261880664683|\n",
      "|  19|  1226| 38.97824807912574|\n",
      "|  15|  1228|15.047707423435591|\n",
      "|   9|  1397|21.228627203907795|\n",
      "|  17|  1332|22.004204437392485|\n",
      "|   4|  2086|26.606762445868117|\n",
      "|   8|  1390| 23.34367982640452|\n",
      "+----+------+------------------+\n",
      "only showing top 20 rows\n",
      "\n"
     ]
    },
    {
     "name": "stderr",
     "output_type": "stream",
     "text": [
      "                                                                                \r"
     ]
    },
    {
     "name": "stdout",
     "output_type": "stream",
     "text": [
      "-------------------------------------------\n",
      "Batch: 15\n",
      "-------------------------------------------\n",
      "+----+------+------------------+\n",
      "|date|trades|       total score|\n",
      "+----+------+------------------+\n",
      "|  12|  2512| 45.69359017673081|\n",
      "|   1|  1867|34.610710405714116|\n",
      "|  13|  1011|12.511882217900721|\n",
      "|   6|   596| 4.215652725921872|\n",
      "|   3|  1446|19.353484587030067|\n",
      "|   5|  2021|  44.9261880664683|\n",
      "|  15|  1228|15.047707423435591|\n",
      "|   9|  1397|21.228627203907795|\n",
      "|   4|  2086|26.606762445868117|\n",
      "|   8|  1390| 23.34367982640452|\n",
      "|   7|   528| 4.987800784283386|\n",
      "|  10|   744| 7.300367594774864|\n",
      "|  11|   892| 16.95876568091774|\n",
      "|  14|   434| 6.942924006625589|\n",
      "|   2|    46|               0.0|\n",
      "|   0|  1074|13.232881865121751|\n",
      "+----+------+------------------+\n",
      "\n"
     ]
    },
    {
     "name": "stderr",
     "output_type": "stream",
     "text": [
      "                                                                                \r"
     ]
    },
    {
     "name": "stdout",
     "output_type": "stream",
     "text": [
      "-------------------------------------------\n",
      "Batch: 35\n",
      "-------------------------------------------\n",
      "+----+------+------------------+\n",
      "|date|trades|       total score|\n",
      "+----+------+------------------+\n",
      "|  31|  1476|18.972340372994108|\n",
      "|  34|   619| 4.858954530217932|\n",
      "|  28|   764|10.178719634739597|\n",
      "|  26|  1401|27.667816365755392|\n",
      "|  27|  1573|27.840316434276815|\n",
      "|  12|  2512| 45.69359017673081|\n",
      "|  22|  1296|22.654992255397108|\n",
      "|   1|  1867|34.610710405714116|\n",
      "|  13|  1011|12.511882217900721|\n",
      "|   6|   596| 4.215652725921872|\n",
      "|  16|  1796| 40.63414962566917|\n",
      "|   3|  1446|19.353484587030067|\n",
      "|  20|   761|11.421589551666617|\n",
      "|   5|  2021|  44.9261880664683|\n",
      "|  19|  1226| 38.97824807912574|\n",
      "|  15|  1228|15.047707423435591|\n",
      "|  37|  2040| 24.90666910031966|\n",
      "|   9|  1397|21.228627203907795|\n",
      "|  17|  1332|22.004204437392485|\n",
      "|   4|  2086|26.606762445868117|\n",
      "+----+------+------------------+\n",
      "only showing top 20 rows\n",
      "\n"
     ]
    },
    {
     "name": "stderr",
     "output_type": "stream",
     "text": [
      "[Stage 246:(198 + 2) / 200][Stage 248:>(0 + 0) / 200][Stage 249:>  (0 + 0) / 1]]\r"
     ]
    },
    {
     "name": "stdout",
     "output_type": "stream",
     "text": [
      "-------------------------------------------\n",
      "Batch: 16\n",
      "-------------------------------------------\n",
      "+----+------+------------------+\n",
      "|date|trades|       total score|\n",
      "+----+------+------------------+\n",
      "|  12|  2512| 45.69359017673081|\n",
      "|   1|  1867|34.610710405714116|\n",
      "|  13|  1011|12.511882217900721|\n",
      "|   6|   596| 4.215652725921872|\n",
      "|  16|  1796| 40.63414962566917|\n",
      "|   3|  1446|19.353484587030067|\n",
      "|   5|  2021|  44.9261880664683|\n",
      "|  15|  1228|15.047707423435591|\n",
      "|   9|  1397|21.228627203907795|\n",
      "|   4|  2086|26.606762445868117|\n",
      "|   8|  1390| 23.34367982640452|\n",
      "|   7|   528| 4.987800784283386|\n",
      "|  10|   744| 7.300367594774864|\n",
      "|  11|   892| 16.95876568091774|\n",
      "|  14|   434| 6.942924006625589|\n",
      "|   2|    46|               0.0|\n",
      "|   0|  1074|13.232881865121751|\n",
      "+----+------+------------------+\n",
      "\n"
     ]
    },
    {
     "name": "stderr",
     "output_type": "stream",
     "text": [
      "                                                                                \r"
     ]
    },
    {
     "name": "stdout",
     "output_type": "stream",
     "text": [
      "-------------------------------------------\n",
      "Batch: 36\n",
      "-------------------------------------------\n",
      "+----+------+------------------+\n",
      "|date|trades|       total score|\n",
      "+----+------+------------------+\n",
      "|  31|  1476|18.972340372994108|\n",
      "|  34|   619| 4.858954530217932|\n",
      "|  28|   764|10.178719634739597|\n",
      "|  26|  1401|27.667816365755392|\n",
      "|  27|  1573|27.840316434276815|\n",
      "|  12|  2512| 45.69359017673081|\n",
      "|  22|  1296|22.654992255397108|\n",
      "|   1|  1867|34.610710405714116|\n",
      "|  13|  1011|12.511882217900721|\n",
      "|   6|   596| 4.215652725921872|\n",
      "|  16|  1796| 40.63414962566917|\n",
      "|   3|  1446|19.353484587030067|\n",
      "|  20|   761|11.421589551666617|\n",
      "|   5|  2021|  44.9261880664683|\n",
      "|  19|  1226| 38.97824807912574|\n",
      "|  15|  1228|15.047707423435591|\n",
      "|  37|  2040| 24.90666910031966|\n",
      "|   9|  1397|21.228627203907795|\n",
      "|  17|  1332|22.004204437392485|\n",
      "|  35|   866|11.250309327085205|\n",
      "+----+------+------------------+\n",
      "only showing top 20 rows\n",
      "\n"
     ]
    },
    {
     "name": "stderr",
     "output_type": "stream",
     "text": [
      "                                                                                \r"
     ]
    },
    {
     "name": "stdout",
     "output_type": "stream",
     "text": [
      "-------------------------------------------\n",
      "Batch: 17\n",
      "-------------------------------------------\n",
      "+----+------+------------------+\n",
      "|date|trades|       total score|\n",
      "+----+------+------------------+\n",
      "|  12|  2512| 45.69359017673081|\n",
      "|   1|  1867|34.610710405714116|\n",
      "|  13|  1011|12.511882217900721|\n",
      "|   6|   596| 4.215652725921872|\n",
      "|  16|  1796| 40.63414962566917|\n",
      "|   3|  1446|19.353484587030067|\n",
      "|   5|  2021|  44.9261880664683|\n",
      "|  15|  1228|15.047707423435591|\n",
      "|   9|  1397|21.228627203907795|\n",
      "|  17|  1332|22.004204437392485|\n",
      "|   4|  2086|26.606762445868117|\n",
      "|   8|  1390| 23.34367982640452|\n",
      "|   7|   528| 4.987800784283386|\n",
      "|  10|   744| 7.300367594774864|\n",
      "|  11|   892| 16.95876568091774|\n",
      "|  14|   434| 6.942924006625589|\n",
      "|   2|    46|               0.0|\n",
      "|   0|  1074|13.232881865121751|\n",
      "+----+------+------------------+\n",
      "\n"
     ]
    },
    {
     "name": "stderr",
     "output_type": "stream",
     "text": [
      "                                                                                \r"
     ]
    },
    {
     "name": "stdout",
     "output_type": "stream",
     "text": [
      "-------------------------------------------\n",
      "Batch: 37\n",
      "-------------------------------------------\n",
      "+----+------+------------------+\n",
      "|date|trades|       total score|\n",
      "+----+------+------------------+\n",
      "|  31|  1476|18.972340372994108|\n",
      "|  34|   619| 4.858954530217932|\n",
      "|  28|   764|10.178719634739597|\n",
      "|  26|  1401|27.667816365755392|\n",
      "|  27|  1573|27.840316434276815|\n",
      "|  12|  2512| 45.69359017673081|\n",
      "|  22|  1296|22.654992255397108|\n",
      "|   1|  1867|34.610710405714116|\n",
      "|  13|  1011|12.511882217900721|\n",
      "|   6|   596| 4.215652725921872|\n",
      "|  16|  1796| 40.63414962566917|\n",
      "|   3|  1446|19.353484587030067|\n",
      "|  20|   761|11.421589551666617|\n",
      "|   5|  2021|  44.9261880664683|\n",
      "|  19|  1226| 38.97824807912574|\n",
      "|  15|  1228|15.047707423435591|\n",
      "|  37|  2040| 24.90666910031966|\n",
      "|   9|  1397|21.228627203907795|\n",
      "|  17|  1332|22.004204437392485|\n",
      "|  35|   866|11.250309327085205|\n",
      "+----+------+------------------+\n",
      "only showing top 20 rows\n",
      "\n"
     ]
    },
    {
     "name": "stderr",
     "output_type": "stream",
     "text": [
      "                                                                                \r"
     ]
    },
    {
     "name": "stdout",
     "output_type": "stream",
     "text": [
      "-------------------------------------------\n",
      "Batch: 18\n",
      "-------------------------------------------\n",
      "+----+------+------------------+\n",
      "|date|trades|       total score|\n",
      "+----+------+------------------+\n",
      "|  12|  2512| 45.69359017673081|\n",
      "|   1|  1867|34.610710405714116|\n",
      "|  13|  1011|12.511882217900721|\n",
      "|   6|   596| 4.215652725921872|\n",
      "|  16|  1796| 40.63414962566917|\n",
      "|   3|  1446|19.353484587030067|\n",
      "|   5|  2021|  44.9261880664683|\n",
      "|  15|  1228|15.047707423435591|\n",
      "|   9|  1397|21.228627203907795|\n",
      "|  17|  1332|22.004204437392485|\n",
      "|   4|  2086|26.606762445868117|\n",
      "|   8|  1390| 23.34367982640452|\n",
      "|   7|   528| 4.987800784283386|\n",
      "|  10|   744| 7.300367594774864|\n",
      "|  11|   892| 16.95876568091774|\n",
      "|  14|   434| 6.942924006625589|\n",
      "|   2|    46|               0.0|\n",
      "|   0|  1074|13.232881865121751|\n",
      "|  18|  2412| 48.40266833234401|\n",
      "+----+------+------------------+\n",
      "\n"
     ]
    },
    {
     "name": "stderr",
     "output_type": "stream",
     "text": [
      "                                                                                \r"
     ]
    },
    {
     "name": "stdout",
     "output_type": "stream",
     "text": [
      "-------------------------------------------\n",
      "Batch: 38\n",
      "-------------------------------------------\n",
      "+----+------+------------------+\n",
      "|date|trades|       total score|\n",
      "+----+------+------------------+\n",
      "|  31|  1476|18.972340372994108|\n",
      "|  34|   619| 4.858954530217932|\n",
      "|  28|   764|10.178719634739597|\n",
      "|  26|  1401|27.667816365755392|\n",
      "|  27|  1573|27.840316434276815|\n",
      "|  12|  2512| 45.69359017673081|\n",
      "|  22|  1296|22.654992255397108|\n",
      "|   1|  1867|34.610710405714116|\n",
      "|  13|  1011|12.511882217900721|\n",
      "|   6|   596| 4.215652725921872|\n",
      "|  16|  1796| 40.63414962566917|\n",
      "|   3|  1446|19.353484587030067|\n",
      "|  20|   761|11.421589551666617|\n",
      "|  40|  1112|  11.4368696105385|\n",
      "|   5|  2021|  44.9261880664683|\n",
      "|  19|  1226| 38.97824807912574|\n",
      "|  15|  1228|15.047707423435591|\n",
      "|  37|  2040| 24.90666910031966|\n",
      "|   9|  1397|21.228627203907795|\n",
      "|  17|  1332|22.004204437392485|\n",
      "+----+------+------------------+\n",
      "only showing top 20 rows\n",
      "\n"
     ]
    },
    {
     "name": "stderr",
     "output_type": "stream",
     "text": [
      "                                                                                \r"
     ]
    },
    {
     "name": "stdout",
     "output_type": "stream",
     "text": [
      "-------------------------------------------\n",
      "Batch: 19\n",
      "-------------------------------------------\n",
      "+----+------+------------------+\n",
      "|date|trades|       total score|\n",
      "+----+------+------------------+\n",
      "|  12|  2512| 45.69359017673081|\n",
      "|   1|  1867|34.610710405714116|\n",
      "|  13|  1011|12.511882217900721|\n",
      "|   6|   596| 4.215652725921872|\n",
      "|  16|  1796| 40.63414962566917|\n",
      "|   3|  1446|19.353484587030067|\n",
      "|   5|  2021|  44.9261880664683|\n",
      "|  19|  1226| 38.97824807912574|\n",
      "|  15|  1228|15.047707423435591|\n",
      "|   9|  1397|21.228627203907795|\n",
      "|  17|  1332|22.004204437392485|\n",
      "|   4|  2086|26.606762445868117|\n",
      "|   8|  1390| 23.34367982640452|\n",
      "|   7|   528| 4.987800784283386|\n",
      "|  10|   744| 7.300367594774864|\n",
      "|  11|   892| 16.95876568091774|\n",
      "|  14|   434| 6.942924006625589|\n",
      "|   2|    46|               0.0|\n",
      "|   0|  1074|13.232881865121751|\n",
      "|  18|  2412| 48.40266833234401|\n",
      "+----+------+------------------+\n",
      "\n"
     ]
    },
    {
     "name": "stderr",
     "output_type": "stream",
     "text": [
      "                                                                                \r"
     ]
    },
    {
     "name": "stdout",
     "output_type": "stream",
     "text": [
      "-------------------------------------------\n",
      "Batch: 39\n",
      "-------------------------------------------\n",
      "+----+------+------------------+\n",
      "|date|trades|       total score|\n",
      "+----+------+------------------+\n",
      "|  31|  1476|18.972340372994108|\n",
      "|  34|   619| 4.858954530217932|\n",
      "|  28|   764|10.178719634739597|\n",
      "|  26|  1401|27.667816365755392|\n",
      "|  27|  1573|27.840316434276815|\n",
      "|  12|  2512| 45.69359017673081|\n",
      "|  22|  1296|22.654992255397108|\n",
      "|   1|  1867|34.610710405714116|\n",
      "|  13|  1011|12.511882217900721|\n",
      "|   6|   596| 4.215652725921872|\n",
      "|  16|  1796| 40.63414962566917|\n",
      "|   3|  1446|19.353484587030067|\n",
      "|  40|  1112|  11.4368696105385|\n",
      "|  20|   761|11.421589551666617|\n",
      "|   5|  2021|  44.9261880664683|\n",
      "|  19|  1226| 38.97824807912574|\n",
      "|  15|  1228|15.047707423435591|\n",
      "|  37|  2040| 24.90666910031966|\n",
      "|   9|  1397|21.228627203907795|\n",
      "|  17|  1332|22.004204437392485|\n",
      "+----+------+------------------+\n",
      "only showing top 20 rows\n",
      "\n"
     ]
    },
    {
     "name": "stderr",
     "output_type": "stream",
     "text": [
      "                                                                                \r"
     ]
    },
    {
     "name": "stdout",
     "output_type": "stream",
     "text": [
      "-------------------------------------------\n",
      "Batch: 20\n",
      "-------------------------------------------\n",
      "+----+------+------------------+\n",
      "|date|trades|       total score|\n",
      "+----+------+------------------+\n",
      "|  12|  2512| 45.69359017673081|\n",
      "|   1|  1867|34.610710405714116|\n",
      "|  13|  1011|12.511882217900721|\n",
      "|   6|   596| 4.215652725921872|\n",
      "|  16|  1796| 40.63414962566917|\n",
      "|   3|  1446|19.353484587030067|\n",
      "|  20|   761|11.421589551666617|\n",
      "|   5|  2021|  44.9261880664683|\n",
      "|  19|  1226| 38.97824807912574|\n",
      "|  15|  1228|15.047707423435591|\n",
      "|   9|  1397|21.228627203907795|\n",
      "|  17|  1332|22.004204437392485|\n",
      "|   4|  2086|26.606762445868117|\n",
      "|   8|  1390| 23.34367982640452|\n",
      "|   7|   528| 4.987800784283386|\n",
      "|  10|   744| 7.300367594774864|\n",
      "|  11|   892| 16.95876568091774|\n",
      "|  14|   434| 6.942924006625589|\n",
      "|   2|    46|               0.0|\n",
      "|   0|  1074|13.232881865121751|\n",
      "+----+------+------------------+\n",
      "only showing top 20 rows\n",
      "\n"
     ]
    },
    {
     "name": "stderr",
     "output_type": "stream",
     "text": [
      "                                                                                \r"
     ]
    },
    {
     "name": "stdout",
     "output_type": "stream",
     "text": [
      "-------------------------------------------\n",
      "Batch: 40\n",
      "-------------------------------------------\n",
      "+----+------+------------------+\n",
      "|date|trades|       total score|\n",
      "+----+------+------------------+\n",
      "|  31|  1476|18.972340372994108|\n",
      "|  34|   619| 4.858954530217932|\n",
      "|  28|   764|10.178719634739597|\n",
      "|  26|  1401|27.667816365755392|\n",
      "|  27|  1573|27.840316434276815|\n",
      "|  12|  2512| 45.69359017673081|\n",
      "|  22|  1296|22.654992255397108|\n",
      "|   1|  1867|34.610710405714116|\n",
      "|  13|  1011|12.511882217900721|\n",
      "|   6|   596| 4.215652725921872|\n",
      "|  16|  1796| 40.63414962566917|\n",
      "|   3|  1446|19.353484587030067|\n",
      "|  40|  1112|  11.4368696105385|\n",
      "|  20|   761|11.421589551666617|\n",
      "|   5|  2021|  44.9261880664683|\n",
      "|  19|  1226| 38.97824807912574|\n",
      "|  15|  1228|15.047707423435591|\n",
      "|  37|  2040| 24.90666910031966|\n",
      "|   9|  1397|21.228627203907795|\n",
      "|  17|  1332|22.004204437392485|\n",
      "+----+------+------------------+\n",
      "only showing top 20 rows\n",
      "\n"
     ]
    },
    {
     "name": "stderr",
     "output_type": "stream",
     "text": [
      "                                                                                \r"
     ]
    },
    {
     "name": "stdout",
     "output_type": "stream",
     "text": [
      "-------------------------------------------\n",
      "Batch: 21\n",
      "-------------------------------------------\n",
      "+----+------+------------------+\n",
      "|date|trades|       total score|\n",
      "+----+------+------------------+\n",
      "|  12|  2512| 45.69359017673081|\n",
      "|   1|  1867|34.610710405714116|\n",
      "|  13|  1011|12.511882217900721|\n",
      "|   6|   596| 4.215652725921872|\n",
      "|  16|  1796| 40.63414962566917|\n",
      "|   3|  1446|19.353484587030067|\n",
      "|  20|   761|11.421589551666617|\n",
      "|   5|  2021|  44.9261880664683|\n",
      "|  19|  1226| 38.97824807912574|\n",
      "|  15|  1228|15.047707423435591|\n",
      "|   9|  1397|21.228627203907795|\n",
      "|  17|  1332|22.004204437392485|\n",
      "|   4|  2086|26.606762445868117|\n",
      "|   8|  1390| 23.34367982640452|\n",
      "|   7|   528| 4.987800784283386|\n",
      "|  10|   744| 7.300367594774864|\n",
      "|  21|   604| 5.725162538871199|\n",
      "|  11|   892| 16.95876568091774|\n",
      "|  14|   434| 6.942924006625589|\n",
      "|   2|    46|               0.0|\n",
      "+----+------+------------------+\n",
      "only showing top 20 rows\n",
      "\n"
     ]
    },
    {
     "name": "stderr",
     "output_type": "stream",
     "text": [
      "                                                                                \r"
     ]
    },
    {
     "name": "stdout",
     "output_type": "stream",
     "text": [
      "-------------------------------------------\n",
      "Batch: 41\n",
      "-------------------------------------------\n",
      "+----+------+------------------+\n",
      "|date|trades|       total score|\n",
      "+----+------+------------------+\n",
      "|  31|  1476|18.972340372994108|\n",
      "|  34|   619| 4.858954530217932|\n",
      "|  28|   764|10.178719634739597|\n",
      "|  26|  1401|27.667816365755392|\n",
      "|  27|  1573|27.840316434276815|\n",
      "|  12|  2512| 45.69359017673081|\n",
      "|  22|  1296|22.654992255397108|\n",
      "|   1|  1867|34.610710405714116|\n",
      "|  13|  1011|12.511882217900721|\n",
      "|   6|   596| 4.215652725921872|\n",
      "|  16|  1796| 40.63414962566917|\n",
      "|   3|  1446|19.353484587030067|\n",
      "|  40|  1112|  11.4368696105385|\n",
      "|  20|   761|11.421589551666617|\n",
      "|   5|  2021|  44.9261880664683|\n",
      "|  19|  1226| 38.97824807912574|\n",
      "|  41|  1379| 13.70642819505837|\n",
      "|  15|  1228|15.047707423435591|\n",
      "|  37|  2040| 24.90666910031966|\n",
      "|   9|  1397|21.228627203907795|\n",
      "+----+------+------------------+\n",
      "only showing top 20 rows\n",
      "\n"
     ]
    },
    {
     "name": "stderr",
     "output_type": "stream",
     "text": [
      "                                                                                \r"
     ]
    },
    {
     "name": "stdout",
     "output_type": "stream",
     "text": [
      "-------------------------------------------\n",
      "Batch: 22\n",
      "-------------------------------------------\n",
      "+----+------+------------------+\n",
      "|date|trades|       total score|\n",
      "+----+------+------------------+\n",
      "|  12|  2512| 45.69359017673081|\n",
      "|   1|  1867|34.610710405714116|\n",
      "|  13|  1011|12.511882217900721|\n",
      "|   6|   596| 4.215652725921872|\n",
      "|  16|  1796| 40.63414962566917|\n",
      "|   3|  1446|19.353484587030067|\n",
      "|  20|   761|11.421589551666617|\n",
      "|   5|  2021|  44.9261880664683|\n",
      "|  19|  1226| 38.97824807912574|\n",
      "|  15|  1228|15.047707423435591|\n",
      "|   9|  1397|21.228627203907795|\n",
      "|  17|  1332|22.004204437392485|\n",
      "|   4|  2086|26.606762445868117|\n",
      "|   8|  1390| 23.34367982640452|\n",
      "|  23|  1347|18.231268702002378|\n",
      "|   7|   528| 4.987800784283386|\n",
      "|  10|   744| 7.300367594774864|\n",
      "|  21|   604| 5.725162538871199|\n",
      "|  11|   892| 16.95876568091774|\n",
      "|  14|   434| 6.942924006625589|\n",
      "+----+------+------------------+\n",
      "only showing top 20 rows\n",
      "\n"
     ]
    },
    {
     "name": "stderr",
     "output_type": "stream",
     "text": [
      "                                                                                \r"
     ]
    },
    {
     "name": "stdout",
     "output_type": "stream",
     "text": [
      "-------------------------------------------\n",
      "Batch: 42\n",
      "-------------------------------------------\n",
      "+----+------+------------------+\n",
      "|date|trades|       total score|\n",
      "+----+------+------------------+\n",
      "|  31|  1476|18.972340372994108|\n",
      "|  34|   619| 4.858954530217932|\n",
      "|  28|   764|10.178719634739597|\n",
      "|  26|  1401|27.667816365755392|\n",
      "|  27|  1573|27.840316434276815|\n",
      "|  12|  2512| 45.69359017673081|\n",
      "|  22|  1296|22.654992255397108|\n",
      "|   1|  1867|34.610710405714116|\n",
      "|  13|  1011|12.511882217900721|\n",
      "|   6|   596| 4.215652725921872|\n",
      "|  16|  1796| 40.63414962566917|\n",
      "|   3|  1446|19.353484587030067|\n",
      "|  40|  1112|  11.4368696105385|\n",
      "|  20|   761|11.421589551666617|\n",
      "|   5|  2021|  44.9261880664683|\n",
      "|  19|  1226| 38.97824807912574|\n",
      "|  41|  1379| 13.70642819505837|\n",
      "|  15|  1228|15.047707423435591|\n",
      "|  37|  2040| 24.90666910031966|\n",
      "|   9|  1397|21.228627203907795|\n",
      "+----+------+------------------+\n",
      "only showing top 20 rows\n",
      "\n"
     ]
    },
    {
     "name": "stderr",
     "output_type": "stream",
     "text": [
      "                                                                                \r"
     ]
    },
    {
     "name": "stdout",
     "output_type": "stream",
     "text": [
      "-------------------------------------------\n",
      "Batch: 23\n",
      "-------------------------------------------\n",
      "+----+------+------------------+\n",
      "|date|trades|       total score|\n",
      "+----+------+------------------+\n",
      "|  12|  2512| 45.69359017673081|\n",
      "|  22|  1296|22.654992255397108|\n",
      "|   1|  1867|34.610710405714116|\n",
      "|  13|  1011|12.511882217900721|\n",
      "|   6|   596| 4.215652725921872|\n",
      "|  16|  1796| 40.63414962566917|\n",
      "|   3|  1446|19.353484587030067|\n",
      "|  20|   761|11.421589551666617|\n",
      "|   5|  2021|  44.9261880664683|\n",
      "|  19|  1226| 38.97824807912574|\n",
      "|  15|  1228|15.047707423435591|\n",
      "|   9|  1397|21.228627203907795|\n",
      "|  17|  1332|22.004204437392485|\n",
      "|   4|  2086|26.606762445868117|\n",
      "|   8|  1390| 23.34367982640452|\n",
      "|  23|  1347|18.231268702002378|\n",
      "|   7|   528| 4.987800784283386|\n",
      "|  10|   744| 7.300367594774864|\n",
      "|  21|   604| 5.725162538871199|\n",
      "|  11|   892| 16.95876568091774|\n",
      "+----+------+------------------+\n",
      "only showing top 20 rows\n",
      "\n"
     ]
    },
    {
     "name": "stderr",
     "output_type": "stream",
     "text": [
      "                                                                                \r"
     ]
    },
    {
     "name": "stdout",
     "output_type": "stream",
     "text": [
      "-------------------------------------------\n",
      "Batch: 43\n",
      "-------------------------------------------\n",
      "+----+------+------------------+\n",
      "|date|trades|       total score|\n",
      "+----+------+------------------+\n",
      "|  31|  1476|18.972340372994108|\n",
      "|  34|   619| 4.858954530217932|\n",
      "|  28|   764|10.178719634739597|\n",
      "|  26|  1401|27.667816365755392|\n",
      "|  27|  1573|27.840316434276815|\n",
      "|  12|  2512| 45.69359017673081|\n",
      "|  22|  1296|22.654992255397108|\n",
      "|   1|  1867|34.610710405714116|\n",
      "|  13|  1011|12.511882217900721|\n",
      "|   6|   596| 4.215652725921872|\n",
      "|  16|  1796| 40.63414962566917|\n",
      "|   3|  1446|19.353484587030067|\n",
      "|  40|  1112|  11.4368696105385|\n",
      "|  20|   761|11.421589551666617|\n",
      "|   5|  2021|  44.9261880664683|\n",
      "|  19|  1226| 38.97824807912574|\n",
      "|  41|  1379| 13.70642819505837|\n",
      "|  15|  1228|15.047707423435591|\n",
      "|  43|  2345| 34.49693604069449|\n",
      "|  37|  2040| 24.90666910031966|\n",
      "+----+------+------------------+\n",
      "only showing top 20 rows\n",
      "\n"
     ]
    },
    {
     "name": "stderr",
     "output_type": "stream",
     "text": [
      "                                                                                \r"
     ]
    },
    {
     "name": "stdout",
     "output_type": "stream",
     "text": [
      "-------------------------------------------\n",
      "Batch: 24\n",
      "-------------------------------------------\n",
      "+----+------+------------------+\n",
      "|date|trades|       total score|\n",
      "+----+------+------------------+\n",
      "|  12|  2512| 45.69359017673081|\n",
      "|  22|  1296|22.654992255397108|\n",
      "|   1|  1867|34.610710405714116|\n",
      "|  13|  1011|12.511882217900721|\n",
      "|   6|   596| 4.215652725921872|\n",
      "|  16|  1796| 40.63414962566917|\n",
      "|   3|  1446|19.353484587030067|\n",
      "|  20|   761|11.421589551666617|\n",
      "|   5|  2021|  44.9261880664683|\n",
      "|  19|  1226| 38.97824807912574|\n",
      "|  15|  1228|15.047707423435591|\n",
      "|   9|  1397|21.228627203907795|\n",
      "|  17|  1332|22.004204437392485|\n",
      "|   4|  2086|26.606762445868117|\n",
      "|   8|  1390| 23.34367982640452|\n",
      "|  23|  1347|18.231268702002378|\n",
      "|   7|   528| 4.987800784283386|\n",
      "|  10|   744| 7.300367594774864|\n",
      "|  24|  1873| 23.07194092705697|\n",
      "|  21|   604| 5.725162538871199|\n",
      "+----+------+------------------+\n",
      "only showing top 20 rows\n",
      "\n"
     ]
    },
    {
     "name": "stderr",
     "output_type": "stream",
     "text": [
      "                                                                                \r"
     ]
    },
    {
     "name": "stdout",
     "output_type": "stream",
     "text": [
      "-------------------------------------------\n",
      "Batch: 44\n",
      "-------------------------------------------\n",
      "+----+------+------------------+\n",
      "|date|trades|       total score|\n",
      "+----+------+------------------+\n",
      "|  31|  1476|18.972340372994108|\n",
      "|  34|   619| 4.858954530217932|\n",
      "|  28|   764|10.178719634739597|\n",
      "|  26|  1401|27.667816365755392|\n",
      "|  27|  1573|27.840316434276815|\n",
      "|  12|  2512| 45.69359017673081|\n",
      "|  22|  1296|22.654992255397108|\n",
      "|   1|  1867|34.610710405714116|\n",
      "|  13|  1011|12.511882217900721|\n",
      "|   6|   596| 4.215652725921872|\n",
      "|  16|  1796| 40.63414962566917|\n",
      "|   3|  1446|19.353484587030067|\n",
      "|  40|  1112|  11.4368696105385|\n",
      "|  20|   761|11.421589551666617|\n",
      "|   5|  2021|  44.9261880664683|\n",
      "|  19|  1226| 38.97824807912574|\n",
      "|  41|  1379| 13.70642819505837|\n",
      "|  15|  1228|15.047707423435591|\n",
      "|  43|  2345| 34.49693604069449|\n",
      "|  37|  2040| 24.90666910031966|\n",
      "+----+------+------------------+\n",
      "only showing top 20 rows\n",
      "\n"
     ]
    },
    {
     "name": "stderr",
     "output_type": "stream",
     "text": [
      "                                                                                \r"
     ]
    },
    {
     "name": "stdout",
     "output_type": "stream",
     "text": [
      "-------------------------------------------\n",
      "Batch: 25\n",
      "-------------------------------------------\n",
      "+----+------+------------------+\n",
      "|date|trades|       total score|\n",
      "+----+------+------------------+\n",
      "|  27|  1573|27.840316434276815|\n",
      "|  12|  2512| 45.69359017673081|\n",
      "|  22|  1296|22.654992255397108|\n",
      "|   1|  1867|34.610710405714116|\n",
      "|  13|  1011|12.511882217900721|\n",
      "|   6|   596| 4.215652725921872|\n",
      "|  16|  1796| 40.63414962566917|\n",
      "|   3|  1446|19.353484587030067|\n",
      "|  20|   761|11.421589551666617|\n",
      "|   5|  2021|  44.9261880664683|\n",
      "|  19|  1226| 38.97824807912574|\n",
      "|  15|  1228|15.047707423435591|\n",
      "|   9|  1397|21.228627203907795|\n",
      "|  17|  1332|22.004204437392485|\n",
      "|   4|  2086|26.606762445868117|\n",
      "|   8|  1390| 23.34367982640452|\n",
      "|  23|  1347|18.231268702002378|\n",
      "|   7|   528| 4.987800784283386|\n",
      "|  10|   744| 7.300367594774864|\n",
      "|  24|  1873| 23.07194092705697|\n",
      "+----+------+------------------+\n",
      "only showing top 20 rows\n",
      "\n"
     ]
    },
    {
     "name": "stderr",
     "output_type": "stream",
     "text": [
      "                                                                                \r"
     ]
    },
    {
     "name": "stdout",
     "output_type": "stream",
     "text": [
      "-------------------------------------------\n",
      "Batch: 45\n",
      "-------------------------------------------\n",
      "+----+------+------------------+\n",
      "|date|trades|       total score|\n",
      "+----+------+------------------+\n",
      "|  31|  1476|18.972340372994108|\n",
      "|  34|   619| 4.858954530217932|\n",
      "|  28|   764|10.178719634739597|\n",
      "|  26|  1401|27.667816365755392|\n",
      "|  27|  1573|27.840316434276815|\n",
      "|  44|  3764| 57.57345111482454|\n",
      "|  12|  2512| 45.69359017673081|\n",
      "|  22|  1296|22.654992255397108|\n",
      "|   1|  1867|34.610710405714116|\n",
      "|  13|  1011|12.511882217900721|\n",
      "|   6|   596| 4.215652725921872|\n",
      "|  16|  1796| 40.63414962566917|\n",
      "|   3|  1446|19.353484587030067|\n",
      "|  40|  1112|  11.4368696105385|\n",
      "|  20|   761|11.421589551666617|\n",
      "|   5|  2021|  44.9261880664683|\n",
      "|  19|  1226| 38.97824807912574|\n",
      "|  41|  1379| 13.70642819505837|\n",
      "|  15|  1228|15.047707423435591|\n",
      "|  43|  2345| 34.49693604069449|\n",
      "+----+------+------------------+\n",
      "only showing top 20 rows\n",
      "\n"
     ]
    },
    {
     "name": "stderr",
     "output_type": "stream",
     "text": [
      "                                                                                \r"
     ]
    },
    {
     "name": "stdout",
     "output_type": "stream",
     "text": [
      "-------------------------------------------\n",
      "Batch: 26\n",
      "-------------------------------------------\n",
      "+----+------+------------------+\n",
      "|date|trades|       total score|\n",
      "+----+------+------------------+\n",
      "|  26|  1401|27.667816365755392|\n",
      "|  27|  1573|27.840316434276815|\n",
      "|  12|  2512| 45.69359017673081|\n",
      "|  22|  1296|22.654992255397108|\n",
      "|   1|  1867|34.610710405714116|\n",
      "|  13|  1011|12.511882217900721|\n",
      "|   6|   596| 4.215652725921872|\n",
      "|  16|  1796| 40.63414962566917|\n",
      "|   3|  1446|19.353484587030067|\n",
      "|  20|   761|11.421589551666617|\n",
      "|   5|  2021|  44.9261880664683|\n",
      "|  19|  1226| 38.97824807912574|\n",
      "|  15|  1228|15.047707423435591|\n",
      "|   9|  1397|21.228627203907795|\n",
      "|  17|  1332|22.004204437392485|\n",
      "|   4|  2086|26.606762445868117|\n",
      "|   8|  1390| 23.34367982640452|\n",
      "|  23|  1347|18.231268702002378|\n",
      "|   7|   528| 4.987800784283386|\n",
      "|  10|   744| 7.300367594774864|\n",
      "+----+------+------------------+\n",
      "only showing top 20 rows\n",
      "\n"
     ]
    },
    {
     "name": "stderr",
     "output_type": "stream",
     "text": [
      "                                                                                \r"
     ]
    },
    {
     "name": "stdout",
     "output_type": "stream",
     "text": [
      "-------------------------------------------\n",
      "Batch: 46\n",
      "-------------------------------------------\n",
      "+----+------+------------------+\n",
      "|date|trades|       total score|\n",
      "+----+------+------------------+\n",
      "|  31|  1476|18.972340372994108|\n",
      "|  34|   619| 4.858954530217932|\n",
      "|  28|   764|10.178719634739597|\n",
      "|  26|  1401|27.667816365755392|\n",
      "|  27|  1573|27.840316434276815|\n",
      "|  44|  3764| 57.57345111482454|\n",
      "|  12|  2512| 45.69359017673081|\n",
      "|  22|  1296|22.654992255397108|\n",
      "|   1|  1867|34.610710405714116|\n",
      "|  13|  1011|12.511882217900721|\n",
      "|   6|   596| 4.215652725921872|\n",
      "|  16|  1796| 40.63414962566917|\n",
      "|   3|  1446|19.353484587030067|\n",
      "|  40|  1112|  11.4368696105385|\n",
      "|  20|   761|11.421589551666617|\n",
      "|  48|   948|17.647448880993064|\n",
      "|   5|  2021|  44.9261880664683|\n",
      "|  19|  1226| 38.97824807912574|\n",
      "|  41|  1379| 13.70642819505837|\n",
      "|  15|  1228|15.047707423435591|\n",
      "+----+------+------------------+\n",
      "only showing top 20 rows\n",
      "\n"
     ]
    },
    {
     "name": "stderr",
     "output_type": "stream",
     "text": [
      "                                                                                \r"
     ]
    },
    {
     "name": "stdout",
     "output_type": "stream",
     "text": [
      "-------------------------------------------\n",
      "Batch: 27\n",
      "-------------------------------------------\n",
      "+----+------+------------------+\n",
      "|date|trades|       total score|\n",
      "+----+------+------------------+\n",
      "|  26|  1401|27.667816365755392|\n",
      "|  27|  1573|27.840316434276815|\n",
      "|  12|  2512| 45.69359017673081|\n",
      "|  22|  1296|22.654992255397108|\n",
      "|   1|  1867|34.610710405714116|\n",
      "|  13|  1011|12.511882217900721|\n",
      "|   6|   596| 4.215652725921872|\n",
      "|  16|  1796| 40.63414962566917|\n",
      "|   3|  1446|19.353484587030067|\n",
      "|  20|   761|11.421589551666617|\n",
      "|   5|  2021|  44.9261880664683|\n",
      "|  19|  1226| 38.97824807912574|\n",
      "|  15|  1228|15.047707423435591|\n",
      "|   9|  1397|21.228627203907795|\n",
      "|  17|  1332|22.004204437392485|\n",
      "|   4|  2086|26.606762445868117|\n",
      "|   8|  1390| 23.34367982640452|\n",
      "|  23|  1347|18.231268702002378|\n",
      "|   7|   528| 4.987800784283386|\n",
      "|  10|   744| 7.300367594774864|\n",
      "+----+------+------------------+\n",
      "only showing top 20 rows\n",
      "\n"
     ]
    },
    {
     "name": "stderr",
     "output_type": "stream",
     "text": [
      "                                                                                \r"
     ]
    },
    {
     "name": "stdout",
     "output_type": "stream",
     "text": [
      "-------------------------------------------\n",
      "Batch: 47\n",
      "-------------------------------------------\n",
      "+----+------+------------------+\n",
      "|date|trades|       total score|\n",
      "+----+------+------------------+\n",
      "|  31|  1476|18.972340372994108|\n",
      "|  34|   619| 4.858954530217932|\n",
      "|  28|   764|10.178719634739597|\n",
      "|  26|  1401|27.667816365755392|\n",
      "|  27|  1573|27.840316434276815|\n",
      "|  44|  3764| 57.57345111482454|\n",
      "|  12|  2512| 45.69359017673081|\n",
      "|  22|  1296|22.654992255397108|\n",
      "|  47|  2673|41.804959767324426|\n",
      "|   1|  1867|34.610710405714116|\n",
      "|  13|  1011|12.511882217900721|\n",
      "|   6|   596| 4.215652725921872|\n",
      "|  16|  1796| 40.63414962566917|\n",
      "|   3|  1446|19.353484587030067|\n",
      "|  40|  1112|  11.4368696105385|\n",
      "|  20|   761|11.421589551666617|\n",
      "|  48|   948|17.647448880993064|\n",
      "|   5|  2021|  44.9261880664683|\n",
      "|  19|  1226| 38.97824807912574|\n",
      "|  41|  1379| 13.70642819505837|\n",
      "+----+------+------------------+\n",
      "only showing top 20 rows\n",
      "\n"
     ]
    },
    {
     "name": "stderr",
     "output_type": "stream",
     "text": [
      "                                                                                \r"
     ]
    },
    {
     "name": "stdout",
     "output_type": "stream",
     "text": [
      "-------------------------------------------\n",
      "Batch: 28\n",
      "-------------------------------------------\n",
      "+----+------+------------------+\n",
      "|date|trades|       total score|\n",
      "+----+------+------------------+\n",
      "|  26|  1401|27.667816365755392|\n",
      "|  27|  1573|27.840316434276815|\n",
      "|  12|  2512| 45.69359017673081|\n",
      "|  22|  1296|22.654992255397108|\n",
      "|   1|  1867|34.610710405714116|\n",
      "|  13|  1011|12.511882217900721|\n",
      "|   6|   596| 4.215652725921872|\n",
      "|  16|  1796| 40.63414962566917|\n",
      "|   3|  1446|19.353484587030067|\n",
      "|  20|   761|11.421589551666617|\n",
      "|   5|  2021|  44.9261880664683|\n",
      "|  19|  1226| 38.97824807912574|\n",
      "|  15|  1228|15.047707423435591|\n",
      "|   9|  1397|21.228627203907795|\n",
      "|  17|  1332|22.004204437392485|\n",
      "|   4|  2086|26.606762445868117|\n",
      "|   8|  1390| 23.34367982640452|\n",
      "|  23|  1347|18.231268702002378|\n",
      "|   7|   528| 4.987800784283386|\n",
      "|  10|   744| 7.300367594774864|\n",
      "+----+------+------------------+\n",
      "only showing top 20 rows\n",
      "\n"
     ]
    },
    {
     "name": "stderr",
     "output_type": "stream",
     "text": [
      "                                                                                \r"
     ]
    },
    {
     "name": "stdout",
     "output_type": "stream",
     "text": [
      "-------------------------------------------\n",
      "Batch: 48\n",
      "-------------------------------------------\n",
      "+----+------+------------------+\n",
      "|date|trades|       total score|\n",
      "+----+------+------------------+\n",
      "|  31|  1476|18.972340372994108|\n",
      "|  34|   619| 4.858954530217932|\n",
      "|  28|   764|10.178719634739597|\n",
      "|  26|  1401|27.667816365755392|\n",
      "|  27|  1573|27.840316434276815|\n",
      "|  44|  3764| 57.57345111482454|\n",
      "|  12|  2512| 45.69359017673081|\n",
      "|  22|  1296|22.654992255397108|\n",
      "|  47|  2673|41.804959767324426|\n",
      "|   1|  1867|34.610710405714116|\n",
      "|  13|  1011|12.511882217900721|\n",
      "|   6|   596| 4.215652725921872|\n",
      "|  16|  1796| 40.63414962566917|\n",
      "|   3|  1446|19.353484587030067|\n",
      "|  40|  1112|  11.4368696105385|\n",
      "|  20|   761|11.421589551666617|\n",
      "|  48|   948|17.647448880993064|\n",
      "|   5|  2021|  44.9261880664683|\n",
      "|  19|  1226| 38.97824807912574|\n",
      "|  41|  1379| 13.70642819505837|\n",
      "+----+------+------------------+\n",
      "only showing top 20 rows\n",
      "\n"
     ]
    },
    {
     "name": "stderr",
     "output_type": "stream",
     "text": [
      "                                                                                \r"
     ]
    },
    {
     "name": "stdout",
     "output_type": "stream",
     "text": [
      "-------------------------------------------\n",
      "Batch: 29\n",
      "-------------------------------------------\n",
      "+----+------+------------------+\n",
      "|date|trades|       total score|\n",
      "+----+------+------------------+\n",
      "|  26|  1401|27.667816365755392|\n",
      "|  27|  1573|27.840316434276815|\n",
      "|  12|  2512| 45.69359017673081|\n",
      "|  22|  1296|22.654992255397108|\n",
      "|   1|  1867|34.610710405714116|\n",
      "|  13|  1011|12.511882217900721|\n",
      "|   6|   596| 4.215652725921872|\n",
      "|  16|  1796| 40.63414962566917|\n",
      "|   3|  1446|19.353484587030067|\n",
      "|  20|   761|11.421589551666617|\n",
      "|   5|  2021|  44.9261880664683|\n",
      "|  19|  1226| 38.97824807912574|\n",
      "|  15|  1228|15.047707423435591|\n",
      "|   9|  1397|21.228627203907795|\n",
      "|  17|  1332|22.004204437392485|\n",
      "|   4|  2086|26.606762445868117|\n",
      "|   8|  1390| 23.34367982640452|\n",
      "|  23|  1347|18.231268702002378|\n",
      "|   7|   528| 4.987800784283386|\n",
      "|  10|   744| 7.300367594774864|\n",
      "+----+------+------------------+\n",
      "only showing top 20 rows\n",
      "\n"
     ]
    },
    {
     "name": "stderr",
     "output_type": "stream",
     "text": [
      "                                                                                \r"
     ]
    },
    {
     "name": "stdout",
     "output_type": "stream",
     "text": [
      "-------------------------------------------\n",
      "Batch: 49\n",
      "-------------------------------------------\n",
      "+----+------+------------------+\n",
      "|date|trades|       total score|\n",
      "+----+------+------------------+\n",
      "|  31|  1476|18.972340372994108|\n",
      "|  34|   619| 4.858954530217932|\n",
      "|  28|   764|10.178719634739597|\n",
      "|  26|  1401|27.667816365755392|\n",
      "|  27|  1573|27.840316434276815|\n",
      "|  44|  3764| 57.57345111482454|\n",
      "|  12|  2512| 45.69359017673081|\n",
      "|  22|  1296|22.654992255397108|\n",
      "|  47|  2673|41.804959767324426|\n",
      "|   1|  1867|34.610710405714116|\n",
      "|  13|  1011|12.511882217900721|\n",
      "|   6|   596| 4.215652725921872|\n",
      "|  16|  1796| 40.63414962566917|\n",
      "|   3|  1446|19.353484587030067|\n",
      "|  40|  1112|  11.4368696105385|\n",
      "|  20|   761|11.421589551666617|\n",
      "|  48|   948|17.647448880993064|\n",
      "|   5|  2021|  44.9261880664683|\n",
      "|  19|  1226| 38.97824807912574|\n",
      "|  41|  1379| 13.70642819505837|\n",
      "+----+------+------------------+\n",
      "only showing top 20 rows\n",
      "\n"
     ]
    },
    {
     "name": "stderr",
     "output_type": "stream",
     "text": [
      "                                                                                \r"
     ]
    },
    {
     "name": "stdout",
     "output_type": "stream",
     "text": [
      "-------------------------------------------\n",
      "Batch: 30\n",
      "-------------------------------------------\n",
      "+----+------+------------------+\n",
      "|date|trades|       total score|\n",
      "+----+------+------------------+\n",
      "|  28|   764|10.178719634739597|\n",
      "|  26|  1401|27.667816365755392|\n",
      "|  27|  1573|27.840316434276815|\n",
      "|  12|  2512| 45.69359017673081|\n",
      "|  22|  1296|22.654992255397108|\n",
      "|   1|  1867|34.610710405714116|\n",
      "|  13|  1011|12.511882217900721|\n",
      "|   6|   596| 4.215652725921872|\n",
      "|  16|  1796| 40.63414962566917|\n",
      "|   3|  1446|19.353484587030067|\n",
      "|  20|   761|11.421589551666617|\n",
      "|   5|  2021|  44.9261880664683|\n",
      "|  19|  1226| 38.97824807912574|\n",
      "|  15|  1228|15.047707423435591|\n",
      "|   9|  1397|21.228627203907795|\n",
      "|  17|  1332|22.004204437392485|\n",
      "|   4|  2086|26.606762445868117|\n",
      "|   8|  1390| 23.34367982640452|\n",
      "|  23|  1347|18.231268702002378|\n",
      "|   7|   528| 4.987800784283386|\n",
      "+----+------+------------------+\n",
      "only showing top 20 rows\n",
      "\n"
     ]
    },
    {
     "name": "stderr",
     "output_type": "stream",
     "text": [
      "                                                                                \r"
     ]
    },
    {
     "name": "stdout",
     "output_type": "stream",
     "text": [
      "-------------------------------------------\n",
      "Batch: 50\n",
      "-------------------------------------------\n",
      "+----+------+------------------+\n",
      "|date|trades|       total score|\n",
      "+----+------+------------------+\n",
      "|  31|  1476|18.972340372994108|\n",
      "|  34|   619| 4.858954530217932|\n",
      "|  28|   764|10.178719634739597|\n",
      "|  26|  1401|27.667816365755392|\n",
      "|  27|  1573|27.840316434276815|\n",
      "|  44|  3764| 57.57345111482454|\n",
      "|  12|  2512| 45.69359017673081|\n",
      "|  22|  1296|22.654992255397108|\n",
      "|  47|  2673|41.804959767324426|\n",
      "|   1|  1867|34.610710405714116|\n",
      "|  13|  1011|12.511882217900721|\n",
      "|   6|   596| 4.215652725921872|\n",
      "|  16|  1796| 40.63414962566917|\n",
      "|   3|  1446|19.353484587030067|\n",
      "|  40|  1112|  11.4368696105385|\n",
      "|  20|   761|11.421589551666617|\n",
      "|  48|   948|17.647448880993064|\n",
      "|   5|  2021|  44.9261880664683|\n",
      "|  19|  1226| 38.97824807912574|\n",
      "|  41|  1379| 13.70642819505837|\n",
      "+----+------+------------------+\n",
      "only showing top 20 rows\n",
      "\n"
     ]
    },
    {
     "name": "stderr",
     "output_type": "stream",
     "text": [
      "                                                                                \r"
     ]
    },
    {
     "name": "stdout",
     "output_type": "stream",
     "text": [
      "-------------------------------------------\n",
      "Batch: 31\n",
      "-------------------------------------------\n",
      "+----+------+------------------+\n",
      "|date|trades|       total score|\n",
      "+----+------+------------------+\n",
      "|  28|   764|10.178719634739597|\n",
      "|  26|  1401|27.667816365755392|\n",
      "|  27|  1573|27.840316434276815|\n",
      "|  12|  2512| 45.69359017673081|\n",
      "|  22|  1296|22.654992255397108|\n",
      "|   1|  1867|34.610710405714116|\n",
      "|  13|  1011|12.511882217900721|\n",
      "|   6|   596| 4.215652725921872|\n",
      "|  16|  1796| 40.63414962566917|\n",
      "|   3|  1446|19.353484587030067|\n",
      "|  20|   761|11.421589551666617|\n",
      "|   5|  2021|  44.9261880664683|\n",
      "|  19|  1226| 38.97824807912574|\n",
      "|  15|  1228|15.047707423435591|\n",
      "|   9|  1397|21.228627203907795|\n",
      "|  17|  1332|22.004204437392485|\n",
      "|   4|  2086|26.606762445868117|\n",
      "|   8|  1390| 23.34367982640452|\n",
      "|  23|  1347|18.231268702002378|\n",
      "|   7|   528| 4.987800784283386|\n",
      "+----+------+------------------+\n",
      "only showing top 20 rows\n",
      "\n"
     ]
    },
    {
     "name": "stderr",
     "output_type": "stream",
     "text": [
      "                                                                                \r"
     ]
    },
    {
     "name": "stdout",
     "output_type": "stream",
     "text": [
      "-------------------------------------------\n",
      "Batch: 51\n",
      "-------------------------------------------\n",
      "+----+------+------------------+\n",
      "|date|trades|       total score|\n",
      "+----+------+------------------+\n",
      "|  31|  1476|18.972340372994108|\n",
      "|  34|   619| 4.858954530217932|\n",
      "|  28|   764|10.178719634739597|\n",
      "|  26|  1401|27.667816365755392|\n",
      "|  27|  1573|27.840316434276815|\n",
      "|  44|  3764| 57.57345111482454|\n",
      "|  12|  2512| 45.69359017673081|\n",
      "|  22|  1296|22.654992255397108|\n",
      "|  47|  2673|41.804959767324426|\n",
      "|   1|  1867|34.610710405714116|\n",
      "|  13|  1011|12.511882217900721|\n",
      "|   6|   596| 4.215652725921872|\n",
      "|  16|  1796| 40.63414962566917|\n",
      "|   3|  1446|19.353484587030067|\n",
      "|  40|  1112|  11.4368696105385|\n",
      "|  20|   761|11.421589551666617|\n",
      "|  48|   948|17.647448880993064|\n",
      "|   5|  2021|  44.9261880664683|\n",
      "|  19|  1226| 38.97824807912574|\n",
      "|  41|  1379| 13.70642819505837|\n",
      "+----+------+------------------+\n",
      "only showing top 20 rows\n",
      "\n"
     ]
    },
    {
     "name": "stderr",
     "output_type": "stream",
     "text": [
      "                                                                                \r"
     ]
    },
    {
     "name": "stdout",
     "output_type": "stream",
     "text": [
      "-------------------------------------------\n",
      "Batch: 32\n",
      "-------------------------------------------\n",
      "+----+------+------------------+\n",
      "|date|trades|       total score|\n",
      "+----+------+------------------+\n",
      "|  28|   764|10.178719634739597|\n",
      "|  26|  1401|27.667816365755392|\n",
      "|  27|  1573|27.840316434276815|\n",
      "|  12|  2512| 45.69359017673081|\n",
      "|  22|  1296|22.654992255397108|\n",
      "|   1|  1867|34.610710405714116|\n",
      "|  13|  1011|12.511882217900721|\n",
      "|   6|   596| 4.215652725921872|\n",
      "|  16|  1796| 40.63414962566917|\n",
      "|   3|  1446|19.353484587030067|\n",
      "|  20|   761|11.421589551666617|\n",
      "|   5|  2021|  44.9261880664683|\n",
      "|  19|  1226| 38.97824807912574|\n",
      "|  15|  1228|15.047707423435591|\n",
      "|   9|  1397|21.228627203907795|\n",
      "|  17|  1332|22.004204437392485|\n",
      "|   4|  2086|26.606762445868117|\n",
      "|   8|  1390| 23.34367982640452|\n",
      "|  23|  1347|18.231268702002378|\n",
      "|   7|   528| 4.987800784283386|\n",
      "+----+------+------------------+\n",
      "only showing top 20 rows\n",
      "\n"
     ]
    },
    {
     "name": "stderr",
     "output_type": "stream",
     "text": [
      "                                                                                \r"
     ]
    },
    {
     "name": "stdout",
     "output_type": "stream",
     "text": [
      "-------------------------------------------\n",
      "Batch: 52\n",
      "-------------------------------------------\n",
      "+----+------+------------------+\n",
      "|date|trades|       total score|\n",
      "+----+------+------------------+\n",
      "|  31|  1476|18.972340372994108|\n",
      "|  34|   619| 4.858954530217932|\n",
      "|  28|   764|10.178719634739597|\n",
      "|  26|  1401|27.667816365755392|\n",
      "|  27|  1573|27.840316434276815|\n",
      "|  44|  3764| 57.57345111482454|\n",
      "|  12|  2512| 45.69359017673081|\n",
      "|  22|  1296|22.654992255397108|\n",
      "|  47|  2673|41.804959767324426|\n",
      "|   1|  1867|34.610710405714116|\n",
      "|  13|  1011|12.511882217900721|\n",
      "|   6|   596| 4.215652725921872|\n",
      "|  16|  1796| 40.63414962566917|\n",
      "|   3|  1446|19.353484587030067|\n",
      "|  40|  1112|  11.4368696105385|\n",
      "|  20|   761|11.421589551666617|\n",
      "|  54|   800| 5.682321634553202|\n",
      "|  48|   948|17.647448880993064|\n",
      "|   5|  2021|  44.9261880664683|\n",
      "|  19|  1226| 38.97824807912574|\n",
      "+----+------+------------------+\n",
      "only showing top 20 rows\n",
      "\n"
     ]
    },
    {
     "name": "stderr",
     "output_type": "stream",
     "text": [
      "                                                                                \r"
     ]
    },
    {
     "name": "stdout",
     "output_type": "stream",
     "text": [
      "-------------------------------------------\n",
      "Batch: 33\n",
      "-------------------------------------------\n",
      "+----+------+------------------+\n",
      "|date|trades|       total score|\n",
      "+----+------+------------------+\n",
      "|  31|  1476|18.972340372994108|\n",
      "|  28|   764|10.178719634739597|\n",
      "|  26|  1401|27.667816365755392|\n",
      "|  27|  1573|27.840316434276815|\n",
      "|  12|  2512| 45.69359017673081|\n",
      "|  22|  1296|22.654992255397108|\n",
      "|   1|  1867|34.610710405714116|\n",
      "|  13|  1011|12.511882217900721|\n",
      "|   6|   596| 4.215652725921872|\n",
      "|  16|  1796| 40.63414962566917|\n",
      "|   3|  1446|19.353484587030067|\n",
      "|  20|   761|11.421589551666617|\n",
      "|   5|  2021|  44.9261880664683|\n",
      "|  19|  1226| 38.97824807912574|\n",
      "|  15|  1228|15.047707423435591|\n",
      "|   9|  1397|21.228627203907795|\n",
      "|  17|  1332|22.004204437392485|\n",
      "|   4|  2086|26.606762445868117|\n",
      "|   8|  1390| 23.34367982640452|\n",
      "|  23|  1347|18.231268702002378|\n",
      "+----+------+------------------+\n",
      "only showing top 20 rows\n",
      "\n"
     ]
    },
    {
     "name": "stderr",
     "output_type": "stream",
     "text": [
      "                                                                                \r"
     ]
    },
    {
     "name": "stdout",
     "output_type": "stream",
     "text": [
      "-------------------------------------------\n",
      "Batch: 53\n",
      "-------------------------------------------\n",
      "+----+------+------------------+\n",
      "|date|trades|       total score|\n",
      "+----+------+------------------+\n",
      "|  31|  1476|18.972340372994108|\n",
      "|  34|   619| 4.858954530217932|\n",
      "|  28|   764|10.178719634739597|\n",
      "|  26|  1401|27.667816365755392|\n",
      "|  27|  1573|27.840316434276815|\n",
      "|  44|  3764| 57.57345111482454|\n",
      "|  12|  2512| 45.69359017673081|\n",
      "|  22|  1296|22.654992255397108|\n",
      "|  47|  2673|41.804959767324426|\n",
      "|   1|  1867|34.610710405714116|\n",
      "|  52|   771|10.533590405477641|\n",
      "|  13|  1011|12.511882217900721|\n",
      "|   6|   596| 4.215652725921872|\n",
      "|  16|  1796| 40.63414962566917|\n",
      "|   3|  1446|19.353484587030067|\n",
      "|  40|  1112|  11.4368696105385|\n",
      "|  20|   761|11.421589551666617|\n",
      "|  54|   800| 5.682321634553202|\n",
      "|  48|   948|17.647448880993064|\n",
      "|   5|  2021|  44.9261880664683|\n",
      "+----+------+------------------+\n",
      "only showing top 20 rows\n",
      "\n"
     ]
    },
    {
     "name": "stderr",
     "output_type": "stream",
     "text": [
      "                                                                                \r"
     ]
    },
    {
     "name": "stdout",
     "output_type": "stream",
     "text": [
      "-------------------------------------------\n",
      "Batch: 34\n",
      "-------------------------------------------\n",
      "+----+------+------------------+\n",
      "|date|trades|       total score|\n",
      "+----+------+------------------+\n",
      "|  31|  1476|18.972340372994108|\n",
      "|  34|   619| 4.858954530217932|\n",
      "|  28|   764|10.178719634739597|\n",
      "|  26|  1401|27.667816365755392|\n",
      "|  27|  1573|27.840316434276815|\n",
      "|  12|  2512| 45.69359017673081|\n",
      "|  22|  1296|22.654992255397108|\n",
      "|   1|  1867|34.610710405714116|\n",
      "|  13|  1011|12.511882217900721|\n",
      "|   6|   596| 4.215652725921872|\n",
      "|  16|  1796| 40.63414962566917|\n",
      "|   3|  1446|19.353484587030067|\n",
      "|  20|   761|11.421589551666617|\n",
      "|   5|  2021|  44.9261880664683|\n",
      "|  19|  1226| 38.97824807912574|\n",
      "|  15|  1228|15.047707423435591|\n",
      "|   9|  1397|21.228627203907795|\n",
      "|  17|  1332|22.004204437392485|\n",
      "|   4|  2086|26.606762445868117|\n",
      "|   8|  1390| 23.34367982640452|\n",
      "+----+------+------------------+\n",
      "only showing top 20 rows\n",
      "\n"
     ]
    },
    {
     "name": "stderr",
     "output_type": "stream",
     "text": [
      "[Stage 356:(197 + 2) / 200][Stage 357:>  (0 + 0) / 1][Stage 359:>  (0 + 0) / 2]]\r"
     ]
    },
    {
     "name": "stdout",
     "output_type": "stream",
     "text": [
      "-------------------------------------------\n",
      "Batch: 54\n",
      "-------------------------------------------\n",
      "+----+------+------------------+\n",
      "|date|trades|       total score|\n",
      "+----+------+------------------+\n",
      "|  31|  1476|18.972340372994108|\n",
      "|  53|   791| 9.413788596755056|\n",
      "|  34|   619| 4.858954530217932|\n",
      "|  28|   764|10.178719634739597|\n",
      "|  26|  1401|27.667816365755392|\n",
      "|  27|  1573|27.840316434276815|\n",
      "|  44|  3764| 57.57345111482454|\n",
      "|  12|  2512| 45.69359017673081|\n",
      "|  22|  1296|22.654992255397108|\n",
      "|  47|  2673|41.804959767324426|\n",
      "|   1|  1867|34.610710405714116|\n",
      "|  52|   771|10.533590405477641|\n",
      "|  13|  1011|12.511882217900721|\n",
      "|   6|   596| 4.215652725921872|\n",
      "|  16|  1796| 40.63414962566917|\n",
      "|   3|  1446|19.353484587030067|\n",
      "|  40|  1112|  11.4368696105385|\n",
      "|  20|   761|11.421589551666617|\n",
      "|  54|   800| 5.682321634553202|\n",
      "|  48|   948|17.647448880993064|\n",
      "+----+------+------------------+\n",
      "only showing top 20 rows\n",
      "\n"
     ]
    },
    {
     "name": "stderr",
     "output_type": "stream",
     "text": [
      "                                                                                \r"
     ]
    },
    {
     "name": "stdout",
     "output_type": "stream",
     "text": [
      "-------------------------------------------\n",
      "Batch: 35\n",
      "-------------------------------------------\n",
      "+----+------+------------------+\n",
      "|date|trades|       total score|\n",
      "+----+------+------------------+\n",
      "|  31|  1476|18.972340372994108|\n",
      "|  34|   619| 4.858954530217932|\n",
      "|  28|   764|10.178719634739597|\n",
      "|  26|  1401|27.667816365755392|\n",
      "|  27|  1573|27.840316434276815|\n",
      "|  12|  2512| 45.69359017673081|\n",
      "|  22|  1296|22.654992255397108|\n",
      "|   1|  1867|34.610710405714116|\n",
      "|  13|  1011|12.511882217900721|\n",
      "|   6|   596| 4.215652725921872|\n",
      "|  16|  1796| 40.63414962566917|\n",
      "|   3|  1446|19.353484587030067|\n",
      "|  20|   761|11.421589551666617|\n",
      "|   5|  2021|  44.9261880664683|\n",
      "|  19|  1226| 38.97824807912574|\n",
      "|  15|  1228|15.047707423435591|\n",
      "|  37|  2040| 24.90666910031966|\n",
      "|   9|  1397|21.228627203907795|\n",
      "|  17|  1332|22.004204437392485|\n",
      "|   4|  2086|26.606762445868117|\n",
      "+----+------+------------------+\n",
      "only showing top 20 rows\n",
      "\n"
     ]
    },
    {
     "name": "stderr",
     "output_type": "stream",
     "text": [
      "[Stage 362:(198 + 2) / 200][Stage 364:>(0 + 1) / 200][Stage 365:>  (0 + 0) / 1]]\r"
     ]
    },
    {
     "name": "stdout",
     "output_type": "stream",
     "text": [
      "-------------------------------------------\n",
      "Batch: 55\n",
      "-------------------------------------------\n",
      "+----+------+------------------+\n",
      "|date|trades|       total score|\n",
      "+----+------+------------------+\n",
      "|  31|  1476|18.972340372994108|\n",
      "|  53|   791| 9.413788596755056|\n",
      "|  34|   619| 4.858954530217932|\n",
      "|  28|   764|10.178719634739597|\n",
      "|  26|  1401|27.667816365755392|\n",
      "|  27|  1573|27.840316434276815|\n",
      "|  44|  3764| 57.57345111482454|\n",
      "|  12|  2512| 45.69359017673081|\n",
      "|  22|  1296|22.654992255397108|\n",
      "|  47|  2673|41.804959767324426|\n",
      "|   1|  1867|34.610710405714116|\n",
      "|  52|   771|10.533590405477641|\n",
      "|  13|  1011|12.511882217900721|\n",
      "|   6|   596| 4.215652725921872|\n",
      "|  16|  1796| 40.63414962566917|\n",
      "|   3|  1446|19.353484587030067|\n",
      "|  40|  1112|  11.4368696105385|\n",
      "|  20|   761|11.421589551666617|\n",
      "|  57|   877| 7.971982407454911|\n",
      "|  54|   800| 5.682321634553202|\n",
      "+----+------+------------------+\n",
      "only showing top 20 rows\n",
      "\n"
     ]
    },
    {
     "name": "stderr",
     "output_type": "stream",
     "text": [
      "                                                                                \r"
     ]
    },
    {
     "name": "stdout",
     "output_type": "stream",
     "text": [
      "-------------------------------------------\n",
      "Batch: 36\n",
      "-------------------------------------------\n",
      "+----+------+------------------+\n",
      "|date|trades|       total score|\n",
      "+----+------+------------------+\n",
      "|  31|  1476|18.972340372994108|\n",
      "|  34|   619| 4.858954530217932|\n",
      "|  28|   764|10.178719634739597|\n",
      "|  26|  1401|27.667816365755392|\n",
      "|  27|  1573|27.840316434276815|\n",
      "|  12|  2512| 45.69359017673081|\n",
      "|  22|  1296|22.654992255397108|\n",
      "|   1|  1867|34.610710405714116|\n",
      "|  13|  1011|12.511882217900721|\n",
      "|   6|   596| 4.215652725921872|\n",
      "|  16|  1796| 40.63414962566917|\n",
      "|   3|  1446|19.353484587030067|\n",
      "|  20|   761|11.421589551666617|\n",
      "|   5|  2021|  44.9261880664683|\n",
      "|  19|  1226| 38.97824807912574|\n",
      "|  15|  1228|15.047707423435591|\n",
      "|  37|  2040| 24.90666910031966|\n",
      "|   9|  1397|21.228627203907795|\n",
      "|  17|  1332|22.004204437392485|\n",
      "|  35|   866|11.250309327085205|\n",
      "+----+------+------------------+\n",
      "only showing top 20 rows\n",
      "\n"
     ]
    },
    {
     "name": "stderr",
     "output_type": "stream",
     "text": [
      "[Stage 368:(199 + 1) / 200][Stage 369:>  (0 + 1) / 1][Stage 371:>  (0 + 0) / 1]]\r"
     ]
    },
    {
     "name": "stdout",
     "output_type": "stream",
     "text": [
      "-------------------------------------------\n",
      "Batch: 56\n",
      "-------------------------------------------\n",
      "+----+------+------------------+\n",
      "|date|trades|       total score|\n",
      "+----+------+------------------+\n",
      "|  31|  1476|18.972340372994108|\n",
      "|  53|   791| 9.413788596755056|\n",
      "|  34|   619| 4.858954530217932|\n",
      "|  28|   764|10.178719634739597|\n",
      "|  26|  1401|27.667816365755392|\n",
      "|  27|  1573|27.840316434276815|\n",
      "|  44|  3764| 57.57345111482454|\n",
      "|  12|  2512| 45.69359017673081|\n",
      "|  22|  1296|22.654992255397108|\n",
      "|  47|  2673|41.804959767324426|\n",
      "|   1|  1867|34.610710405714116|\n",
      "|  52|   771|10.533590405477641|\n",
      "|  13|  1011|12.511882217900721|\n",
      "|   6|   596| 4.215652725921872|\n",
      "|  16|  1796| 40.63414962566917|\n",
      "|   3|  1446|19.353484587030067|\n",
      "|  40|  1112|  11.4368696105385|\n",
      "|  20|   761|11.421589551666617|\n",
      "|  57|   877| 7.971982407454911|\n",
      "|  54|   800| 5.682321634553202|\n",
      "+----+------+------------------+\n",
      "only showing top 20 rows\n",
      "\n"
     ]
    },
    {
     "name": "stderr",
     "output_type": "stream",
     "text": [
      "22/04/30 12:01:26 WARN HeartbeatReceiver: Removing executor driver with no recent heartbeats: 182739385 ms exceeds timeout 120000 ms\n",
      "22/04/30 12:01:27 WARN SparkContext: Killing executors is not supported by current scheduler.\n",
      "                                                                                \r"
     ]
    },
    {
     "name": "stdout",
     "output_type": "stream",
     "text": [
      "-------------------------------------------\n",
      "Batch: 37\n",
      "-------------------------------------------\n",
      "+----+------+------------------+\n",
      "|date|trades|       total score|\n",
      "+----+------+------------------+\n",
      "|  31|  1476|18.972340372994108|\n",
      "|  34|   619| 4.858954530217932|\n",
      "|  28|   764|10.178719634739597|\n",
      "|  26|  1401|27.667816365755392|\n",
      "|  27|  1573|27.840316434276815|\n",
      "|  12|  2512| 45.69359017673081|\n",
      "|  22|  1296|22.654992255397108|\n",
      "|   1|  1867|34.610710405714116|\n",
      "|  13|  1011|12.511882217900721|\n",
      "|   6|   596| 4.215652725921872|\n",
      "|  16|  1796| 40.63414962566917|\n",
      "|   3|  1446|19.353484587030067|\n",
      "|  20|   761|11.421589551666617|\n",
      "|   5|  2021|  44.9261880664683|\n",
      "|  19|  1226| 38.97824807912574|\n",
      "|  15|  1228|15.047707423435591|\n",
      "|  37|  2040| 24.90666910031966|\n",
      "|   9|  1397|21.228627203907795|\n",
      "|  17|  1332|22.004204437392485|\n",
      "|  35|   866|11.250309327085205|\n",
      "+----+------+------------------+\n",
      "only showing top 20 rows\n",
      "\n"
     ]
    },
    {
     "name": "stderr",
     "output_type": "stream",
     "text": [
      "[Stage 374:(109 + 2) / 200][Stage 376:>(0 + 0) / 200][Stage 377:>  (0 + 0) / 1]]\r"
     ]
    }
   ],
   "source": [
    "# Setting a query to deal with activity in the streaming data. \n",
    "# It will print updated aggregations to console\n",
    "\n",
    "activity_query_1 = ( daily_score\n",
    "                    .writeStream\n",
    "                    .outputMode(\"complete\")\n",
    "                    .format(\"console\")\n",
    "                    .start()\n",
    "                 )\n"
   ]
  },
  {
   "cell_type": "code",
   "execution_count": 23,
   "metadata": {
    "collapsed": true,
    "jupyter": {
     "outputs_hidden": true
    },
    "tags": []
   },
   "outputs": [
    {
     "name": "stderr",
     "output_type": "stream",
     "text": [
      "22/04/28 08:48:21 WARN ResolveWriteToStream: Temporary checkpoint location created which is deleted normally when the query didn't fail: /tmp/temporary-7ff3dea0-5f2a-4924-82d3-bd50b7dcf0d1. If it's required to delete it under any circumstances, please set spark.sql.streaming.forceDeleteTempCheckpointLocation to true. Important to know deleting temp checkpoint folder is best effort.\n",
      "22/04/28 08:48:21 WARN ResolveWriteToStream: spark.sql.adaptive.enabled is not supported in streaming DataFrames/Datasets and will be disabled.\n",
      "                                                                                \r"
     ]
    },
    {
     "name": "stdout",
     "output_type": "stream",
     "text": [
      "-------------------------------------------\n",
      "Batch: 0\n",
      "-------------------------------------------\n",
      "+----+------+------------------+\n",
      "|date|trades|       total score|\n",
      "+----+------+------------------+\n",
      "|   0|  1074|13.232881865121751|\n",
      "+----+------+------------------+\n",
      "\n"
     ]
    },
    {
     "name": "stderr",
     "output_type": "stream",
     "text": [
      "                                                                                \r"
     ]
    },
    {
     "name": "stdout",
     "output_type": "stream",
     "text": [
      "-------------------------------------------\n",
      "Batch: 1\n",
      "-------------------------------------------\n",
      "+----+------+------------------+\n",
      "|date|trades|       total score|\n",
      "+----+------+------------------+\n",
      "|   1|  1867|34.610710405714116|\n",
      "|   0|  1074|13.232881865121751|\n",
      "+----+------+------------------+\n",
      "\n"
     ]
    },
    {
     "name": "stderr",
     "output_type": "stream",
     "text": [
      "                                                                                \r"
     ]
    },
    {
     "name": "stdout",
     "output_type": "stream",
     "text": [
      "-------------------------------------------\n",
      "Batch: 2\n",
      "-------------------------------------------\n",
      "+----+------+------------------+\n",
      "|date|trades|       total score|\n",
      "+----+------+------------------+\n",
      "|   1|  1867|34.610710405714116|\n",
      "|   2|    46|               0.0|\n",
      "|   0|  1074|13.232881865121751|\n",
      "+----+------+------------------+\n",
      "\n"
     ]
    },
    {
     "name": "stderr",
     "output_type": "stream",
     "text": [
      "                                                                                \r"
     ]
    },
    {
     "name": "stdout",
     "output_type": "stream",
     "text": [
      "-------------------------------------------\n",
      "Batch: 3\n",
      "-------------------------------------------\n",
      "+----+------+------------------+\n",
      "|date|trades|       total score|\n",
      "+----+------+------------------+\n",
      "|   1|  1867|34.610710405714116|\n",
      "|   4|  2086|26.606762445868117|\n",
      "|   2|    46|               0.0|\n",
      "|   0|  1074|13.232881865121751|\n",
      "+----+------+------------------+\n",
      "\n"
     ]
    },
    {
     "name": "stderr",
     "output_type": "stream",
     "text": [
      "                                                                                \r"
     ]
    },
    {
     "name": "stdout",
     "output_type": "stream",
     "text": [
      "-------------------------------------------\n",
      "Batch: 4\n",
      "-------------------------------------------\n",
      "+----+------+------------------+\n",
      "|date|trades|       total score|\n",
      "+----+------+------------------+\n",
      "|   1|  1867|34.610710405714116|\n",
      "|   5|  2021|  44.9261880664683|\n",
      "|   4|  2086|26.606762445868117|\n",
      "|   2|    46|               0.0|\n",
      "|   0|  1074|13.232881865121751|\n",
      "+----+------+------------------+\n",
      "\n"
     ]
    },
    {
     "name": "stderr",
     "output_type": "stream",
     "text": [
      "                                                                                \r"
     ]
    },
    {
     "name": "stdout",
     "output_type": "stream",
     "text": [
      "-------------------------------------------\n",
      "Batch: 5\n",
      "-------------------------------------------\n",
      "+----+------+------------------+\n",
      "|date|trades|       total score|\n",
      "+----+------+------------------+\n",
      "|   1|  1867|34.610710405714116|\n",
      "|   3|  1446|19.353484587030067|\n",
      "|   5|  2021|  44.9261880664683|\n",
      "|   4|  2086|26.606762445868117|\n",
      "|   2|    46|               0.0|\n",
      "|   0|  1074|13.232881865121751|\n",
      "+----+------+------------------+\n",
      "\n"
     ]
    },
    {
     "name": "stderr",
     "output_type": "stream",
     "text": [
      "                                                                                \r"
     ]
    },
    {
     "name": "stdout",
     "output_type": "stream",
     "text": [
      "-------------------------------------------\n",
      "Batch: 6\n",
      "-------------------------------------------\n",
      "+----+------+------------------+\n",
      "|date|trades|       total score|\n",
      "+----+------+------------------+\n",
      "|   1|  1867|34.610710405714116|\n",
      "|   3|  1446|19.353484587030067|\n",
      "|   5|  2021|  44.9261880664683|\n",
      "|   4|  2086|26.606762445868117|\n",
      "|   7|   528| 4.987800784283386|\n",
      "|   2|    46|               0.0|\n",
      "|   0|  1074|13.232881865121751|\n",
      "+----+------+------------------+\n",
      "\n"
     ]
    },
    {
     "name": "stderr",
     "output_type": "stream",
     "text": [
      "                                                                                \r"
     ]
    },
    {
     "name": "stdout",
     "output_type": "stream",
     "text": [
      "-------------------------------------------\n",
      "Batch: 7\n",
      "-------------------------------------------\n",
      "+----+------+------------------+\n",
      "|date|trades|       total score|\n",
      "+----+------+------------------+\n",
      "|   1|  1867|34.610710405714116|\n",
      "|   6|   596| 4.215652725921872|\n",
      "|   3|  1446|19.353484587030067|\n",
      "|   5|  2021|  44.9261880664683|\n",
      "|   4|  2086|26.606762445868117|\n",
      "|   7|   528| 4.987800784283386|\n",
      "|   2|    46|               0.0|\n",
      "|   0|  1074|13.232881865121751|\n",
      "+----+------+------------------+\n",
      "\n"
     ]
    },
    {
     "name": "stderr",
     "output_type": "stream",
     "text": [
      "[Stage 102:============>(196 + 2) / 200][Stage 103:>                (0 + 0) / 1]\r"
     ]
    },
    {
     "name": "stdout",
     "output_type": "stream",
     "text": [
      "-------------------------------------------\n",
      "Batch: 8\n",
      "-------------------------------------------\n",
      "+----+------+------------------+\n",
      "|date|trades|       total score|\n",
      "+----+------+------------------+\n",
      "|   1|  1867|34.610710405714116|\n",
      "|   6|   596| 4.215652725921872|\n",
      "|   3|  1446|19.353484587030067|\n",
      "|   5|  2021|  44.9261880664683|\n",
      "|   4|  2086|26.606762445868117|\n",
      "|   8|  1390| 23.34367982640452|\n",
      "|   7|   528| 4.987800784283386|\n",
      "|   2|    46|               0.0|\n",
      "|   0|  1074|13.232881865121751|\n",
      "+----+------+------------------+\n",
      "\n"
     ]
    },
    {
     "name": "stderr",
     "output_type": "stream",
     "text": [
      "                                                                                \r"
     ]
    },
    {
     "name": "stdout",
     "output_type": "stream",
     "text": [
      "-------------------------------------------\n",
      "Batch: 9\n",
      "-------------------------------------------\n",
      "+----+------+------------------+\n",
      "|date|trades|       total score|\n",
      "+----+------+------------------+\n",
      "|   1|  1867|34.610710405714116|\n",
      "|   6|   596| 4.215652725921872|\n",
      "|   3|  1446|19.353484587030067|\n",
      "|   5|  2021|  44.9261880664683|\n",
      "|   4|  2086|26.606762445868117|\n",
      "|   8|  1390| 23.34367982640452|\n",
      "|   7|   528| 4.987800784283386|\n",
      "|  10|   744| 7.300367594774864|\n",
      "|   2|    46|               0.0|\n",
      "|   0|  1074|13.232881865121751|\n",
      "+----+------+------------------+\n",
      "\n"
     ]
    },
    {
     "name": "stderr",
     "output_type": "stream",
     "text": [
      "                                                                                \r"
     ]
    },
    {
     "name": "stdout",
     "output_type": "stream",
     "text": [
      "-------------------------------------------\n",
      "Batch: 10\n",
      "-------------------------------------------\n",
      "+----+------+------------------+\n",
      "|date|trades|       total score|\n",
      "+----+------+------------------+\n",
      "|   1|  1867|34.610710405714116|\n",
      "|   6|   596| 4.215652725921872|\n",
      "|   3|  1446|19.353484587030067|\n",
      "|   5|  2021|  44.9261880664683|\n",
      "|   4|  2086|26.606762445868117|\n",
      "|   8|  1390| 23.34367982640452|\n",
      "|   7|   528| 4.987800784283386|\n",
      "|  10|   744| 7.300367594774864|\n",
      "|  11|   892| 16.95876568091774|\n",
      "|   2|    46|               0.0|\n",
      "|   0|  1074|13.232881865121751|\n",
      "+----+------+------------------+\n",
      "\n"
     ]
    },
    {
     "name": "stderr",
     "output_type": "stream",
     "text": [
      "                                                                                \r"
     ]
    },
    {
     "name": "stdout",
     "output_type": "stream",
     "text": [
      "-------------------------------------------\n",
      "Batch: 11\n",
      "-------------------------------------------\n",
      "+----+------+------------------+\n",
      "|date|trades|       total score|\n",
      "+----+------+------------------+\n",
      "|   1|  1867|34.610710405714116|\n",
      "|   6|   596| 4.215652725921872|\n",
      "|   3|  1446|19.353484587030067|\n",
      "|   5|  2021|  44.9261880664683|\n",
      "|   9|  1397|21.228627203907795|\n",
      "|   4|  2086|26.606762445868117|\n",
      "|   8|  1390| 23.34367982640452|\n",
      "|   7|   528| 4.987800784283386|\n",
      "|  10|   744| 7.300367594774864|\n",
      "|  11|   892| 16.95876568091774|\n",
      "|   2|    46|               0.0|\n",
      "|   0|  1074|13.232881865121751|\n",
      "+----+------+------------------+\n",
      "\n"
     ]
    },
    {
     "name": "stderr",
     "output_type": "stream",
     "text": [
      "                                                                                \r"
     ]
    },
    {
     "name": "stdout",
     "output_type": "stream",
     "text": [
      "-------------------------------------------\n",
      "Batch: 12\n",
      "-------------------------------------------\n",
      "+----+------+------------------+\n",
      "|date|trades|       total score|\n",
      "+----+------+------------------+\n",
      "|  12|  2512| 45.69359017673081|\n",
      "|   1|  1867|34.610710405714116|\n",
      "|   6|   596| 4.215652725921872|\n",
      "|   3|  1446|19.353484587030067|\n",
      "|   5|  2021|  44.9261880664683|\n",
      "|   9|  1397|21.228627203907795|\n",
      "|   4|  2086|26.606762445868117|\n",
      "|   8|  1390| 23.34367982640452|\n",
      "|   7|   528| 4.987800784283386|\n",
      "|  10|   744| 7.300367594774864|\n",
      "|  11|   892| 16.95876568091774|\n",
      "|   2|    46|               0.0|\n",
      "|   0|  1074|13.232881865121751|\n",
      "+----+------+------------------+\n",
      "\n"
     ]
    },
    {
     "name": "stderr",
     "output_type": "stream",
     "text": [
      "                                                                                \r"
     ]
    },
    {
     "name": "stdout",
     "output_type": "stream",
     "text": [
      "-------------------------------------------\n",
      "Batch: 13\n",
      "-------------------------------------------\n",
      "+----+------+------------------+\n",
      "|date|trades|       total score|\n",
      "+----+------+------------------+\n",
      "|  12|  2512| 45.69359017673081|\n",
      "|   1|  1867|34.610710405714116|\n",
      "|  13|  1011|12.511882217900721|\n",
      "|   6|   596| 4.215652725921872|\n",
      "|   3|  1446|19.353484587030067|\n",
      "|   5|  2021|  44.9261880664683|\n",
      "|   9|  1397|21.228627203907795|\n",
      "|   4|  2086|26.606762445868117|\n",
      "|   8|  1390| 23.34367982640452|\n",
      "|   7|   528| 4.987800784283386|\n",
      "|  10|   744| 7.300367594774864|\n",
      "|  11|   892| 16.95876568091774|\n",
      "|   2|    46|               0.0|\n",
      "|   0|  1074|13.232881865121751|\n",
      "+----+------+------------------+\n",
      "\n"
     ]
    },
    {
     "name": "stderr",
     "output_type": "stream",
     "text": [
      "                                                                                \r"
     ]
    },
    {
     "name": "stdout",
     "output_type": "stream",
     "text": [
      "-------------------------------------------\n",
      "Batch: 14\n",
      "-------------------------------------------\n",
      "+----+------+------------------+\n",
      "|date|trades|       total score|\n",
      "+----+------+------------------+\n",
      "|  12|  2512| 45.69359017673081|\n",
      "|   1|  1867|34.610710405714116|\n",
      "|  13|  1011|12.511882217900721|\n",
      "|   6|   596| 4.215652725921872|\n",
      "|   3|  1446|19.353484587030067|\n",
      "|   5|  2021|  44.9261880664683|\n",
      "|  15|  1228|15.047707423435591|\n",
      "|   9|  1397|21.228627203907795|\n",
      "|   4|  2086|26.606762445868117|\n",
      "|   8|  1390| 23.34367982640452|\n",
      "|   7|   528| 4.987800784283386|\n",
      "|  10|   744| 7.300367594774864|\n",
      "|  11|   892| 16.95876568091774|\n",
      "|   2|    46|               0.0|\n",
      "|   0|  1074|13.232881865121751|\n",
      "+----+------+------------------+\n",
      "\n"
     ]
    },
    {
     "name": "stderr",
     "output_type": "stream",
     "text": [
      "[Stage 130:============>(199 + 1) / 200][Stage 131:>                (0 + 1) / 1]\r"
     ]
    },
    {
     "name": "stdout",
     "output_type": "stream",
     "text": [
      "-------------------------------------------\n",
      "Batch: 15\n",
      "-------------------------------------------\n",
      "+----+------+------------------+\n",
      "|date|trades|       total score|\n",
      "+----+------+------------------+\n",
      "|  12|  2512| 45.69359017673081|\n",
      "|   1|  1867|34.610710405714116|\n",
      "|  13|  1011|12.511882217900721|\n",
      "|   6|   596| 4.215652725921872|\n",
      "|   3|  1446|19.353484587030067|\n",
      "|   5|  2021|  44.9261880664683|\n",
      "|  15|  1228|15.047707423435591|\n",
      "|   9|  1397|21.228627203907795|\n",
      "|   4|  2086|26.606762445868117|\n",
      "|   8|  1390| 23.34367982640452|\n",
      "|   7|   528| 4.987800784283386|\n",
      "|  10|   744| 7.300367594774864|\n",
      "|  11|   892| 16.95876568091774|\n",
      "|  14|   434| 6.942924006625589|\n",
      "|   2|    46|               0.0|\n",
      "|   0|  1074|13.232881865121751|\n",
      "+----+------+------------------+\n",
      "\n"
     ]
    },
    {
     "name": "stderr",
     "output_type": "stream",
     "text": [
      "                                                                                \r"
     ]
    },
    {
     "name": "stdout",
     "output_type": "stream",
     "text": [
      "-------------------------------------------\n",
      "Batch: 16\n",
      "-------------------------------------------\n",
      "+----+------+------------------+\n",
      "|date|trades|       total score|\n",
      "+----+------+------------------+\n",
      "|  12|  2512| 45.69359017673081|\n",
      "|   1|  1867|34.610710405714116|\n",
      "|  13|  1011|12.511882217900721|\n",
      "|   6|   596| 4.215652725921872|\n",
      "|  16|  1796| 40.63414962566917|\n",
      "|   3|  1446|19.353484587030067|\n",
      "|   5|  2021|  44.9261880664683|\n",
      "|  15|  1228|15.047707423435591|\n",
      "|   9|  1397|21.228627203907795|\n",
      "|   4|  2086|26.606762445868117|\n",
      "|   8|  1390| 23.34367982640452|\n",
      "|   7|   528| 4.987800784283386|\n",
      "|  10|   744| 7.300367594774864|\n",
      "|  11|   892| 16.95876568091774|\n",
      "|  14|   434| 6.942924006625589|\n",
      "|   2|    46|               0.0|\n",
      "|   0|  1074|13.232881865121751|\n",
      "+----+------+------------------+\n",
      "\n"
     ]
    },
    {
     "name": "stderr",
     "output_type": "stream",
     "text": [
      "[Stage 138:============>(196 + 2) / 200][Stage 139:>                (0 + 0) / 1]\r"
     ]
    },
    {
     "name": "stdout",
     "output_type": "stream",
     "text": [
      "-------------------------------------------\n",
      "Batch: 17\n",
      "-------------------------------------------\n",
      "+----+------+------------------+\n",
      "|date|trades|       total score|\n",
      "+----+------+------------------+\n",
      "|  12|  2512| 45.69359017673081|\n",
      "|   1|  1867|34.610710405714116|\n",
      "|  13|  1011|12.511882217900721|\n",
      "|   6|   596| 4.215652725921872|\n",
      "|  16|  1796| 40.63414962566917|\n",
      "|   3|  1446|19.353484587030067|\n",
      "|   5|  2021|  44.9261880664683|\n",
      "|  15|  1228|15.047707423435591|\n",
      "|   9|  1397|21.228627203907795|\n",
      "|  17|  1332|22.004204437392485|\n",
      "|   4|  2086|26.606762445868117|\n",
      "|   8|  1390| 23.34367982640452|\n",
      "|   7|   528| 4.987800784283386|\n",
      "|  10|   744| 7.300367594774864|\n",
      "|  11|   892| 16.95876568091774|\n",
      "|  14|   434| 6.942924006625589|\n",
      "|   2|    46|               0.0|\n",
      "|   0|  1074|13.232881865121751|\n",
      "+----+------+------------------+\n",
      "\n"
     ]
    },
    {
     "name": "stderr",
     "output_type": "stream",
     "text": [
      "                                                                                \r"
     ]
    },
    {
     "name": "stdout",
     "output_type": "stream",
     "text": [
      "-------------------------------------------\n",
      "Batch: 18\n",
      "-------------------------------------------\n",
      "+----+------+------------------+\n",
      "|date|trades|       total score|\n",
      "+----+------+------------------+\n",
      "|  12|  2512| 45.69359017673081|\n",
      "|   1|  1867|34.610710405714116|\n",
      "|  13|  1011|12.511882217900721|\n",
      "|   6|   596| 4.215652725921872|\n",
      "|  16|  1796| 40.63414962566917|\n",
      "|   3|  1446|19.353484587030067|\n",
      "|   5|  2021|  44.9261880664683|\n",
      "|  15|  1228|15.047707423435591|\n",
      "|   9|  1397|21.228627203907795|\n",
      "|  17|  1332|22.004204437392485|\n",
      "|   4|  2086|26.606762445868117|\n",
      "|   8|  1390| 23.34367982640452|\n",
      "|   7|   528| 4.987800784283386|\n",
      "|  10|   744| 7.300367594774864|\n",
      "|  11|   892| 16.95876568091774|\n",
      "|  14|   434| 6.942924006625589|\n",
      "|   2|    46|               0.0|\n",
      "|   0|  1074|13.232881865121751|\n",
      "|  18|  2412| 48.40266833234401|\n",
      "+----+------+------------------+\n",
      "\n"
     ]
    },
    {
     "name": "stderr",
     "output_type": "stream",
     "text": [
      "[Stage 146:====>                                                 (15 + 2) / 200]\r"
     ]
    }
   ],
   "source": [
    "# In case we want to store the aggregates in an in-memory table (the sink). \n",
    "# The query name will be the table name\n",
    "\n",
    "activity_query_2 = ( daily_score\n",
    "                        .writeStream\n",
    "                        .queryName(\"scoresTable\")\n",
    "                        .outputMode(\"complete\")\n",
    "                        .format(\"memory\")\n",
    "                        .start()\n",
    "                   )\n"
   ]
  },
  {
   "cell_type": "code",
   "execution_count": null,
   "metadata": {},
   "outputs": [],
   "source": [
    "# Some extra checks\n",
    "\n",
    "spark.streams.active[0].isActive\n"
   ]
  },
  {
   "cell_type": "code",
   "execution_count": null,
   "metadata": {},
   "outputs": [],
   "source": [
    "activity_query_1.status\n",
    "\n",
    "# activity_query_2.status\n"
   ]
  },
  {
   "cell_type": "code",
   "execution_count": null,
   "metadata": {},
   "outputs": [],
   "source": [
    "activity_query_1.lastProgress\n",
    "\n",
    "# activity_query_2.lastProgress\n"
   ]
  },
  {
   "cell_type": "markdown",
   "metadata": {},
   "source": [
    "# Exploring data"
   ]
  },
  {
   "cell_type": "code",
   "execution_count": null,
   "metadata": {},
   "outputs": [],
   "source": [
    "# Figure out the tables we hold\n",
    "\n",
    "spark.sql(\"show tables\").show()\n"
   ]
  },
  {
   "cell_type": "code",
   "execution_count": null,
   "metadata": {},
   "outputs": [],
   "source": [
    "# Interactively query in-memory table\n",
    "\n",
    "spark.sql(\"select * from scoresTable\").show()  \n"
   ]
  },
  {
   "cell_type": "raw",
   "metadata": {},
   "source": [
    "\n",
    "Visual analysis ... we leave it as an exercise!\n"
   ]
  },
  {
   "cell_type": "markdown",
   "metadata": {},
   "source": [
    "## Stopping the process"
   ]
  },
  {
   "cell_type": "code",
   "execution_count": null,
   "metadata": {},
   "outputs": [],
   "source": [
    "# We can turn off the query now and eventually set up a different one\n",
    "\n",
    "activity_query_1.stop()\n",
    "\n",
    "# activity_query_2.stop()"
   ]
  },
  {
   "cell_type": "code",
   "execution_count": null,
   "metadata": {},
   "outputs": [],
   "source": [
    "# Notice that in a production environment, we have to establish \n",
    "# that the query is awaiting termination so to prevent the driver \n",
    "# process from termination when when the stream is ative\n",
    "\n",
    "# activity_query_1.awaitTermination()\n",
    "\n",
    "# activity_query_2.awaitTermination()\n"
   ]
  },
  {
   "cell_type": "markdown",
   "metadata": {
    "heading_collapsed": true
   },
   "source": [
    "# Additional exercise\n",
    "\n",
    "Once this exercise is completed, create a new notebook with similar implementation but using a different streaming setup. Specifically, also relying on the messaging system Apache Kafka.\n"
   ]
  },
  {
   "cell_type": "markdown",
   "metadata": {
    "heading_collapsed": true
   },
   "source": [
    "# References"
   ]
  },
  {
   "cell_type": "markdown",
   "metadata": {
    "hidden": true
   },
   "source": [
    "* Learning Spark - Lightning-Fast Data Analytics, 2nd Ed. J. Damji, B. Wenig, T. Das, and D. Lee. O'Reilly, 2020\n",
    "* Stream Processing with Apache Spark. G. Maas and F. Garillot. O'Reilly, 2019\n",
    "* Spark: The Definitive Guide - Big Data Processing Made Simple, 1st Ed. B. Chambers and M. Zaharia. O'Reilly, 2018\n",
    "\n"
   ]
  },
  {
   "cell_type": "code",
   "execution_count": null,
   "metadata": {
    "hidden": true
   },
   "outputs": [],
   "source": []
  }
 ],
 "metadata": {
  "kernelspec": {
   "display_name": "PySpark",
   "language": "python",
   "name": "pyspark"
  },
  "language_info": {
   "codemirror_mode": {
    "name": "ipython",
    "version": 3
   },
   "file_extension": ".py",
   "mimetype": "text/x-python",
   "name": "python",
   "nbconvert_exporter": "python",
   "pygments_lexer": "ipython3",
   "version": "3.8.10"
  },
  "toc": {
   "base_numbering": 1,
   "nav_menu": {
    "height": "249px",
    "width": "332px"
   },
   "number_sections": true,
   "sideBar": true,
   "skip_h1_title": false,
   "title_cell": "Table of Contents",
   "title_sidebar": "Contents",
   "toc_cell": false,
   "toc_position": {
    "height": "calc(100% - 180px)",
    "left": "10px",
    "top": "150px",
    "width": "204.98px"
   },
   "toc_section_display": true,
   "toc_window_display": true
  }
 },
 "nbformat": 4,
 "nbformat_minor": 4
}
