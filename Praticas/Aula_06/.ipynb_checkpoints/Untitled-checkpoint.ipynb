{
 "cells": [
  {
   "cell_type": "code",
   "execution_count": 1,
   "id": "be16be1f-b582-43ed-95e3-06e3bff69713",
   "metadata": {},
   "outputs": [],
   "source": [
    "from pyspark.ml.clustering import KMeans\n",
    "from pyspark.ml.evaluation import ClusteringEvaluator\n",
    "from pyspark.ml import Pipeline\n",
    "from pyspark.ml.feature import Imputer, VectorAssembler\n",
    "import matplotlib.pyplot as plt\n",
    "from pyspark.ml.feature import PCA as PCAml\n",
    "import numpy as np\n",
    "import seaborn as sns\n",
    "import matplotlib.pyplot as plt\n",
    "import pandas as pd"
   ]
  },
  {
   "cell_type": "code",
   "execution_count": 2,
   "id": "bb5a5dd6-3539-4ee7-adef-0a9f0831a13a",
   "metadata": {
    "collapsed": true,
    "jupyter": {
     "outputs_hidden": true
    },
    "tags": []
   },
   "outputs": [
    {
     "name": "stderr",
     "output_type": "stream",
     "text": [
      "                                                                                \r"
     ]
    }
   ],
   "source": [
    "datapath = \"iris.csv\"\n",
    "dataset = spark.read.csv(datapath, header=True, inferSchema=True, sep=',')"
   ]
  },
  {
   "cell_type": "code",
   "execution_count": 3,
   "id": "f6164042-82ad-4ead-ba1c-0ab8131f8423",
   "metadata": {
    "collapsed": true,
    "jupyter": {
     "outputs_hidden": true
    },
    "tags": []
   },
   "outputs": [
    {
     "name": "stdout",
     "output_type": "stream",
     "text": [
      "+------------+-----------+------------+-----------+-----------+\n",
      "|sepal_length|sepal_width|petal_length|petal_width|      class|\n",
      "+------------+-----------+------------+-----------+-----------+\n",
      "|         5.1|        3.5|         1.4|        0.2|Iris-setosa|\n",
      "|         4.9|        3.0|         1.4|        0.2|Iris-setosa|\n",
      "|         4.7|        3.2|         1.3|        0.2|Iris-setosa|\n",
      "|         4.6|        3.1|         1.5|        0.2|Iris-setosa|\n",
      "|         5.0|        3.6|         1.4|        0.2|Iris-setosa|\n",
      "|         5.4|        3.9|         1.7|        0.4|Iris-setosa|\n",
      "|         4.6|        3.4|         1.4|        0.3|Iris-setosa|\n",
      "|         5.0|        3.4|         1.5|        0.2|Iris-setosa|\n",
      "|         4.4|        2.9|         1.4|        0.2|Iris-setosa|\n",
      "|         4.9|        3.1|         1.5|        0.1|Iris-setosa|\n",
      "|         5.4|        3.7|         1.5|        0.2|Iris-setosa|\n",
      "|         4.8|        3.4|         1.6|        0.2|Iris-setosa|\n",
      "|         4.8|        3.0|         1.4|        0.1|Iris-setosa|\n",
      "|         4.3|        3.0|         1.1|        0.1|Iris-setosa|\n",
      "|         5.8|        4.0|         1.2|        0.2|Iris-setosa|\n",
      "|         5.7|        4.4|         1.5|        0.4|Iris-setosa|\n",
      "|         5.4|        3.9|         1.3|        0.4|Iris-setosa|\n",
      "|         5.1|        3.5|         1.4|        0.3|Iris-setosa|\n",
      "|         5.7|        3.8|         1.7|        0.3|Iris-setosa|\n",
      "|         5.1|        3.8|         1.5|        0.3|Iris-setosa|\n",
      "+------------+-----------+------------+-----------+-----------+\n",
      "only showing top 20 rows\n",
      "\n"
     ]
    }
   ],
   "source": [
    "dataset.show()"
   ]
  },
  {
   "cell_type": "code",
   "execution_count": 4,
   "id": "62984fe9-8c91-4591-92fd-cfc0be8df5d2",
   "metadata": {
    "collapsed": true,
    "jupyter": {
     "outputs_hidden": true
    },
    "tags": []
   },
   "outputs": [
    {
     "name": "stdout",
     "output_type": "stream",
     "text": [
      "root\n",
      " |-- sepal_length: double (nullable = true)\n",
      " |-- sepal_width: double (nullable = true)\n",
      " |-- petal_length: double (nullable = true)\n",
      " |-- petal_width: double (nullable = true)\n",
      " |-- class: string (nullable = true)\n",
      "\n",
      "-RECORD 0-------------------\n",
      " sepal_length | 5.1         \n",
      " sepal_width  | 3.5         \n",
      " petal_length | 1.4         \n",
      " petal_width  | 0.2         \n",
      " class        | Iris-setosa \n",
      "-RECORD 1-------------------\n",
      " sepal_length | 4.9         \n",
      " sepal_width  | 3.0         \n",
      " petal_length | 1.4         \n",
      " petal_width  | 0.2         \n",
      " class        | Iris-setosa \n",
      "only showing top 2 rows\n",
      "\n"
     ]
    },
    {
     "name": "stderr",
     "output_type": "stream",
     "text": [
      "                                                                                \r"
     ]
    },
    {
     "data": {
      "text/plain": [
       "150"
      ]
     },
     "execution_count": 4,
     "metadata": {},
     "output_type": "execute_result"
    }
   ],
   "source": [
    "dataset.printSchema()\n",
    "dataset.show(2, vertical=True)\n",
    "dataset.count()"
   ]
  },
  {
   "cell_type": "code",
   "execution_count": 4,
   "id": "b4f3c55d-ef28-4a49-9b2b-6bb785980cba",
   "metadata": {
    "collapsed": true,
    "jupyter": {
     "outputs_hidden": true
    },
    "tags": []
   },
   "outputs": [
    {
     "data": {
      "text/plain": [
       "[150, 150]"
      ]
     },
     "execution_count": 4,
     "metadata": {},
     "output_type": "execute_result"
    }
   ],
   "source": [
    "df_clean = dataset.dropna()\n",
    "[dataset.count(), df_clean.count()]"
   ]
  },
  {
   "cell_type": "code",
   "execution_count": 5,
   "id": "3710bc88-afae-4af7-8ccc-017a55930396",
   "metadata": {},
   "outputs": [],
   "source": [
    "vec_col = \"features\"\n",
    "vec_assembler = [\"sepal_length\", \"sepal_width\", \"petal_length\", \"petal_width\"]\n",
    "\n",
    "assembler = VectorAssembler(inputCols=vec_assembler, outputCol=vec_col)\n",
    "df_vector = assembler.transform(df_clean).select(vec_col)"
   ]
  },
  {
   "cell_type": "code",
   "execution_count": 14,
   "id": "499e7222-f397-4e54-9df7-7aa5cd50f484",
   "metadata": {},
   "outputs": [],
   "source": [
    "silhouette_scores=[]\n",
    "evaluator = ClusteringEvaluator(featuresCol='features', \\\n",
    "metricName='silhouette', distanceMeasure='squaredEuclidean')\n",
    "\n",
    "for K in range(2,11):\n",
    "\n",
    "    KMeans_=KMeans(featuresCol='features', k=K)\n",
    "    KMeans_fit=KMeans_.fit(df_vector)\n",
    "    KMeans_transform=KMeans_fit.transform(df_vector)\n",
    "    evaluation_score=evaluator.evaluate(KMeans_transform)\n",
    "    silhouette_scores.append(evaluation_score)"
   ]
  },
  {
   "cell_type": "code",
   "execution_count": 15,
   "id": "d3d0aa9d-6e69-47c6-b2d0-f94011867705",
   "metadata": {
    "collapsed": true,
    "jupyter": {
     "outputs_hidden": true
    },
    "tags": []
   },
   "outputs": [
    {
     "data": {
      "text/plain": [
       "Text(0, 0.5, 'Silhouette Score')"
      ]
     },
     "execution_count": 15,
     "metadata": {},
     "output_type": "execute_result"
    },
    {
     "data": {
      "image/png": "[encoded data removed]",
      "text/plain": [
       "<Figure size 720x576 with 1 Axes>"
      ]
     },
     "metadata": {
      "needs_background": "light"
     },
     "output_type": "display_data"
    }
   ],
   "source": [
    "fig, ax = plt.subplots(1,1, figsize =(10,8))\n",
    "ax.plot(range(2,11),silhouette_scores)\n",
    "ax.set_xlabel('Number of Clusters')\n",
    "ax.set_ylabel('Silhouette Score')"
   ]
  },
  {
   "cell_type": "code",
   "execution_count": 16,
   "id": "338d220e-877a-4294-8e70-6c0d86b5a110",
   "metadata": {
    "collapsed": true,
    "jupyter": {
     "outputs_hidden": true
    },
    "tags": []
   },
   "outputs": [
    {
     "name": "stdout",
     "output_type": "stream",
     "text": [
      "+-----------------+----------+\n",
      "|         features|prediction|\n",
      "+-----------------+----------+\n",
      "|[5.1,3.5,1.4,0.2]|         1|\n",
      "|[4.9,3.0,1.4,0.2]|         1|\n",
      "|[4.7,3.2,1.3,0.2]|         1|\n",
      "|[4.6,3.1,1.5,0.2]|         1|\n",
      "|[5.0,3.6,1.4,0.2]|         1|\n",
      "|[5.4,3.9,1.7,0.4]|         1|\n",
      "|[4.6,3.4,1.4,0.3]|         1|\n",
      "|[5.0,3.4,1.5,0.2]|         1|\n",
      "|[4.4,2.9,1.4,0.2]|         1|\n",
      "|[4.9,3.1,1.5,0.1]|         1|\n",
      "|[5.4,3.7,1.5,0.2]|         1|\n",
      "|[4.8,3.4,1.6,0.2]|         1|\n",
      "|[4.8,3.0,1.4,0.1]|         1|\n",
      "|[4.3,3.0,1.1,0.1]|         1|\n",
      "|[5.8,4.0,1.2,0.2]|         1|\n",
      "|[5.7,4.4,1.5,0.4]|         1|\n",
      "|[5.4,3.9,1.3,0.4]|         1|\n",
      "|[5.1,3.5,1.4,0.3]|         1|\n",
      "|[5.7,3.8,1.7,0.3]|         1|\n",
      "|[5.1,3.8,1.5,0.3]|         1|\n",
      "+-----------------+----------+\n",
      "only showing top 20 rows\n",
      "\n"
     ]
    }
   ],
   "source": [
    "KMeans_=KMeans(featuresCol='features', k=3) \n",
    "KMeans_Model=KMeans_.fit(df_vector)\n",
    "KMeans_Assignments=KMeans_Model.transform(df_vector)\n",
    "KMeans_Assignments.show()"
   ]
  },
  {
   "cell_type": "code",
   "execution_count": 19,
   "id": "65138254-4361-4e12-9e43-0e5d34f6da6c",
   "metadata": {},
   "outputs": [],
   "source": [
    "pca = PCAml(k=2, inputCol=\"features\", outputCol=\"pca\")\n",
    "pca_model = pca.fit(df_vector)\n",
    "pca_transformed = pca_model.transform(df_vector)"
   ]
  },
  {
   "cell_type": "code",
   "execution_count": 20,
   "id": "0690dc0e-96ef-4ab2-83d2-ed428ecca426",
   "metadata": {
    "collapsed": true,
    "jupyter": {
     "outputs_hidden": true
    },
    "tags": []
   },
   "outputs": [
    {
     "name": "stderr",
     "output_type": "stream",
     "text": [
      "                                                                                \r"
     ]
    }
   ],
   "source": [
    "x_pca = np.array(pca_transformed.rdd.map(lambda row: row.pca).collect())"
   ]
  },
  {
   "cell_type": "code",
   "execution_count": 21,
   "id": "29296c39-082b-494f-8f75-54ebad0a43e1",
   "metadata": {
    "collapsed": true,
    "jupyter": {
     "outputs_hidden": true
    },
    "tags": []
   },
   "outputs": [
    {
     "data": {
      "image/png": "[encoded data removed]",
      "text/plain": [
       "<Figure size 537.375x432 with 1 Axes>"
      ]
     },
     "metadata": {
      "needs_background": "light"
     },
     "output_type": "display_data"
    }
   ],
   "source": [
    "cluster_assignment = np.array(KMeans_Assignments.rdd.map(lambda row: row.prediction).collect()).reshape(-1,1)\n",
    "pca_data = np.hstack((x_pca,cluster_assignment))\n",
    "\n",
    "pca_df = pd.DataFrame(data=pca_data, columns=(\"1st_principal\", \"2nd_principal\",\"cluster_assignment\"))\n",
    "sns.FacetGrid(pca_df,hue=\"cluster_assignment\", height=6).map(plt.scatter, '1st_principal', '2nd_principal' ).add_legend()\n",
    "\n",
    "plt.show()"
   ]
  },
  {
   "cell_type": "code",
   "execution_count": 37,
   "id": "dd0e5797-b7b9-43f5-a562-ebdb09316e93",
   "metadata": {},
   "outputs": [],
   "source": [
    "pipeline = Pipeline(stages=[assembler, KMeans_Model])"
   ]
  },
  {
   "cell_type": "code",
   "execution_count": 38,
   "id": "5dfcf81e-24d4-4f05-b6f4-15165fd2282d",
   "metadata": {},
   "outputs": [],
   "source": [
    "pipeline_model = pipeline.fit(dataset)"
   ]
  },
  {
   "cell_type": "code",
   "execution_count": 39,
   "id": "b0815074-54be-42af-a340-dff7b2b2dcfe",
   "metadata": {},
   "outputs": [],
   "source": [
    "df_prediction = pipeline_model.transform(dataset)"
   ]
  },
  {
   "cell_type": "code",
   "execution_count": 41,
   "id": "41def518-c2e1-4608-9dee-0a564341b7fc",
   "metadata": {
    "collapsed": true,
    "jupyter": {
     "outputs_hidden": true
    },
    "tags": []
   },
   "outputs": [
    {
     "name": "stdout",
     "output_type": "stream",
     "text": [
      "root\n",
      " |-- sepal_length: double (nullable = true)\n",
      " |-- sepal_width: double (nullable = true)\n",
      " |-- petal_length: double (nullable = true)\n",
      " |-- petal_width: double (nullable = true)\n",
      " |-- class: string (nullable = true)\n",
      " |-- features: vector (nullable = true)\n",
      " |-- prediction: integer (nullable = false)\n",
      "\n",
      "+------------+-----------+------------+-----------+-----------+-----------------+----------+\n",
      "|sepal_length|sepal_width|petal_length|petal_width|      class|         features|prediction|\n",
      "+------------+-----------+------------+-----------+-----------+-----------------+----------+\n",
      "|         5.1|        3.5|         1.4|        0.2|Iris-setosa|[5.1,3.5,1.4,0.2]|         1|\n",
      "|         4.9|        3.0|         1.4|        0.2|Iris-setosa|[4.9,3.0,1.4,0.2]|         1|\n",
      "|         4.7|        3.2|         1.3|        0.2|Iris-setosa|[4.7,3.2,1.3,0.2]|         1|\n",
      "|         4.6|        3.1|         1.5|        0.2|Iris-setosa|[4.6,3.1,1.5,0.2]|         1|\n",
      "|         5.0|        3.6|         1.4|        0.2|Iris-setosa|[5.0,3.6,1.4,0.2]|         1|\n",
      "|         5.4|        3.9|         1.7|        0.4|Iris-setosa|[5.4,3.9,1.7,0.4]|         1|\n",
      "|         4.6|        3.4|         1.4|        0.3|Iris-setosa|[4.6,3.4,1.4,0.3]|         1|\n",
      "|         5.0|        3.4|         1.5|        0.2|Iris-setosa|[5.0,3.4,1.5,0.2]|         1|\n",
      "|         4.4|        2.9|         1.4|        0.2|Iris-setosa|[4.4,2.9,1.4,0.2]|         1|\n",
      "|         4.9|        3.1|         1.5|        0.1|Iris-setosa|[4.9,3.1,1.5,0.1]|         1|\n",
      "|         5.4|        3.7|         1.5|        0.2|Iris-setosa|[5.4,3.7,1.5,0.2]|         1|\n",
      "|         4.8|        3.4|         1.6|        0.2|Iris-setosa|[4.8,3.4,1.6,0.2]|         1|\n",
      "|         4.8|        3.0|         1.4|        0.1|Iris-setosa|[4.8,3.0,1.4,0.1]|         1|\n",
      "|         4.3|        3.0|         1.1|        0.1|Iris-setosa|[4.3,3.0,1.1,0.1]|         1|\n",
      "|         5.8|        4.0|         1.2|        0.2|Iris-setosa|[5.8,4.0,1.2,0.2]|         1|\n",
      "|         5.7|        4.4|         1.5|        0.4|Iris-setosa|[5.7,4.4,1.5,0.4]|         1|\n",
      "|         5.4|        3.9|         1.3|        0.4|Iris-setosa|[5.4,3.9,1.3,0.4]|         1|\n",
      "|         5.1|        3.5|         1.4|        0.3|Iris-setosa|[5.1,3.5,1.4,0.3]|         1|\n",
      "|         5.7|        3.8|         1.7|        0.3|Iris-setosa|[5.7,3.8,1.7,0.3]|         1|\n",
      "|         5.1|        3.8|         1.5|        0.3|Iris-setosa|[5.1,3.8,1.5,0.3]|         1|\n",
      "+------------+-----------+------------+-----------+-----------+-----------------+----------+\n",
      "only showing top 20 rows\n",
      "\n"
     ]
    }
   ],
   "source": [
    "df_prediction.printSchema()\n",
    "df_prediction.show()"
   ]
  },
  {
   "cell_type": "code",
   "execution_count": null,
   "id": "b98914c4-90e0-417d-ae9b-03464415780d",
   "metadata": {},
   "outputs": [],
   "source": []
  }
 ],
 "metadata": {
  "kernelspec": {
   "display_name": "PySpark",
   "language": "python",
   "name": "pyspark"
  },
  "language_info": {
   "codemirror_mode": {
    "name": "ipython",
    "version": 3
   },
   "file_extension": ".py",
   "mimetype": "text/x-python",
   "name": "python",
   "nbconvert_exporter": "python",
   "pygments_lexer": "ipython3",
   "version": "3.8.10"
  }
 },
 "nbformat": 4,
 "nbformat_minor": 5
}
