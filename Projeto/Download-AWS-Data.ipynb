{
 "cells": [
  {
   "cell_type": "markdown",
   "id": "917fbe7d",
   "metadata": {},
   "source": [
    "# Download files from AWS Registry of Open Data\n",
    "\n",
    "This notebook allows to download files from a particular dataset stored in AWS's S3, given its Amazon Resource Name (ARN)\n",
    "\n",
    "See https://registry.opendata.aws/\n",
    "\n",
    "The downloading process relies on the usage of the package boto3. See also\n",
    "\n",
    "https://boto3.amazonaws.com/v1/documentation/api/latest/index.html\n",
    "\n",
    "https://boto3.amazonaws.com/v1/documentation/api/latest/guide/s3-examples.html\n",
    "\n",
    "\n",
    "PS. Feel free to adjust the code"
   ]
  },
  {
   "cell_type": "code",
   "execution_count": null,
   "id": "b96ee746",
   "metadata": {},
   "outputs": [],
   "source": [
    "! pip3 install boto3\n"
   ]
  },
  {
   "cell_type": "code",
   "execution_count": null,
   "id": "545fcd85",
   "metadata": {},
   "outputs": [],
   "source": [
    "import os\n",
    "import boto3\n"
   ]
  },
  {
   "cell_type": "code",
   "execution_count": null,
   "id": "944953a6",
   "metadata": {},
   "outputs": [],
   "source": [
    "from botocore import UNSIGNED\n",
    "from botocore.client import Config\n"
   ]
  },
  {
   "cell_type": "code",
   "execution_count": null,
   "id": "73541d9e",
   "metadata": {},
   "outputs": [],
   "source": [
    "# Print out the objects' name in a specified bucket, given the s3 resource.\n",
    "# Optionally, filters specific names\n",
    "\n",
    "def print_all_objects_name(s3_resource, bucket_name, name_word = \"\"):\n",
    "    \n",
    "    # select bucket\n",
    "    my_bucket = s3_resource.Bucket(bucket_name)\n",
    "    \n",
    "    # print out name\n",
    "    for s3_object in my_bucket.objects.all():\n",
    "        filename = s3_object.key\n",
    "        if name_word == \"\" or name_word in filename:\n",
    "            print(filename)\n",
    "        "
   ]
  },
  {
   "cell_type": "code",
   "execution_count": null,
   "id": "def2ce6d",
   "metadata": {},
   "outputs": [],
   "source": [
    "# Print out the objects' name in a sub-folder of a S3 bucket, given the s3 resource.\n",
    "# Optionally, filters specific names\n",
    "\n",
    "def print_all_objects_name_in_folder(s3_resource, bucket_name, prefix, name_word = \"\"):\n",
    "    \n",
    "    # select bucket and objects\n",
    "    my_bucket = s3_resource.Bucket(bucket_name)\n",
    "    \n",
    "    objects = my_bucket.objects.filter(Prefix=prefix)\n",
    "    for obj in objects:\n",
    "        filename = obj.key\n",
    "        if name_word == \"\" or name_word in filename:  \n",
    "            print(filename)\n",
    "            "
   ]
  },
  {
   "cell_type": "code",
   "execution_count": null,
   "id": "73cadeb5",
   "metadata": {},
   "outputs": [],
   "source": [
    "# Download all objects in a sub-folder of a S3 bucket, given the s3 resource.\n",
    "# Optionally, filters specific names\n",
    "\n",
    "def download_all_objects_in_folder(s3_resource, bucket_name, prefix, name_word = \"\"):\n",
    "    \n",
    "    # select bucket and objects\n",
    "    my_bucket = s3_resource.Bucket(bucket_name)\n",
    "    \n",
    "    objects = my_bucket.objects.filter(Prefix=prefix)\n",
    "    for obj in objects:\n",
    "        path, filename = os.path.split(obj.key)\n",
    "        if name_word == \"\" or name_word in filename:\n",
    "            my_bucket.download_file(obj.key, filename)\n",
    "        "
   ]
  },
  {
   "cell_type": "code",
   "execution_count": null,
   "id": "c3f84773",
   "metadata": {},
   "outputs": [],
   "source": [
    "# Download all objects in a sub-folder of a S3 bucket, given the s3 resource.\n",
    "# Optionally, filters specific names\n",
    "\n",
    "def download_all_objects_in_folder_with_complete_name(s3_resource, bucket_name, prefix, name_word = \"\"):\n",
    "    \n",
    "    # select bucket and objects\n",
    "    my_bucket = s3_resource.Bucket(bucket_name)\n",
    "    \n",
    "    objects = my_bucket.objects.filter(Prefix=prefix)\n",
    "    for obj in objects:\n",
    "        path, filename = os.path.split(obj.key)\n",
    "        complete_filename = path.replace('/', '|') + '|' + filename\n",
    "        if name_word == \"\" or name_word in filename:\n",
    "            my_bucket.download_file(obj.key, complete_filename)\n",
    "        "
   ]
  },
  {
   "cell_type": "code",
   "execution_count": null,
   "id": "64463d49",
   "metadata": {},
   "outputs": [],
   "source": [
    "# Download all S3 objects in a specified bucket, given the s3 resource.\n",
    "# Optionally, filters specific names\n",
    "\n",
    "def download_all_objects(s3_resource, bucket_name, name_word = \"\"):\n",
    "    \n",
    "    # select bucket\n",
    "    my_bucket = s3_resource.Bucket(bucket_name)\n",
    "    \n",
    "    # download file into current directory\n",
    "    for s3_object in my_bucket.objects.all():\n",
    "        filename = s3_object.key\n",
    "        if name_word == \"\" or name_word in filename:\n",
    "            my_bucket.download_file(s3_object.key, filename)\n",
    "        "
   ]
  },
  {
   "cell_type": "code",
   "execution_count": null,
   "id": "cf8150a2",
   "metadata": {},
   "outputs": [],
   "source": [
    "# Initiate S3 resource\n",
    "\n",
    "s3_resource = boto3.resource('s3', config=Config(signature_version=UNSIGNED))\n"
   ]
  },
  {
   "cell_type": "code",
   "execution_count": null,
   "id": "58d5a5f7",
   "metadata": {},
   "outputs": [],
   "source": [
    "# Set S3 resource name of interest\n",
    "\n",
    "BUCKET_NAME = '...' \n"
   ]
  },
  {
   "cell_type": "code",
   "execution_count": null,
   "id": "4e49ff9a",
   "metadata": {},
   "outputs": [],
   "source": [
    "# Particular word in the filename, if it is of interest\n",
    "# e.g. csv, json, parquet\n",
    "\n",
    "WORD_IN_FILENAME = '...' \n"
   ]
  },
  {
   "cell_type": "code",
   "execution_count": null,
   "id": "9592d77a",
   "metadata": {},
   "outputs": [],
   "source": [
    "# print_all_objects_name(s3_resource, BUCKET_NAME)\n",
    "\n",
    "# print_all_objects_name(s3_resource, BUCKET_NAME, WORD_IN_FILENAME)\n"
   ]
  },
  {
   "cell_type": "code",
   "execution_count": null,
   "id": "4f5e5de6",
   "metadata": {},
   "outputs": [],
   "source": [
    "# Set out the related path, if it is of interest\n",
    "\n",
    "PATH_NAME = '..'\n"
   ]
  },
  {
   "cell_type": "code",
   "execution_count": null,
   "id": "61d775c6",
   "metadata": {},
   "outputs": [],
   "source": [
    "# print_all_objects_name_in_folder(s3_resource, BUCKET_NAME, PATH_NAME)\n",
    "\n",
    "# print_all_objects_name_in_folder(s3_resource, BUCKET_NAME, PATH_NAME, WORD_IN_FILENAME)\n"
   ]
  },
  {
   "cell_type": "code",
   "execution_count": null,
   "id": "a0f2db1a",
   "metadata": {},
   "outputs": [],
   "source": [
    "! pwd"
   ]
  },
  {
   "cell_type": "code",
   "execution_count": null,
   "id": "24f08d2e",
   "metadata": {},
   "outputs": [],
   "source": [
    "! ls -la"
   ]
  },
  {
   "cell_type": "code",
   "execution_count": null,
   "id": "28eb88d4",
   "metadata": {},
   "outputs": [],
   "source": [
    "# download_all_objects_in_folder(s3_resource, BUCKET_NAME, PATH_NAME)\n",
    "\n",
    "# download_all_objects_in_folder(s3_resource, BUCKET_NAME, PATH_NAME, WORD_IN_FILENAME)\n",
    "\n",
    "# download_all_objects_in_folder_with_complete_name(s3_resource, BUCKET_NAME, PATH_NAME, WORD_IN_FILENAME)"
   ]
  },
  {
   "cell_type": "code",
   "execution_count": null,
   "id": "09eabbeb",
   "metadata": {},
   "outputs": [],
   "source": [
    "! ls -la"
   ]
  },
  {
   "cell_type": "markdown",
   "id": "26ed4d6c",
   "metadata": {},
   "source": [
    "Some notes"
   ]
  },
  {
   "cell_type": "raw",
   "id": "09df2deb",
   "metadata": {},
   "source": [
    "It is not advisable to use \n",
    "\n",
    "# download_all_files(s3_resource, BUCKET_NAME)\n",
    "\n",
    "# download_all_files(s3_resource, BUCKET_NAME, WORD_IN_FILENAME)"
   ]
  },
  {
   "cell_type": "raw",
   "id": "7de48eba",
   "metadata": {},
   "source": [
    "Downloaded files should be stored in one directory for reading them at once.\n",
    "\n",
    "Then one may use a command similar to:\n",
    "    \n",
    "df_raw = spark.read.load(\"Data/TheDirectory\", \n",
    "                         format=\"csv\", \n",
    "                         header=True, \n",
    "                         pathGlobFilter=\"*.csv\",\n",
    "                         recursiveFileLookup=True)\n",
    "                        "
   ]
  }
 ],
 "metadata": {
  "kernelspec": {
   "display_name": "PySpark",
   "language": "python",
   "name": "pyspark"
  },
  "language_info": {
   "codemirror_mode": {
    "name": "ipython",
    "version": 3
   },
   "file_extension": ".py",
   "mimetype": "text/x-python",
   "name": "python",
   "nbconvert_exporter": "python",
   "pygments_lexer": "ipython3",
   "version": "3.9.12"
  }
 },
 "nbformat": 4,
 "nbformat_minor": 5
}
